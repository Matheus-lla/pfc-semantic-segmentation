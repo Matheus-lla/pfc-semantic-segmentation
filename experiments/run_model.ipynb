{
 "cells": [
  {
   "cell_type": "markdown",
   "id": "4d897203",
   "metadata": {},
   "source": [
    "# Imports"
   ]
  },
  {
   "cell_type": "code",
   "execution_count": 1,
   "id": "43d45654",
   "metadata": {},
   "outputs": [
    {
     "name": "stdout",
     "output_type": "stream",
     "text": [
      "Jupyter environment detected. Enabling Open3D WebVisualizer.\n",
      "[Open3D INFO] WebRTC GUI backend enabled.\n",
      "[Open3D INFO] WebRTCWindowSystem: HTTP handshake server disabled.\n"
     ]
    }
   ],
   "source": [
    "import os\n",
    "import pickle\n",
    "import random\n",
    "import time\n",
    "from pathlib import Path\n",
    "\n",
    "import matplotlib.pyplot as plt\n",
    "import numpy as np\n",
    "import torch\n",
    "import torch.nn as nn\n",
    "import torch.optim as optim\n",
    "from tqdm import tqdm\n",
    "\n",
    "from pfc_packages.pointNet import *\n",
    "from pfc_packages.utils import *"
   ]
  },
  {
   "cell_type": "markdown",
   "id": "47cc6345",
   "metadata": {},
   "source": [
    "# Hyperparameters"
   ]
  },
  {
   "cell_type": "code",
   "execution_count": 2,
   "id": "c1142037",
   "metadata": {},
   "outputs": [],
   "source": [
    "NUM_CLASSES = 20\n",
    "INPUT_CHANNELS = 9\n",
    "EPOCHS = 200\n",
    "LR = 0.001\n",
    "DECAY_RATE = 0.0001\n",
    "MOMENTUM_DECAY_STEP = 10\n",
    "DEVICE = torch.device(\"cuda\" if torch.cuda.is_available() else \"cpu\")\n",
    "MODEL_SAVE_PATH = \"checkpoints_to_ignore/models/modelV2\"\n",
    "SEQ_LIST = [1]\n",
    "SEQ_LIST_NAME = \"\".join(str(s) for s in SEQ_LIST)"
   ]
  },
  {
   "cell_type": "markdown",
   "id": "af5147ba",
   "metadata": {},
   "source": [
    "# Model configs"
   ]
  },
  {
   "cell_type": "code",
   "execution_count": null,
   "id": "189295e6",
   "metadata": {},
   "outputs": [],
   "source": [
    "# ==== MODEL ====\n",
    "model = PointNetSeg(num_classes=NUM_CLASSES, input_channels=INPUT_CHANNELS).to(DEVICE)\n",
    "# model.load_state_dict(\n",
    "#     torch.load(\"checkpoints_to_ignore/models/modelV2_e090_s012345678910_ic9.pth\")\n",
    "# )\n",
    "criterion = nn.CrossEntropyLoss(ignore_index=0)\n",
    "optimizer = torch.optim.Adam(\n",
    "    model.parameters(),\n",
    "    lr=LR,\n",
    "    betas=(0.9, 0.999),\n",
    "    eps=1e-08, weight_decay=DECAY_RATE\n",
    ")"
   ]
  },
  {
   "cell_type": "code",
   "execution_count": null,
   "id": "c881c714",
   "metadata": {},
   "outputs": [
    {
     "data": {
      "text/plain": [
       "'\\ndesativar todas as regularizações\\ntentar aumentar o máximo possível o tamanho do dataset\\naumentar o modelo se necessário\\nideia do padding se necessária la pra frente\\naumentar os features, desvio padrado de cada coordenada, bean numpy histograma\\ntentar manter o valor da acurácia em 90%\\n'"
      ]
     },
     "execution_count": 4,
     "metadata": {},
     "output_type": "execute_result"
    }
   ],
   "source": [
    "\"\"\"\n",
    "desativar todas as regularizações\n",
    "tentar aumentar o máximo possível o tamanho do dataset\n",
    "aumentar o modelo se necessário\n",
    "ideia do padding se necessária la pra frente\n",
    "aumentar os features, desvio padrado de cada coordenada, bean numpy histograma\n",
    "tentar manter o valor da acurácia em 90%\n",
    "\"\"\""
   ]
  },
  {
   "cell_type": "markdown",
   "id": "82d1e475",
   "metadata": {},
   "source": [
    "# Pre-process clusters"
   ]
  },
  {
   "cell_type": "code",
   "execution_count": null,
   "id": "bfd82ddf",
   "metadata": {},
   "outputs": [
    {
     "name": "stdout",
     "output_type": "stream",
     "text": [
      "0\n",
      "4541\n",
      "1\n",
      "5342\n",
      "2\n",
      "10003\n",
      "3\n",
      "12764\n",
      "4\n",
      "13035\n",
      "5\n",
      "15796\n",
      "8\n",
      "19867\n",
      "9\n",
      "21458\n",
      "10\n",
      "22659\n",
      "6\n",
      "1101\n",
      "7\n",
      "2202\n"
     ]
    }
   ],
   "source": [
    "## ==== LOAD DATA ====\n",
    "lista_train = [0, 1, 2, 3, 4, 5, 8, 9, 10]\n",
    "lista_validation = [6, 7]\n",
    "processed_train_dataset = []\n",
    "processed_validation_dataset = []\n",
    "for i in lista_train:\n",
    "    SEQ_LIST = [i]\n",
    "    SEQ_LIST_NAME = \"\".join(str(s) for s in SEQ_LIST)\n",
    "    print(SEQ_LIST_NAME)\n",
    "\n",
    "    # unprocessed_train_dataset = SemanticKittiDataset(\n",
    "    #     \"../../datasets/semantic-kitti\", load_cluster=True, sequence_list=SEQ_LIST\n",
    "    # )\n",
    "\n",
    "    # processed_train_dataset = []\n",
    "\n",
    "    # for frame in tqdm(unprocessed_train_dataset, desc=\"Processando frames\"):\n",
    "    #     processed_train_dataset.append(\n",
    "    #         extract_features_from_clusters(frame, min_cluster_size=3)\n",
    "    #     )\n",
    "\n",
    "    # with open(f\"./checkpoints_to_ignore/processed_train_dataset/seq{SEQ_LIST_NAME}.pkl\", \"wb\") as f:\n",
    "    #     pickle.dump(processed_train_dataset, f)\n",
    "\n",
    "    with open(\n",
    "        f\"./checkpoints_to_ignore/processed_train_dataset/seq{SEQ_LIST_NAME}.pkl\", \"rb\"\n",
    "    ) as f:\n",
    "        # processed_train_dataset = pickle.load(f)\n",
    "        p = pickle.load(f)\n",
    "    processed_train_dataset.extend(p)\n",
    "\n",
    "    print(len(processed_train_dataset))\n",
    "\n",
    "for i in lista_validation:\n",
    "    SEQ_LIST = [i]\n",
    "    SEQ_LIST_NAME = \"\".join(str(s) for s in SEQ_LIST)\n",
    "    print(SEQ_LIST_NAME)\n",
    "\n",
    "    # unprocessed_train_dataset = SemanticKittiDataset(\n",
    "    #     \"../../datasets/semantic-kitti\", load_cluster=True, sequence_list=SEQ_LIST\n",
    "    # )\n",
    "\n",
    "    # processed_train_dataset = []\n",
    "\n",
    "    # for frame in tqdm(unprocessed_train_dataset, desc=\"Processando frames\"):\n",
    "    #     processed_train_dataset.append(\n",
    "            # extract_features_from_clusters(frame, min_cluster_size=3)\n",
    "    #     )\n",
    "\n",
    "    # with open(f\"./checkpoints_to_ignore/processed_train_dataset/seq{SEQ_LIST_NAME}.pkl\", \"wb\") as f:\n",
    "    #     pickle.dump(processed_train_dataset, f)\n",
    "\n",
    "    with open(\n",
    "        f\"./checkpoints_to_ignore/processed_train_dataset/seq{SEQ_LIST_NAME}.pkl\", \"rb\"\n",
    "    ) as f:\n",
    "        # processed_train_dataset = pickle.load(f)\n",
    "        p = pickle.load(f)\n",
    "    processed_validation_dataset.extend(p)\n",
    "\n",
    "    print(len(processed_validation_dataset))"
   ]
  },
  {
   "cell_type": "code",
   "execution_count": null,
   "id": "edb857bb",
   "metadata": {},
   "outputs": [
    {
     "name": "stdout",
     "output_type": "stream",
     "text": [
      "1861 22659\n",
      "[72.97862244  2.4499929   2.67745876 72.97862244  2.4499929   2.67745876\n",
      " 72.97862244  2.4499929   2.67745876  9.          0.        ]\n"
     ]
    }
   ],
   "source": [
    "max_clusters = max(f.shape[0] for f in processed_train_dataset)\n",
    "print(max_clusters, len(processed_train_dataset))\n",
    "print(processed_train_dataset[0][0])"
   ]
  },
  {
   "cell_type": "markdown",
   "id": "5a567791",
   "metadata": {},
   "source": [
    "# Train model"
   ]
  },
  {
   "cell_type": "code",
   "execution_count": null,
   "id": "36f06adb",
   "metadata": {},
   "outputs": [
    {
     "name": "stderr",
     "output_type": "stream",
     "text": [
      "                                                                     \r"
     ]
    },
    {
     "name": "stdout",
     "output_type": "stream",
     "text": [
      "[Epoch 00000] Loss: 1.1170 | Acc: 60.06%\n"
     ]
    },
    {
     "name": "stderr",
     "output_type": "stream",
     "text": [
      "                                                                           \r"
     ]
    },
    {
     "name": "stdout",
     "output_type": "stream",
     "text": [
      "[Eval @ Epoch 00000] Val Loss: 1.5349 | Val Acc: 51.05%\n"
     ]
    },
    {
     "name": "stderr",
     "output_type": "stream",
     "text": [
      "                                                                     \r"
     ]
    },
    {
     "name": "stdout",
     "output_type": "stream",
     "text": [
      "[Epoch 00001] Loss: 0.9657 | Acc: 66.31%\n"
     ]
    },
    {
     "name": "stderr",
     "output_type": "stream",
     "text": [
      "                                                                           \r"
     ]
    },
    {
     "name": "stdout",
     "output_type": "stream",
     "text": [
      "[Eval @ Epoch 00001] Val Loss: 1.6136 | Val Acc: 47.15%\n"
     ]
    },
    {
     "name": "stderr",
     "output_type": "stream",
     "text": [
      "                                                                     \r"
     ]
    },
    {
     "name": "stdout",
     "output_type": "stream",
     "text": [
      "[Epoch 00002] Loss: 0.9017 | Acc: 68.84%\n"
     ]
    },
    {
     "name": "stderr",
     "output_type": "stream",
     "text": [
      "                                                                           \r"
     ]
    },
    {
     "name": "stdout",
     "output_type": "stream",
     "text": [
      "[Eval @ Epoch 00002] Val Loss: 1.3781 | Val Acc: 54.76%\n"
     ]
    },
    {
     "name": "stderr",
     "output_type": "stream",
     "text": [
      "                                                                     \r"
     ]
    },
    {
     "name": "stdout",
     "output_type": "stream",
     "text": [
      "[Epoch 00003] Loss: 0.8708 | Acc: 70.15%\n"
     ]
    },
    {
     "name": "stderr",
     "output_type": "stream",
     "text": [
      "                                                                           \r"
     ]
    },
    {
     "name": "stdout",
     "output_type": "stream",
     "text": [
      "[Eval @ Epoch 00003] Val Loss: 1.5278 | Val Acc: 54.20%\n"
     ]
    },
    {
     "name": "stderr",
     "output_type": "stream",
     "text": [
      "                                                                     \r"
     ]
    },
    {
     "name": "stdout",
     "output_type": "stream",
     "text": [
      "[Epoch 00004] Loss: 0.8360 | Acc: 71.51%\n"
     ]
    },
    {
     "name": "stderr",
     "output_type": "stream",
     "text": [
      "                                                                           \r"
     ]
    },
    {
     "name": "stdout",
     "output_type": "stream",
     "text": [
      "[Eval @ Epoch 00004] Val Loss: 1.4174 | Val Acc: 57.94%\n"
     ]
    },
    {
     "name": "stderr",
     "output_type": "stream",
     "text": [
      "                                                                     \r"
     ]
    },
    {
     "name": "stdout",
     "output_type": "stream",
     "text": [
      "[Epoch 00005] Loss: 0.8093 | Acc: 72.49%\n"
     ]
    },
    {
     "name": "stderr",
     "output_type": "stream",
     "text": [
      "                                                                           \r"
     ]
    },
    {
     "name": "stdout",
     "output_type": "stream",
     "text": [
      "[Eval @ Epoch 00005] Val Loss: 1.2492 | Val Acc: 60.30%\n"
     ]
    },
    {
     "name": "stderr",
     "output_type": "stream",
     "text": [
      "                                                                     \r"
     ]
    },
    {
     "name": "stdout",
     "output_type": "stream",
     "text": [
      "[Epoch 00006] Loss: 0.7911 | Acc: 73.12%\n"
     ]
    },
    {
     "name": "stderr",
     "output_type": "stream",
     "text": [
      "                                                                           \r"
     ]
    },
    {
     "name": "stdout",
     "output_type": "stream",
     "text": [
      "[Eval @ Epoch 00006] Val Loss: 1.3862 | Val Acc: 59.61%\n"
     ]
    },
    {
     "name": "stderr",
     "output_type": "stream",
     "text": [
      "                                                                     \r"
     ]
    },
    {
     "name": "stdout",
     "output_type": "stream",
     "text": [
      "[Epoch 00007] Loss: 0.7779 | Acc: 73.59%\n"
     ]
    },
    {
     "name": "stderr",
     "output_type": "stream",
     "text": [
      "                                                                           \r"
     ]
    },
    {
     "name": "stdout",
     "output_type": "stream",
     "text": [
      "[Eval @ Epoch 00007] Val Loss: 1.2321 | Val Acc: 60.46%\n"
     ]
    },
    {
     "name": "stderr",
     "output_type": "stream",
     "text": [
      "                                                                     \r"
     ]
    },
    {
     "name": "stdout",
     "output_type": "stream",
     "text": [
      "[Epoch 00008] Loss: 0.7685 | Acc: 73.92%\n"
     ]
    },
    {
     "name": "stderr",
     "output_type": "stream",
     "text": [
      "                                                                           \r"
     ]
    },
    {
     "name": "stdout",
     "output_type": "stream",
     "text": [
      "[Eval @ Epoch 00008] Val Loss: 1.2750 | Val Acc: 59.57%\n"
     ]
    },
    {
     "name": "stderr",
     "output_type": "stream",
     "text": [
      "                                                                     \r"
     ]
    },
    {
     "name": "stdout",
     "output_type": "stream",
     "text": [
      "[Epoch 00009] Loss: 0.7609 | Acc: 74.21%\n"
     ]
    },
    {
     "name": "stderr",
     "output_type": "stream",
     "text": [
      "                                                                           \r"
     ]
    },
    {
     "name": "stdout",
     "output_type": "stream",
     "text": [
      "[Eval @ Epoch 00009] Val Loss: 1.3245 | Val Acc: 60.69%\n"
     ]
    },
    {
     "name": "stderr",
     "output_type": "stream",
     "text": [
      "                                                                      \r"
     ]
    },
    {
     "name": "stdout",
     "output_type": "stream",
     "text": [
      "[Epoch 00010] Loss: 0.7539 | Acc: 74.47%\n"
     ]
    },
    {
     "name": "stderr",
     "output_type": "stream",
     "text": [
      "                                                                            \r"
     ]
    },
    {
     "name": "stdout",
     "output_type": "stream",
     "text": [
      "[Eval @ Epoch 00010] Val Loss: 1.3810 | Val Acc: 59.10%\n"
     ]
    },
    {
     "name": "stderr",
     "output_type": "stream",
     "text": [
      "                                                                      \r"
     ]
    },
    {
     "name": "stdout",
     "output_type": "stream",
     "text": [
      "[Epoch 00011] Loss: 0.7494 | Acc: 74.62%\n"
     ]
    },
    {
     "name": "stderr",
     "output_type": "stream",
     "text": [
      "                                                                            \r"
     ]
    },
    {
     "name": "stdout",
     "output_type": "stream",
     "text": [
      "[Eval @ Epoch 00011] Val Loss: 1.2660 | Val Acc: 61.67%\n"
     ]
    },
    {
     "name": "stderr",
     "output_type": "stream",
     "text": [
      "                                                                      \r"
     ]
    },
    {
     "name": "stdout",
     "output_type": "stream",
     "text": [
      "[Epoch 00012] Loss: 0.7455 | Acc: 74.78%\n"
     ]
    },
    {
     "name": "stderr",
     "output_type": "stream",
     "text": [
      "                                                                            \r"
     ]
    },
    {
     "name": "stdout",
     "output_type": "stream",
     "text": [
      "[Eval @ Epoch 00012] Val Loss: 1.2476 | Val Acc: 60.64%\n"
     ]
    },
    {
     "name": "stderr",
     "output_type": "stream",
     "text": [
      "                                                                      \r"
     ]
    },
    {
     "name": "stdout",
     "output_type": "stream",
     "text": [
      "[Epoch 00013] Loss: 0.7416 | Acc: 74.93%\n"
     ]
    },
    {
     "name": "stderr",
     "output_type": "stream",
     "text": [
      "                                                                            \r"
     ]
    },
    {
     "name": "stdout",
     "output_type": "stream",
     "text": [
      "[Eval @ Epoch 00013] Val Loss: 1.2993 | Val Acc: 60.69%\n"
     ]
    },
    {
     "name": "stderr",
     "output_type": "stream",
     "text": [
      "                                                                      \r"
     ]
    },
    {
     "name": "stdout",
     "output_type": "stream",
     "text": [
      "[Epoch 00014] Loss: 0.7387 | Acc: 75.02%\n"
     ]
    },
    {
     "name": "stderr",
     "output_type": "stream",
     "text": [
      "                                                                            \r"
     ]
    },
    {
     "name": "stdout",
     "output_type": "stream",
     "text": [
      "[Eval @ Epoch 00014] Val Loss: 1.2884 | Val Acc: 60.19%\n"
     ]
    },
    {
     "name": "stderr",
     "output_type": "stream",
     "text": [
      "                                                                      \r"
     ]
    },
    {
     "name": "stdout",
     "output_type": "stream",
     "text": [
      "[Epoch 00015] Loss: 0.7356 | Acc: 75.08%\n"
     ]
    },
    {
     "name": "stderr",
     "output_type": "stream",
     "text": [
      "                                                                            \r"
     ]
    },
    {
     "name": "stdout",
     "output_type": "stream",
     "text": [
      "[Eval @ Epoch 00015] Val Loss: 1.2495 | Val Acc: 62.23%\n"
     ]
    },
    {
     "name": "stderr",
     "output_type": "stream",
     "text": [
      "                                                                      \r"
     ]
    },
    {
     "name": "stdout",
     "output_type": "stream",
     "text": [
      "[Epoch 00016] Loss: 0.7334 | Acc: 75.20%\n"
     ]
    },
    {
     "name": "stderr",
     "output_type": "stream",
     "text": [
      "                                                                            \r"
     ]
    },
    {
     "name": "stdout",
     "output_type": "stream",
     "text": [
      "[Eval @ Epoch 00016] Val Loss: 1.2946 | Val Acc: 60.07%\n"
     ]
    },
    {
     "name": "stderr",
     "output_type": "stream",
     "text": [
      "                                                                      \r"
     ]
    },
    {
     "name": "stdout",
     "output_type": "stream",
     "text": [
      "[Epoch 00017] Loss: 0.7306 | Acc: 75.35%\n"
     ]
    },
    {
     "name": "stderr",
     "output_type": "stream",
     "text": [
      "                                                                            \r"
     ]
    },
    {
     "name": "stdout",
     "output_type": "stream",
     "text": [
      "[Eval @ Epoch 00017] Val Loss: 1.2747 | Val Acc: 61.84%\n"
     ]
    },
    {
     "name": "stderr",
     "output_type": "stream",
     "text": [
      "                                                                      \r"
     ]
    },
    {
     "name": "stdout",
     "output_type": "stream",
     "text": [
      "[Epoch 00018] Loss: 0.7292 | Acc: 75.39%\n"
     ]
    },
    {
     "name": "stderr",
     "output_type": "stream",
     "text": [
      "                                                                            \r"
     ]
    },
    {
     "name": "stdout",
     "output_type": "stream",
     "text": [
      "[Eval @ Epoch 00018] Val Loss: 1.3208 | Val Acc: 59.80%\n"
     ]
    },
    {
     "name": "stderr",
     "output_type": "stream",
     "text": [
      "                                                                      \r"
     ]
    },
    {
     "name": "stdout",
     "output_type": "stream",
     "text": [
      "[Epoch 00019] Loss: 0.7272 | Acc: 75.45%\n"
     ]
    },
    {
     "name": "stderr",
     "output_type": "stream",
     "text": [
      "                                                                            \r"
     ]
    },
    {
     "name": "stdout",
     "output_type": "stream",
     "text": [
      "[Eval @ Epoch 00019] Val Loss: 1.1960 | Val Acc: 62.64%\n"
     ]
    },
    {
     "name": "stderr",
     "output_type": "stream",
     "text": [
      "                                                                      \r"
     ]
    },
    {
     "name": "stdout",
     "output_type": "stream",
     "text": [
      "[Epoch 00020] Loss: 0.7247 | Acc: 75.53%\n"
     ]
    },
    {
     "name": "stderr",
     "output_type": "stream",
     "text": [
      "                                                                            \r"
     ]
    },
    {
     "name": "stdout",
     "output_type": "stream",
     "text": [
      "[Eval @ Epoch 00020] Val Loss: 1.3639 | Val Acc: 58.60%\n"
     ]
    },
    {
     "name": "stderr",
     "output_type": "stream",
     "text": [
      "                                                                      \r"
     ]
    },
    {
     "name": "stdout",
     "output_type": "stream",
     "text": [
      "[Epoch 00021] Loss: 0.7234 | Acc: 75.60%\n"
     ]
    },
    {
     "name": "stderr",
     "output_type": "stream",
     "text": [
      "                                                                            \r"
     ]
    },
    {
     "name": "stdout",
     "output_type": "stream",
     "text": [
      "[Eval @ Epoch 00021] Val Loss: 1.2675 | Val Acc: 60.97%\n"
     ]
    },
    {
     "name": "stderr",
     "output_type": "stream",
     "text": [
      "                                                                      \r"
     ]
    },
    {
     "name": "stdout",
     "output_type": "stream",
     "text": [
      "[Epoch 00022] Loss: 0.7220 | Acc: 75.66%\n"
     ]
    },
    {
     "name": "stderr",
     "output_type": "stream",
     "text": [
      "                                                                            \r"
     ]
    },
    {
     "name": "stdout",
     "output_type": "stream",
     "text": [
      "[Eval @ Epoch 00022] Val Loss: 1.2317 | Val Acc: 63.02%\n"
     ]
    },
    {
     "name": "stderr",
     "output_type": "stream",
     "text": [
      "                                                                      \r"
     ]
    },
    {
     "name": "stdout",
     "output_type": "stream",
     "text": [
      "[Epoch 00023] Loss: 0.7206 | Acc: 75.70%\n"
     ]
    },
    {
     "name": "stderr",
     "output_type": "stream",
     "text": [
      "                                                                            \r"
     ]
    },
    {
     "name": "stdout",
     "output_type": "stream",
     "text": [
      "[Eval @ Epoch 00023] Val Loss: 1.3084 | Val Acc: 59.70%\n"
     ]
    },
    {
     "name": "stderr",
     "output_type": "stream",
     "text": [
      "                                                                      \r"
     ]
    },
    {
     "name": "stdout",
     "output_type": "stream",
     "text": [
      "[Epoch 00024] Loss: 0.7186 | Acc: 75.80%\n"
     ]
    },
    {
     "name": "stderr",
     "output_type": "stream",
     "text": [
      "                                                                            \r"
     ]
    },
    {
     "name": "stdout",
     "output_type": "stream",
     "text": [
      "[Eval @ Epoch 00024] Val Loss: 1.2393 | Val Acc: 61.29%\n"
     ]
    },
    {
     "name": "stderr",
     "output_type": "stream",
     "text": [
      "                                                                      \r"
     ]
    },
    {
     "name": "stdout",
     "output_type": "stream",
     "text": [
      "[Epoch 00025] Loss: 0.7185 | Acc: 75.77%\n"
     ]
    },
    {
     "name": "stderr",
     "output_type": "stream",
     "text": [
      "                                                                            \r"
     ]
    },
    {
     "name": "stdout",
     "output_type": "stream",
     "text": [
      "[Eval @ Epoch 00025] Val Loss: 1.2354 | Val Acc: 62.86%\n"
     ]
    },
    {
     "name": "stderr",
     "output_type": "stream",
     "text": [
      "                                                                      \r"
     ]
    },
    {
     "name": "stdout",
     "output_type": "stream",
     "text": [
      "[Epoch 00026] Loss: 0.7169 | Acc: 75.85%\n"
     ]
    },
    {
     "name": "stderr",
     "output_type": "stream",
     "text": [
      "                                                                            \r"
     ]
    },
    {
     "name": "stdout",
     "output_type": "stream",
     "text": [
      "[Eval @ Epoch 00026] Val Loss: 1.2743 | Val Acc: 62.20%\n"
     ]
    },
    {
     "name": "stderr",
     "output_type": "stream",
     "text": [
      "                                                                      \r"
     ]
    },
    {
     "name": "stdout",
     "output_type": "stream",
     "text": [
      "[Epoch 00027] Loss: 0.7154 | Acc: 75.89%\n"
     ]
    },
    {
     "name": "stderr",
     "output_type": "stream",
     "text": [
      "                                                                            \r"
     ]
    },
    {
     "name": "stdout",
     "output_type": "stream",
     "text": [
      "[Eval @ Epoch 00027] Val Loss: 1.2905 | Val Acc: 60.50%\n"
     ]
    },
    {
     "name": "stderr",
     "output_type": "stream",
     "text": [
      "                                                                      \r"
     ]
    },
    {
     "name": "stdout",
     "output_type": "stream",
     "text": [
      "[Epoch 00028] Loss: 0.7147 | Acc: 75.92%\n"
     ]
    },
    {
     "name": "stderr",
     "output_type": "stream",
     "text": [
      "                                                                            \r"
     ]
    },
    {
     "name": "stdout",
     "output_type": "stream",
     "text": [
      "[Eval @ Epoch 00028] Val Loss: 1.2481 | Val Acc: 61.64%\n"
     ]
    },
    {
     "name": "stderr",
     "output_type": "stream",
     "text": [
      "                                                                      \r"
     ]
    },
    {
     "name": "stdout",
     "output_type": "stream",
     "text": [
      "[Epoch 00029] Loss: 0.7138 | Acc: 75.95%\n"
     ]
    },
    {
     "name": "stderr",
     "output_type": "stream",
     "text": [
      "                                                                            \r"
     ]
    },
    {
     "name": "stdout",
     "output_type": "stream",
     "text": [
      "[Eval @ Epoch 00029] Val Loss: 1.2877 | Val Acc: 61.87%\n"
     ]
    },
    {
     "name": "stderr",
     "output_type": "stream",
     "text": [
      "                                                                      \r"
     ]
    },
    {
     "name": "stdout",
     "output_type": "stream",
     "text": [
      "[Epoch 00030] Loss: 0.7126 | Acc: 76.00%\n"
     ]
    },
    {
     "name": "stderr",
     "output_type": "stream",
     "text": [
      "                                                                            \r"
     ]
    },
    {
     "name": "stdout",
     "output_type": "stream",
     "text": [
      "[Eval @ Epoch 00030] Val Loss: 1.3179 | Val Acc: 59.83%\n"
     ]
    },
    {
     "name": "stderr",
     "output_type": "stream",
     "text": [
      "                                                                      \r"
     ]
    },
    {
     "name": "stdout",
     "output_type": "stream",
     "text": [
      "[Epoch 00031] Loss: 0.7123 | Acc: 76.06%\n"
     ]
    },
    {
     "name": "stderr",
     "output_type": "stream",
     "text": [
      "                                                                            \r"
     ]
    },
    {
     "name": "stdout",
     "output_type": "stream",
     "text": [
      "[Eval @ Epoch 00031] Val Loss: 1.3647 | Val Acc: 59.40%\n"
     ]
    },
    {
     "name": "stderr",
     "output_type": "stream",
     "text": [
      "                                                                      \r"
     ]
    },
    {
     "name": "stdout",
     "output_type": "stream",
     "text": [
      "[Epoch 00032] Loss: 0.7118 | Acc: 76.06%\n"
     ]
    },
    {
     "name": "stderr",
     "output_type": "stream",
     "text": [
      "                                                                            \r"
     ]
    },
    {
     "name": "stdout",
     "output_type": "stream",
     "text": [
      "[Eval @ Epoch 00032] Val Loss: 1.2345 | Val Acc: 62.97%\n"
     ]
    },
    {
     "name": "stderr",
     "output_type": "stream",
     "text": [
      "                                                                      \r"
     ]
    },
    {
     "name": "stdout",
     "output_type": "stream",
     "text": [
      "[Epoch 00033] Loss: 0.7105 | Acc: 76.08%\n"
     ]
    },
    {
     "name": "stderr",
     "output_type": "stream",
     "text": [
      "                                                                            \r"
     ]
    },
    {
     "name": "stdout",
     "output_type": "stream",
     "text": [
      "[Eval @ Epoch 00033] Val Loss: 1.2384 | Val Acc: 61.82%\n"
     ]
    },
    {
     "name": "stderr",
     "output_type": "stream",
     "text": [
      "                                                                      \r"
     ]
    },
    {
     "name": "stdout",
     "output_type": "stream",
     "text": [
      "[Epoch 00034] Loss: 0.7102 | Acc: 76.10%\n"
     ]
    },
    {
     "name": "stderr",
     "output_type": "stream",
     "text": [
      "                                                                            \r"
     ]
    },
    {
     "name": "stdout",
     "output_type": "stream",
     "text": [
      "[Eval @ Epoch 00034] Val Loss: 1.2308 | Val Acc: 61.63%\n"
     ]
    },
    {
     "name": "stderr",
     "output_type": "stream",
     "text": [
      "                                                                      \r"
     ]
    },
    {
     "name": "stdout",
     "output_type": "stream",
     "text": [
      "[Epoch 00035] Loss: 0.7104 | Acc: 76.09%\n"
     ]
    },
    {
     "name": "stderr",
     "output_type": "stream",
     "text": [
      "                                                                            \r"
     ]
    },
    {
     "name": "stdout",
     "output_type": "stream",
     "text": [
      "[Eval @ Epoch 00035] Val Loss: 1.2141 | Val Acc: 62.74%\n"
     ]
    },
    {
     "name": "stderr",
     "output_type": "stream",
     "text": [
      "                                                                      \r"
     ]
    },
    {
     "name": "stdout",
     "output_type": "stream",
     "text": [
      "[Epoch 00036] Loss: 0.7089 | Acc: 76.16%\n"
     ]
    },
    {
     "name": "stderr",
     "output_type": "stream",
     "text": [
      "                                                                            \r"
     ]
    },
    {
     "name": "stdout",
     "output_type": "stream",
     "text": [
      "[Eval @ Epoch 00036] Val Loss: 1.2424 | Val Acc: 61.79%\n"
     ]
    },
    {
     "name": "stderr",
     "output_type": "stream",
     "text": [
      "                                                                      \r"
     ]
    },
    {
     "name": "stdout",
     "output_type": "stream",
     "text": [
      "[Epoch 00037] Loss: 0.7073 | Acc: 76.18%\n"
     ]
    },
    {
     "name": "stderr",
     "output_type": "stream",
     "text": [
      "                                                                            \r"
     ]
    },
    {
     "name": "stdout",
     "output_type": "stream",
     "text": [
      "[Eval @ Epoch 00037] Val Loss: 1.2666 | Val Acc: 62.46%\n"
     ]
    },
    {
     "name": "stderr",
     "output_type": "stream",
     "text": [
      "                                                                      \r"
     ]
    },
    {
     "name": "stdout",
     "output_type": "stream",
     "text": [
      "[Epoch 00038] Loss: 0.7076 | Acc: 76.20%\n"
     ]
    },
    {
     "name": "stderr",
     "output_type": "stream",
     "text": [
      "                                                                            \r"
     ]
    },
    {
     "name": "stdout",
     "output_type": "stream",
     "text": [
      "[Eval @ Epoch 00038] Val Loss: 1.2857 | Val Acc: 60.23%\n"
     ]
    },
    {
     "name": "stderr",
     "output_type": "stream",
     "text": [
      "                                                                     \r"
     ]
    },
    {
     "ename": "KeyboardInterrupt",
     "evalue": "",
     "output_type": "error",
     "traceback": [
      "\u001b[31m---------------------------------------------------------------------------\u001b[39m",
      "\u001b[31mKeyboardInterrupt\u001b[39m                         Traceback (most recent call last)",
      "\u001b[36mCell\u001b[39m\u001b[36m \u001b[39m\u001b[32mIn[7]\u001b[39m\u001b[32m, line 28\u001b[39m\n\u001b[32m     25\u001b[39m label = torch.tensor(item[:, -\u001b[32m2\u001b[39m], dtype=torch.long).unsqueeze(\u001b[32m0\u001b[39m).to(DEVICE)\n\u001b[32m     27\u001b[39m optimizer.zero_grad()\n\u001b[32m---> \u001b[39m\u001b[32m28\u001b[39m pred, trans_feat = \u001b[43mmodel\u001b[49m\u001b[43m(\u001b[49m\u001b[43mdata\u001b[49m\u001b[43m)\u001b[49m\n\u001b[32m     29\u001b[39m pred = pred.view(-\u001b[32m1\u001b[39m, NUM_CLASSES)\n\u001b[32m     30\u001b[39m label = label.view(-\u001b[32m1\u001b[39m)\n",
      "\u001b[36mFile \u001b[39m\u001b[32m~/Desktop/faculdade/air/pfc-semantic-segmentation/.venv/lib/python3.12/site-packages/torch/nn/modules/module.py:1751\u001b[39m, in \u001b[36mModule._wrapped_call_impl\u001b[39m\u001b[34m(self, *args, **kwargs)\u001b[39m\n\u001b[32m   1749\u001b[39m     \u001b[38;5;28;01mreturn\u001b[39;00m \u001b[38;5;28mself\u001b[39m._compiled_call_impl(*args, **kwargs)  \u001b[38;5;66;03m# type: ignore[misc]\u001b[39;00m\n\u001b[32m   1750\u001b[39m \u001b[38;5;28;01melse\u001b[39;00m:\n\u001b[32m-> \u001b[39m\u001b[32m1751\u001b[39m     \u001b[38;5;28;01mreturn\u001b[39;00m \u001b[38;5;28;43mself\u001b[39;49m\u001b[43m.\u001b[49m\u001b[43m_call_impl\u001b[49m\u001b[43m(\u001b[49m\u001b[43m*\u001b[49m\u001b[43margs\u001b[49m\u001b[43m,\u001b[49m\u001b[43m \u001b[49m\u001b[43m*\u001b[49m\u001b[43m*\u001b[49m\u001b[43mkwargs\u001b[49m\u001b[43m)\u001b[49m\n",
      "\u001b[36mFile \u001b[39m\u001b[32m~/Desktop/faculdade/air/pfc-semantic-segmentation/.venv/lib/python3.12/site-packages/torch/nn/modules/module.py:1762\u001b[39m, in \u001b[36mModule._call_impl\u001b[39m\u001b[34m(self, *args, **kwargs)\u001b[39m\n\u001b[32m   1757\u001b[39m \u001b[38;5;66;03m# If we don't have any hooks, we want to skip the rest of the logic in\u001b[39;00m\n\u001b[32m   1758\u001b[39m \u001b[38;5;66;03m# this function, and just call forward.\u001b[39;00m\n\u001b[32m   1759\u001b[39m \u001b[38;5;28;01mif\u001b[39;00m \u001b[38;5;129;01mnot\u001b[39;00m (\u001b[38;5;28mself\u001b[39m._backward_hooks \u001b[38;5;129;01mor\u001b[39;00m \u001b[38;5;28mself\u001b[39m._backward_pre_hooks \u001b[38;5;129;01mor\u001b[39;00m \u001b[38;5;28mself\u001b[39m._forward_hooks \u001b[38;5;129;01mor\u001b[39;00m \u001b[38;5;28mself\u001b[39m._forward_pre_hooks\n\u001b[32m   1760\u001b[39m         \u001b[38;5;129;01mor\u001b[39;00m _global_backward_pre_hooks \u001b[38;5;129;01mor\u001b[39;00m _global_backward_hooks\n\u001b[32m   1761\u001b[39m         \u001b[38;5;129;01mor\u001b[39;00m _global_forward_hooks \u001b[38;5;129;01mor\u001b[39;00m _global_forward_pre_hooks):\n\u001b[32m-> \u001b[39m\u001b[32m1762\u001b[39m     \u001b[38;5;28;01mreturn\u001b[39;00m \u001b[43mforward_call\u001b[49m\u001b[43m(\u001b[49m\u001b[43m*\u001b[49m\u001b[43margs\u001b[49m\u001b[43m,\u001b[49m\u001b[43m \u001b[49m\u001b[43m*\u001b[49m\u001b[43m*\u001b[49m\u001b[43mkwargs\u001b[49m\u001b[43m)\u001b[49m\n\u001b[32m   1764\u001b[39m result = \u001b[38;5;28;01mNone\u001b[39;00m\n\u001b[32m   1765\u001b[39m called_always_called_hooks = \u001b[38;5;28mset\u001b[39m()\n",
      "\u001b[36mFile \u001b[39m\u001b[32m~/Desktop/faculdade/air/pfc-semantic-segmentation/pfc_packages/pointNet.py:188\u001b[39m, in \u001b[36mPointNetSeg.forward\u001b[39m\u001b[34m(self, x)\u001b[39m\n\u001b[32m    186\u001b[39m batchsize = x.size()[\u001b[32m0\u001b[39m]\n\u001b[32m    187\u001b[39m n_pts = x.size()[\u001b[32m2\u001b[39m]\n\u001b[32m--> \u001b[39m\u001b[32m188\u001b[39m x, trans, trans_feat = \u001b[38;5;28;43mself\u001b[39;49m\u001b[43m.\u001b[49m\u001b[43mfeat\u001b[49m\u001b[43m(\u001b[49m\u001b[43mx\u001b[49m\u001b[43m)\u001b[49m\n\u001b[32m    189\u001b[39m x = F.relu(\u001b[38;5;28mself\u001b[39m.bn1(\u001b[38;5;28mself\u001b[39m.conv1(x)))\n\u001b[32m    190\u001b[39m x = F.relu(\u001b[38;5;28mself\u001b[39m.bn1b(\u001b[38;5;28mself\u001b[39m.conv1b(x)))  \u001b[38;5;66;03m# Nova camada\u001b[39;00m\n",
      "\u001b[36mFile \u001b[39m\u001b[32m~/Desktop/faculdade/air/pfc-semantic-segmentation/.venv/lib/python3.12/site-packages/torch/nn/modules/module.py:1751\u001b[39m, in \u001b[36mModule._wrapped_call_impl\u001b[39m\u001b[34m(self, *args, **kwargs)\u001b[39m\n\u001b[32m   1749\u001b[39m     \u001b[38;5;28;01mreturn\u001b[39;00m \u001b[38;5;28mself\u001b[39m._compiled_call_impl(*args, **kwargs)  \u001b[38;5;66;03m# type: ignore[misc]\u001b[39;00m\n\u001b[32m   1750\u001b[39m \u001b[38;5;28;01melse\u001b[39;00m:\n\u001b[32m-> \u001b[39m\u001b[32m1751\u001b[39m     \u001b[38;5;28;01mreturn\u001b[39;00m \u001b[38;5;28;43mself\u001b[39;49m\u001b[43m.\u001b[49m\u001b[43m_call_impl\u001b[49m\u001b[43m(\u001b[49m\u001b[43m*\u001b[49m\u001b[43margs\u001b[49m\u001b[43m,\u001b[49m\u001b[43m \u001b[49m\u001b[43m*\u001b[49m\u001b[43m*\u001b[49m\u001b[43mkwargs\u001b[49m\u001b[43m)\u001b[49m\n",
      "\u001b[36mFile \u001b[39m\u001b[32m~/Desktop/faculdade/air/pfc-semantic-segmentation/.venv/lib/python3.12/site-packages/torch/nn/modules/module.py:1762\u001b[39m, in \u001b[36mModule._call_impl\u001b[39m\u001b[34m(self, *args, **kwargs)\u001b[39m\n\u001b[32m   1757\u001b[39m \u001b[38;5;66;03m# If we don't have any hooks, we want to skip the rest of the logic in\u001b[39;00m\n\u001b[32m   1758\u001b[39m \u001b[38;5;66;03m# this function, and just call forward.\u001b[39;00m\n\u001b[32m   1759\u001b[39m \u001b[38;5;28;01mif\u001b[39;00m \u001b[38;5;129;01mnot\u001b[39;00m (\u001b[38;5;28mself\u001b[39m._backward_hooks \u001b[38;5;129;01mor\u001b[39;00m \u001b[38;5;28mself\u001b[39m._backward_pre_hooks \u001b[38;5;129;01mor\u001b[39;00m \u001b[38;5;28mself\u001b[39m._forward_hooks \u001b[38;5;129;01mor\u001b[39;00m \u001b[38;5;28mself\u001b[39m._forward_pre_hooks\n\u001b[32m   1760\u001b[39m         \u001b[38;5;129;01mor\u001b[39;00m _global_backward_pre_hooks \u001b[38;5;129;01mor\u001b[39;00m _global_backward_hooks\n\u001b[32m   1761\u001b[39m         \u001b[38;5;129;01mor\u001b[39;00m _global_forward_hooks \u001b[38;5;129;01mor\u001b[39;00m _global_forward_pre_hooks):\n\u001b[32m-> \u001b[39m\u001b[32m1762\u001b[39m     \u001b[38;5;28;01mreturn\u001b[39;00m \u001b[43mforward_call\u001b[49m\u001b[43m(\u001b[49m\u001b[43m*\u001b[49m\u001b[43margs\u001b[49m\u001b[43m,\u001b[49m\u001b[43m \u001b[49m\u001b[43m*\u001b[49m\u001b[43m*\u001b[49m\u001b[43mkwargs\u001b[49m\u001b[43m)\u001b[49m\n\u001b[32m   1764\u001b[39m result = \u001b[38;5;28;01mNone\u001b[39;00m\n\u001b[32m   1765\u001b[39m called_always_called_hooks = \u001b[38;5;28mset\u001b[39m()\n",
      "\u001b[36mFile \u001b[39m\u001b[32m~/Desktop/faculdade/air/pfc-semantic-segmentation/pfc_packages/pointNet.py:115\u001b[39m, in \u001b[36mPointNetEncoder.forward\u001b[39m\u001b[34m(self, x)\u001b[39m\n\u001b[32m    113\u001b[39m B, C, N = x.size()\n\u001b[32m    114\u001b[39m \u001b[38;5;66;03m# Input transform only on first 3 dims (xyz)\u001b[39;00m\n\u001b[32m--> \u001b[39m\u001b[32m115\u001b[39m trans = \u001b[38;5;28;43mself\u001b[39;49m\u001b[43m.\u001b[49m\u001b[43mstn\u001b[49m\u001b[43m(\u001b[49m\u001b[43mx\u001b[49m\u001b[43m[\u001b[49m\u001b[43m:\u001b[49m\u001b[43m,\u001b[49m\u001b[43m \u001b[49m\u001b[43m:\u001b[49m\u001b[32;43m3\u001b[39;49m\u001b[43m,\u001b[49m\u001b[43m \u001b[49m\u001b[43m:\u001b[49m\u001b[43m]\u001b[49m\u001b[43m)\u001b[49m\n\u001b[32m    116\u001b[39m x_xyz = x[:, :\u001b[32m3\u001b[39m, :]\n\u001b[32m    117\u001b[39m x_rest = x[:, \u001b[32m3\u001b[39m:, :] \u001b[38;5;28;01mif\u001b[39;00m C > \u001b[32m3\u001b[39m \u001b[38;5;28;01melse\u001b[39;00m \u001b[38;5;28;01mNone\u001b[39;00m\n",
      "\u001b[36mFile \u001b[39m\u001b[32m~/Desktop/faculdade/air/pfc-semantic-segmentation/.venv/lib/python3.12/site-packages/torch/nn/modules/module.py:1751\u001b[39m, in \u001b[36mModule._wrapped_call_impl\u001b[39m\u001b[34m(self, *args, **kwargs)\u001b[39m\n\u001b[32m   1749\u001b[39m     \u001b[38;5;28;01mreturn\u001b[39;00m \u001b[38;5;28mself\u001b[39m._compiled_call_impl(*args, **kwargs)  \u001b[38;5;66;03m# type: ignore[misc]\u001b[39;00m\n\u001b[32m   1750\u001b[39m \u001b[38;5;28;01melse\u001b[39;00m:\n\u001b[32m-> \u001b[39m\u001b[32m1751\u001b[39m     \u001b[38;5;28;01mreturn\u001b[39;00m \u001b[38;5;28;43mself\u001b[39;49m\u001b[43m.\u001b[49m\u001b[43m_call_impl\u001b[49m\u001b[43m(\u001b[49m\u001b[43m*\u001b[49m\u001b[43margs\u001b[49m\u001b[43m,\u001b[49m\u001b[43m \u001b[49m\u001b[43m*\u001b[49m\u001b[43m*\u001b[49m\u001b[43mkwargs\u001b[49m\u001b[43m)\u001b[49m\n",
      "\u001b[36mFile \u001b[39m\u001b[32m~/Desktop/faculdade/air/pfc-semantic-segmentation/.venv/lib/python3.12/site-packages/torch/nn/modules/module.py:1762\u001b[39m, in \u001b[36mModule._call_impl\u001b[39m\u001b[34m(self, *args, **kwargs)\u001b[39m\n\u001b[32m   1757\u001b[39m \u001b[38;5;66;03m# If we don't have any hooks, we want to skip the rest of the logic in\u001b[39;00m\n\u001b[32m   1758\u001b[39m \u001b[38;5;66;03m# this function, and just call forward.\u001b[39;00m\n\u001b[32m   1759\u001b[39m \u001b[38;5;28;01mif\u001b[39;00m \u001b[38;5;129;01mnot\u001b[39;00m (\u001b[38;5;28mself\u001b[39m._backward_hooks \u001b[38;5;129;01mor\u001b[39;00m \u001b[38;5;28mself\u001b[39m._backward_pre_hooks \u001b[38;5;129;01mor\u001b[39;00m \u001b[38;5;28mself\u001b[39m._forward_hooks \u001b[38;5;129;01mor\u001b[39;00m \u001b[38;5;28mself\u001b[39m._forward_pre_hooks\n\u001b[32m   1760\u001b[39m         \u001b[38;5;129;01mor\u001b[39;00m _global_backward_pre_hooks \u001b[38;5;129;01mor\u001b[39;00m _global_backward_hooks\n\u001b[32m   1761\u001b[39m         \u001b[38;5;129;01mor\u001b[39;00m _global_forward_hooks \u001b[38;5;129;01mor\u001b[39;00m _global_forward_pre_hooks):\n\u001b[32m-> \u001b[39m\u001b[32m1762\u001b[39m     \u001b[38;5;28;01mreturn\u001b[39;00m \u001b[43mforward_call\u001b[49m\u001b[43m(\u001b[49m\u001b[43m*\u001b[49m\u001b[43margs\u001b[49m\u001b[43m,\u001b[49m\u001b[43m \u001b[49m\u001b[43m*\u001b[49m\u001b[43m*\u001b[49m\u001b[43mkwargs\u001b[49m\u001b[43m)\u001b[49m\n\u001b[32m   1764\u001b[39m result = \u001b[38;5;28;01mNone\u001b[39;00m\n\u001b[32m   1765\u001b[39m called_always_called_hooks = \u001b[38;5;28mset\u001b[39m()\n",
      "\u001b[36mFile \u001b[39m\u001b[32m~/Desktop/faculdade/air/pfc-semantic-segmentation/pfc_packages/pointNet.py:61\u001b[39m, in \u001b[36mTNet.forward\u001b[39m\u001b[34m(self, x)\u001b[39m\n\u001b[32m     57\u001b[39m \u001b[38;5;66;03m# x = F.relu(self.bn1(self.conv1(x)))\u001b[39;00m\n\u001b[32m     58\u001b[39m \u001b[38;5;66;03m# x = F.relu(self.bn2(self.conv2(x)))\u001b[39;00m\n\u001b[32m     59\u001b[39m \u001b[38;5;66;03m# x = F.relu(self.bn3(self.conv3(x)))\u001b[39;00m\n\u001b[32m     60\u001b[39m x = F.relu(\u001b[38;5;28mself\u001b[39m.bn1(\u001b[38;5;28mself\u001b[39m.conv1(x)))\n\u001b[32m---> \u001b[39m\u001b[32m61\u001b[39m x = F.relu(\u001b[38;5;28mself\u001b[39m.bn1b(\u001b[38;5;28;43mself\u001b[39;49m\u001b[43m.\u001b[49m\u001b[43mconv1b\u001b[49m\u001b[43m(\u001b[49m\u001b[43mx\u001b[49m\u001b[43m)\u001b[49m)) \n\u001b[32m     62\u001b[39m x = F.relu(\u001b[38;5;28mself\u001b[39m.bn2(\u001b[38;5;28mself\u001b[39m.conv2(x)))\n\u001b[32m     63\u001b[39m x = F.relu(\u001b[38;5;28mself\u001b[39m.bn2b(\u001b[38;5;28mself\u001b[39m.conv2b(x)))\n",
      "\u001b[36mFile \u001b[39m\u001b[32m~/Desktop/faculdade/air/pfc-semantic-segmentation/.venv/lib/python3.12/site-packages/torch/nn/modules/module.py:1751\u001b[39m, in \u001b[36mModule._wrapped_call_impl\u001b[39m\u001b[34m(self, *args, **kwargs)\u001b[39m\n\u001b[32m   1749\u001b[39m     \u001b[38;5;28;01mreturn\u001b[39;00m \u001b[38;5;28mself\u001b[39m._compiled_call_impl(*args, **kwargs)  \u001b[38;5;66;03m# type: ignore[misc]\u001b[39;00m\n\u001b[32m   1750\u001b[39m \u001b[38;5;28;01melse\u001b[39;00m:\n\u001b[32m-> \u001b[39m\u001b[32m1751\u001b[39m     \u001b[38;5;28;01mreturn\u001b[39;00m \u001b[38;5;28;43mself\u001b[39;49m\u001b[43m.\u001b[49m\u001b[43m_call_impl\u001b[49m\u001b[43m(\u001b[49m\u001b[43m*\u001b[49m\u001b[43margs\u001b[49m\u001b[43m,\u001b[49m\u001b[43m \u001b[49m\u001b[43m*\u001b[49m\u001b[43m*\u001b[49m\u001b[43mkwargs\u001b[49m\u001b[43m)\u001b[49m\n",
      "\u001b[36mFile \u001b[39m\u001b[32m~/Desktop/faculdade/air/pfc-semantic-segmentation/.venv/lib/python3.12/site-packages/torch/nn/modules/module.py:1762\u001b[39m, in \u001b[36mModule._call_impl\u001b[39m\u001b[34m(self, *args, **kwargs)\u001b[39m\n\u001b[32m   1757\u001b[39m \u001b[38;5;66;03m# If we don't have any hooks, we want to skip the rest of the logic in\u001b[39;00m\n\u001b[32m   1758\u001b[39m \u001b[38;5;66;03m# this function, and just call forward.\u001b[39;00m\n\u001b[32m   1759\u001b[39m \u001b[38;5;28;01mif\u001b[39;00m \u001b[38;5;129;01mnot\u001b[39;00m (\u001b[38;5;28mself\u001b[39m._backward_hooks \u001b[38;5;129;01mor\u001b[39;00m \u001b[38;5;28mself\u001b[39m._backward_pre_hooks \u001b[38;5;129;01mor\u001b[39;00m \u001b[38;5;28mself\u001b[39m._forward_hooks \u001b[38;5;129;01mor\u001b[39;00m \u001b[38;5;28mself\u001b[39m._forward_pre_hooks\n\u001b[32m   1760\u001b[39m         \u001b[38;5;129;01mor\u001b[39;00m _global_backward_pre_hooks \u001b[38;5;129;01mor\u001b[39;00m _global_backward_hooks\n\u001b[32m   1761\u001b[39m         \u001b[38;5;129;01mor\u001b[39;00m _global_forward_hooks \u001b[38;5;129;01mor\u001b[39;00m _global_forward_pre_hooks):\n\u001b[32m-> \u001b[39m\u001b[32m1762\u001b[39m     \u001b[38;5;28;01mreturn\u001b[39;00m \u001b[43mforward_call\u001b[49m\u001b[43m(\u001b[49m\u001b[43m*\u001b[49m\u001b[43margs\u001b[49m\u001b[43m,\u001b[49m\u001b[43m \u001b[49m\u001b[43m*\u001b[49m\u001b[43m*\u001b[49m\u001b[43mkwargs\u001b[49m\u001b[43m)\u001b[49m\n\u001b[32m   1764\u001b[39m result = \u001b[38;5;28;01mNone\u001b[39;00m\n\u001b[32m   1765\u001b[39m called_always_called_hooks = \u001b[38;5;28mset\u001b[39m()\n",
      "\u001b[36mFile \u001b[39m\u001b[32m~/Desktop/faculdade/air/pfc-semantic-segmentation/.venv/lib/python3.12/site-packages/torch/nn/modules/conv.py:375\u001b[39m, in \u001b[36mConv1d.forward\u001b[39m\u001b[34m(self, input)\u001b[39m\n\u001b[32m    374\u001b[39m \u001b[38;5;28;01mdef\u001b[39;00m\u001b[38;5;250m \u001b[39m\u001b[34mforward\u001b[39m(\u001b[38;5;28mself\u001b[39m, \u001b[38;5;28minput\u001b[39m: Tensor) -> Tensor:\n\u001b[32m--> \u001b[39m\u001b[32m375\u001b[39m     \u001b[38;5;28;01mreturn\u001b[39;00m \u001b[38;5;28;43mself\u001b[39;49m\u001b[43m.\u001b[49m\u001b[43m_conv_forward\u001b[49m\u001b[43m(\u001b[49m\u001b[38;5;28;43minput\u001b[39;49m\u001b[43m,\u001b[49m\u001b[43m \u001b[49m\u001b[38;5;28;43mself\u001b[39;49m\u001b[43m.\u001b[49m\u001b[43mweight\u001b[49m\u001b[43m,\u001b[49m\u001b[43m \u001b[49m\u001b[38;5;28;43mself\u001b[39;49m\u001b[43m.\u001b[49m\u001b[43mbias\u001b[49m\u001b[43m)\u001b[49m\n",
      "\u001b[36mFile \u001b[39m\u001b[32m~/Desktop/faculdade/air/pfc-semantic-segmentation/.venv/lib/python3.12/site-packages/torch/nn/modules/conv.py:370\u001b[39m, in \u001b[36mConv1d._conv_forward\u001b[39m\u001b[34m(self, input, weight, bias)\u001b[39m\n\u001b[32m    358\u001b[39m \u001b[38;5;28;01mif\u001b[39;00m \u001b[38;5;28mself\u001b[39m.padding_mode != \u001b[33m\"\u001b[39m\u001b[33mzeros\u001b[39m\u001b[33m\"\u001b[39m:\n\u001b[32m    359\u001b[39m     \u001b[38;5;28;01mreturn\u001b[39;00m F.conv1d(\n\u001b[32m    360\u001b[39m         F.pad(\n\u001b[32m    361\u001b[39m             \u001b[38;5;28minput\u001b[39m, \u001b[38;5;28mself\u001b[39m._reversed_padding_repeated_twice, mode=\u001b[38;5;28mself\u001b[39m.padding_mode\n\u001b[32m   (...)\u001b[39m\u001b[32m    368\u001b[39m         \u001b[38;5;28mself\u001b[39m.groups,\n\u001b[32m    369\u001b[39m     )\n\u001b[32m--> \u001b[39m\u001b[32m370\u001b[39m \u001b[38;5;28;01mreturn\u001b[39;00m \u001b[43mF\u001b[49m\u001b[43m.\u001b[49m\u001b[43mconv1d\u001b[49m\u001b[43m(\u001b[49m\n\u001b[32m    371\u001b[39m \u001b[43m    \u001b[49m\u001b[38;5;28;43minput\u001b[39;49m\u001b[43m,\u001b[49m\u001b[43m \u001b[49m\u001b[43mweight\u001b[49m\u001b[43m,\u001b[49m\u001b[43m \u001b[49m\u001b[43mbias\u001b[49m\u001b[43m,\u001b[49m\u001b[43m \u001b[49m\u001b[38;5;28;43mself\u001b[39;49m\u001b[43m.\u001b[49m\u001b[43mstride\u001b[49m\u001b[43m,\u001b[49m\u001b[43m \u001b[49m\u001b[38;5;28;43mself\u001b[39;49m\u001b[43m.\u001b[49m\u001b[43mpadding\u001b[49m\u001b[43m,\u001b[49m\u001b[43m \u001b[49m\u001b[38;5;28;43mself\u001b[39;49m\u001b[43m.\u001b[49m\u001b[43mdilation\u001b[49m\u001b[43m,\u001b[49m\u001b[43m \u001b[49m\u001b[38;5;28;43mself\u001b[39;49m\u001b[43m.\u001b[49m\u001b[43mgroups\u001b[49m\n\u001b[32m    372\u001b[39m \u001b[43m\u001b[49m\u001b[43m)\u001b[49m\n",
      "\u001b[31mKeyboardInterrupt\u001b[39m: "
     ]
    }
   ],
   "source": [
    "train_loss_history = []\n",
    "train_acc_history = []\n",
    "validation_loss_history = []\n",
    "validation_acc_history = []\n",
    "\n",
    "for epoch in range(EPOCHS):\n",
    "    model.train()\n",
    "    total_loss = 0.0\n",
    "    total_correct = 0\n",
    "    total_points = 0\n",
    "    frame_acc = 0.0\n",
    "\n",
    "    random.shuffle(processed_train_dataset)\n",
    "    for item in tqdm(\n",
    "        processed_train_dataset,\n",
    "        desc=f\"Epoch {epoch}/{EPOCHS}\",\n",
    "        unit=\"frame\",\n",
    "        leave=False,\n",
    "    ):\n",
    "        data = (\n",
    "            torch.tensor(item[:, :INPUT_CHANNELS], dtype=torch.float32)\n",
    "            .unsqueeze(0)\n",
    "            .to(DEVICE)\n",
    "        )\n",
    "        label = torch.tensor(item[:, -2], dtype=torch.long).unsqueeze(0).to(DEVICE)\n",
    "\n",
    "        optimizer.zero_grad()\n",
    "        pred, trans_feat = model(data)\n",
    "        pred = pred.view(-1, NUM_CLASSES)\n",
    "        label = label.view(-1)\n",
    "\n",
    "        loss = criterion(pred, label)\n",
    "        # Exemplo de como seria se estivesse ativa (NÃO FAÇA ISSO PARA OVERFIT):\n",
    "        # if trans_feat is not None and model.feat.feature_transform: # trans_feat é a segunda saída do modelo\n",
    "        #     reg_loss = feature_transform_regulaizer(trans_feat)\n",
    "        #     loss = loss + 0.001 * reg_loss # 0.001 é um exemplo de peso da regularização\n",
    "        pred = pred.argmax(dim=1)\n",
    "        loss.backward()\n",
    "        optimizer.step()\n",
    "\n",
    "        total_loss += loss.item()\n",
    "        total_correct += (pred.cpu().numpy() == label.cpu().numpy()).sum()\n",
    "        total_points += len(label)\n",
    "\n",
    "    avg_loss = total_loss / len(processed_train_dataset)\n",
    "    avg_acc = total_correct / total_points\n",
    "    train_loss_history.append(avg_loss)\n",
    "    train_acc_history.append(avg_acc)\n",
    "\n",
    "    print(f\"[Epoch {epoch:05d}] Loss: {avg_loss:.4f} | Acc: {avg_acc*100:.2f}%\")\n",
    "    if epoch % 1 == 0:\n",
    "        # --- Bloco de avaliação ---\n",
    "        model.eval()\n",
    "        total_correct = 0\n",
    "        total_points = 0\n",
    "        total_loss_val = 0.0\n",
    "        with torch.no_grad():\n",
    "            random.shuffle(processed_validation_dataset)\n",
    "            for item in tqdm(\n",
    "                processed_validation_dataset,\n",
    "                desc=f\"Eval @ Epoch {epoch}/{EPOCHS}\",\n",
    "                unit=\"frame\",\n",
    "                leave=False,\n",
    "            ):\n",
    "                # for item in processed_train_dataset:\n",
    "                data = (\n",
    "                    torch.tensor(item[:, :INPUT_CHANNELS], dtype=torch.float32)\n",
    "                    .unsqueeze(0)\n",
    "                    .to(DEVICE)\n",
    "                )\n",
    "                label_val_loss = torch.tensor(item[:, -2], dtype=torch.long).unsqueeze(0).to(DEVICE)\n",
    "                label_val_acc = item[:, -2] # Para cálculo da acurácia como antes\n",
    "\n",
    "                # label = item[:, -2]\n",
    "\n",
    "                pred, trans_feat = model(data)\n",
    "\n",
    "                pred_val_loss = pred.view(-1, NUM_CLASSES)\n",
    "                label_val_loss = label_val_loss.view(-1)\n",
    "                loss_val = criterion(pred_val_loss, label_val_loss)\n",
    "                total_loss_val += loss_val.item()\n",
    "\n",
    "                pred = pred.view(-1, NUM_CLASSES)\n",
    "                pred = pred.argmax(dim=1)\n",
    "\n",
    "                total_correct += (pred.cpu().numpy() == label_val_loss.cpu().numpy()).sum()\n",
    "                total_points += len(label_val_loss)\n",
    "\n",
    "        avg_loss_val = total_loss_val / len(processed_validation_dataset)\n",
    "        eval_acc = total_correct / total_points\n",
    "        validation_loss_history.append(avg_loss_val) # Opcional: armazenar histórico\n",
    "        validation_acc_history.append(eval_acc)     # Opcional: armazenar histórico\n",
    "        print(f\"[Eval @ Epoch {epoch:05d}] Val Loss: {avg_loss_val:.4f} | Val Acc: {eval_acc*100:.2f}%\")\n",
    "\n",
    "# Opcional: salvar checkpoints\n",
    "model_name_saved = (\n",
    "    f\"{MODEL_SAVE_PATH}_e{EPOCHS:03d}_s{SEQ_LIST_NAME}_ic{INPUT_CHANNELS}\"\n",
    ")\n",
    "torch.save(model.state_dict(), f\"{model_name_saved}.pth\")"
   ]
  },
  {
   "cell_type": "code",
   "execution_count": null,
   "id": "4025aef6",
   "metadata": {},
   "outputs": [],
   "source": [
    "# from torch.utils.data import DataLoader, TensorDataset\n",
    "\n",
    "# # Supondo que processed_train_dataset seja uma lista de arrays (N, C)\n",
    "# # Concatene todos os frames em um único array\n",
    "# all_data = np.concatenate([item[:, :INPUT_CHANNELS] for item in processed_train_dataset], axis=0)\n",
    "# all_labels = np.concatenate([item[:, -2] for item in processed_train_dataset], axis=0)\n",
    "\n",
    "# dataset = TensorDataset(\n",
    "#     torch.tensor(all_data, dtype=torch.float32),\n",
    "#     torch.tensor(all_labels, dtype=torch.long)\n",
    "# )\n",
    "# loader = DataLoader(dataset, batch_size=32, shuffle=True)\n",
    "\n",
    "# for epoch in range(EPOCHS):\n",
    "#     for data, label in loader:\n",
    "#         # data: (B, INPUT_CHANNELS)\n",
    "#         # label: (B,)\n",
    "#         # ... seu código ..."
   ]
  },
  {
   "cell_type": "code",
   "execution_count": null,
   "id": "358b6b85",
   "metadata": {},
   "outputs": [
    {
     "data": {
      "image/png": "[encoded data removed]",
      "text/plain": [
       "<Figure size 1000x400 with 2 Axes>"
      ]
     },
     "metadata": {},
     "output_type": "display_data"
    }
   ],
   "source": [
    "plt.figure(figsize=(10, 4))\n",
    "plt.subplot(1, 2, 1)\n",
    "plt.plot(loss_history, label=\"Loss\")\n",
    "plt.xlabel(\"Época\")\n",
    "plt.ylabel(\"Loss\")\n",
    "plt.title(\"Loss por época\")\n",
    "plt.grid(True)\n",
    "plt.legend()\n",
    "\n",
    "plt.subplot(1, 2, 2)\n",
    "plt.plot(acc_history, label=\"Acurácia\")\n",
    "plt.xlabel(\"Época\")\n",
    "plt.ylabel(\"Acurácia\")\n",
    "plt.title(\"Acurácia por época\")\n",
    "plt.grid(True)\n",
    "plt.legend()\n",
    "\n",
    "plt.tight_layout()\n",
    "\n",
    "# Salve ANTES do plt.show()\n",
    "plot_dir = Path(\"plots/loss_acc\")\n",
    "plot_dir.mkdir(parents=True, exist_ok=True)\n",
    "plot_filename_base = Path(model_name_saved).name\n",
    "plt.savefig(plot_dir / f\"{plot_filename_base}.png\", dpi=300, bbox_inches=\"tight\")\n",
    "\n",
    "plt.show()"
   ]
  },
  {
   "cell_type": "markdown",
   "id": "2c46ec9d",
   "metadata": {},
   "source": [
    "# Inference"
   ]
  },
  {
   "cell_type": "code",
   "execution_count": null,
   "id": "05d67cc5",
   "metadata": {},
   "outputs": [
    {
     "name": "stderr",
     "output_type": "stream",
     "text": [
      "Inferência: 100%|██████████| 23201/23201 [02:26<00:00, 158.48it/s]\n"
     ]
    },
    {
     "name": "stdout",
     "output_type": "stream",
     "text": [
      "Maior acurácia em um único frame: 100.00% (frame índice 686)\n",
      "Menor acurácia em um único frame: 85.43% (frame índice 2129)\n",
      "Acurácias abaixo de 90%: 231 frames, porcentagem do dataset: 1.00%\n",
      "Mediana das acurácias: 95.84%\n"
     ]
    },
    {
     "data": {
      "image/png": "[encoded data removed]",
      "text/plain": [
       "<Figure size 1000x500 with 1 Axes>"
      ]
     },
     "metadata": {},
     "output_type": "display_data"
    }
   ],
   "source": [
    "total_correct = 0\n",
    "total_points = 0\n",
    "accuracies = []  # Lista para armazenar acurácias individuais\n",
    "\n",
    "model.eval()\n",
    "with torch.no_grad():\n",
    "    for point_cloud in tqdm(processed_train_dataset, desc=\"Inferência\"):\n",
    "        data = (\n",
    "            torch.tensor(point_cloud[:, :INPUT_CHANNELS], dtype=torch.float32)\n",
    "            .unsqueeze(0)\n",
    "            .to(DEVICE)\n",
    "        )\n",
    "        label = point_cloud[:, -2]\n",
    "        pred, trans = model(data)\n",
    "        pred = pred.view(-1, NUM_CLASSES)\n",
    "        pred = pred.argmax(dim=1).cpu().numpy()\n",
    "\n",
    "        # Calcula acurácia para este frame específico\n",
    "        correct = (label == pred).sum()\n",
    "        total = len(label)\n",
    "        frame_accuracy = correct / total\n",
    "        accuracies.append(frame_accuracy)\n",
    "\n",
    "# Agora calculamos as estatísticas\n",
    "max_accuracy = max(accuracies)\n",
    "min_accuracy = min(accuracies)\n",
    "median_accuracy = np.median(accuracies)\n",
    "\n",
    "# Encontrar índice do melhor e pior frame\n",
    "best_frame_idx = np.argmax(accuracies)\n",
    "worst_frame_idx = np.argmin(accuracies)\n",
    "\n",
    "menores = [acc for acc in accuracies if acc < 0.9]\n",
    "menores_porcentagem = len(menores) / len(accuracies) * 100\n",
    "print(\n",
    "    f\"Maior acurácia em um único frame: {max_accuracy*100:.2f}% (frame índice {best_frame_idx})\"\n",
    ")\n",
    "print(\n",
    "    f\"Menor acurácia em um único frame: {min_accuracy*100:.2f}% (frame índice {worst_frame_idx})\"\n",
    ")\n",
    "print(\n",
    "    f\"Acurácias abaixo de 90%: {len(menores)} frames, porcentagem do dataset: {menores_porcentagem:.2f}%\"\n",
    ")\n",
    "print(f\"Mediana das acurácias: {median_accuracy*100:.2f}%\")\n",
    "\n",
    "# Opcional: Histograma de distribuição das acurácias\n",
    "plt.figure(figsize=(10, 5))\n",
    "plt.hist(accuracies, bins=20)\n",
    "plt.title(\"Distribuição de Acurácias por Frame\")\n",
    "plt.xlabel(\"Acurácia\")\n",
    "plt.ylabel(\"Número de Frames\")\n",
    "plt.grid(True)\n",
    "plt.show()"
   ]
  },
  {
   "cell_type": "code",
   "execution_count": null,
   "id": "7ee0ce32",
   "metadata": {},
   "outputs": [],
   "source": [
    "point_cloud = processed_train_dataset[55]\n",
    "\n",
    "data = (\n",
    "    torch.tensor(point_cloud[:, :INPUT_CHANNELS], dtype=torch.float32)\n",
    "    .unsqueeze(0)\n",
    "    .to(DEVICE)\n",
    ")\n",
    "label = point_cloud[:, -2]\n",
    "\n",
    "# # Carregar o modelo treinado\n",
    "# model = PointNetSeg(num_classes=NUM_CLASSES).to(DEVICE)\n",
    "# model.load_state_dict(torch.load(\"checkpoints/pointnet_epoch_001.pth\"))\n",
    "\n",
    "model.eval()\n",
    "with torch.no_grad():\n",
    "    pred, trans = model(data)\n",
    "    pred = pred.view(-1, NUM_CLASSES)\n",
    "\n",
    "    # pred_labels = torch.argmax(pred, dim=1).cpu().numpy()\n",
    "    pred = pred.argmax(dim=1)\n",
    "\n",
    "# Agora, substituindo os rótulos originais pelos rótulos preditos\n",
    "# Mantendo as coordenadas xyz no formato original e substituindo o label\n",
    "result = np.hstack(\n",
    "    (\n",
    "        data.squeeze(0).cpu().numpy(),\n",
    "        label.reshape(-1, 1),\n",
    "        pred.cpu().numpy().reshape(-1, 1),\n",
    "    )\n",
    ")"
   ]
  },
  {
   "cell_type": "code",
   "execution_count": null,
   "id": "4994a455",
   "metadata": {},
   "outputs": [],
   "source": [
    "# Calcula a acurácia usando o array result\n",
    "true_labels = result[:, -2]\n",
    "pred_labels = result[:, -1]\n",
    "accuracy = (true_labels == pred_labels).sum() / len(result)\n",
    "print(f\"Acurácia (amostra): {accuracy*100:.2f}%\")\n",
    "# print(f\"[Epoch {epoch:05d}] Loss: {avg_loss:.4f} | Acc: {avg_acc*100:.2f}%\")\n",
    "run_viz(\n",
    "    result,\n",
    "    cluster_viz=True,\n",
    "    show_pred_label=True,\n",
    "    point_size=3,\n",
    "    # show_min_max=True,\n",
    ")\n",
    "run_viz(\n",
    "    result,\n",
    "    cluster_viz=True,\n",
    "    show_true_label=True,\n",
    "    point_size=3,\n",
    "    # show_min_max=True,\n",
    ")"
   ]
  },
  {
   "cell_type": "code",
   "execution_count": null,
   "id": "e3604d43",
   "metadata": {},
   "outputs": [],
   "source": []
  }
 ],
 "metadata": {
  "kernelspec": {
   "display_name": ".venv",
   "language": "python",
   "name": "python3"
  },
  "language_info": {
   "codemirror_mode": {
    "name": "ipython",
    "version": 3
   },
   "file_extension": ".py",
   "mimetype": "text/x-python",
   "name": "python",
   "nbconvert_exporter": "python",
   "pygments_lexer": "ipython3",
   "version": "3.12.3"
  }
 },
 "nbformat": 4,
 "nbformat_minor": 5
}
