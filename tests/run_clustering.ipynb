{
 "cells": [
  {
   "cell_type": "markdown",
   "id": "b35ad58b",
   "metadata": {},
   "source": [
    "# Imports"
   ]
  },
  {
   "cell_type": "code",
   "execution_count": 1,
   "id": "f7b7e81f",
   "metadata": {},
   "outputs": [
    {
     "name": "stdout",
     "output_type": "stream",
     "text": [
      "Jupyter environment detected. Enabling Open3D WebVisualizer.\n",
      "[Open3D INFO] WebRTC GUI backend enabled.\n",
      "[Open3D INFO] WebRTCWindowSystem: HTTP handshake server disabled.\n"
     ]
    }
   ],
   "source": [
    "from collections import Counter\n",
    "\n",
    "from tqdm import tqdm\n",
    "\n",
    "from pfc_packages.gpf_slr import refine_ground_plane, scan_line_run_clustering\n",
    "from pfc_packages.utils import (\n",
    "    Dataset,\n",
    "    PointCloudVisualizer,\n",
    "    get_statistics,\n",
    "    run_viz,\n",
    "    save_clusters,\n",
    ")"
   ]
  },
  {
   "cell_type": "markdown",
   "id": "616ff1e9",
   "metadata": {},
   "source": [
    "# Hyperparameters"
   ]
  },
  {
   "cell_type": "code",
   "execution_count": 2,
   "id": "45b45736",
   "metadata": {},
   "outputs": [],
   "source": [
    "# --- Hyperparameters for Ground Plane Fitting (GPF) ---\n",
    "NUM_LOWEST_POINTS = 10000  # Number of lowest elevation points used to estimate initial ground seed (LPR)\n",
    "NUM_ITERATIONS = 5  # Number of iterations for plane refinement in GPF\n",
    "SEED_HEIGHT_THRESHOLD = 0.4  # Max height above LPR to consider a point as a ground seed\n",
    "PLANE_DISTANCE_THRESHOLD = 0.2  # Max distance from plane to classify a point as ground\n",
    "\n",
    "# --- Parameters for Scan Line Run (SLR) clustering ---\n",
    "SLR_RUN_DISTANCE_THRESHOLD = 0.2  # Max distance between consecutive points in a scanline to form a run\n",
    "SLR_MERGE_THRESHOLD = 1.0  # Max distance between runs in adjacent scanlines to be considered the same cluster"
   ]
  },
  {
   "cell_type": "markdown",
   "id": "a538beeb",
   "metadata": {},
   "source": [
    "# Run Example"
   ]
  },
  {
   "cell_type": "code",
   "execution_count": 3,
   "id": "b6c2d065",
   "metadata": {},
   "outputs": [],
   "source": [
    "dataset = Dataset(\"../../datasets/semantic-kitti\", load_cluster=True)\n",
    "point_cloud = dataset[0]\n",
    "\n",
    "# point_cloud, normal_d_tuple = refine_ground_plane(point_cloud,  # type: ignore\n",
    "#                                              num_points=NUM_LOWEST_POINTS,\n",
    "#                                              height_threshold=SEED_HEIGHT_THRESHOLD,\n",
    "#                                              distance_threshold=PLANE_DISTANCE_THRESHOLD,\n",
    "#                                              num_iterations=NUM_ITERATIONS)\n",
    "\n",
    "# point_cloud = scan_line_run_clustering(point_cloud, SLR_RUN_DISTANCE_THRESHOLD, SLR_MERGE_THRESHOLD)\n",
    "\n",
    "# PointCloudVisualizer().show(\n",
    "#     point_cloud=point_cloud, show_true_label=False, show_plane=False, show_grid=False\n",
    "# )"
   ]
  },
  {
   "cell_type": "code",
   "execution_count": null,
   "id": "de8e2aa6",
   "metadata": {},
   "outputs": [
    {
     "name": "stderr",
     "output_type": "stream",
     "text": [
      "Processando frames: 100%|██████████| 12097/12097 [2:21:43<00:00,  1.42it/s] \n"
     ]
    }
   ],
   "source": [
    "dataset = Dataset(\"../../datasets/semantic-kitti\")\n",
    "OUTPUT_DIR = \"../../datasets/semantic-kitti/data_odometry_clusters/dataset/sequences\"\n",
    "\n",
    "resumo_por_frame = []\n",
    "combinacoes_geral = Counter()\n",
    "\n",
    "for idx in tqdm(range(len(dataset)), desc=\"Processando frames\"):\n",
    "    point_cloud = dataset[idx]\n",
    "\n",
    "    point_cloud, normal_d_tuple = refine_ground_plane(\n",
    "        point_cloud,  # type: ignore\n",
    "        num_points=NUM_LOWEST_POINTS,\n",
    "        height_threshold=SEED_HEIGHT_THRESHOLD,\n",
    "        distance_threshold=PLANE_DISTANCE_THRESHOLD,\n",
    "        num_iterations=NUM_ITERATIONS,\n",
    "    )\n",
    "    point_cloud = scan_line_run_clustering(\n",
    "        point_cloud, SLR_RUN_DISTANCE_THRESHOLD, SLR_MERGE_THRESHOLD\n",
    "    )\n",
    "\n",
    "    estatisticas_do_frame = get_statistics(idx, point_cloud)\n",
    "    resumo_por_frame.append(estatisticas_do_frame)\n",
    "    combinacoes_geral += estatisticas_do_frame[\"combinacoes\"]\n",
    "\n",
    "    # result = dataset.get_last_seq_frame()\n",
    "    # if result is not None:\n",
    "    #     seq, frame_idx = result\n",
    "    #     save_clusters(point_cloud, seq, frame_idx, OUTPUT_DIR)"
   ]
  },
  {
   "cell_type": "code",
   "execution_count": 5,
   "id": "67efe010",
   "metadata": {},
   "outputs": [],
   "source": [
    "# from pfc_packages.utils import plot_1\n",
    "# from pfc_packages.utils import plot_2\n",
    "# from pfc_packages.utils import plot_3\n",
    "# from pfc_packages.utils import plot_4\n",
    "# from pfc_packages.utils import plot_5\n",
    "\n",
    "# seq = \"100\"\n",
    "\n",
    "# plot_1(resumo_por_frame, seq)\n",
    "# plot_2(resumo_por_frame, seq)\n",
    "# plot_3(resumo_por_frame, seq)\n",
    "# plot_4(resumo_por_frame, seq)\n",
    "# plot_5(combinacoes_geral, seq)"
   ]
  }
 ],
 "metadata": {
  "kernelspec": {
   "display_name": ".venv",
   "language": "python",
   "name": "python3"
  },
  "language_info": {
   "codemirror_mode": {
    "name": "ipython",
    "version": 3
   },
   "file_extension": ".py",
   "mimetype": "text/x-python",
   "name": "python",
   "nbconvert_exporter": "python",
   "pygments_lexer": "ipython3",
   "version": "3.12.3"
  }
 },
 "nbformat": 4,
 "nbformat_minor": 5
}
