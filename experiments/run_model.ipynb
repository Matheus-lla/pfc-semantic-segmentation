{
 "cells": [
  {
   "cell_type": "markdown",
   "id": "4d897203",
   "metadata": {},
   "source": [
    "# Imports"
   ]
  },
  {
   "cell_type": "code",
   "execution_count": 1,
   "id": "43d45654",
   "metadata": {},
   "outputs": [
    {
     "name": "stdout",
     "output_type": "stream",
     "text": [
      "Jupyter environment detected. Enabling Open3D WebVisualizer.\n",
      "[Open3D INFO] WebRTC GUI backend enabled.\n",
      "[Open3D INFO] WebRTCWindowSystem: HTTP handshake server disabled.\n"
     ]
    }
   ],
   "source": [
    "import os\n",
    "import pickle\n",
    "import random\n",
    "import time\n",
    "from pathlib import Path\n",
    "\n",
    "import matplotlib.pyplot as plt\n",
    "import numpy as np\n",
    "import torch\n",
    "import torch.nn as nn\n",
    "import torch.optim as optim\n",
    "from tqdm import tqdm\n",
    "\n",
    "from pfc_packages.pointNet import *\n",
    "from pfc_packages.utils import *"
   ]
  },
  {
   "cell_type": "markdown",
   "id": "47cc6345",
   "metadata": {},
   "source": [
    "# Hyperparameters"
   ]
  },
  {
   "cell_type": "code",
   "execution_count": 11,
   "id": "c1142037",
   "metadata": {},
   "outputs": [],
   "source": [
    "NUM_CLASSES = 20\n",
    "INPUT_CHANNELS = 29\n",
    "EPOCHS = 41\n",
    "LR = 0.001\n",
    "DECAY_RATE = 0.0001\n",
    "MOMENTUM_DECAY_STEP = 10\n",
    "DEVICE = torch.device(\"cuda\" if torch.cuda.is_available() else \"cpu\")\n",
    "MODEL_SAVE_PATH = \"checkpoints_to_ignore/models/modelV2\"\n",
    "SEQ_LIST = [1]\n",
    "SEQ_LIST_NAME = \"\".join(str(s) for s in SEQ_LIST)"
   ]
  },
  {
   "cell_type": "markdown",
   "id": "af5147ba",
   "metadata": {},
   "source": [
    "# Model configs"
   ]
  },
  {
   "cell_type": "code",
   "execution_count": 12,
   "id": "189295e6",
   "metadata": {},
   "outputs": [],
   "source": [
    "# ==== MODEL ====\n",
    "model = PointNetSeg(num_classes=NUM_CLASSES, input_channels=INPUT_CHANNELS).to(DEVICE)\n",
    "model.load_state_dict(\n",
    "    torch.load(\"checkpoints_to_ignore/models/modelV2_e039_s023458910_ic29.pth\")\n",
    ")\n",
    "criterion = nn.CrossEntropyLoss(ignore_index=0)\n",
    "optimizer = torch.optim.Adam(\n",
    "    model.parameters(),\n",
    "    lr=LR,\n",
    "    betas=(0.9, 0.999),\n",
    "    eps=1e-08, weight_decay=DECAY_RATE\n",
    ")"
   ]
  },
  {
   "cell_type": "code",
   "execution_count": 4,
   "id": "c881c714",
   "metadata": {},
   "outputs": [
    {
     "data": {
      "text/plain": [
       "'\\ndesativar todas as regularizações\\ntentar aumentar o máximo possível o tamanho do dataset\\naumentar o modelo se necessário\\nideia do padding se necessária la pra frente\\naumentar os features, desvio padrado de cada coordenada, bean numpy histograma\\ntentar manter o valor da acurácia em 90%\\n'"
      ]
     },
     "execution_count": 4,
     "metadata": {},
     "output_type": "execute_result"
    }
   ],
   "source": [
    "\"\"\"\n",
    "desativar todas as regularizações\n",
    "tentar aumentar o máximo possível o tamanho do dataset\n",
    "aumentar o modelo se necessário\n",
    "ideia do padding se necessária la pra frente\n",
    "aumentar os features, desvio padrado de cada coordenada, bean numpy histograma\n",
    "tentar manter o valor da acurácia em 90%\n",
    "\"\"\""
   ]
  },
  {
   "cell_type": "markdown",
   "id": "82d1e475",
   "metadata": {},
   "source": [
    "# Pre-process clusters"
   ]
  },
  {
   "cell_type": "code",
   "execution_count": 5,
   "id": "bfd82ddf",
   "metadata": {},
   "outputs": [
    {
     "name": "stdout",
     "output_type": "stream",
     "text": [
      "4\n",
      "271\n",
      "(525, 29)\n"
     ]
    }
   ],
   "source": [
    "## ==== LOAD DATA ====\n",
    "lista_train = [4]\n",
    "processed_train_dataset = []\n",
    "\n",
    "for i in lista_train:\n",
    "    SEQ_LIST = [i]\n",
    "    SEQ_LIST_NAME = \"\".join(str(s) for s in SEQ_LIST)\n",
    "    print(SEQ_LIST_NAME)\n",
    "\n",
    "#     unprocessed_train_dataset = SemanticKittiDataset(\n",
    "#         \"../../datasets/semantic-kitti\", load_cluster=True, sequence_list=SEQ_LIST\n",
    "#     )\n",
    "\n",
    "#     processed_train_dataset = []\n",
    "\n",
    "#     for frame in tqdm(unprocessed_train_dataset, desc=\"Processando frames\"):\n",
    "#         processed_train_dataset.append(\n",
    "#             extract_features_from_clusters(frame, min_cluster_size=3, num_bins=2)\n",
    "#         )\n",
    "\n",
    "\n",
    "# ####################################################################################################\n",
    "# ####################################################################################################\n",
    "#     with open(f\"./checkpoints_to_ignore/processed_train_dataset/seq{SEQ_LIST_NAME}_bin2.pkl\", \"wb\") as f:\n",
    "#         pickle.dump(processed_train_dataset, f)\n",
    "\n",
    "####################################################################################################\n",
    "####################################################################################################\n",
    "    with open(\n",
    "        f\"./checkpoints_to_ignore/processed_train_dataset/seq{SEQ_LIST_NAME}.pkl\", \"rb\"\n",
    "    ) as f:\n",
    "        p = pickle.load(f)\n",
    "    processed_train_dataset.extend(p)\n",
    "\n",
    "    print(len(processed_train_dataset))\n",
    "    print(processed_train_dataset[0].shape)"
   ]
  },
  {
   "cell_type": "code",
   "execution_count": null,
   "id": "aac2c770",
   "metadata": {},
   "outputs": [
    {
     "name": "stdout",
     "output_type": "stream",
     "text": [
      "1\n",
      "1101\n",
      "6\n",
      "2202\n",
      "7\n",
      "3303\n"
     ]
    }
   ],
   "source": [
    "lista_validation = [101]\n",
    "processed_validation_dataset = []\n",
    "\n",
    "for i in lista_validation:\n",
    "    SEQ_LIST = [i]\n",
    "    SEQ_LIST_NAME = \"\".join(str(s) for s in SEQ_LIST)\n",
    "    print(SEQ_LIST_NAME)\n",
    "\n",
    "    unprocessed_validation_dataset = SemanticKittiDataset(\n",
    "        \"../../datasets/semantic-kitti\", load_cluster=True, sequence_list=SEQ_LIST\n",
    "    )\n",
    "\n",
    "    processed_validation_dataset = []\n",
    "\n",
    "    for frame in tqdm(unprocessed_validation_dataset, desc=\"Processando frames\"):\n",
    "        processed_validation_dataset.append(\n",
    "            extract_features_from_clusters(frame, min_cluster_size=3)\n",
    "        )\n",
    "\n",
    "    # ####################################################################################################\n",
    "    # ####################################################################################################\n",
    "    #     # with open(f\"./checkpoints_to_ignore/processed_train_dataset/seq{SEQ_LIST_NAME}.pkl\", \"wb\") as f:\n",
    "    #     #     pickle.dump(processed_train_dataset, f)\n",
    "\n",
    "    # ####################################################################################################\n",
    "    # ####################################################################################################\n",
    "    # with open(\n",
    "    #     f\"./checkpoints_to_ignore/processed_train_dataset/seq{SEQ_LIST_NAME}.pkl\", \"rb\"\n",
    "    # ) as f:\n",
    "    #     p = pickle.load(f)\n",
    "    # processed_validation_dataset.extend(p)\n",
    "\n",
    "    print(len(processed_validation_dataset))"
   ]
  },
  {
   "cell_type": "code",
   "execution_count": null,
   "id": "edb857bb",
   "metadata": {},
   "outputs": [
    {
     "name": "stdout",
     "output_type": "stream",
     "text": [
      "Train dataset size: \n",
      "561 5\n",
      "(525, 26) [ 2.79801526e-01  3.48418242e-01 -1.78531399e+00  4.95725021e+01\n",
      "  4.80397911e+01 -4.18564945e-01 -4.85655937e+01 -3.51228294e+01\n",
      " -3.22015285e+00  7.06828191e-04  6.35433065e-03  3.73243640e-02\n",
      "  6.04201121e-03  5.21080318e-04  1.69343726e-03  2.49573469e-02\n",
      "  2.95675827e-02  3.55951590e-03  3.45282741e-04  2.27636665e-02\n",
      "  1.59940668e-01  1.35597365e+00  2.33337178e-01  1.26870013e-02\n",
      "  9.00000000e+00  0.00000000e+00]\n",
      "\n",
      "\n",
      "Validation dataset size: \n",
      "525 1\n",
      "(525, 26) [ 2.79801526e-01  3.48418242e-01 -1.78531399e+00  4.95725021e+01\n",
      "  4.80397911e+01 -4.18564945e-01 -4.85655937e+01 -3.51228294e+01\n",
      " -3.22015285e+00  7.06828191e-04  6.35433065e-03  3.73243640e-02\n",
      "  6.04201121e-03  5.21080318e-04  1.69343726e-03  2.49573469e-02\n",
      "  2.95675827e-02  3.55951590e-03  3.45282741e-04  2.27636665e-02\n",
      "  1.59940668e-01  1.35597365e+00  2.33337178e-01  1.26870013e-02\n",
      "  9.00000000e+00  0.00000000e+00]\n"
     ]
    },
    {
     "data": {
      "text/plain": [
       "'023458910'"
      ]
     },
     "execution_count": 28,
     "metadata": {},
     "output_type": "execute_result"
    }
   ],
   "source": [
    "print(\"Train dataset size: \")\n",
    "max_clusters = max(f.shape[0] for f in processed_train_dataset)\n",
    "print(max_clusters, len(processed_train_dataset))\n",
    "print(processed_train_dataset[0].shape, processed_train_dataset[0][0])\n",
    "print(\"\\n\\nValidation dataset size: \")\n",
    "max_clusters = max(f.shape[0] for f in processed_validation_dataset)\n",
    "print(max_clusters, len(processed_validation_dataset))\n",
    "print(processed_validation_dataset[0].shape, processed_validation_dataset[0][0])\n",
    "\n",
    "\n",
    "lista_train = [0, 2, 3, 4, 5, 8, 9, 10]\n",
    "SEQ_LIST_NAME = \"\".join(str(s) for s in lista_train)\n",
    "SEQ_LIST_NAME"
   ]
  },
  {
   "cell_type": "markdown",
   "id": "5a567791",
   "metadata": {},
   "source": [
    "# Train model"
   ]
  },
  {
   "cell_type": "code",
   "execution_count": null,
   "id": "36f06adb",
   "metadata": {},
   "outputs": [
    {
     "name": "stderr",
     "output_type": "stream",
     "text": [
      "                                                            \r"
     ]
    },
    {
     "name": "stdout",
     "output_type": "stream",
     "text": [
      "[Epoch 00001] Loss: 2.9847 | Acc: 42.94%\n"
     ]
    },
    {
     "name": "stderr",
     "output_type": "stream",
     "text": [
      "                                                           \r"
     ]
    },
    {
     "name": "stdout",
     "output_type": "stream",
     "text": [
      "[Eval @ Epoch 00001] Val Loss: 1.8545 | Val Acc: 67.43%\n"
     ]
    },
    {
     "name": "stderr",
     "output_type": "stream",
     "text": [
      "                                                            \r"
     ]
    },
    {
     "name": "stdout",
     "output_type": "stream",
     "text": [
      "[Epoch 00002] Loss: 2.0730 | Acc: 67.95%\n"
     ]
    },
    {
     "name": "stderr",
     "output_type": "stream",
     "text": [
      "                                                           \r"
     ]
    },
    {
     "name": "stdout",
     "output_type": "stream",
     "text": [
      "[Eval @ Epoch 00002] Val Loss: 1.3766 | Val Acc: 68.19%\n"
     ]
    },
    {
     "name": "stderr",
     "output_type": "stream",
     "text": [
      "                                                            \r"
     ]
    },
    {
     "name": "stdout",
     "output_type": "stream",
     "text": [
      "[Epoch 00003] Loss: 1.5378 | Acc: 70.47%\n"
     ]
    },
    {
     "name": "stderr",
     "output_type": "stream",
     "text": [
      "                                                           \r"
     ]
    },
    {
     "name": "stdout",
     "output_type": "stream",
     "text": [
      "[Eval @ Epoch 00003] Val Loss: 1.1623 | Val Acc: 74.10%\n"
     ]
    },
    {
     "name": "stderr",
     "output_type": "stream",
     "text": [
      "                                                            \r"
     ]
    },
    {
     "name": "stdout",
     "output_type": "stream",
     "text": [
      "[Epoch 00004] Loss: 1.3303 | Acc: 71.36%\n"
     ]
    },
    {
     "name": "stderr",
     "output_type": "stream",
     "text": [
      "                                                           \r"
     ]
    },
    {
     "name": "stdout",
     "output_type": "stream",
     "text": [
      "[Eval @ Epoch 00004] Val Loss: 1.0847 | Val Acc: 75.62%\n"
     ]
    },
    {
     "name": "stderr",
     "output_type": "stream",
     "text": [
      "                                                            \r"
     ]
    },
    {
     "name": "stdout",
     "output_type": "stream",
     "text": [
      "[Epoch 00005] Loss: 1.1792 | Acc: 73.69%\n"
     ]
    },
    {
     "name": "stderr",
     "output_type": "stream",
     "text": [
      "                                                           \r"
     ]
    },
    {
     "name": "stdout",
     "output_type": "stream",
     "text": [
      "[Eval @ Epoch 00005] Val Loss: 0.9350 | Val Acc: 75.43%\n"
     ]
    },
    {
     "name": "stderr",
     "output_type": "stream",
     "text": [
      "                                                            \r"
     ]
    },
    {
     "name": "stdout",
     "output_type": "stream",
     "text": [
      "[Epoch 00006] Loss: 1.0914 | Acc: 73.66%\n"
     ]
    },
    {
     "name": "stderr",
     "output_type": "stream",
     "text": [
      "                                                           \r"
     ]
    },
    {
     "name": "stdout",
     "output_type": "stream",
     "text": [
      "[Eval @ Epoch 00006] Val Loss: 0.8870 | Val Acc: 76.19%\n"
     ]
    },
    {
     "name": "stderr",
     "output_type": "stream",
     "text": [
      "                                                            \r"
     ]
    },
    {
     "name": "stdout",
     "output_type": "stream",
     "text": [
      "[Epoch 00007] Loss: 1.0225 | Acc: 74.10%\n"
     ]
    },
    {
     "name": "stderr",
     "output_type": "stream",
     "text": [
      "                                                           \r"
     ]
    },
    {
     "name": "stdout",
     "output_type": "stream",
     "text": [
      "[Eval @ Epoch 00007] Val Loss: 0.9422 | Val Acc: 72.19%\n"
     ]
    },
    {
     "name": "stderr",
     "output_type": "stream",
     "text": [
      "                                                            \r"
     ]
    },
    {
     "name": "stdout",
     "output_type": "stream",
     "text": [
      "[Epoch 00008] Loss: 0.9993 | Acc: 73.88%\n"
     ]
    },
    {
     "name": "stderr",
     "output_type": "stream",
     "text": [
      "                                                           \r"
     ]
    },
    {
     "name": "stdout",
     "output_type": "stream",
     "text": [
      "[Eval @ Epoch 00008] Val Loss: 0.7872 | Val Acc: 76.76%\n"
     ]
    },
    {
     "name": "stderr",
     "output_type": "stream",
     "text": [
      "                                                            \r"
     ]
    },
    {
     "name": "stdout",
     "output_type": "stream",
     "text": [
      "[Epoch 00009] Loss: 0.9292 | Acc: 75.77%\n"
     ]
    },
    {
     "name": "stderr",
     "output_type": "stream",
     "text": [
      "                                                           \r"
     ]
    },
    {
     "name": "stdout",
     "output_type": "stream",
     "text": [
      "[Eval @ Epoch 00009] Val Loss: 0.8015 | Val Acc: 77.33%\n"
     ]
    },
    {
     "name": "stderr",
     "output_type": "stream",
     "text": [
      "                                                             \r"
     ]
    },
    {
     "name": "stdout",
     "output_type": "stream",
     "text": [
      "[Epoch 00010] Loss: 0.8894 | Acc: 76.14%\n"
     ]
    },
    {
     "name": "stderr",
     "output_type": "stream",
     "text": [
      "                                                            \r"
     ]
    },
    {
     "name": "stdout",
     "output_type": "stream",
     "text": [
      "[Eval @ Epoch 00010] Val Loss: 0.7692 | Val Acc: 76.95%\n"
     ]
    },
    {
     "name": "stderr",
     "output_type": "stream",
     "text": [
      "                                                             \r"
     ]
    },
    {
     "name": "stdout",
     "output_type": "stream",
     "text": [
      "[Epoch 00011] Loss: 0.8608 | Acc: 76.44%\n"
     ]
    },
    {
     "name": "stderr",
     "output_type": "stream",
     "text": [
      "                                                            \r"
     ]
    },
    {
     "name": "stdout",
     "output_type": "stream",
     "text": [
      "[Eval @ Epoch 00011] Val Loss: 0.7396 | Val Acc: 77.14%\n"
     ]
    },
    {
     "name": "stderr",
     "output_type": "stream",
     "text": [
      "                                                             \r"
     ]
    },
    {
     "name": "stdout",
     "output_type": "stream",
     "text": [
      "[Epoch 00012] Loss: 0.9074 | Acc: 74.47%\n"
     ]
    },
    {
     "name": "stderr",
     "output_type": "stream",
     "text": [
      "                                                            \r"
     ]
    },
    {
     "name": "stdout",
     "output_type": "stream",
     "text": [
      "[Eval @ Epoch 00012] Val Loss: 0.9397 | Val Acc: 71.05%\n"
     ]
    },
    {
     "name": "stderr",
     "output_type": "stream",
     "text": [
      "                                                             \r"
     ]
    },
    {
     "name": "stdout",
     "output_type": "stream",
     "text": [
      "[Epoch 00013] Loss: 0.9943 | Acc: 72.58%\n"
     ]
    },
    {
     "name": "stderr",
     "output_type": "stream",
     "text": [
      "                                                            \r"
     ]
    },
    {
     "name": "stdout",
     "output_type": "stream",
     "text": [
      "[Eval @ Epoch 00013] Val Loss: 0.7956 | Val Acc: 75.24%\n"
     ]
    },
    {
     "name": "stderr",
     "output_type": "stream",
     "text": [
      "                                                             \r"
     ]
    },
    {
     "name": "stdout",
     "output_type": "stream",
     "text": [
      "[Epoch 00014] Loss: 0.9743 | Acc: 73.77%\n"
     ]
    },
    {
     "name": "stderr",
     "output_type": "stream",
     "text": [
      "                                                            \r"
     ]
    },
    {
     "name": "stdout",
     "output_type": "stream",
     "text": [
      "[Eval @ Epoch 00014] Val Loss: 0.6792 | Val Acc: 79.24%\n"
     ]
    },
    {
     "name": "stderr",
     "output_type": "stream",
     "text": [
      "                                                             \r"
     ]
    },
    {
     "name": "stdout",
     "output_type": "stream",
     "text": [
      "[Epoch 00015] Loss: 0.8520 | Acc: 76.47%\n"
     ]
    },
    {
     "name": "stderr",
     "output_type": "stream",
     "text": [
      "                                                            \r"
     ]
    },
    {
     "name": "stdout",
     "output_type": "stream",
     "text": [
      "[Eval @ Epoch 00015] Val Loss: 0.6829 | Val Acc: 77.52%\n"
     ]
    },
    {
     "name": "stderr",
     "output_type": "stream",
     "text": [
      "                                                             \r"
     ]
    },
    {
     "name": "stdout",
     "output_type": "stream",
     "text": [
      "[Epoch 00016] Loss: 0.8038 | Acc: 77.32%\n"
     ]
    },
    {
     "name": "stderr",
     "output_type": "stream",
     "text": [
      "                                                            \r"
     ]
    },
    {
     "name": "stdout",
     "output_type": "stream",
     "text": [
      "[Eval @ Epoch 00016] Val Loss: 0.6205 | Val Acc: 80.19%\n"
     ]
    },
    {
     "name": "stderr",
     "output_type": "stream",
     "text": [
      "                                                             \r"
     ]
    },
    {
     "name": "stdout",
     "output_type": "stream",
     "text": [
      "[Epoch 00017] Loss: 0.7612 | Acc: 78.40%\n"
     ]
    },
    {
     "name": "stderr",
     "output_type": "stream",
     "text": [
      "                                                            \r"
     ]
    },
    {
     "name": "stdout",
     "output_type": "stream",
     "text": [
      "[Eval @ Epoch 00017] Val Loss: 0.6086 | Val Acc: 81.71%\n"
     ]
    },
    {
     "name": "stderr",
     "output_type": "stream",
     "text": [
      "                                                             \r"
     ]
    },
    {
     "name": "stdout",
     "output_type": "stream",
     "text": [
      "[Epoch 00018] Loss: 0.7621 | Acc: 77.47%\n"
     ]
    },
    {
     "name": "stderr",
     "output_type": "stream",
     "text": [
      "                                                            \r"
     ]
    },
    {
     "name": "stdout",
     "output_type": "stream",
     "text": [
      "[Eval @ Epoch 00018] Val Loss: 0.5899 | Val Acc: 82.67%\n"
     ]
    },
    {
     "name": "stderr",
     "output_type": "stream",
     "text": [
      "                                                             \r"
     ]
    },
    {
     "name": "stdout",
     "output_type": "stream",
     "text": [
      "[Epoch 00019] Loss: 0.7538 | Acc: 77.81%\n"
     ]
    },
    {
     "name": "stderr",
     "output_type": "stream",
     "text": [
      "                                                            \r"
     ]
    },
    {
     "name": "stdout",
     "output_type": "stream",
     "text": [
      "[Eval @ Epoch 00019] Val Loss: 0.5964 | Val Acc: 79.43%\n"
     ]
    },
    {
     "name": "stderr",
     "output_type": "stream",
     "text": [
      "                                                             \r"
     ]
    },
    {
     "name": "stdout",
     "output_type": "stream",
     "text": [
      "[Epoch 00020] Loss: 0.7549 | Acc: 78.07%\n"
     ]
    },
    {
     "name": "stderr",
     "output_type": "stream",
     "text": [
      "                                                            \r"
     ]
    },
    {
     "name": "stdout",
     "output_type": "stream",
     "text": [
      "[Eval @ Epoch 00020] Val Loss: 0.6541 | Val Acc: 79.24%\n"
     ]
    },
    {
     "name": "stderr",
     "output_type": "stream",
     "text": [
      "                                                             \r"
     ]
    },
    {
     "name": "stdout",
     "output_type": "stream",
     "text": [
      "[Epoch 00021] Loss: 0.7104 | Acc: 78.99%\n"
     ]
    },
    {
     "name": "stderr",
     "output_type": "stream",
     "text": [
      "                                                            \r"
     ]
    },
    {
     "name": "stdout",
     "output_type": "stream",
     "text": [
      "[Eval @ Epoch 00021] Val Loss: 0.5221 | Val Acc: 81.71%\n"
     ]
    },
    {
     "name": "stderr",
     "output_type": "stream",
     "text": [
      "                                                             \r"
     ]
    },
    {
     "name": "stdout",
     "output_type": "stream",
     "text": [
      "[Epoch 00022] Loss: 0.6807 | Acc: 79.51%\n"
     ]
    },
    {
     "name": "stderr",
     "output_type": "stream",
     "text": [
      "                                                            \r"
     ]
    },
    {
     "name": "stdout",
     "output_type": "stream",
     "text": [
      "[Eval @ Epoch 00022] Val Loss: 0.5701 | Val Acc: 81.52%\n"
     ]
    },
    {
     "name": "stderr",
     "output_type": "stream",
     "text": [
      "                                                             \r"
     ]
    },
    {
     "name": "stdout",
     "output_type": "stream",
     "text": [
      "[Epoch 00023] Loss: 0.6840 | Acc: 80.77%\n"
     ]
    },
    {
     "name": "stderr",
     "output_type": "stream",
     "text": [
      "                                                            \r"
     ]
    },
    {
     "name": "stdout",
     "output_type": "stream",
     "text": [
      "[Eval @ Epoch 00023] Val Loss: 0.6278 | Val Acc: 79.24%\n"
     ]
    },
    {
     "name": "stderr",
     "output_type": "stream",
     "text": [
      "                                                             \r"
     ]
    },
    {
     "name": "stdout",
     "output_type": "stream",
     "text": [
      "[Epoch 00024] Loss: 0.6611 | Acc: 80.99%\n"
     ]
    },
    {
     "name": "stderr",
     "output_type": "stream",
     "text": [
      "                                                            \r"
     ]
    },
    {
     "name": "stdout",
     "output_type": "stream",
     "text": [
      "[Eval @ Epoch 00024] Val Loss: 0.4913 | Val Acc: 84.95%\n"
     ]
    },
    {
     "name": "stderr",
     "output_type": "stream",
     "text": [
      "                                                             \r"
     ]
    },
    {
     "name": "stdout",
     "output_type": "stream",
     "text": [
      "[Epoch 00025] Loss: 0.6557 | Acc: 81.29%\n"
     ]
    },
    {
     "name": "stderr",
     "output_type": "stream",
     "text": [
      "                                                            \r"
     ]
    },
    {
     "name": "stdout",
     "output_type": "stream",
     "text": [
      "[Eval @ Epoch 00025] Val Loss: 0.5055 | Val Acc: 84.19%\n"
     ]
    },
    {
     "name": "stderr",
     "output_type": "stream",
     "text": [
      "                                                             \r"
     ]
    },
    {
     "name": "stdout",
     "output_type": "stream",
     "text": [
      "[Epoch 00026] Loss: 0.6175 | Acc: 82.25%\n"
     ]
    },
    {
     "name": "stderr",
     "output_type": "stream",
     "text": [
      "                                                            \r"
     ]
    },
    {
     "name": "stdout",
     "output_type": "stream",
     "text": [
      "[Eval @ Epoch 00026] Val Loss: 0.7095 | Val Acc: 78.29%\n"
     ]
    },
    {
     "name": "stderr",
     "output_type": "stream",
     "text": [
      "                                                             \r"
     ]
    },
    {
     "name": "stdout",
     "output_type": "stream",
     "text": [
      "[Epoch 00027] Loss: 0.6742 | Acc: 80.62%\n"
     ]
    },
    {
     "name": "stderr",
     "output_type": "stream",
     "text": [
      "                                                            \r"
     ]
    },
    {
     "name": "stdout",
     "output_type": "stream",
     "text": [
      "[Eval @ Epoch 00027] Val Loss: 0.4674 | Val Acc: 85.71%\n"
     ]
    },
    {
     "name": "stderr",
     "output_type": "stream",
     "text": [
      "                                                             \r"
     ]
    },
    {
     "name": "stdout",
     "output_type": "stream",
     "text": [
      "[Epoch 00028] Loss: 0.6633 | Acc: 80.99%\n"
     ]
    },
    {
     "name": "stderr",
     "output_type": "stream",
     "text": [
      "                                                            \r"
     ]
    },
    {
     "name": "stdout",
     "output_type": "stream",
     "text": [
      "[Eval @ Epoch 00028] Val Loss: 0.5444 | Val Acc: 81.33%\n"
     ]
    },
    {
     "name": "stderr",
     "output_type": "stream",
     "text": [
      "                                                             \r"
     ]
    },
    {
     "name": "stdout",
     "output_type": "stream",
     "text": [
      "[Epoch 00029] Loss: 0.6662 | Acc: 79.25%\n"
     ]
    },
    {
     "name": "stderr",
     "output_type": "stream",
     "text": [
      "                                                            \r"
     ]
    },
    {
     "name": "stdout",
     "output_type": "stream",
     "text": [
      "[Eval @ Epoch 00029] Val Loss: 0.5275 | Val Acc: 82.67%\n"
     ]
    },
    {
     "name": "stderr",
     "output_type": "stream",
     "text": [
      "                                                             \r"
     ]
    },
    {
     "name": "stdout",
     "output_type": "stream",
     "text": [
      "[Epoch 00030] Loss: 0.6301 | Acc: 81.29%\n"
     ]
    },
    {
     "name": "stderr",
     "output_type": "stream",
     "text": [
      "                                                            \r"
     ]
    },
    {
     "name": "stdout",
     "output_type": "stream",
     "text": [
      "[Eval @ Epoch 00030] Val Loss: 0.4444 | Val Acc: 87.43%\n"
     ]
    },
    {
     "name": "stderr",
     "output_type": "stream",
     "text": [
      "                                                             \r"
     ]
    },
    {
     "name": "stdout",
     "output_type": "stream",
     "text": [
      "[Epoch 00031] Loss: 0.5711 | Acc: 84.22%\n"
     ]
    },
    {
     "name": "stderr",
     "output_type": "stream",
     "text": [
      "                                                            \r"
     ]
    },
    {
     "name": "stdout",
     "output_type": "stream",
     "text": [
      "[Eval @ Epoch 00031] Val Loss: 0.3968 | Val Acc: 88.00%\n"
     ]
    },
    {
     "name": "stderr",
     "output_type": "stream",
     "text": [
      "                                                             \r"
     ]
    },
    {
     "name": "stdout",
     "output_type": "stream",
     "text": [
      "[Epoch 00032] Loss: 0.5513 | Acc: 84.11%\n"
     ]
    },
    {
     "name": "stderr",
     "output_type": "stream",
     "text": [
      "                                                            \r"
     ]
    },
    {
     "name": "stdout",
     "output_type": "stream",
     "text": [
      "[Eval @ Epoch 00032] Val Loss: 0.4738 | Val Acc: 83.43%\n"
     ]
    },
    {
     "name": "stderr",
     "output_type": "stream",
     "text": [
      "                                                             \r"
     ]
    },
    {
     "name": "stdout",
     "output_type": "stream",
     "text": [
      "[Epoch 00033] Loss: 0.5655 | Acc: 82.85%\n"
     ]
    },
    {
     "name": "stderr",
     "output_type": "stream",
     "text": [
      "                                                            \r"
     ]
    },
    {
     "name": "stdout",
     "output_type": "stream",
     "text": [
      "[Eval @ Epoch 00033] Val Loss: 0.4199 | Val Acc: 88.00%\n"
     ]
    },
    {
     "name": "stderr",
     "output_type": "stream",
     "text": [
      "                                                             \r"
     ]
    },
    {
     "name": "stdout",
     "output_type": "stream",
     "text": [
      "[Epoch 00034] Loss: 0.5169 | Acc: 85.18%\n"
     ]
    },
    {
     "name": "stderr",
     "output_type": "stream",
     "text": [
      "                                                            \r"
     ]
    },
    {
     "name": "stdout",
     "output_type": "stream",
     "text": [
      "[Eval @ Epoch 00034] Val Loss: 0.3512 | Val Acc: 89.33%\n"
     ]
    },
    {
     "name": "stderr",
     "output_type": "stream",
     "text": [
      "                                                             \r"
     ]
    },
    {
     "name": "stdout",
     "output_type": "stream",
     "text": [
      "[Epoch 00035] Loss: 0.4777 | Acc: 86.07%\n"
     ]
    },
    {
     "name": "stderr",
     "output_type": "stream",
     "text": [
      "                                                            \r"
     ]
    },
    {
     "name": "stdout",
     "output_type": "stream",
     "text": [
      "[Eval @ Epoch 00035] Val Loss: 0.3572 | Val Acc: 90.10%\n"
     ]
    },
    {
     "name": "stderr",
     "output_type": "stream",
     "text": [
      "                                                             \r"
     ]
    },
    {
     "name": "stdout",
     "output_type": "stream",
     "text": [
      "[Epoch 00036] Loss: 0.4559 | Acc: 86.55%\n"
     ]
    },
    {
     "name": "stderr",
     "output_type": "stream",
     "text": [
      "                                                            \r"
     ]
    },
    {
     "name": "stdout",
     "output_type": "stream",
     "text": [
      "[Eval @ Epoch 00036] Val Loss: 0.3212 | Val Acc: 90.86%\n"
     ]
    },
    {
     "name": "stderr",
     "output_type": "stream",
     "text": [
      "                                                             \r"
     ]
    },
    {
     "name": "stdout",
     "output_type": "stream",
     "text": [
      "[Epoch 00037] Loss: 0.4600 | Acc: 85.14%\n"
     ]
    },
    {
     "name": "stderr",
     "output_type": "stream",
     "text": [
      "                                                            \r"
     ]
    },
    {
     "name": "stdout",
     "output_type": "stream",
     "text": [
      "[Eval @ Epoch 00037] Val Loss: 0.3109 | Val Acc: 90.86%\n"
     ]
    },
    {
     "name": "stderr",
     "output_type": "stream",
     "text": [
      "                                                             \r"
     ]
    },
    {
     "name": "stdout",
     "output_type": "stream",
     "text": [
      "[Epoch 00038] Loss: 0.4459 | Acc: 85.77%\n"
     ]
    },
    {
     "name": "stderr",
     "output_type": "stream",
     "text": [
      "                                                            \r"
     ]
    },
    {
     "name": "stdout",
     "output_type": "stream",
     "text": [
      "[Eval @ Epoch 00038] Val Loss: 0.3141 | Val Acc: 89.52%\n"
     ]
    },
    {
     "name": "stderr",
     "output_type": "stream",
     "text": [
      "                                                             \r"
     ]
    },
    {
     "name": "stdout",
     "output_type": "stream",
     "text": [
      "[Epoch 00039] Loss: 0.4148 | Acc: 87.44%\n"
     ]
    },
    {
     "name": "stderr",
     "output_type": "stream",
     "text": [
      "                                                            \r"
     ]
    },
    {
     "name": "stdout",
     "output_type": "stream",
     "text": [
      "[Eval @ Epoch 00039] Val Loss: 0.3495 | Val Acc: 87.81%\n"
     ]
    },
    {
     "name": "stderr",
     "output_type": "stream",
     "text": [
      "                                                             \r"
     ]
    },
    {
     "name": "stdout",
     "output_type": "stream",
     "text": [
      "[Epoch 00040] Loss: 0.4121 | Acc: 87.92%\n"
     ]
    },
    {
     "name": "stderr",
     "output_type": "stream",
     "text": [
      "                                                            \r"
     ]
    },
    {
     "name": "stdout",
     "output_type": "stream",
     "text": [
      "[Eval @ Epoch 00040] Val Loss: 0.3212 | Val Acc: 89.90%\n"
     ]
    }
   ],
   "source": [
    "train_loss_history = []\n",
    "train_acc_history = []\n",
    "validation_loss_history = []\n",
    "validation_acc_history = []\n",
    "EPOCH_TO_SAVE = 0\n",
    "\n",
    "for epoch in range(1, EPOCHS):\n",
    "    model.train()\n",
    "    total_loss = 0.0\n",
    "    total_correct = 0\n",
    "    total_points = 0\n",
    "    frame_acc = 0.0\n",
    "    EPOCH_TO_SAVE = epoch\n",
    "\n",
    "    random.shuffle(processed_train_dataset)\n",
    "    for item in tqdm(\n",
    "        processed_train_dataset,\n",
    "        desc=f\"Epoch {epoch}/{EPOCHS}\",\n",
    "        unit=\"frame\",\n",
    "        leave=False,\n",
    "    ):\n",
    "        data = (\n",
    "            torch.tensor(item[:, :INPUT_CHANNELS], dtype=torch.float32)\n",
    "            .unsqueeze(0)\n",
    "            .to(DEVICE)\n",
    "        )\n",
    "        label = torch.tensor(item[:, -2], dtype=torch.long).unsqueeze(0).to(DEVICE)\n",
    "\n",
    "        optimizer.zero_grad()\n",
    "        pred, trans_feat = model(data)\n",
    "        pred = pred.view(-1, NUM_CLASSES)\n",
    "        label = label.view(-1)\n",
    "\n",
    "        loss = criterion(pred, label)\n",
    "        # Exemplo de como seria se estivesse ativa (NÃO FAÇA ISSO PARA OVERFIT):\n",
    "        if trans_feat is not None and model.feat.feature_transform: # trans_feat é a segunda saída do modelo\n",
    "            reg_loss = feature_transform_regulaizer(trans_feat)\n",
    "            loss = loss + 0.001 * reg_loss # 0.001 é um exemplo de peso da regularização\n",
    "\n",
    "        pred = pred.argmax(dim=1)\n",
    "        loss.backward()\n",
    "        optimizer.step()\n",
    "\n",
    "        total_loss += loss.item()\n",
    "        total_correct += (pred.cpu().numpy() == label.cpu().numpy()).sum()\n",
    "        total_points += len(label)\n",
    "\n",
    "    avg_loss = total_loss / len(processed_train_dataset)\n",
    "    avg_acc = total_correct / total_points\n",
    "    train_loss_history.append(avg_loss)\n",
    "    train_acc_history.append(avg_acc)\n",
    "\n",
    "    print(f\"[Epoch {epoch:05d}] Loss: {avg_loss:.4f} | Acc: {avg_acc*100:.2f}%\")\n",
    "    if epoch % 1 == 0:\n",
    "        # --- Bloco de avaliação ---\n",
    "        model.eval()\n",
    "        total_correct = 0\n",
    "        total_points = 0\n",
    "        total_loss_val = 0.0\n",
    "        with torch.no_grad():\n",
    "            random.shuffle(processed_validation_dataset)\n",
    "            for item in tqdm(\n",
    "                processed_validation_dataset,\n",
    "                desc=f\"Eval @ Epoch {epoch}/{EPOCHS}\",\n",
    "                unit=\"frame\",\n",
    "                leave=False,\n",
    "            ):\n",
    "                # for item in processed_train_dataset:\n",
    "                data = (\n",
    "                    torch.tensor(item[:, :INPUT_CHANNELS], dtype=torch.float32)\n",
    "                    .unsqueeze(0)\n",
    "                    .to(DEVICE)\n",
    "                )\n",
    "                label_val_loss = torch.tensor(item[:, -2], dtype=torch.long).unsqueeze(0).to(DEVICE)\n",
    "                label_val_acc = item[:, -2] # Para cálculo da acurácia como antes\n",
    "\n",
    "                pred, trans_feat = model(data)\n",
    "\n",
    "                pred_val_loss = pred.view(-1, NUM_CLASSES)\n",
    "                label_val_loss = label_val_loss.view(-1)\n",
    "                loss_val = criterion(pred_val_loss, label_val_loss)\n",
    "                total_loss_val += loss_val.item()\n",
    "\n",
    "                pred = pred.view(-1, NUM_CLASSES)\n",
    "                pred = pred.argmax(dim=1)\n",
    "\n",
    "                total_correct += (pred.cpu().numpy() == label_val_loss.cpu().numpy()).sum()\n",
    "                total_points += len(label_val_loss)\n",
    "\n",
    "        avg_loss_val = total_loss_val / len(processed_validation_dataset)\n",
    "        eval_acc = total_correct / total_points\n",
    "        validation_loss_history.append(avg_loss_val) # Opcional: armazenar histórico\n",
    "        validation_acc_history.append(eval_acc)     # Opcional: armazenar histórico\n",
    "        print(f\"[Eval @ Epoch {epoch:05d}] Val Loss: {avg_loss_val:.4f} | Val Acc: {eval_acc*100:.2f}%\")\n",
    "\n",
    "# Opcional: salvar checkpoints\n",
    "model_name_saved = (\n",
    "    f\"{MODEL_SAVE_PATH}_e{EPOCH_TO_SAVE:03d}_s{SEQ_LIST_NAME}_ic{INPUT_CHANNELS}\"\n",
    ")\n",
    "torch.save(model.state_dict(), f\"{model_name_saved}.pth\")"
   ]
  },
  {
   "cell_type": "code",
   "execution_count": null,
   "id": "4903b01e",
   "metadata": {},
   "outputs": [
    {
     "data": {
      "text/plain": [
       "40"
      ]
     },
     "execution_count": 22,
     "metadata": {},
     "output_type": "execute_result"
    }
   ],
   "source": [
    "# Opcional: salvar checkpoints\n",
    "model_name_saved = (\n",
    "    f\"{MODEL_SAVE_PATH}_e{EPOCH_TO_SAVE:03d}_s{SEQ_LIST_NAME}_ic{INPUT_CHANNELS}\"\n",
    ")\n",
    "torch.save(model.state_dict(), f\"{model_name_saved}.pth\")\n",
    "EPOCH_TO_SAVE"
   ]
  },
  {
   "cell_type": "code",
   "execution_count": null,
   "id": "4025aef6",
   "metadata": {},
   "outputs": [],
   "source": [
    "# from torch.utils.data import DataLoader, TensorDataset\n",
    "\n",
    "# # Supondo que processed_train_dataset seja uma lista de arrays (N, C)\n",
    "# # Concatene todos os frames em um único array\n",
    "# all_data = np.concatenate([item[:, :INPUT_CHANNELS] for item in processed_train_dataset], axis=0)\n",
    "# all_labels = np.concatenate([item[:, -2] for item in processed_train_dataset], axis=0)\n",
    "\n",
    "# dataset = TensorDataset(\n",
    "#     torch.tensor(all_data, dtype=torch.float32),\n",
    "#     torch.tensor(all_labels, dtype=torch.long)\n",
    "# )\n",
    "# loader = DataLoader(dataset, batch_size=32, shuffle=True)\n",
    "\n",
    "# for epoch in range(EPOCHS):\n",
    "#     for data, label in loader:\n",
    "#         # data: (B, INPUT_CHANNELS)\n",
    "#         # label: (B,)\n",
    "#         # ... seu código ..."
   ]
  },
  {
   "cell_type": "code",
   "execution_count": null,
   "id": "dc3122fd",
   "metadata": {},
   "outputs": [],
   "source": [
    "# train_loss_history = []\n",
    "# train_acc_history = []\n",
    "# validation_loss_history = []\n",
    "# validation_acc_history = []"
   ]
  },
  {
   "cell_type": "code",
   "execution_count": null,
   "id": "11f06980",
   "metadata": {},
   "outputs": [
    {
     "data": {
      "image/png": "[encoded data removed]",
      "text/plain": [
       "<Figure size 1000x400 with 2 Axes>"
      ]
     },
     "metadata": {},
     "output_type": "display_data"
    }
   ],
   "source": [
    "plt.figure(figsize=(10, 4))\n",
    "plt.subplot(1, 2, 1)\n",
    "plt.plot(train_loss_history, label=\"Loss\")\n",
    "plt.xlabel(\"Época\")\n",
    "plt.ylabel(\"Loss\")\n",
    "plt.title(\"Loss por época\")\n",
    "plt.grid(True)\n",
    "plt.legend()\n",
    "\n",
    "plt.subplot(1, 2, 2)\n",
    "plt.plot(train_acc_history, label=\"Acurácia\")\n",
    "plt.xlabel(\"Época\")\n",
    "plt.ylabel(\"Acurácia\")\n",
    "plt.title(\"Acurácia por época\")\n",
    "plt.grid(True)\n",
    "plt.legend()\n",
    "\n",
    "plt.tight_layout()\n",
    "\n",
    "# Salve ANTES do plt.show()\n",
    "plot_dir = Path(\"plots/loss_acc\")\n",
    "plot_dir.mkdir(parents=True, exist_ok=True)\n",
    "plot_filename_base = Path(model_name_saved).name\n",
    "plt.savefig(plot_dir / f\"{plot_filename_base}.png\", dpi=300, bbox_inches=\"tight\")\n",
    "\n",
    "plt.show()"
   ]
  },
  {
   "cell_type": "code",
   "execution_count": null,
   "id": "358b6b85",
   "metadata": {},
   "outputs": [
    {
     "data": {
      "image/png": "[encoded data removed]",
      "text/plain": [
       "<Figure size 1000x400 with 2 Axes>"
      ]
     },
     "metadata": {},
     "output_type": "display_data"
    }
   ],
   "source": [
    "plt.figure(figsize=(10, 4))\n",
    "plt.subplot(1, 2, 1)\n",
    "plt.plot(validation_loss_history, label=\"Loss\")\n",
    "plt.xlabel(\"Época\")\n",
    "plt.ylabel(\"Loss\")\n",
    "plt.title(\"Loss por época\")\n",
    "plt.grid(True)\n",
    "plt.legend()\n",
    "\n",
    "plt.subplot(1, 2, 2)\n",
    "plt.plot(validation_acc_history, label=\"Acurácia\")\n",
    "plt.xlabel(\"Época\")\n",
    "plt.ylabel(\"Acurácia\")\n",
    "plt.title(\"Acurácia por época\")\n",
    "plt.grid(True)\n",
    "plt.legend()\n",
    "\n",
    "plt.tight_layout()\n",
    "\n",
    "# Salve ANTES do plt.show()\n",
    "plot_dir = Path(\"plots/loss_acc\")\n",
    "plot_dir.mkdir(parents=True, exist_ok=True)\n",
    "plot_filename_base = Path(model_name_saved).name\n",
    "plt.savefig(plot_dir / f\"{plot_filename_base}.png\", dpi=300, bbox_inches=\"tight\")\n",
    "\n",
    "plt.show()"
   ]
  },
  {
   "cell_type": "code",
   "execution_count": 16,
   "id": "1a5e13b0",
   "metadata": {},
   "outputs": [
    {
     "name": "stdout",
     "output_type": "stream",
     "text": [
      "1\n",
      "1101\n",
      "6\n",
      "2202\n",
      "7\n",
      "3303\n"
     ]
    }
   ],
   "source": [
    "lista_validation = [1, 6,7]\n",
    "processed_validation_dataset = []\n",
    "\n",
    "for i in lista_validation:\n",
    "    SEQ_LIST = [i]\n",
    "    SEQ_LIST_NAME = \"\".join(str(s) for s in SEQ_LIST)\n",
    "    print(SEQ_LIST_NAME)\n",
    "\n",
    "    with open(\n",
    "        f\"./checkpoints_to_ignore/processed_train_dataset/seq{SEQ_LIST_NAME}.pkl\", \"rb\"\n",
    "    ) as f:\n",
    "        p = pickle.load(f)\n",
    "    processed_validation_dataset.extend(p)\n",
    "\n",
    "    print(len(processed_validation_dataset))"
   ]
  },
  {
   "cell_type": "markdown",
   "id": "2c46ec9d",
   "metadata": {},
   "source": [
    "# Inference"
   ]
  },
  {
   "cell_type": "code",
   "execution_count": 19,
   "id": "05d67cc5",
   "metadata": {},
   "outputs": [
    {
     "name": "stderr",
     "output_type": "stream",
     "text": [
      "Inferência: 100%|██████████| 3303/3303 [00:35<00:00, 92.84it/s] \n"
     ]
    },
    {
     "name": "stdout",
     "output_type": "stream",
     "text": [
      "Maior acurácia em um único frame: 100.00% (frame índice 2472)\n",
      "Menor acurácia em um único frame: 0.14% (frame índice 819)\n",
      "Acurácias abaixo de 90%: 573 frames, porcentagem do dataset: 17.35%\n",
      "Mediana das acurácias: 93.27%\n"
     ]
    },
    {
     "data": {
      "image/png": "[encoded data removed]",
      "text/plain": [
       "<Figure size 1000x500 with 1 Axes>"
      ]
     },
     "metadata": {},
     "output_type": "display_data"
    }
   ],
   "source": [
    "total_correct = 0\n",
    "total_points = 0\n",
    "accuracies = []  # Lista para armazenar acurácias individuais\n",
    "\n",
    "i = 0\n",
    "model.eval()\n",
    "with torch.no_grad():\n",
    "    for point_cloud in tqdm(processed_validation_dataset, desc=\"Inferência\"):\n",
    "    # for point_cloud in tqdm(processed_train_dataset, desc=\"Inferência\"):\n",
    "        data = (\n",
    "            torch.tensor(point_cloud[:, :INPUT_CHANNELS], dtype=torch.float32)\n",
    "            .unsqueeze(0)\n",
    "            .to(DEVICE)\n",
    "        )\n",
    "        label = point_cloud[:, -2]\n",
    "        pred, trans = model(data)\n",
    "        pred = pred.view(-1, NUM_CLASSES)\n",
    "        pred = pred.argmax(dim=1).cpu().numpy()\n",
    "\n",
    "        # Calcula acurácia para este frame específico\n",
    "        correct = (label == pred).sum()\n",
    "        total = len(label)\n",
    "        frame_accuracy = correct / total\n",
    "        if (frame_accuracy > 0.93 and frame_accuracy < 0.95):\n",
    "            frame_print = i\n",
    "        i += 1\n",
    "        accuracies.append(frame_accuracy)\n",
    "\n",
    "# Agora calculamos as estatísticas\n",
    "max_accuracy = max(accuracies)\n",
    "min_accuracy = min(accuracies)\n",
    "median_accuracy = np.median(accuracies)\n",
    "\n",
    "# Encontrar índice do melhor e pior frame\n",
    "best_frame_idx = np.argmax(accuracies)\n",
    "worst_frame_idx = np.argmin(accuracies)\n",
    "\n",
    "menores = [acc for acc in accuracies if acc < 0.8]\n",
    "menores_porcentagem = len(menores) / len(accuracies) * 100\n",
    "print(\n",
    "    f\"Maior acurácia em um único frame: {max_accuracy*100:.2f}% (frame índice {best_frame_idx})\"\n",
    ")\n",
    "print(\n",
    "    f\"Menor acurácia em um único frame: {min_accuracy*100:.2f}% (frame índice {worst_frame_idx})\"\n",
    ")\n",
    "print(\n",
    "    f\"Acurácias abaixo de 90%: {len(menores)} frames, porcentagem do dataset: {menores_porcentagem:.2f}%\"\n",
    ")\n",
    "print(f\"Mediana das acurácias: {median_accuracy*100:.2f}%\")\n",
    "\n",
    "# Opcional: Histograma de distribuição das acurácias\n",
    "plt.figure(figsize=(10, 5))\n",
    "plt.hist(accuracies, bins=20)\n",
    "plt.xlabel(\"Acurácia\")\n",
    "plt.ylabel(\"Número de Frames\")\n",
    "plt.grid(True)\n",
    "plt.show()"
   ]
  },
  {
   "cell_type": "code",
   "execution_count": 24,
   "id": "7ee0ce32",
   "metadata": {},
   "outputs": [],
   "source": [
    "point_cloud = processed_validation_dataset[frame_print]\n",
    "\n",
    "data = (\n",
    "    torch.tensor(point_cloud[:, :INPUT_CHANNELS], dtype=torch.float32)\n",
    "    .unsqueeze(0)\n",
    "    .to(DEVICE)\n",
    ")\n",
    "label = point_cloud[:, -2]\n",
    "\n",
    "# # Carregar o modelo treinado\n",
    "# model = PointNetSeg(num_classes=NUM_CLASSES).to(DEVICE)\n",
    "# model.load_state_dict(torch.load(\"checkpoints/pointnet_epoch_001.pth\"))\n",
    "\n",
    "model.eval()\n",
    "with torch.no_grad():\n",
    "    pred, trans = model(data)\n",
    "    pred = pred.view(-1, NUM_CLASSES)\n",
    "\n",
    "    # pred_labels = torch.argmax(pred, dim=1).cpu().numpy()\n",
    "    pred = pred.argmax(dim=1)\n",
    "\n",
    "# Agora, substituindo os rótulos originais pelos rótulos preditos\n",
    "# Mantendo as coordenadas xyz no formato original e substituindo o label\n",
    "result = np.hstack(\n",
    "    (\n",
    "        data.squeeze(0).cpu().numpy(),\n",
    "        label.reshape(-1, 1),\n",
    "        pred.cpu().numpy().reshape(-1, 1),\n",
    "    )\n",
    ")"
   ]
  },
  {
   "cell_type": "code",
   "execution_count": 25,
   "id": "4994a455",
   "metadata": {},
   "outputs": [
    {
     "name": "stdout",
     "output_type": "stream",
     "text": [
      "Acurácia (amostra): 94.50%\n"
     ]
    }
   ],
   "source": [
    "# Calcula a acurácia usando o array result\n",
    "true_labels = result[:, -2]\n",
    "pred_labels = result[:, -1]\n",
    "accuracy = (true_labels == pred_labels).sum() / len(result)\n",
    "print(f\"Acurácia (amostra): {accuracy*100:.2f}%\")\n",
    "# print(f\"[Epoch {epoch:05d}] Loss: {avg_loss:.4f} | Acc: {avg_acc*100:.2f}%\")\n",
    "run_viz(\n",
    "    result,\n",
    "    cluster_viz=True,\n",
    "    show_pred_label=True,\n",
    "    point_size=3,\n",
    "    # show_min_max=True,\n",
    ")\n",
    "run_viz(\n",
    "    result,\n",
    "    cluster_viz=True,\n",
    "    show_true_label=True,\n",
    "    point_size=3,\n",
    "    # show_min_max=True,\n",
    ")"
   ]
  },
  {
   "cell_type": "code",
   "execution_count": 26,
   "id": "e3604d43",
   "metadata": {},
   "outputs": [
    {
     "data": {
      "text/plain": [
       "3295"
      ]
     },
     "execution_count": 26,
     "metadata": {},
     "output_type": "execute_result"
    }
   ],
   "source": [
    "frame_print"
   ]
  },
  {
   "cell_type": "code",
   "execution_count": null,
   "id": "b828b951",
   "metadata": {},
   "outputs": [],
   "source": [
    "lista_validation = [1, 6, 7]\n",
    "processed_validation_dataset = []\n",
    "\n",
    "for i in lista_validation:\n",
    "    SEQ_LIST = [i]\n",
    "    SEQ_LIST_NAME = \"\".join(str(s) for s in SEQ_LIST)\n",
    "    print(SEQ_LIST_NAME)\n",
    "\n",
    "    with open(\n",
    "        f\"./checkpoints_to_ignore/processed_train_dataset/seq{SEQ_LIST_NAME}.pkl\", \"rb\"\n",
    "    ) as f:\n",
    "        p = pickle.load(f)\n",
    "    processed_validation_dataset.extend(p)\n",
    "\n",
    "    print(len(processed_validation_dataset))"
   ]
  }
 ],
 "metadata": {
  "kernelspec": {
   "display_name": ".venv",
   "language": "python",
   "name": "python3"
  },
  "language_info": {
   "codemirror_mode": {
    "name": "ipython",
    "version": 3
   },
   "file_extension": ".py",
   "mimetype": "text/x-python",
   "name": "python",
   "nbconvert_exporter": "python",
   "pygments_lexer": "ipython3",
   "version": "3.12.3"
  }
 },
 "nbformat": 4,
 "nbformat_minor": 5
}
