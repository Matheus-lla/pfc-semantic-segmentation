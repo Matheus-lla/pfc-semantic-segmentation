{
 "cells": [
  {
   "cell_type": "markdown",
   "id": "4d897203",
   "metadata": {},
   "source": [
    "# Imports"
   ]
  },
  {
   "cell_type": "code",
   "execution_count": 1,
   "id": "43d45654",
   "metadata": {},
   "outputs": [
    {
     "name": "stderr",
     "output_type": "stream",
     "text": [
      "/tmp/ipykernel_128207/4280382460.py:10: TqdmExperimentalWarning: Using `tqdm.autonotebook.tqdm` in notebook mode. Use `tqdm.tqdm` instead to force console mode (e.g. in jupyter console)\n",
      "  from tqdm.autonotebook import tqdm\n"
     ]
    },
    {
     "name": "stdout",
     "output_type": "stream",
     "text": [
      "Jupyter environment detected. Enabling Open3D WebVisualizer.\n",
      "[Open3D INFO] WebRTC GUI backend enabled.\n",
      "[Open3D INFO] WebRTCWindowSystem: HTTP handshake server disabled.\n"
     ]
    }
   ],
   "source": [
    "import os\n",
    "import pickle\n",
    "import random\n",
    "import time\n",
    "\n",
    "import numpy as np\n",
    "import torch\n",
    "import torch.nn as nn\n",
    "import torch.optim as optim\n",
    "from tqdm.autonotebook import tqdm\n",
    "\n",
    "from pfc_packages.pointNet import *\n",
    "from pfc_packages.utils import *"
   ]
  },
  {
   "cell_type": "markdown",
   "id": "47cc6345",
   "metadata": {},
   "source": [
    "# Hyperparameters"
   ]
  },
  {
   "cell_type": "code",
   "execution_count": 2,
   "id": "c1142037",
   "metadata": {},
   "outputs": [],
   "source": [
    "NUM_CLASSES = 20\n",
    "INPUT_CHANNELS = 9\n",
    "EPOCHS = 1000\n",
    "LR = 0.001\n",
    "DECAY_RATE = 0.0001\n",
    "MOMENTUM_DECCAY_STEP = 10\n",
    "DEVICE = torch.device(\"cuda\" if torch.cuda.is_available() else \"cpu\")"
   ]
  },
  {
   "cell_type": "markdown",
   "id": "af5147ba",
   "metadata": {},
   "source": [
    "# Model configs"
   ]
  },
  {
   "cell_type": "code",
   "execution_count": 3,
   "id": "189295e6",
   "metadata": {},
   "outputs": [],
   "source": [
    "# ==== MODEL ====\n",
    "model = PointNetSeg(num_classes=NUM_CLASSES, input_channels=INPUT_CHANNELS).to(DEVICE)\n",
    "criterion = nn.CrossEntropyLoss(ignore_index=0)\n",
    "optimizer = torch.optim.Adam(\n",
    "    model.parameters(), lr=LR, betas=(0.9, 0.999), eps=1e-08, weight_decay=DECAY_RATE\n",
    ")"
   ]
  },
  {
   "cell_type": "markdown",
   "id": "82d1e475",
   "metadata": {},
   "source": [
    "# Pre-process clusters"
   ]
  },
  {
   "cell_type": "code",
   "execution_count": 42,
   "id": "bfd82ddf",
   "metadata": {},
   "outputs": [
    {
     "name": "stdout",
     "output_type": "stream",
     "text": [
      "271\n"
     ]
    }
   ],
   "source": [
    "# # ==== LOAD DATA ====\n",
    "# # unprocessed_train_dataset = SemanticKittiDataset(\"../../datasets/semantic-kitti\", load_cluster=True, sequence_list= [101])\n",
    "# unprocessed_train_dataset = SemanticKittiDataset(\"../../datasets/semantic-kitti\", load_cluster=True)\n",
    "\n",
    "# processed_train_dataset = []\n",
    "# # count = 0\n",
    "\n",
    "# for frame in tqdm(unprocessed_train_dataset, desc=\"Processando frames\"):\n",
    "#     processed_train_dataset.append(\n",
    "#         extract_features_from_clusters(frame, min_cluster_size=3)\n",
    "#     )\n",
    "#     # count += 1\n",
    "#     # if count == 50:\n",
    "#     #     break\n",
    "\n",
    "# # with open(\"./checkpoints_to_ignore/processed_train_dataset.pkl\", \"wb\") as f:\n",
    "# #     pickle.dump(processed_train_dataset, f)\n",
    "\n",
    "with open(\"./checkpoints_to_ignore/processed_train_dataset.pkl\", \"rb\") as f:\n",
    "    processed_train_dataset = pickle.load(f)\n",
    "\n",
    "print(len(processed_train_dataset))"
   ]
  },
  {
   "cell_type": "code",
   "execution_count": 5,
   "id": "edb857bb",
   "metadata": {},
   "outputs": [
    {
     "name": "stdout",
     "output_type": "stream",
     "text": [
      "844 271\n",
      "[60.38326645 17.59372711  2.34032941 60.38326645 17.59372711  2.34032941\n",
      " 60.38326645 17.59372711  2.34032941  9.          0.        ]\n"
     ]
    }
   ],
   "source": [
    "max_clusters = max(f.shape[0] for f in processed_train_dataset)\n",
    "print(max_clusters, len(processed_train_dataset))\n",
    "print(processed_train_dataset[0][0])"
   ]
  },
  {
   "cell_type": "markdown",
   "id": "5a567791",
   "metadata": {},
   "source": [
    "# Train model"
   ]
  },
  {
   "cell_type": "code",
   "execution_count": 6,
   "id": "36f06adb",
   "metadata": {},
   "outputs": [
    {
     "data": {
      "application/vnd.jupyter.widget-view+json": {
       "model_id": "8c7ac512cded41f692596d25106e8cd7",
       "version_major": 2,
       "version_minor": 0
      },
      "text/plain": [
       "Epochs:   0%|          | 0/1000 [00:00<?, ?epoch/s]"
      ]
     },
     "metadata": {},
     "output_type": "display_data"
    },
    {
     "data": {
      "application/vnd.jupyter.widget-view+json": {
       "model_id": "5a9c3a8fd64c4015a139974499b7b97e",
       "version_major": 2,
       "version_minor": 0
      },
      "text/plain": [
       "Frame:   0%|          | 0/271 [00:00<?, ?frame/s]"
      ]
     },
     "metadata": {},
     "output_type": "display_data"
    },
    {
     "data": {
      "application/vnd.jupyter.widget-view+json": {
       "model_id": "f83a76efbcc3410fad89e306a2f17168",
       "version_major": 2,
       "version_minor": 0
      },
      "text/plain": [
       "Frame:   0%|          | 0/271 [00:00<?, ?frame/s]"
      ]
     },
     "metadata": {},
     "output_type": "display_data"
    },
    {
     "data": {
      "application/vnd.jupyter.widget-view+json": {
       "model_id": "add043fe242a4f6385ca587d3a090afe",
       "version_major": 2,
       "version_minor": 0
      },
      "text/plain": [
       "Frame:   0%|          | 0/271 [00:00<?, ?frame/s]"
      ]
     },
     "metadata": {},
     "output_type": "display_data"
    },
    {
     "data": {
      "application/vnd.jupyter.widget-view+json": {
       "model_id": "19e5818325d844228818a5363d80e3bf",
       "version_major": 2,
       "version_minor": 0
      },
      "text/plain": [
       "Frame:   0%|          | 0/271 [00:00<?, ?frame/s]"
      ]
     },
     "metadata": {},
     "output_type": "display_data"
    },
    {
     "data": {
      "application/vnd.jupyter.widget-view+json": {
       "model_id": "373be9fea43749e8817adc8cb5af62b9",
       "version_major": 2,
       "version_minor": 0
      },
      "text/plain": [
       "Frame:   0%|          | 0/271 [00:00<?, ?frame/s]"
      ]
     },
     "metadata": {},
     "output_type": "display_data"
    },
    {
     "data": {
      "application/vnd.jupyter.widget-view+json": {
       "model_id": "b664fbd4a8ca4f97a1924613b0dd515b",
       "version_major": 2,
       "version_minor": 0
      },
      "text/plain": [
       "Frame:   0%|          | 0/271 [00:00<?, ?frame/s]"
      ]
     },
     "metadata": {},
     "output_type": "display_data"
    },
    {
     "data": {
      "application/vnd.jupyter.widget-view+json": {
       "model_id": "af5367820b7a4110b5b10574c0e306a4",
       "version_major": 2,
       "version_minor": 0
      },
      "text/plain": [
       "Frame:   0%|          | 0/271 [00:00<?, ?frame/s]"
      ]
     },
     "metadata": {},
     "output_type": "display_data"
    },
    {
     "data": {
      "application/vnd.jupyter.widget-view+json": {
       "model_id": "7142698013544d3c9c036969bf11315b",
       "version_major": 2,
       "version_minor": 0
      },
      "text/plain": [
       "Frame:   0%|          | 0/271 [00:00<?, ?frame/s]"
      ]
     },
     "metadata": {},
     "output_type": "display_data"
    },
    {
     "data": {
      "application/vnd.jupyter.widget-view+json": {
       "model_id": "d0e2f5c70985442b95af6497b2eb1eb4",
       "version_major": 2,
       "version_minor": 0
      },
      "text/plain": [
       "Frame:   0%|          | 0/271 [00:00<?, ?frame/s]"
      ]
     },
     "metadata": {},
     "output_type": "display_data"
    },
    {
     "data": {
      "application/vnd.jupyter.widget-view+json": {
       "model_id": "8692d4c6442847f99a700491d3fea1bd",
       "version_major": 2,
       "version_minor": 0
      },
      "text/plain": [
       "Frame:   0%|          | 0/271 [00:00<?, ?frame/s]"
      ]
     },
     "metadata": {},
     "output_type": "display_data"
    },
    {
     "data": {
      "application/vnd.jupyter.widget-view+json": {
       "model_id": "cce338b1ec584171be50fb624e8b640f",
       "version_major": 2,
       "version_minor": 0
      },
      "text/plain": [
       "Frame:   0%|          | 0/271 [00:00<?, ?frame/s]"
      ]
     },
     "metadata": {},
     "output_type": "display_data"
    },
    {
     "data": {
      "application/vnd.jupyter.widget-view+json": {
       "model_id": "cc2c637cdae942bd854326c11f21c44e",
       "version_major": 2,
       "version_minor": 0
      },
      "text/plain": [
       "Frame:   0%|          | 0/271 [00:00<?, ?frame/s]"
      ]
     },
     "metadata": {},
     "output_type": "display_data"
    },
    {
     "data": {
      "application/vnd.jupyter.widget-view+json": {
       "model_id": "895cfb8382684870a48c4cf44308d16e",
       "version_major": 2,
       "version_minor": 0
      },
      "text/plain": [
       "Frame:   0%|          | 0/271 [00:00<?, ?frame/s]"
      ]
     },
     "metadata": {},
     "output_type": "display_data"
    },
    {
     "data": {
      "application/vnd.jupyter.widget-view+json": {
       "model_id": "44be5b8c72294f0aab76d1a730a1d6d0",
       "version_major": 2,
       "version_minor": 0
      },
      "text/plain": [
       "Frame:   0%|          | 0/271 [00:00<?, ?frame/s]"
      ]
     },
     "metadata": {},
     "output_type": "display_data"
    },
    {
     "data": {
      "application/vnd.jupyter.widget-view+json": {
       "model_id": "573b8095a3fe4fe4af37e35f6a5f5a56",
       "version_major": 2,
       "version_minor": 0
      },
      "text/plain": [
       "Frame:   0%|          | 0/271 [00:00<?, ?frame/s]"
      ]
     },
     "metadata": {},
     "output_type": "display_data"
    },
    {
     "data": {
      "application/vnd.jupyter.widget-view+json": {
       "model_id": "b65e0ce0b3b04e2d90858cdbcdbec628",
       "version_major": 2,
       "version_minor": 0
      },
      "text/plain": [
       "Frame:   0%|          | 0/271 [00:00<?, ?frame/s]"
      ]
     },
     "metadata": {},
     "output_type": "display_data"
    },
    {
     "data": {
      "application/vnd.jupyter.widget-view+json": {
       "model_id": "829dc009f40d4659a321f62cf48cf89d",
       "version_major": 2,
       "version_minor": 0
      },
      "text/plain": [
       "Frame:   0%|          | 0/271 [00:00<?, ?frame/s]"
      ]
     },
     "metadata": {},
     "output_type": "display_data"
    },
    {
     "data": {
      "application/vnd.jupyter.widget-view+json": {
       "model_id": "4f34fec64a3846498443cd6b3127c9e6",
       "version_major": 2,
       "version_minor": 0
      },
      "text/plain": [
       "Frame:   0%|          | 0/271 [00:00<?, ?frame/s]"
      ]
     },
     "metadata": {},
     "output_type": "display_data"
    },
    {
     "data": {
      "application/vnd.jupyter.widget-view+json": {
       "model_id": "fb41bdaaa0bf4f95b398c3c7ad108fc9",
       "version_major": 2,
       "version_minor": 0
      },
      "text/plain": [
       "Frame:   0%|          | 0/271 [00:00<?, ?frame/s]"
      ]
     },
     "metadata": {},
     "output_type": "display_data"
    },
    {
     "data": {
      "application/vnd.jupyter.widget-view+json": {
       "model_id": "6cdd6c6e2cc14859a491ff6f073c396a",
       "version_major": 2,
       "version_minor": 0
      },
      "text/plain": [
       "Frame:   0%|          | 0/271 [00:00<?, ?frame/s]"
      ]
     },
     "metadata": {},
     "output_type": "display_data"
    },
    {
     "data": {
      "application/vnd.jupyter.widget-view+json": {
       "model_id": "680a4bd3a18e425b95fe2ea46c458202",
       "version_major": 2,
       "version_minor": 0
      },
      "text/plain": [
       "Frame:   0%|          | 0/271 [00:00<?, ?frame/s]"
      ]
     },
     "metadata": {},
     "output_type": "display_data"
    },
    {
     "data": {
      "application/vnd.jupyter.widget-view+json": {
       "model_id": "748cd2523b0f4ef790b4dd4ddff0ba9e",
       "version_major": 2,
       "version_minor": 0
      },
      "text/plain": [
       "Frame:   0%|          | 0/271 [00:00<?, ?frame/s]"
      ]
     },
     "metadata": {},
     "output_type": "display_data"
    },
    {
     "data": {
      "application/vnd.jupyter.widget-view+json": {
       "model_id": "2d60373248534c6dbd923f0979bae241",
       "version_major": 2,
       "version_minor": 0
      },
      "text/plain": [
       "Frame:   0%|          | 0/271 [00:00<?, ?frame/s]"
      ]
     },
     "metadata": {},
     "output_type": "display_data"
    },
    {
     "data": {
      "application/vnd.jupyter.widget-view+json": {
       "model_id": "5350ed2486164326a1300f92014afe2d",
       "version_major": 2,
       "version_minor": 0
      },
      "text/plain": [
       "Frame:   0%|          | 0/271 [00:00<?, ?frame/s]"
      ]
     },
     "metadata": {},
     "output_type": "display_data"
    },
    {
     "data": {
      "application/vnd.jupyter.widget-view+json": {
       "model_id": "7a504ee824314503b9f068f70b0f4e74",
       "version_major": 2,
       "version_minor": 0
      },
      "text/plain": [
       "Frame:   0%|          | 0/271 [00:00<?, ?frame/s]"
      ]
     },
     "metadata": {},
     "output_type": "display_data"
    },
    {
     "data": {
      "application/vnd.jupyter.widget-view+json": {
       "model_id": "8f95c9deefec42db842c701f61e86214",
       "version_major": 2,
       "version_minor": 0
      },
      "text/plain": [
       "Frame:   0%|          | 0/271 [00:00<?, ?frame/s]"
      ]
     },
     "metadata": {},
     "output_type": "display_data"
    },
    {
     "data": {
      "application/vnd.jupyter.widget-view+json": {
       "model_id": "c754a80db24c4a9ab5fa7b85c24b3a69",
       "version_major": 2,
       "version_minor": 0
      },
      "text/plain": [
       "Frame:   0%|          | 0/271 [00:00<?, ?frame/s]"
      ]
     },
     "metadata": {},
     "output_type": "display_data"
    },
    {
     "data": {
      "application/vnd.jupyter.widget-view+json": {
       "model_id": "3b6d4932ff2f44f98c35829cb5768c74",
       "version_major": 2,
       "version_minor": 0
      },
      "text/plain": [
       "Frame:   0%|          | 0/271 [00:00<?, ?frame/s]"
      ]
     },
     "metadata": {},
     "output_type": "display_data"
    },
    {
     "data": {
      "application/vnd.jupyter.widget-view+json": {
       "model_id": "9f9eff96a7834e508088b83699877ecd",
       "version_major": 2,
       "version_minor": 0
      },
      "text/plain": [
       "Frame:   0%|          | 0/271 [00:00<?, ?frame/s]"
      ]
     },
     "metadata": {},
     "output_type": "display_data"
    },
    {
     "data": {
      "application/vnd.jupyter.widget-view+json": {
       "model_id": "247652412f4145d7a396e6aa62d6cbc4",
       "version_major": 2,
       "version_minor": 0
      },
      "text/plain": [
       "Frame:   0%|          | 0/271 [00:00<?, ?frame/s]"
      ]
     },
     "metadata": {},
     "output_type": "display_data"
    },
    {
     "data": {
      "application/vnd.jupyter.widget-view+json": {
       "model_id": "28f682c4bba147a79a0244c6ea66befb",
       "version_major": 2,
       "version_minor": 0
      },
      "text/plain": [
       "Frame:   0%|          | 0/271 [00:00<?, ?frame/s]"
      ]
     },
     "metadata": {},
     "output_type": "display_data"
    },
    {
     "data": {
      "application/vnd.jupyter.widget-view+json": {
       "model_id": "4bb00c4ce7bc4e9ab98e81bfb37d5254",
       "version_major": 2,
       "version_minor": 0
      },
      "text/plain": [
       "Frame:   0%|          | 0/271 [00:00<?, ?frame/s]"
      ]
     },
     "metadata": {},
     "output_type": "display_data"
    },
    {
     "data": {
      "application/vnd.jupyter.widget-view+json": {
       "model_id": "8dd8c22111d146dfa62c394c4041eecd",
       "version_major": 2,
       "version_minor": 0
      },
      "text/plain": [
       "Frame:   0%|          | 0/271 [00:00<?, ?frame/s]"
      ]
     },
     "metadata": {},
     "output_type": "display_data"
    },
    {
     "data": {
      "application/vnd.jupyter.widget-view+json": {
       "model_id": "9b5e30bc083c464dba8d2f62158d9e53",
       "version_major": 2,
       "version_minor": 0
      },
      "text/plain": [
       "Frame:   0%|          | 0/271 [00:00<?, ?frame/s]"
      ]
     },
     "metadata": {},
     "output_type": "display_data"
    },
    {
     "data": {
      "application/vnd.jupyter.widget-view+json": {
       "model_id": "cae3c384858c4e438743ce335c516bd6",
       "version_major": 2,
       "version_minor": 0
      },
      "text/plain": [
       "Frame:   0%|          | 0/271 [00:00<?, ?frame/s]"
      ]
     },
     "metadata": {},
     "output_type": "display_data"
    },
    {
     "data": {
      "application/vnd.jupyter.widget-view+json": {
       "model_id": "fbe30cbfe5d84ec8be3045469906573b",
       "version_major": 2,
       "version_minor": 0
      },
      "text/plain": [
       "Frame:   0%|          | 0/271 [00:00<?, ?frame/s]"
      ]
     },
     "metadata": {},
     "output_type": "display_data"
    },
    {
     "data": {
      "application/vnd.jupyter.widget-view+json": {
       "model_id": "bb549a931a45453caca1a9b64c27a384",
       "version_major": 2,
       "version_minor": 0
      },
      "text/plain": [
       "Frame:   0%|          | 0/271 [00:00<?, ?frame/s]"
      ]
     },
     "metadata": {},
     "output_type": "display_data"
    },
    {
     "data": {
      "application/vnd.jupyter.widget-view+json": {
       "model_id": "481792f23e634a36b12442fa19bd40c5",
       "version_major": 2,
       "version_minor": 0
      },
      "text/plain": [
       "Frame:   0%|          | 0/271 [00:00<?, ?frame/s]"
      ]
     },
     "metadata": {},
     "output_type": "display_data"
    },
    {
     "data": {
      "application/vnd.jupyter.widget-view+json": {
       "model_id": "e171589f871a43d8a16ea275e65c6e4b",
       "version_major": 2,
       "version_minor": 0
      },
      "text/plain": [
       "Frame:   0%|          | 0/271 [00:00<?, ?frame/s]"
      ]
     },
     "metadata": {},
     "output_type": "display_data"
    },
    {
     "data": {
      "application/vnd.jupyter.widget-view+json": {
       "model_id": "a4723dc75c324547bdeb0edbe53fab87",
       "version_major": 2,
       "version_minor": 0
      },
      "text/plain": [
       "Frame:   0%|          | 0/271 [00:00<?, ?frame/s]"
      ]
     },
     "metadata": {},
     "output_type": "display_data"
    },
    {
     "data": {
      "application/vnd.jupyter.widget-view+json": {
       "model_id": "ab1465771cb044f5b667cc4ddea3dca9",
       "version_major": 2,
       "version_minor": 0
      },
      "text/plain": [
       "Frame:   0%|          | 0/271 [00:00<?, ?frame/s]"
      ]
     },
     "metadata": {},
     "output_type": "display_data"
    },
    {
     "data": {
      "application/vnd.jupyter.widget-view+json": {
       "model_id": "de4ad31e30384c7db367ad7f19b4b959",
       "version_major": 2,
       "version_minor": 0
      },
      "text/plain": [
       "Frame:   0%|          | 0/271 [00:00<?, ?frame/s]"
      ]
     },
     "metadata": {},
     "output_type": "display_data"
    },
    {
     "data": {
      "application/vnd.jupyter.widget-view+json": {
       "model_id": "f28742d436414a2a8da3401baf8631b6",
       "version_major": 2,
       "version_minor": 0
      },
      "text/plain": [
       "Frame:   0%|          | 0/271 [00:00<?, ?frame/s]"
      ]
     },
     "metadata": {},
     "output_type": "display_data"
    },
    {
     "data": {
      "application/vnd.jupyter.widget-view+json": {
       "model_id": "1d6e3e37a75847eabb63e67eb5f63156",
       "version_major": 2,
       "version_minor": 0
      },
      "text/plain": [
       "Frame:   0%|          | 0/271 [00:00<?, ?frame/s]"
      ]
     },
     "metadata": {},
     "output_type": "display_data"
    },
    {
     "data": {
      "application/vnd.jupyter.widget-view+json": {
       "model_id": "5d0410a03d6d48638cef253414449ad7",
       "version_major": 2,
       "version_minor": 0
      },
      "text/plain": [
       "Frame:   0%|          | 0/271 [00:00<?, ?frame/s]"
      ]
     },
     "metadata": {},
     "output_type": "display_data"
    },
    {
     "data": {
      "application/vnd.jupyter.widget-view+json": {
       "model_id": "8ca81aa7b2b1401f88e32926ff6d2f20",
       "version_major": 2,
       "version_minor": 0
      },
      "text/plain": [
       "Frame:   0%|          | 0/271 [00:00<?, ?frame/s]"
      ]
     },
     "metadata": {},
     "output_type": "display_data"
    },
    {
     "data": {
      "application/vnd.jupyter.widget-view+json": {
       "model_id": "1a248795a7bb43b2af366a55acefcadb",
       "version_major": 2,
       "version_minor": 0
      },
      "text/plain": [
       "Frame:   0%|          | 0/271 [00:00<?, ?frame/s]"
      ]
     },
     "metadata": {},
     "output_type": "display_data"
    },
    {
     "data": {
      "application/vnd.jupyter.widget-view+json": {
       "model_id": "d65de9c72c8545148552a4d860889266",
       "version_major": 2,
       "version_minor": 0
      },
      "text/plain": [
       "Frame:   0%|          | 0/271 [00:00<?, ?frame/s]"
      ]
     },
     "metadata": {},
     "output_type": "display_data"
    },
    {
     "data": {
      "application/vnd.jupyter.widget-view+json": {
       "model_id": "cdc3ad84cf14404499e67895f35eec9c",
       "version_major": 2,
       "version_minor": 0
      },
      "text/plain": [
       "Frame:   0%|          | 0/271 [00:00<?, ?frame/s]"
      ]
     },
     "metadata": {},
     "output_type": "display_data"
    },
    {
     "data": {
      "application/vnd.jupyter.widget-view+json": {
       "model_id": "5789f2f7452d429da8cc3adeb7f832ca",
       "version_major": 2,
       "version_minor": 0
      },
      "text/plain": [
       "Frame:   0%|          | 0/271 [00:00<?, ?frame/s]"
      ]
     },
     "metadata": {},
     "output_type": "display_data"
    },
    {
     "data": {
      "application/vnd.jupyter.widget-view+json": {
       "model_id": "0ce97329e10640b687ffa97f5d033b52",
       "version_major": 2,
       "version_minor": 0
      },
      "text/plain": [
       "Frame:   0%|          | 0/271 [00:00<?, ?frame/s]"
      ]
     },
     "metadata": {},
     "output_type": "display_data"
    },
    {
     "data": {
      "application/vnd.jupyter.widget-view+json": {
       "model_id": "533835e42b494bcbac7076682cf6f315",
       "version_major": 2,
       "version_minor": 0
      },
      "text/plain": [
       "Frame:   0%|          | 0/271 [00:00<?, ?frame/s]"
      ]
     },
     "metadata": {},
     "output_type": "display_data"
    },
    {
     "data": {
      "application/vnd.jupyter.widget-view+json": {
       "model_id": "a15a2c3b4769427fab4ea4d3bc88f65f",
       "version_major": 2,
       "version_minor": 0
      },
      "text/plain": [
       "Frame:   0%|          | 0/271 [00:00<?, ?frame/s]"
      ]
     },
     "metadata": {},
     "output_type": "display_data"
    },
    {
     "data": {
      "application/vnd.jupyter.widget-view+json": {
       "model_id": "52ef218552e44ec58d85aee7de0239af",
       "version_major": 2,
       "version_minor": 0
      },
      "text/plain": [
       "Frame:   0%|          | 0/271 [00:00<?, ?frame/s]"
      ]
     },
     "metadata": {},
     "output_type": "display_data"
    },
    {
     "data": {
      "application/vnd.jupyter.widget-view+json": {
       "model_id": "8cd87152f4234ee48a8fa77f39158494",
       "version_major": 2,
       "version_minor": 0
      },
      "text/plain": [
       "Frame:   0%|          | 0/271 [00:00<?, ?frame/s]"
      ]
     },
     "metadata": {},
     "output_type": "display_data"
    },
    {
     "data": {
      "application/vnd.jupyter.widget-view+json": {
       "model_id": "ae81e7473e464c05b127478556d8f443",
       "version_major": 2,
       "version_minor": 0
      },
      "text/plain": [
       "Frame:   0%|          | 0/271 [00:00<?, ?frame/s]"
      ]
     },
     "metadata": {},
     "output_type": "display_data"
    },
    {
     "data": {
      "application/vnd.jupyter.widget-view+json": {
       "model_id": "9cfd36e144a8450f852a4cdb00a12f7f",
       "version_major": 2,
       "version_minor": 0
      },
      "text/plain": [
       "Frame:   0%|          | 0/271 [00:00<?, ?frame/s]"
      ]
     },
     "metadata": {},
     "output_type": "display_data"
    },
    {
     "data": {
      "application/vnd.jupyter.widget-view+json": {
       "model_id": "3869d65c74f54611a3b7f497d913ac0d",
       "version_major": 2,
       "version_minor": 0
      },
      "text/plain": [
       "Frame:   0%|          | 0/271 [00:00<?, ?frame/s]"
      ]
     },
     "metadata": {},
     "output_type": "display_data"
    },
    {
     "data": {
      "application/vnd.jupyter.widget-view+json": {
       "model_id": "97374042d7754b84a2aed043c4ab1fb4",
       "version_major": 2,
       "version_minor": 0
      },
      "text/plain": [
       "Frame:   0%|          | 0/271 [00:00<?, ?frame/s]"
      ]
     },
     "metadata": {},
     "output_type": "display_data"
    },
    {
     "data": {
      "application/vnd.jupyter.widget-view+json": {
       "model_id": "fdbd5a759c00416ebeca3b8b7c6d84cb",
       "version_major": 2,
       "version_minor": 0
      },
      "text/plain": [
       "Frame:   0%|          | 0/271 [00:00<?, ?frame/s]"
      ]
     },
     "metadata": {},
     "output_type": "display_data"
    },
    {
     "data": {
      "application/vnd.jupyter.widget-view+json": {
       "model_id": "65b5feb715744ff5b19c392ff930d33f",
       "version_major": 2,
       "version_minor": 0
      },
      "text/plain": [
       "Frame:   0%|          | 0/271 [00:00<?, ?frame/s]"
      ]
     },
     "metadata": {},
     "output_type": "display_data"
    },
    {
     "data": {
      "application/vnd.jupyter.widget-view+json": {
       "model_id": "250249b2d5b043b3a9bcaada5bea9c38",
       "version_major": 2,
       "version_minor": 0
      },
      "text/plain": [
       "Frame:   0%|          | 0/271 [00:00<?, ?frame/s]"
      ]
     },
     "metadata": {},
     "output_type": "display_data"
    },
    {
     "data": {
      "application/vnd.jupyter.widget-view+json": {
       "model_id": "00ddef10ab454abeb5b72867de5c0fde",
       "version_major": 2,
       "version_minor": 0
      },
      "text/plain": [
       "Frame:   0%|          | 0/271 [00:00<?, ?frame/s]"
      ]
     },
     "metadata": {},
     "output_type": "display_data"
    },
    {
     "data": {
      "application/vnd.jupyter.widget-view+json": {
       "model_id": "d81a4858c251478a87ee1defb88c9bc3",
       "version_major": 2,
       "version_minor": 0
      },
      "text/plain": [
       "Frame:   0%|          | 0/271 [00:00<?, ?frame/s]"
      ]
     },
     "metadata": {},
     "output_type": "display_data"
    },
    {
     "data": {
      "application/vnd.jupyter.widget-view+json": {
       "model_id": "15f1408bf45c4d01bb1b68060ae8aca1",
       "version_major": 2,
       "version_minor": 0
      },
      "text/plain": [
       "Frame:   0%|          | 0/271 [00:00<?, ?frame/s]"
      ]
     },
     "metadata": {},
     "output_type": "display_data"
    },
    {
     "data": {
      "application/vnd.jupyter.widget-view+json": {
       "model_id": "49c0a926fc194f7e96ccf2be7321b4a6",
       "version_major": 2,
       "version_minor": 0
      },
      "text/plain": [
       "Frame:   0%|          | 0/271 [00:00<?, ?frame/s]"
      ]
     },
     "metadata": {},
     "output_type": "display_data"
    },
    {
     "data": {
      "application/vnd.jupyter.widget-view+json": {
       "model_id": "3c2627d6c5df49eea347ccb705e870c8",
       "version_major": 2,
       "version_minor": 0
      },
      "text/plain": [
       "Frame:   0%|          | 0/271 [00:00<?, ?frame/s]"
      ]
     },
     "metadata": {},
     "output_type": "display_data"
    },
    {
     "data": {
      "application/vnd.jupyter.widget-view+json": {
       "model_id": "8401e189da1640f2bad1e04cb9b553c7",
       "version_major": 2,
       "version_minor": 0
      },
      "text/plain": [
       "Frame:   0%|          | 0/271 [00:00<?, ?frame/s]"
      ]
     },
     "metadata": {},
     "output_type": "display_data"
    },
    {
     "data": {
      "application/vnd.jupyter.widget-view+json": {
       "model_id": "7882f7d15252415fb5f92cda460a64c2",
       "version_major": 2,
       "version_minor": 0
      },
      "text/plain": [
       "Frame:   0%|          | 0/271 [00:00<?, ?frame/s]"
      ]
     },
     "metadata": {},
     "output_type": "display_data"
    },
    {
     "data": {
      "application/vnd.jupyter.widget-view+json": {
       "model_id": "94f11f2bdefd46a3aa7e558fb7b430b2",
       "version_major": 2,
       "version_minor": 0
      },
      "text/plain": [
       "Frame:   0%|          | 0/271 [00:00<?, ?frame/s]"
      ]
     },
     "metadata": {},
     "output_type": "display_data"
    },
    {
     "data": {
      "application/vnd.jupyter.widget-view+json": {
       "model_id": "df72456f8bdd4efd89cf56c62bc03591",
       "version_major": 2,
       "version_minor": 0
      },
      "text/plain": [
       "Frame:   0%|          | 0/271 [00:00<?, ?frame/s]"
      ]
     },
     "metadata": {},
     "output_type": "display_data"
    },
    {
     "data": {
      "application/vnd.jupyter.widget-view+json": {
       "model_id": "d422cc3010d746df868e19e90c9d61cb",
       "version_major": 2,
       "version_minor": 0
      },
      "text/plain": [
       "Frame:   0%|          | 0/271 [00:00<?, ?frame/s]"
      ]
     },
     "metadata": {},
     "output_type": "display_data"
    },
    {
     "data": {
      "application/vnd.jupyter.widget-view+json": {
       "model_id": "c14daefc82c94182a6137264f7d75f77",
       "version_major": 2,
       "version_minor": 0
      },
      "text/plain": [
       "Frame:   0%|          | 0/271 [00:00<?, ?frame/s]"
      ]
     },
     "metadata": {},
     "output_type": "display_data"
    },
    {
     "data": {
      "application/vnd.jupyter.widget-view+json": {
       "model_id": "e6027a6cb13d43b895afe203f8f859c9",
       "version_major": 2,
       "version_minor": 0
      },
      "text/plain": [
       "Frame:   0%|          | 0/271 [00:00<?, ?frame/s]"
      ]
     },
     "metadata": {},
     "output_type": "display_data"
    },
    {
     "data": {
      "application/vnd.jupyter.widget-view+json": {
       "model_id": "e6bb29874ec94b9a8fb431551eb946e0",
       "version_major": 2,
       "version_minor": 0
      },
      "text/plain": [
       "Frame:   0%|          | 0/271 [00:00<?, ?frame/s]"
      ]
     },
     "metadata": {},
     "output_type": "display_data"
    },
    {
     "data": {
      "application/vnd.jupyter.widget-view+json": {
       "model_id": "f43a66f6857f4c8cb3281a025fd1b9d8",
       "version_major": 2,
       "version_minor": 0
      },
      "text/plain": [
       "Frame:   0%|          | 0/271 [00:00<?, ?frame/s]"
      ]
     },
     "metadata": {},
     "output_type": "display_data"
    },
    {
     "data": {
      "application/vnd.jupyter.widget-view+json": {
       "model_id": "7dfe8490436e4278b3cbef3ec6d2bf94",
       "version_major": 2,
       "version_minor": 0
      },
      "text/plain": [
       "Frame:   0%|          | 0/271 [00:00<?, ?frame/s]"
      ]
     },
     "metadata": {},
     "output_type": "display_data"
    },
    {
     "data": {
      "application/vnd.jupyter.widget-view+json": {
       "model_id": "e8d35fe4e6a94c0082a479390f0ee642",
       "version_major": 2,
       "version_minor": 0
      },
      "text/plain": [
       "Frame:   0%|          | 0/271 [00:00<?, ?frame/s]"
      ]
     },
     "metadata": {},
     "output_type": "display_data"
    },
    {
     "data": {
      "application/vnd.jupyter.widget-view+json": {
       "model_id": "d82a5f4ec0684e659f339dea00636d93",
       "version_major": 2,
       "version_minor": 0
      },
      "text/plain": [
       "Frame:   0%|          | 0/271 [00:00<?, ?frame/s]"
      ]
     },
     "metadata": {},
     "output_type": "display_data"
    },
    {
     "data": {
      "application/vnd.jupyter.widget-view+json": {
       "model_id": "1ffe2c05f9eb4bebbee38b7326029940",
       "version_major": 2,
       "version_minor": 0
      },
      "text/plain": [
       "Frame:   0%|          | 0/271 [00:00<?, ?frame/s]"
      ]
     },
     "metadata": {},
     "output_type": "display_data"
    },
    {
     "data": {
      "application/vnd.jupyter.widget-view+json": {
       "model_id": "2090af19fc0b4c4e81483a26591f561b",
       "version_major": 2,
       "version_minor": 0
      },
      "text/plain": [
       "Frame:   0%|          | 0/271 [00:00<?, ?frame/s]"
      ]
     },
     "metadata": {},
     "output_type": "display_data"
    },
    {
     "data": {
      "application/vnd.jupyter.widget-view+json": {
       "model_id": "603e2c899b2049ea96539327f27bced7",
       "version_major": 2,
       "version_minor": 0
      },
      "text/plain": [
       "Frame:   0%|          | 0/271 [00:00<?, ?frame/s]"
      ]
     },
     "metadata": {},
     "output_type": "display_data"
    },
    {
     "data": {
      "application/vnd.jupyter.widget-view+json": {
       "model_id": "5c8b770f601d4afeb960ece306b72ce4",
       "version_major": 2,
       "version_minor": 0
      },
      "text/plain": [
       "Frame:   0%|          | 0/271 [00:00<?, ?frame/s]"
      ]
     },
     "metadata": {},
     "output_type": "display_data"
    },
    {
     "data": {
      "application/vnd.jupyter.widget-view+json": {
       "model_id": "73b816e2339c45eca7e61c84382ebfc2",
       "version_major": 2,
       "version_minor": 0
      },
      "text/plain": [
       "Frame:   0%|          | 0/271 [00:00<?, ?frame/s]"
      ]
     },
     "metadata": {},
     "output_type": "display_data"
    },
    {
     "data": {
      "application/vnd.jupyter.widget-view+json": {
       "model_id": "7bff9bba89db4d40baa48425fd797924",
       "version_major": 2,
       "version_minor": 0
      },
      "text/plain": [
       "Frame:   0%|          | 0/271 [00:00<?, ?frame/s]"
      ]
     },
     "metadata": {},
     "output_type": "display_data"
    },
    {
     "data": {
      "application/vnd.jupyter.widget-view+json": {
       "model_id": "22d8e6d79bd34d72b2a4c961a4e79ae7",
       "version_major": 2,
       "version_minor": 0
      },
      "text/plain": [
       "Frame:   0%|          | 0/271 [00:00<?, ?frame/s]"
      ]
     },
     "metadata": {},
     "output_type": "display_data"
    },
    {
     "data": {
      "application/vnd.jupyter.widget-view+json": {
       "model_id": "93ec4f9f89064799a9dda81332d38a15",
       "version_major": 2,
       "version_minor": 0
      },
      "text/plain": [
       "Frame:   0%|          | 0/271 [00:00<?, ?frame/s]"
      ]
     },
     "metadata": {},
     "output_type": "display_data"
    },
    {
     "data": {
      "application/vnd.jupyter.widget-view+json": {
       "model_id": "496c955368884f6cac46951dae799c68",
       "version_major": 2,
       "version_minor": 0
      },
      "text/plain": [
       "Frame:   0%|          | 0/271 [00:00<?, ?frame/s]"
      ]
     },
     "metadata": {},
     "output_type": "display_data"
    },
    {
     "data": {
      "application/vnd.jupyter.widget-view+json": {
       "model_id": "ad474e6557774b2e9358f12863289be1",
       "version_major": 2,
       "version_minor": 0
      },
      "text/plain": [
       "Frame:   0%|          | 0/271 [00:00<?, ?frame/s]"
      ]
     },
     "metadata": {},
     "output_type": "display_data"
    },
    {
     "data": {
      "application/vnd.jupyter.widget-view+json": {
       "model_id": "9e0637c007124e5b90e077c8909ddc61",
       "version_major": 2,
       "version_minor": 0
      },
      "text/plain": [
       "Frame:   0%|          | 0/271 [00:00<?, ?frame/s]"
      ]
     },
     "metadata": {},
     "output_type": "display_data"
    },
    {
     "data": {
      "application/vnd.jupyter.widget-view+json": {
       "model_id": "8da52604670f45e4a66ece196fe90f75",
       "version_major": 2,
       "version_minor": 0
      },
      "text/plain": [
       "Frame:   0%|          | 0/271 [00:00<?, ?frame/s]"
      ]
     },
     "metadata": {},
     "output_type": "display_data"
    },
    {
     "data": {
      "application/vnd.jupyter.widget-view+json": {
       "model_id": "1c58c689eb25415c8c4a6a846747f83e",
       "version_major": 2,
       "version_minor": 0
      },
      "text/plain": [
       "Frame:   0%|          | 0/271 [00:00<?, ?frame/s]"
      ]
     },
     "metadata": {},
     "output_type": "display_data"
    },
    {
     "data": {
      "application/vnd.jupyter.widget-view+json": {
       "model_id": "054bfd22c33a4128887abbce306c9cd3",
       "version_major": 2,
       "version_minor": 0
      },
      "text/plain": [
       "Frame:   0%|          | 0/271 [00:00<?, ?frame/s]"
      ]
     },
     "metadata": {},
     "output_type": "display_data"
    },
    {
     "data": {
      "application/vnd.jupyter.widget-view+json": {
       "model_id": "562780a57efc453ca8e96afa654ca86f",
       "version_major": 2,
       "version_minor": 0
      },
      "text/plain": [
       "Frame:   0%|          | 0/271 [00:00<?, ?frame/s]"
      ]
     },
     "metadata": {},
     "output_type": "display_data"
    },
    {
     "data": {
      "application/vnd.jupyter.widget-view+json": {
       "model_id": "25696477f8594a04a3ac2219d7b5e966",
       "version_major": 2,
       "version_minor": 0
      },
      "text/plain": [
       "Frame:   0%|          | 0/271 [00:00<?, ?frame/s]"
      ]
     },
     "metadata": {},
     "output_type": "display_data"
    },
    {
     "data": {
      "application/vnd.jupyter.widget-view+json": {
       "model_id": "dbdcffcb727e4cee9b651161f8e648ad",
       "version_major": 2,
       "version_minor": 0
      },
      "text/plain": [
       "Frame:   0%|          | 0/271 [00:00<?, ?frame/s]"
      ]
     },
     "metadata": {},
     "output_type": "display_data"
    },
    {
     "data": {
      "application/vnd.jupyter.widget-view+json": {
       "model_id": "6ee11f2e6cfc4f68a446f5b066d7fd37",
       "version_major": 2,
       "version_minor": 0
      },
      "text/plain": [
       "Frame:   0%|          | 0/271 [00:00<?, ?frame/s]"
      ]
     },
     "metadata": {},
     "output_type": "display_data"
    },
    {
     "data": {
      "application/vnd.jupyter.widget-view+json": {
       "model_id": "c90c689d19f646a0b6e2364068367065",
       "version_major": 2,
       "version_minor": 0
      },
      "text/plain": [
       "Frame:   0%|          | 0/271 [00:00<?, ?frame/s]"
      ]
     },
     "metadata": {},
     "output_type": "display_data"
    },
    {
     "data": {
      "application/vnd.jupyter.widget-view+json": {
       "model_id": "f1c9929fffab48a7872f91c95417d694",
       "version_major": 2,
       "version_minor": 0
      },
      "text/plain": [
       "Frame:   0%|          | 0/271 [00:00<?, ?frame/s]"
      ]
     },
     "metadata": {},
     "output_type": "display_data"
    },
    {
     "data": {
      "application/vnd.jupyter.widget-view+json": {
       "model_id": "d67b749b0bac46da890795659bb3b9ed",
       "version_major": 2,
       "version_minor": 0
      },
      "text/plain": [
       "Frame:   0%|          | 0/271 [00:00<?, ?frame/s]"
      ]
     },
     "metadata": {},
     "output_type": "display_data"
    },
    {
     "data": {
      "application/vnd.jupyter.widget-view+json": {
       "model_id": "d666dfd806594027a7d0e77542b9157d",
       "version_major": 2,
       "version_minor": 0
      },
      "text/plain": [
       "Frame:   0%|          | 0/271 [00:00<?, ?frame/s]"
      ]
     },
     "metadata": {},
     "output_type": "display_data"
    },
    {
     "data": {
      "application/vnd.jupyter.widget-view+json": {
       "model_id": "b7ea2236522d47369e221d8fbcd21ab5",
       "version_major": 2,
       "version_minor": 0
      },
      "text/plain": [
       "Frame:   0%|          | 0/271 [00:00<?, ?frame/s]"
      ]
     },
     "metadata": {},
     "output_type": "display_data"
    },
    {
     "data": {
      "application/vnd.jupyter.widget-view+json": {
       "model_id": "042297477cbe4d51bfc715573be2fdaf",
       "version_major": 2,
       "version_minor": 0
      },
      "text/plain": [
       "Frame:   0%|          | 0/271 [00:00<?, ?frame/s]"
      ]
     },
     "metadata": {},
     "output_type": "display_data"
    },
    {
     "data": {
      "application/vnd.jupyter.widget-view+json": {
       "model_id": "cc9c0948f0874f24a1ddddb9d3293128",
       "version_major": 2,
       "version_minor": 0
      },
      "text/plain": [
       "Frame:   0%|          | 0/271 [00:00<?, ?frame/s]"
      ]
     },
     "metadata": {},
     "output_type": "display_data"
    },
    {
     "data": {
      "application/vnd.jupyter.widget-view+json": {
       "model_id": "751a23d91b2f4552a0cd2bfb8f3d5080",
       "version_major": 2,
       "version_minor": 0
      },
      "text/plain": [
       "Frame:   0%|          | 0/271 [00:00<?, ?frame/s]"
      ]
     },
     "metadata": {},
     "output_type": "display_data"
    },
    {
     "data": {
      "application/vnd.jupyter.widget-view+json": {
       "model_id": "adcbf5fcec6a4fb1b2faa258a9e441cd",
       "version_major": 2,
       "version_minor": 0
      },
      "text/plain": [
       "Frame:   0%|          | 0/271 [00:00<?, ?frame/s]"
      ]
     },
     "metadata": {},
     "output_type": "display_data"
    },
    {
     "data": {
      "application/vnd.jupyter.widget-view+json": {
       "model_id": "2c53fd7bbd704ee18563d78603a06c72",
       "version_major": 2,
       "version_minor": 0
      },
      "text/plain": [
       "Frame:   0%|          | 0/271 [00:00<?, ?frame/s]"
      ]
     },
     "metadata": {},
     "output_type": "display_data"
    },
    {
     "data": {
      "application/vnd.jupyter.widget-view+json": {
       "model_id": "badb6154ea3a4542ae77bcc9cc455882",
       "version_major": 2,
       "version_minor": 0
      },
      "text/plain": [
       "Frame:   0%|          | 0/271 [00:00<?, ?frame/s]"
      ]
     },
     "metadata": {},
     "output_type": "display_data"
    },
    {
     "data": {
      "application/vnd.jupyter.widget-view+json": {
       "model_id": "219eb28efc094f29beee8db2d376f7f2",
       "version_major": 2,
       "version_minor": 0
      },
      "text/plain": [
       "Frame:   0%|          | 0/271 [00:00<?, ?frame/s]"
      ]
     },
     "metadata": {},
     "output_type": "display_data"
    },
    {
     "data": {
      "application/vnd.jupyter.widget-view+json": {
       "model_id": "9e120fc7771948aab06bcbe708865b6f",
       "version_major": 2,
       "version_minor": 0
      },
      "text/plain": [
       "Frame:   0%|          | 0/271 [00:00<?, ?frame/s]"
      ]
     },
     "metadata": {},
     "output_type": "display_data"
    },
    {
     "data": {
      "application/vnd.jupyter.widget-view+json": {
       "model_id": "09992c658cd048629994e96a28ecb686",
       "version_major": 2,
       "version_minor": 0
      },
      "text/plain": [
       "Frame:   0%|          | 0/271 [00:00<?, ?frame/s]"
      ]
     },
     "metadata": {},
     "output_type": "display_data"
    },
    {
     "data": {
      "application/vnd.jupyter.widget-view+json": {
       "model_id": "832f6a3e621f47a58ec4bea0d66fefe5",
       "version_major": 2,
       "version_minor": 0
      },
      "text/plain": [
       "Frame:   0%|          | 0/271 [00:00<?, ?frame/s]"
      ]
     },
     "metadata": {},
     "output_type": "display_data"
    },
    {
     "data": {
      "application/vnd.jupyter.widget-view+json": {
       "model_id": "5c973f06e52f41b9af2b65812baac2dd",
       "version_major": 2,
       "version_minor": 0
      },
      "text/plain": [
       "Frame:   0%|          | 0/271 [00:00<?, ?frame/s]"
      ]
     },
     "metadata": {},
     "output_type": "display_data"
    },
    {
     "data": {
      "application/vnd.jupyter.widget-view+json": {
       "model_id": "aeef480ad3594101ad3b9cf061403ec1",
       "version_major": 2,
       "version_minor": 0
      },
      "text/plain": [
       "Frame:   0%|          | 0/271 [00:00<?, ?frame/s]"
      ]
     },
     "metadata": {},
     "output_type": "display_data"
    },
    {
     "data": {
      "application/vnd.jupyter.widget-view+json": {
       "model_id": "e1ef3c6c4ab1498a9f9e1711a2a3fc9d",
       "version_major": 2,
       "version_minor": 0
      },
      "text/plain": [
       "Frame:   0%|          | 0/271 [00:00<?, ?frame/s]"
      ]
     },
     "metadata": {},
     "output_type": "display_data"
    },
    {
     "data": {
      "application/vnd.jupyter.widget-view+json": {
       "model_id": "b36f3a16d24d4904a53acd84a6d3c9e8",
       "version_major": 2,
       "version_minor": 0
      },
      "text/plain": [
       "Frame:   0%|          | 0/271 [00:00<?, ?frame/s]"
      ]
     },
     "metadata": {},
     "output_type": "display_data"
    },
    {
     "data": {
      "application/vnd.jupyter.widget-view+json": {
       "model_id": "07f7492f4c77427299c3b7c4cea3904c",
       "version_major": 2,
       "version_minor": 0
      },
      "text/plain": [
       "Frame:   0%|          | 0/271 [00:00<?, ?frame/s]"
      ]
     },
     "metadata": {},
     "output_type": "display_data"
    },
    {
     "data": {
      "application/vnd.jupyter.widget-view+json": {
       "model_id": "516ad5ca48c84ec7a8715f449a2a99c3",
       "version_major": 2,
       "version_minor": 0
      },
      "text/plain": [
       "Frame:   0%|          | 0/271 [00:00<?, ?frame/s]"
      ]
     },
     "metadata": {},
     "output_type": "display_data"
    },
    {
     "data": {
      "application/vnd.jupyter.widget-view+json": {
       "model_id": "44729aa33cc3436383178003f30de1be",
       "version_major": 2,
       "version_minor": 0
      },
      "text/plain": [
       "Frame:   0%|          | 0/271 [00:00<?, ?frame/s]"
      ]
     },
     "metadata": {},
     "output_type": "display_data"
    },
    {
     "data": {
      "application/vnd.jupyter.widget-view+json": {
       "model_id": "4f88bf293f454bec8d53ae8222bcaf1e",
       "version_major": 2,
       "version_minor": 0
      },
      "text/plain": [
       "Frame:   0%|          | 0/271 [00:00<?, ?frame/s]"
      ]
     },
     "metadata": {},
     "output_type": "display_data"
    },
    {
     "data": {
      "application/vnd.jupyter.widget-view+json": {
       "model_id": "513b100a92374a539e5852dd96d5e2dc",
       "version_major": 2,
       "version_minor": 0
      },
      "text/plain": [
       "Frame:   0%|          | 0/271 [00:00<?, ?frame/s]"
      ]
     },
     "metadata": {},
     "output_type": "display_data"
    },
    {
     "data": {
      "application/vnd.jupyter.widget-view+json": {
       "model_id": "0c5acc07226340a087cb919a42c5c101",
       "version_major": 2,
       "version_minor": 0
      },
      "text/plain": [
       "Frame:   0%|          | 0/271 [00:00<?, ?frame/s]"
      ]
     },
     "metadata": {},
     "output_type": "display_data"
    },
    {
     "data": {
      "application/vnd.jupyter.widget-view+json": {
       "model_id": "605c4861e75b44c1a34925cde194a057",
       "version_major": 2,
       "version_minor": 0
      },
      "text/plain": [
       "Frame:   0%|          | 0/271 [00:00<?, ?frame/s]"
      ]
     },
     "metadata": {},
     "output_type": "display_data"
    },
    {
     "data": {
      "application/vnd.jupyter.widget-view+json": {
       "model_id": "89e81adcaa7c4fd697986d6ab2627eb9",
       "version_major": 2,
       "version_minor": 0
      },
      "text/plain": [
       "Frame:   0%|          | 0/271 [00:00<?, ?frame/s]"
      ]
     },
     "metadata": {},
     "output_type": "display_data"
    },
    {
     "data": {
      "application/vnd.jupyter.widget-view+json": {
       "model_id": "21f53c295cbe40ac8f1ddf94aeb3b981",
       "version_major": 2,
       "version_minor": 0
      },
      "text/plain": [
       "Frame:   0%|          | 0/271 [00:00<?, ?frame/s]"
      ]
     },
     "metadata": {},
     "output_type": "display_data"
    },
    {
     "data": {
      "application/vnd.jupyter.widget-view+json": {
       "model_id": "b79ad3c61d824db6b481cce809b8a326",
       "version_major": 2,
       "version_minor": 0
      },
      "text/plain": [
       "Frame:   0%|          | 0/271 [00:00<?, ?frame/s]"
      ]
     },
     "metadata": {},
     "output_type": "display_data"
    },
    {
     "data": {
      "application/vnd.jupyter.widget-view+json": {
       "model_id": "73071f11a5774f40a1f3263dce2997a1",
       "version_major": 2,
       "version_minor": 0
      },
      "text/plain": [
       "Frame:   0%|          | 0/271 [00:00<?, ?frame/s]"
      ]
     },
     "metadata": {},
     "output_type": "display_data"
    },
    {
     "data": {
      "application/vnd.jupyter.widget-view+json": {
       "model_id": "be4f7a3f15894e23b341a8e26fdcce26",
       "version_major": 2,
       "version_minor": 0
      },
      "text/plain": [
       "Frame:   0%|          | 0/271 [00:00<?, ?frame/s]"
      ]
     },
     "metadata": {},
     "output_type": "display_data"
    },
    {
     "data": {
      "application/vnd.jupyter.widget-view+json": {
       "model_id": "bd94389450a94d22b1d4a8dcbda4476b",
       "version_major": 2,
       "version_minor": 0
      },
      "text/plain": [
       "Frame:   0%|          | 0/271 [00:00<?, ?frame/s]"
      ]
     },
     "metadata": {},
     "output_type": "display_data"
    },
    {
     "data": {
      "application/vnd.jupyter.widget-view+json": {
       "model_id": "c314ae8550184ff18bb61ece2bef8ebe",
       "version_major": 2,
       "version_minor": 0
      },
      "text/plain": [
       "Frame:   0%|          | 0/271 [00:00<?, ?frame/s]"
      ]
     },
     "metadata": {},
     "output_type": "display_data"
    },
    {
     "data": {
      "application/vnd.jupyter.widget-view+json": {
       "model_id": "0cb34379e45d4fa0a1a38a9f48bf3b88",
       "version_major": 2,
       "version_minor": 0
      },
      "text/plain": [
       "Frame:   0%|          | 0/271 [00:00<?, ?frame/s]"
      ]
     },
     "metadata": {},
     "output_type": "display_data"
    },
    {
     "data": {
      "application/vnd.jupyter.widget-view+json": {
       "model_id": "d383b647834d4931848ecb53294b20ae",
       "version_major": 2,
       "version_minor": 0
      },
      "text/plain": [
       "Frame:   0%|          | 0/271 [00:00<?, ?frame/s]"
      ]
     },
     "metadata": {},
     "output_type": "display_data"
    },
    {
     "data": {
      "application/vnd.jupyter.widget-view+json": {
       "model_id": "c3187fe11b304f63b479688b5bd39a09",
       "version_major": 2,
       "version_minor": 0
      },
      "text/plain": [
       "Frame:   0%|          | 0/271 [00:00<?, ?frame/s]"
      ]
     },
     "metadata": {},
     "output_type": "display_data"
    },
    {
     "data": {
      "application/vnd.jupyter.widget-view+json": {
       "model_id": "f1969291ef294dec879a7d718143ee73",
       "version_major": 2,
       "version_minor": 0
      },
      "text/plain": [
       "Frame:   0%|          | 0/271 [00:00<?, ?frame/s]"
      ]
     },
     "metadata": {},
     "output_type": "display_data"
    },
    {
     "data": {
      "application/vnd.jupyter.widget-view+json": {
       "model_id": "6d91fad570fd43dbbf24d4eeccf16cd2",
       "version_major": 2,
       "version_minor": 0
      },
      "text/plain": [
       "Frame:   0%|          | 0/271 [00:00<?, ?frame/s]"
      ]
     },
     "metadata": {},
     "output_type": "display_data"
    },
    {
     "data": {
      "application/vnd.jupyter.widget-view+json": {
       "model_id": "b35ff27f46024c549c4632f005bbfb67",
       "version_major": 2,
       "version_minor": 0
      },
      "text/plain": [
       "Frame:   0%|          | 0/271 [00:00<?, ?frame/s]"
      ]
     },
     "metadata": {},
     "output_type": "display_data"
    },
    {
     "data": {
      "application/vnd.jupyter.widget-view+json": {
       "model_id": "7263b4201bc047dcbaf4db4a97ce9af1",
       "version_major": 2,
       "version_minor": 0
      },
      "text/plain": [
       "Frame:   0%|          | 0/271 [00:00<?, ?frame/s]"
      ]
     },
     "metadata": {},
     "output_type": "display_data"
    },
    {
     "data": {
      "application/vnd.jupyter.widget-view+json": {
       "model_id": "a70c3edfeb95444888a492acac02d099",
       "version_major": 2,
       "version_minor": 0
      },
      "text/plain": [
       "Frame:   0%|          | 0/271 [00:00<?, ?frame/s]"
      ]
     },
     "metadata": {},
     "output_type": "display_data"
    },
    {
     "data": {
      "application/vnd.jupyter.widget-view+json": {
       "model_id": "2c6929ea55ca4d92a0a5c459f9ba572f",
       "version_major": 2,
       "version_minor": 0
      },
      "text/plain": [
       "Frame:   0%|          | 0/271 [00:00<?, ?frame/s]"
      ]
     },
     "metadata": {},
     "output_type": "display_data"
    },
    {
     "data": {
      "application/vnd.jupyter.widget-view+json": {
       "model_id": "0873116cf5cf418c83924b78f5083796",
       "version_major": 2,
       "version_minor": 0
      },
      "text/plain": [
       "Frame:   0%|          | 0/271 [00:00<?, ?frame/s]"
      ]
     },
     "metadata": {},
     "output_type": "display_data"
    },
    {
     "data": {
      "application/vnd.jupyter.widget-view+json": {
       "model_id": "523f662e912146398048673f63dd4441",
       "version_major": 2,
       "version_minor": 0
      },
      "text/plain": [
       "Frame:   0%|          | 0/271 [00:00<?, ?frame/s]"
      ]
     },
     "metadata": {},
     "output_type": "display_data"
    },
    {
     "data": {
      "application/vnd.jupyter.widget-view+json": {
       "model_id": "3dd89ef278b043f58f0c76e597316a90",
       "version_major": 2,
       "version_minor": 0
      },
      "text/plain": [
       "Frame:   0%|          | 0/271 [00:00<?, ?frame/s]"
      ]
     },
     "metadata": {},
     "output_type": "display_data"
    },
    {
     "data": {
      "application/vnd.jupyter.widget-view+json": {
       "model_id": "f9b6349dfb1747848e9646181294be2e",
       "version_major": 2,
       "version_minor": 0
      },
      "text/plain": [
       "Frame:   0%|          | 0/271 [00:00<?, ?frame/s]"
      ]
     },
     "metadata": {},
     "output_type": "display_data"
    },
    {
     "data": {
      "application/vnd.jupyter.widget-view+json": {
       "model_id": "31a386d7c218469eb62fd2295f0891ee",
       "version_major": 2,
       "version_minor": 0
      },
      "text/plain": [
       "Frame:   0%|          | 0/271 [00:00<?, ?frame/s]"
      ]
     },
     "metadata": {},
     "output_type": "display_data"
    },
    {
     "data": {
      "application/vnd.jupyter.widget-view+json": {
       "model_id": "15376d070ae245ccb670009e903a8433",
       "version_major": 2,
       "version_minor": 0
      },
      "text/plain": [
       "Frame:   0%|          | 0/271 [00:00<?, ?frame/s]"
      ]
     },
     "metadata": {},
     "output_type": "display_data"
    },
    {
     "data": {
      "application/vnd.jupyter.widget-view+json": {
       "model_id": "a16453e5e3d44b63aaafe37c05fd2f50",
       "version_major": 2,
       "version_minor": 0
      },
      "text/plain": [
       "Frame:   0%|          | 0/271 [00:00<?, ?frame/s]"
      ]
     },
     "metadata": {},
     "output_type": "display_data"
    },
    {
     "data": {
      "application/vnd.jupyter.widget-view+json": {
       "model_id": "ac80d287bc5146e682f082f93bb96776",
       "version_major": 2,
       "version_minor": 0
      },
      "text/plain": [
       "Frame:   0%|          | 0/271 [00:00<?, ?frame/s]"
      ]
     },
     "metadata": {},
     "output_type": "display_data"
    },
    {
     "data": {
      "application/vnd.jupyter.widget-view+json": {
       "model_id": "f04bbb4bb7c741bf830752e246822926",
       "version_major": 2,
       "version_minor": 0
      },
      "text/plain": [
       "Frame:   0%|          | 0/271 [00:00<?, ?frame/s]"
      ]
     },
     "metadata": {},
     "output_type": "display_data"
    },
    {
     "data": {
      "application/vnd.jupyter.widget-view+json": {
       "model_id": "d0c867818ffb48538d842302aaaa0b2c",
       "version_major": 2,
       "version_minor": 0
      },
      "text/plain": [
       "Frame:   0%|          | 0/271 [00:00<?, ?frame/s]"
      ]
     },
     "metadata": {},
     "output_type": "display_data"
    },
    {
     "data": {
      "application/vnd.jupyter.widget-view+json": {
       "model_id": "324519c460964ec7acfde96bb2f8738d",
       "version_major": 2,
       "version_minor": 0
      },
      "text/plain": [
       "Frame:   0%|          | 0/271 [00:00<?, ?frame/s]"
      ]
     },
     "metadata": {},
     "output_type": "display_data"
    },
    {
     "data": {
      "application/vnd.jupyter.widget-view+json": {
       "model_id": "d753ea8cb8a946e7996a251edf6216a3",
       "version_major": 2,
       "version_minor": 0
      },
      "text/plain": [
       "Frame:   0%|          | 0/271 [00:00<?, ?frame/s]"
      ]
     },
     "metadata": {},
     "output_type": "display_data"
    },
    {
     "data": {
      "application/vnd.jupyter.widget-view+json": {
       "model_id": "4d7816cf56494d0bb413d85b2253cf1e",
       "version_major": 2,
       "version_minor": 0
      },
      "text/plain": [
       "Frame:   0%|          | 0/271 [00:00<?, ?frame/s]"
      ]
     },
     "metadata": {},
     "output_type": "display_data"
    },
    {
     "data": {
      "application/vnd.jupyter.widget-view+json": {
       "model_id": "cfbc4a5010234240ba81badd4eb5e7a5",
       "version_major": 2,
       "version_minor": 0
      },
      "text/plain": [
       "Frame:   0%|          | 0/271 [00:00<?, ?frame/s]"
      ]
     },
     "metadata": {},
     "output_type": "display_data"
    },
    {
     "data": {
      "application/vnd.jupyter.widget-view+json": {
       "model_id": "0a8c0a7d31664f15bdcfee83043f55a9",
       "version_major": 2,
       "version_minor": 0
      },
      "text/plain": [
       "Frame:   0%|          | 0/271 [00:00<?, ?frame/s]"
      ]
     },
     "metadata": {},
     "output_type": "display_data"
    },
    {
     "data": {
      "application/vnd.jupyter.widget-view+json": {
       "model_id": "fd8bc8e9e9b94fe396d6ba086311a3a2",
       "version_major": 2,
       "version_minor": 0
      },
      "text/plain": [
       "Frame:   0%|          | 0/271 [00:00<?, ?frame/s]"
      ]
     },
     "metadata": {},
     "output_type": "display_data"
    },
    {
     "data": {
      "application/vnd.jupyter.widget-view+json": {
       "model_id": "aa122990c065499ea7366414d045cc7c",
       "version_major": 2,
       "version_minor": 0
      },
      "text/plain": [
       "Frame:   0%|          | 0/271 [00:00<?, ?frame/s]"
      ]
     },
     "metadata": {},
     "output_type": "display_data"
    },
    {
     "data": {
      "application/vnd.jupyter.widget-view+json": {
       "model_id": "39ca4c0324ec47e097179e62fdb387b6",
       "version_major": 2,
       "version_minor": 0
      },
      "text/plain": [
       "Frame:   0%|          | 0/271 [00:00<?, ?frame/s]"
      ]
     },
     "metadata": {},
     "output_type": "display_data"
    },
    {
     "data": {
      "application/vnd.jupyter.widget-view+json": {
       "model_id": "d17286ec24914353a0d3d639d1fe0db3",
       "version_major": 2,
       "version_minor": 0
      },
      "text/plain": [
       "Frame:   0%|          | 0/271 [00:00<?, ?frame/s]"
      ]
     },
     "metadata": {},
     "output_type": "display_data"
    },
    {
     "data": {
      "application/vnd.jupyter.widget-view+json": {
       "model_id": "aad39af475264460959fed045f80dd7b",
       "version_major": 2,
       "version_minor": 0
      },
      "text/plain": [
       "Frame:   0%|          | 0/271 [00:00<?, ?frame/s]"
      ]
     },
     "metadata": {},
     "output_type": "display_data"
    },
    {
     "data": {
      "application/vnd.jupyter.widget-view+json": {
       "model_id": "52a739726df54ee18192e3458d455f18",
       "version_major": 2,
       "version_minor": 0
      },
      "text/plain": [
       "Frame:   0%|          | 0/271 [00:00<?, ?frame/s]"
      ]
     },
     "metadata": {},
     "output_type": "display_data"
    },
    {
     "data": {
      "application/vnd.jupyter.widget-view+json": {
       "model_id": "1b8ab13167f94668bebcc4d77b471e26",
       "version_major": 2,
       "version_minor": 0
      },
      "text/plain": [
       "Frame:   0%|          | 0/271 [00:00<?, ?frame/s]"
      ]
     },
     "metadata": {},
     "output_type": "display_data"
    },
    {
     "data": {
      "application/vnd.jupyter.widget-view+json": {
       "model_id": "9d9420e0858b4444bbaec1be664047f0",
       "version_major": 2,
       "version_minor": 0
      },
      "text/plain": [
       "Frame:   0%|          | 0/271 [00:00<?, ?frame/s]"
      ]
     },
     "metadata": {},
     "output_type": "display_data"
    },
    {
     "data": {
      "application/vnd.jupyter.widget-view+json": {
       "model_id": "85d5276f291a431e9ac88b213b3a260c",
       "version_major": 2,
       "version_minor": 0
      },
      "text/plain": [
       "Frame:   0%|          | 0/271 [00:00<?, ?frame/s]"
      ]
     },
     "metadata": {},
     "output_type": "display_data"
    },
    {
     "data": {
      "application/vnd.jupyter.widget-view+json": {
       "model_id": "16014f9e61ae4fbdb7d9b70454f4c9b9",
       "version_major": 2,
       "version_minor": 0
      },
      "text/plain": [
       "Frame:   0%|          | 0/271 [00:00<?, ?frame/s]"
      ]
     },
     "metadata": {},
     "output_type": "display_data"
    },
    {
     "data": {
      "application/vnd.jupyter.widget-view+json": {
       "model_id": "2f20455066214603b89b08bc30534a73",
       "version_major": 2,
       "version_minor": 0
      },
      "text/plain": [
       "Frame:   0%|          | 0/271 [00:00<?, ?frame/s]"
      ]
     },
     "metadata": {},
     "output_type": "display_data"
    },
    {
     "data": {
      "application/vnd.jupyter.widget-view+json": {
       "model_id": "4ed588ef72ad4588b87ab2e5dae5e8a1",
       "version_major": 2,
       "version_minor": 0
      },
      "text/plain": [
       "Frame:   0%|          | 0/271 [00:00<?, ?frame/s]"
      ]
     },
     "metadata": {},
     "output_type": "display_data"
    },
    {
     "data": {
      "application/vnd.jupyter.widget-view+json": {
       "model_id": "27daa299c1c64bf584cc48ba5f96fd42",
       "version_major": 2,
       "version_minor": 0
      },
      "text/plain": [
       "Frame:   0%|          | 0/271 [00:00<?, ?frame/s]"
      ]
     },
     "metadata": {},
     "output_type": "display_data"
    },
    {
     "data": {
      "application/vnd.jupyter.widget-view+json": {
       "model_id": "cc646af0a41247bcae8f5816780d2a13",
       "version_major": 2,
       "version_minor": 0
      },
      "text/plain": [
       "Frame:   0%|          | 0/271 [00:00<?, ?frame/s]"
      ]
     },
     "metadata": {},
     "output_type": "display_data"
    },
    {
     "data": {
      "application/vnd.jupyter.widget-view+json": {
       "model_id": "11d2aa141f494f89b94bcfed7aff0542",
       "version_major": 2,
       "version_minor": 0
      },
      "text/plain": [
       "Frame:   0%|          | 0/271 [00:00<?, ?frame/s]"
      ]
     },
     "metadata": {},
     "output_type": "display_data"
    },
    {
     "data": {
      "application/vnd.jupyter.widget-view+json": {
       "model_id": "aedd9e1b69fe4fb48341dffec139978f",
       "version_major": 2,
       "version_minor": 0
      },
      "text/plain": [
       "Frame:   0%|          | 0/271 [00:00<?, ?frame/s]"
      ]
     },
     "metadata": {},
     "output_type": "display_data"
    },
    {
     "data": {
      "application/vnd.jupyter.widget-view+json": {
       "model_id": "1b3223e2aaa04a7c9c51859cc31c7e6d",
       "version_major": 2,
       "version_minor": 0
      },
      "text/plain": [
       "Frame:   0%|          | 0/271 [00:00<?, ?frame/s]"
      ]
     },
     "metadata": {},
     "output_type": "display_data"
    },
    {
     "data": {
      "application/vnd.jupyter.widget-view+json": {
       "model_id": "349031c5f40c4a50acb1078ee49a21e6",
       "version_major": 2,
       "version_minor": 0
      },
      "text/plain": [
       "Frame:   0%|          | 0/271 [00:00<?, ?frame/s]"
      ]
     },
     "metadata": {},
     "output_type": "display_data"
    },
    {
     "data": {
      "application/vnd.jupyter.widget-view+json": {
       "model_id": "d7a42294f3a14f3a848cdac987b11634",
       "version_major": 2,
       "version_minor": 0
      },
      "text/plain": [
       "Frame:   0%|          | 0/271 [00:00<?, ?frame/s]"
      ]
     },
     "metadata": {},
     "output_type": "display_data"
    },
    {
     "data": {
      "application/vnd.jupyter.widget-view+json": {
       "model_id": "f9487234af8a4efc8753102cdc7a1027",
       "version_major": 2,
       "version_minor": 0
      },
      "text/plain": [
       "Frame:   0%|          | 0/271 [00:00<?, ?frame/s]"
      ]
     },
     "metadata": {},
     "output_type": "display_data"
    },
    {
     "data": {
      "application/vnd.jupyter.widget-view+json": {
       "model_id": "d5ebb21d1dd04ca6b22276f6c558dbcd",
       "version_major": 2,
       "version_minor": 0
      },
      "text/plain": [
       "Frame:   0%|          | 0/271 [00:00<?, ?frame/s]"
      ]
     },
     "metadata": {},
     "output_type": "display_data"
    },
    {
     "data": {
      "application/vnd.jupyter.widget-view+json": {
       "model_id": "e5ec0dcae27446fd93337897303a426b",
       "version_major": 2,
       "version_minor": 0
      },
      "text/plain": [
       "Frame:   0%|          | 0/271 [00:00<?, ?frame/s]"
      ]
     },
     "metadata": {},
     "output_type": "display_data"
    },
    {
     "data": {
      "application/vnd.jupyter.widget-view+json": {
       "model_id": "e14b71d309c6462dbb07cdaaab3cd495",
       "version_major": 2,
       "version_minor": 0
      },
      "text/plain": [
       "Frame:   0%|          | 0/271 [00:00<?, ?frame/s]"
      ]
     },
     "metadata": {},
     "output_type": "display_data"
    },
    {
     "data": {
      "application/vnd.jupyter.widget-view+json": {
       "model_id": "25655a0231b346778ee2fa93692e3d7f",
       "version_major": 2,
       "version_minor": 0
      },
      "text/plain": [
       "Frame:   0%|          | 0/271 [00:00<?, ?frame/s]"
      ]
     },
     "metadata": {},
     "output_type": "display_data"
    },
    {
     "data": {
      "application/vnd.jupyter.widget-view+json": {
       "model_id": "8fce9670bd1b44f3b59e1733161a612e",
       "version_major": 2,
       "version_minor": 0
      },
      "text/plain": [
       "Frame:   0%|          | 0/271 [00:00<?, ?frame/s]"
      ]
     },
     "metadata": {},
     "output_type": "display_data"
    },
    {
     "data": {
      "application/vnd.jupyter.widget-view+json": {
       "model_id": "f26b464798dd4dcbb90c76ed28c19a0e",
       "version_major": 2,
       "version_minor": 0
      },
      "text/plain": [
       "Frame:   0%|          | 0/271 [00:00<?, ?frame/s]"
      ]
     },
     "metadata": {},
     "output_type": "display_data"
    },
    {
     "data": {
      "application/vnd.jupyter.widget-view+json": {
       "model_id": "f88f48859c7840b2860d0167d9576da0",
       "version_major": 2,
       "version_minor": 0
      },
      "text/plain": [
       "Frame:   0%|          | 0/271 [00:00<?, ?frame/s]"
      ]
     },
     "metadata": {},
     "output_type": "display_data"
    },
    {
     "data": {
      "application/vnd.jupyter.widget-view+json": {
       "model_id": "299fce0a45be4591979b1d978dd4b6b0",
       "version_major": 2,
       "version_minor": 0
      },
      "text/plain": [
       "Frame:   0%|          | 0/271 [00:00<?, ?frame/s]"
      ]
     },
     "metadata": {},
     "output_type": "display_data"
    },
    {
     "data": {
      "application/vnd.jupyter.widget-view+json": {
       "model_id": "101bb39580c94f03aecd53fd16d03335",
       "version_major": 2,
       "version_minor": 0
      },
      "text/plain": [
       "Frame:   0%|          | 0/271 [00:00<?, ?frame/s]"
      ]
     },
     "metadata": {},
     "output_type": "display_data"
    },
    {
     "data": {
      "application/vnd.jupyter.widget-view+json": {
       "model_id": "b424ceea0f3c4ab79f298cc14b2b988d",
       "version_major": 2,
       "version_minor": 0
      },
      "text/plain": [
       "Frame:   0%|          | 0/271 [00:00<?, ?frame/s]"
      ]
     },
     "metadata": {},
     "output_type": "display_data"
    },
    {
     "data": {
      "application/vnd.jupyter.widget-view+json": {
       "model_id": "487105d7f9ec4bb69864e5d5dddf982a",
       "version_major": 2,
       "version_minor": 0
      },
      "text/plain": [
       "Frame:   0%|          | 0/271 [00:00<?, ?frame/s]"
      ]
     },
     "metadata": {},
     "output_type": "display_data"
    },
    {
     "data": {
      "application/vnd.jupyter.widget-view+json": {
       "model_id": "77dc51eee9874f5eafc3fba5bf96bf6a",
       "version_major": 2,
       "version_minor": 0
      },
      "text/plain": [
       "Frame:   0%|          | 0/271 [00:00<?, ?frame/s]"
      ]
     },
     "metadata": {},
     "output_type": "display_data"
    },
    {
     "data": {
      "application/vnd.jupyter.widget-view+json": {
       "model_id": "f456db522781469691cc315d092d1177",
       "version_major": 2,
       "version_minor": 0
      },
      "text/plain": [
       "Frame:   0%|          | 0/271 [00:00<?, ?frame/s]"
      ]
     },
     "metadata": {},
     "output_type": "display_data"
    },
    {
     "data": {
      "application/vnd.jupyter.widget-view+json": {
       "model_id": "755cb977fe7c43e586907ea3e622375c",
       "version_major": 2,
       "version_minor": 0
      },
      "text/plain": [
       "Frame:   0%|          | 0/271 [00:00<?, ?frame/s]"
      ]
     },
     "metadata": {},
     "output_type": "display_data"
    },
    {
     "data": {
      "application/vnd.jupyter.widget-view+json": {
       "model_id": "e365c6cda6f64f32b2890de9d4c22a55",
       "version_major": 2,
       "version_minor": 0
      },
      "text/plain": [
       "Frame:   0%|          | 0/271 [00:00<?, ?frame/s]"
      ]
     },
     "metadata": {},
     "output_type": "display_data"
    },
    {
     "data": {
      "application/vnd.jupyter.widget-view+json": {
       "model_id": "a7a127c7edca4891a76ba9626f2587a6",
       "version_major": 2,
       "version_minor": 0
      },
      "text/plain": [
       "Frame:   0%|          | 0/271 [00:00<?, ?frame/s]"
      ]
     },
     "metadata": {},
     "output_type": "display_data"
    },
    {
     "data": {
      "application/vnd.jupyter.widget-view+json": {
       "model_id": "77996f08e94049c5816193d18fb72196",
       "version_major": 2,
       "version_minor": 0
      },
      "text/plain": [
       "Frame:   0%|          | 0/271 [00:00<?, ?frame/s]"
      ]
     },
     "metadata": {},
     "output_type": "display_data"
    },
    {
     "data": {
      "application/vnd.jupyter.widget-view+json": {
       "model_id": "0eeb7f50aa4c461a87d87d78c63002f2",
       "version_major": 2,
       "version_minor": 0
      },
      "text/plain": [
       "Frame:   0%|          | 0/271 [00:00<?, ?frame/s]"
      ]
     },
     "metadata": {},
     "output_type": "display_data"
    },
    {
     "data": {
      "application/vnd.jupyter.widget-view+json": {
       "model_id": "873437b7d17142babdd57a0d43756b8e",
       "version_major": 2,
       "version_minor": 0
      },
      "text/plain": [
       "Frame:   0%|          | 0/271 [00:00<?, ?frame/s]"
      ]
     },
     "metadata": {},
     "output_type": "display_data"
    },
    {
     "data": {
      "application/vnd.jupyter.widget-view+json": {
       "model_id": "258d91543d644f2d8778d4f7d93a44be",
       "version_major": 2,
       "version_minor": 0
      },
      "text/plain": [
       "Frame:   0%|          | 0/271 [00:00<?, ?frame/s]"
      ]
     },
     "metadata": {},
     "output_type": "display_data"
    },
    {
     "data": {
      "application/vnd.jupyter.widget-view+json": {
       "model_id": "6f1b00b67bca49c4a396478dc6638ba1",
       "version_major": 2,
       "version_minor": 0
      },
      "text/plain": [
       "Frame:   0%|          | 0/271 [00:00<?, ?frame/s]"
      ]
     },
     "metadata": {},
     "output_type": "display_data"
    },
    {
     "data": {
      "application/vnd.jupyter.widget-view+json": {
       "model_id": "30dfdf52838f43319027d689bc4a3ce6",
       "version_major": 2,
       "version_minor": 0
      },
      "text/plain": [
       "Frame:   0%|          | 0/271 [00:00<?, ?frame/s]"
      ]
     },
     "metadata": {},
     "output_type": "display_data"
    },
    {
     "data": {
      "application/vnd.jupyter.widget-view+json": {
       "model_id": "b41d3a62354e4a8aa8d0c9607c0a12e2",
       "version_major": 2,
       "version_minor": 0
      },
      "text/plain": [
       "Frame:   0%|          | 0/271 [00:00<?, ?frame/s]"
      ]
     },
     "metadata": {},
     "output_type": "display_data"
    },
    {
     "data": {
      "application/vnd.jupyter.widget-view+json": {
       "model_id": "cf8963c95be14d1c8bbf211e5bcc70e9",
       "version_major": 2,
       "version_minor": 0
      },
      "text/plain": [
       "Frame:   0%|          | 0/271 [00:00<?, ?frame/s]"
      ]
     },
     "metadata": {},
     "output_type": "display_data"
    },
    {
     "data": {
      "application/vnd.jupyter.widget-view+json": {
       "model_id": "ce0b58db74a6476283982bcf1435df87",
       "version_major": 2,
       "version_minor": 0
      },
      "text/plain": [
       "Frame:   0%|          | 0/271 [00:00<?, ?frame/s]"
      ]
     },
     "metadata": {},
     "output_type": "display_data"
    },
    {
     "data": {
      "application/vnd.jupyter.widget-view+json": {
       "model_id": "7fbf57783e4642ddad5ec895b2c68f63",
       "version_major": 2,
       "version_minor": 0
      },
      "text/plain": [
       "Frame:   0%|          | 0/271 [00:00<?, ?frame/s]"
      ]
     },
     "metadata": {},
     "output_type": "display_data"
    },
    {
     "data": {
      "application/vnd.jupyter.widget-view+json": {
       "model_id": "2cc88ffcc7624f6f94dc68799bb8dd8d",
       "version_major": 2,
       "version_minor": 0
      },
      "text/plain": [
       "Frame:   0%|          | 0/271 [00:00<?, ?frame/s]"
      ]
     },
     "metadata": {},
     "output_type": "display_data"
    },
    {
     "data": {
      "application/vnd.jupyter.widget-view+json": {
       "model_id": "1f9ebec773ec48f7807475f426aab5d3",
       "version_major": 2,
       "version_minor": 0
      },
      "text/plain": [
       "Frame:   0%|          | 0/271 [00:00<?, ?frame/s]"
      ]
     },
     "metadata": {},
     "output_type": "display_data"
    },
    {
     "data": {
      "application/vnd.jupyter.widget-view+json": {
       "model_id": "3d52754c079c4f0794115f5aadf54f9b",
       "version_major": 2,
       "version_minor": 0
      },
      "text/plain": [
       "Frame:   0%|          | 0/271 [00:00<?, ?frame/s]"
      ]
     },
     "metadata": {},
     "output_type": "display_data"
    },
    {
     "data": {
      "application/vnd.jupyter.widget-view+json": {
       "model_id": "bb80bf449a584ca1acbbc610fb10ad14",
       "version_major": 2,
       "version_minor": 0
      },
      "text/plain": [
       "Frame:   0%|          | 0/271 [00:00<?, ?frame/s]"
      ]
     },
     "metadata": {},
     "output_type": "display_data"
    },
    {
     "data": {
      "application/vnd.jupyter.widget-view+json": {
       "model_id": "130ac7ca394f46acbbe56938fdc9026a",
       "version_major": 2,
       "version_minor": 0
      },
      "text/plain": [
       "Frame:   0%|          | 0/271 [00:00<?, ?frame/s]"
      ]
     },
     "metadata": {},
     "output_type": "display_data"
    },
    {
     "data": {
      "application/vnd.jupyter.widget-view+json": {
       "model_id": "4b7fc48b7f38477da06ed48a75c364aa",
       "version_major": 2,
       "version_minor": 0
      },
      "text/plain": [
       "Frame:   0%|          | 0/271 [00:00<?, ?frame/s]"
      ]
     },
     "metadata": {},
     "output_type": "display_data"
    },
    {
     "data": {
      "application/vnd.jupyter.widget-view+json": {
       "model_id": "e661ab3865ac481294b07af21e8377eb",
       "version_major": 2,
       "version_minor": 0
      },
      "text/plain": [
       "Frame:   0%|          | 0/271 [00:00<?, ?frame/s]"
      ]
     },
     "metadata": {},
     "output_type": "display_data"
    },
    {
     "data": {
      "application/vnd.jupyter.widget-view+json": {
       "model_id": "38ec88ce7965498095690bfcc7051654",
       "version_major": 2,
       "version_minor": 0
      },
      "text/plain": [
       "Frame:   0%|          | 0/271 [00:00<?, ?frame/s]"
      ]
     },
     "metadata": {},
     "output_type": "display_data"
    },
    {
     "data": {
      "application/vnd.jupyter.widget-view+json": {
       "model_id": "0ceb4f5c4cb044ed8983b00a33fbb320",
       "version_major": 2,
       "version_minor": 0
      },
      "text/plain": [
       "Frame:   0%|          | 0/271 [00:00<?, ?frame/s]"
      ]
     },
     "metadata": {},
     "output_type": "display_data"
    },
    {
     "data": {
      "application/vnd.jupyter.widget-view+json": {
       "model_id": "14a805ea12e44f44a4695cfb1b04da1a",
       "version_major": 2,
       "version_minor": 0
      },
      "text/plain": [
       "Frame:   0%|          | 0/271 [00:00<?, ?frame/s]"
      ]
     },
     "metadata": {},
     "output_type": "display_data"
    },
    {
     "data": {
      "application/vnd.jupyter.widget-view+json": {
       "model_id": "166efd6a97f44f108d1c40a2e38f04ad",
       "version_major": 2,
       "version_minor": 0
      },
      "text/plain": [
       "Frame:   0%|          | 0/271 [00:00<?, ?frame/s]"
      ]
     },
     "metadata": {},
     "output_type": "display_data"
    },
    {
     "data": {
      "application/vnd.jupyter.widget-view+json": {
       "model_id": "94a8cff6ff8343cabfbbe7189ac4b156",
       "version_major": 2,
       "version_minor": 0
      },
      "text/plain": [
       "Frame:   0%|          | 0/271 [00:00<?, ?frame/s]"
      ]
     },
     "metadata": {},
     "output_type": "display_data"
    },
    {
     "data": {
      "application/vnd.jupyter.widget-view+json": {
       "model_id": "905669e6c7d34b49b7aba0b7508d2c91",
       "version_major": 2,
       "version_minor": 0
      },
      "text/plain": [
       "Frame:   0%|          | 0/271 [00:00<?, ?frame/s]"
      ]
     },
     "metadata": {},
     "output_type": "display_data"
    },
    {
     "data": {
      "application/vnd.jupyter.widget-view+json": {
       "model_id": "208175f4a9314c93a64ff7a75aacf54c",
       "version_major": 2,
       "version_minor": 0
      },
      "text/plain": [
       "Frame:   0%|          | 0/271 [00:00<?, ?frame/s]"
      ]
     },
     "metadata": {},
     "output_type": "display_data"
    },
    {
     "data": {
      "application/vnd.jupyter.widget-view+json": {
       "model_id": "07dbd611d9d149a998b93ca34c10ef03",
       "version_major": 2,
       "version_minor": 0
      },
      "text/plain": [
       "Frame:   0%|          | 0/271 [00:00<?, ?frame/s]"
      ]
     },
     "metadata": {},
     "output_type": "display_data"
    },
    {
     "data": {
      "application/vnd.jupyter.widget-view+json": {
       "model_id": "101fb21de1f64d7fae9152d7fcd8b169",
       "version_major": 2,
       "version_minor": 0
      },
      "text/plain": [
       "Frame:   0%|          | 0/271 [00:00<?, ?frame/s]"
      ]
     },
     "metadata": {},
     "output_type": "display_data"
    },
    {
     "data": {
      "application/vnd.jupyter.widget-view+json": {
       "model_id": "d89b22139e2d421286f89a528d927f70",
       "version_major": 2,
       "version_minor": 0
      },
      "text/plain": [
       "Frame:   0%|          | 0/271 [00:00<?, ?frame/s]"
      ]
     },
     "metadata": {},
     "output_type": "display_data"
    },
    {
     "data": {
      "application/vnd.jupyter.widget-view+json": {
       "model_id": "abc00760218a4b0aa7701cdf09216e31",
       "version_major": 2,
       "version_minor": 0
      },
      "text/plain": [
       "Frame:   0%|          | 0/271 [00:00<?, ?frame/s]"
      ]
     },
     "metadata": {},
     "output_type": "display_data"
    },
    {
     "data": {
      "application/vnd.jupyter.widget-view+json": {
       "model_id": "b9ea69e3edc54b12bdabb6430e06e5db",
       "version_major": 2,
       "version_minor": 0
      },
      "text/plain": [
       "Frame:   0%|          | 0/271 [00:00<?, ?frame/s]"
      ]
     },
     "metadata": {},
     "output_type": "display_data"
    },
    {
     "data": {
      "application/vnd.jupyter.widget-view+json": {
       "model_id": "a28bb4c30e1f44daa85c6b53252e23a7",
       "version_major": 2,
       "version_minor": 0
      },
      "text/plain": [
       "Frame:   0%|          | 0/271 [00:00<?, ?frame/s]"
      ]
     },
     "metadata": {},
     "output_type": "display_data"
    },
    {
     "data": {
      "application/vnd.jupyter.widget-view+json": {
       "model_id": "29aaff8d5c70490592925bd8df469a91",
       "version_major": 2,
       "version_minor": 0
      },
      "text/plain": [
       "Frame:   0%|          | 0/271 [00:00<?, ?frame/s]"
      ]
     },
     "metadata": {},
     "output_type": "display_data"
    },
    {
     "data": {
      "application/vnd.jupyter.widget-view+json": {
       "model_id": "775f59349d0342fe8ba1f401899b4720",
       "version_major": 2,
       "version_minor": 0
      },
      "text/plain": [
       "Frame:   0%|          | 0/271 [00:00<?, ?frame/s]"
      ]
     },
     "metadata": {},
     "output_type": "display_data"
    },
    {
     "data": {
      "application/vnd.jupyter.widget-view+json": {
       "model_id": "68f83b31cf4b4bdfb0ea08ad660fdf4a",
       "version_major": 2,
       "version_minor": 0
      },
      "text/plain": [
       "Frame:   0%|          | 0/271 [00:00<?, ?frame/s]"
      ]
     },
     "metadata": {},
     "output_type": "display_data"
    },
    {
     "data": {
      "application/vnd.jupyter.widget-view+json": {
       "model_id": "d70fa4cb0d2147679f7b9e92dc94ba09",
       "version_major": 2,
       "version_minor": 0
      },
      "text/plain": [
       "Frame:   0%|          | 0/271 [00:00<?, ?frame/s]"
      ]
     },
     "metadata": {},
     "output_type": "display_data"
    },
    {
     "data": {
      "application/vnd.jupyter.widget-view+json": {
       "model_id": "682fa6f15ea34f14916d37ab30864a92",
       "version_major": 2,
       "version_minor": 0
      },
      "text/plain": [
       "Frame:   0%|          | 0/271 [00:00<?, ?frame/s]"
      ]
     },
     "metadata": {},
     "output_type": "display_data"
    },
    {
     "data": {
      "application/vnd.jupyter.widget-view+json": {
       "model_id": "5cebd23b4bad4d4190e99659f6d38bdf",
       "version_major": 2,
       "version_minor": 0
      },
      "text/plain": [
       "Frame:   0%|          | 0/271 [00:00<?, ?frame/s]"
      ]
     },
     "metadata": {},
     "output_type": "display_data"
    },
    {
     "data": {
      "application/vnd.jupyter.widget-view+json": {
       "model_id": "78cbd1321c394d4d80d6cab1276dcf2f",
       "version_major": 2,
       "version_minor": 0
      },
      "text/plain": [
       "Frame:   0%|          | 0/271 [00:00<?, ?frame/s]"
      ]
     },
     "metadata": {},
     "output_type": "display_data"
    },
    {
     "data": {
      "application/vnd.jupyter.widget-view+json": {
       "model_id": "0ec1c014147f41a8a4cb23c7a87f0c5e",
       "version_major": 2,
       "version_minor": 0
      },
      "text/plain": [
       "Frame:   0%|          | 0/271 [00:00<?, ?frame/s]"
      ]
     },
     "metadata": {},
     "output_type": "display_data"
    },
    {
     "data": {
      "application/vnd.jupyter.widget-view+json": {
       "model_id": "961da692d44449d8a14b2ee2a8444196",
       "version_major": 2,
       "version_minor": 0
      },
      "text/plain": [
       "Frame:   0%|          | 0/271 [00:00<?, ?frame/s]"
      ]
     },
     "metadata": {},
     "output_type": "display_data"
    },
    {
     "data": {
      "application/vnd.jupyter.widget-view+json": {
       "model_id": "6194d0267fc5472285a0d38fcfc5a970",
       "version_major": 2,
       "version_minor": 0
      },
      "text/plain": [
       "Frame:   0%|          | 0/271 [00:00<?, ?frame/s]"
      ]
     },
     "metadata": {},
     "output_type": "display_data"
    },
    {
     "data": {
      "application/vnd.jupyter.widget-view+json": {
       "model_id": "2986cdeb97004ad0ab93271ae1c2fa8b",
       "version_major": 2,
       "version_minor": 0
      },
      "text/plain": [
       "Frame:   0%|          | 0/271 [00:00<?, ?frame/s]"
      ]
     },
     "metadata": {},
     "output_type": "display_data"
    },
    {
     "data": {
      "application/vnd.jupyter.widget-view+json": {
       "model_id": "ed369b11245343f2b9ec1158ba19c696",
       "version_major": 2,
       "version_minor": 0
      },
      "text/plain": [
       "Frame:   0%|          | 0/271 [00:00<?, ?frame/s]"
      ]
     },
     "metadata": {},
     "output_type": "display_data"
    },
    {
     "data": {
      "application/vnd.jupyter.widget-view+json": {
       "model_id": "e9ab4dfe686a4e738a58f6e1b5e916fe",
       "version_major": 2,
       "version_minor": 0
      },
      "text/plain": [
       "Frame:   0%|          | 0/271 [00:00<?, ?frame/s]"
      ]
     },
     "metadata": {},
     "output_type": "display_data"
    },
    {
     "data": {
      "application/vnd.jupyter.widget-view+json": {
       "model_id": "7eb69db805c74971bb729154ac40684f",
       "version_major": 2,
       "version_minor": 0
      },
      "text/plain": [
       "Frame:   0%|          | 0/271 [00:00<?, ?frame/s]"
      ]
     },
     "metadata": {},
     "output_type": "display_data"
    },
    {
     "data": {
      "application/vnd.jupyter.widget-view+json": {
       "model_id": "3e5193ca188b4155be88fda82b5ad178",
       "version_major": 2,
       "version_minor": 0
      },
      "text/plain": [
       "Frame:   0%|          | 0/271 [00:00<?, ?frame/s]"
      ]
     },
     "metadata": {},
     "output_type": "display_data"
    },
    {
     "data": {
      "application/vnd.jupyter.widget-view+json": {
       "model_id": "3341df4e28854c85b37dc4fd638a8e8d",
       "version_major": 2,
       "version_minor": 0
      },
      "text/plain": [
       "Frame:   0%|          | 0/271 [00:00<?, ?frame/s]"
      ]
     },
     "metadata": {},
     "output_type": "display_data"
    },
    {
     "data": {
      "application/vnd.jupyter.widget-view+json": {
       "model_id": "764aa394793e4d9593d749bd6c0651c6",
       "version_major": 2,
       "version_minor": 0
      },
      "text/plain": [
       "Frame:   0%|          | 0/271 [00:00<?, ?frame/s]"
      ]
     },
     "metadata": {},
     "output_type": "display_data"
    },
    {
     "data": {
      "application/vnd.jupyter.widget-view+json": {
       "model_id": "305fc23740f0401c8095a45862dde46e",
       "version_major": 2,
       "version_minor": 0
      },
      "text/plain": [
       "Frame:   0%|          | 0/271 [00:00<?, ?frame/s]"
      ]
     },
     "metadata": {},
     "output_type": "display_data"
    },
    {
     "data": {
      "application/vnd.jupyter.widget-view+json": {
       "model_id": "92babd41d8df4984bd6bc095040824d4",
       "version_major": 2,
       "version_minor": 0
      },
      "text/plain": [
       "Frame:   0%|          | 0/271 [00:00<?, ?frame/s]"
      ]
     },
     "metadata": {},
     "output_type": "display_data"
    },
    {
     "data": {
      "application/vnd.jupyter.widget-view+json": {
       "model_id": "873943f8a1b74a189b4b46876c386d24",
       "version_major": 2,
       "version_minor": 0
      },
      "text/plain": [
       "Frame:   0%|          | 0/271 [00:00<?, ?frame/s]"
      ]
     },
     "metadata": {},
     "output_type": "display_data"
    },
    {
     "data": {
      "application/vnd.jupyter.widget-view+json": {
       "model_id": "b5fe5b52c492491791fba33da63457f8",
       "version_major": 2,
       "version_minor": 0
      },
      "text/plain": [
       "Frame:   0%|          | 0/271 [00:00<?, ?frame/s]"
      ]
     },
     "metadata": {},
     "output_type": "display_data"
    },
    {
     "data": {
      "application/vnd.jupyter.widget-view+json": {
       "model_id": "266fac27f4b2415dbcdfd9055949442b",
       "version_major": 2,
       "version_minor": 0
      },
      "text/plain": [
       "Frame:   0%|          | 0/271 [00:00<?, ?frame/s]"
      ]
     },
     "metadata": {},
     "output_type": "display_data"
    },
    {
     "data": {
      "application/vnd.jupyter.widget-view+json": {
       "model_id": "92b37a134a1b4226b431ee2513daa575",
       "version_major": 2,
       "version_minor": 0
      },
      "text/plain": [
       "Frame:   0%|          | 0/271 [00:00<?, ?frame/s]"
      ]
     },
     "metadata": {},
     "output_type": "display_data"
    },
    {
     "data": {
      "application/vnd.jupyter.widget-view+json": {
       "model_id": "e98350052b3f40d1b5e02775e14f5113",
       "version_major": 2,
       "version_minor": 0
      },
      "text/plain": [
       "Frame:   0%|          | 0/271 [00:00<?, ?frame/s]"
      ]
     },
     "metadata": {},
     "output_type": "display_data"
    },
    {
     "data": {
      "application/vnd.jupyter.widget-view+json": {
       "model_id": "a79b8e2245e5472990cdf141e3bd8f48",
       "version_major": 2,
       "version_minor": 0
      },
      "text/plain": [
       "Frame:   0%|          | 0/271 [00:00<?, ?frame/s]"
      ]
     },
     "metadata": {},
     "output_type": "display_data"
    },
    {
     "data": {
      "application/vnd.jupyter.widget-view+json": {
       "model_id": "54200857200f4afa9233c3464d48cc8c",
       "version_major": 2,
       "version_minor": 0
      },
      "text/plain": [
       "Frame:   0%|          | 0/271 [00:00<?, ?frame/s]"
      ]
     },
     "metadata": {},
     "output_type": "display_data"
    },
    {
     "data": {
      "application/vnd.jupyter.widget-view+json": {
       "model_id": "c551e2e65e784679b97759159d2abc83",
       "version_major": 2,
       "version_minor": 0
      },
      "text/plain": [
       "Frame:   0%|          | 0/271 [00:00<?, ?frame/s]"
      ]
     },
     "metadata": {},
     "output_type": "display_data"
    },
    {
     "data": {
      "application/vnd.jupyter.widget-view+json": {
       "model_id": "6847027ae54045338eee0dae644a9fe2",
       "version_major": 2,
       "version_minor": 0
      },
      "text/plain": [
       "Frame:   0%|          | 0/271 [00:00<?, ?frame/s]"
      ]
     },
     "metadata": {},
     "output_type": "display_data"
    },
    {
     "data": {
      "application/vnd.jupyter.widget-view+json": {
       "model_id": "8ae59b8296194eea9f5ef5d112d8b5a9",
       "version_major": 2,
       "version_minor": 0
      },
      "text/plain": [
       "Frame:   0%|          | 0/271 [00:00<?, ?frame/s]"
      ]
     },
     "metadata": {},
     "output_type": "display_data"
    },
    {
     "data": {
      "application/vnd.jupyter.widget-view+json": {
       "model_id": "5c5170bad9f541edb66510f1c6f2397e",
       "version_major": 2,
       "version_minor": 0
      },
      "text/plain": [
       "Frame:   0%|          | 0/271 [00:00<?, ?frame/s]"
      ]
     },
     "metadata": {},
     "output_type": "display_data"
    },
    {
     "data": {
      "application/vnd.jupyter.widget-view+json": {
       "model_id": "4bff1f4f503c452b867c3f1be7e58f4c",
       "version_major": 2,
       "version_minor": 0
      },
      "text/plain": [
       "Frame:   0%|          | 0/271 [00:00<?, ?frame/s]"
      ]
     },
     "metadata": {},
     "output_type": "display_data"
    },
    {
     "data": {
      "application/vnd.jupyter.widget-view+json": {
       "model_id": "7354ddfd2ce94457871c843e65e009dc",
       "version_major": 2,
       "version_minor": 0
      },
      "text/plain": [
       "Frame:   0%|          | 0/271 [00:00<?, ?frame/s]"
      ]
     },
     "metadata": {},
     "output_type": "display_data"
    },
    {
     "data": {
      "application/vnd.jupyter.widget-view+json": {
       "model_id": "cdd2505d8af8475d8da59451fe912efd",
       "version_major": 2,
       "version_minor": 0
      },
      "text/plain": [
       "Frame:   0%|          | 0/271 [00:00<?, ?frame/s]"
      ]
     },
     "metadata": {},
     "output_type": "display_data"
    },
    {
     "data": {
      "application/vnd.jupyter.widget-view+json": {
       "model_id": "15c8515ad2864350814571208559bca8",
       "version_major": 2,
       "version_minor": 0
      },
      "text/plain": [
       "Frame:   0%|          | 0/271 [00:00<?, ?frame/s]"
      ]
     },
     "metadata": {},
     "output_type": "display_data"
    },
    {
     "data": {
      "application/vnd.jupyter.widget-view+json": {
       "model_id": "f2dc276080bf4ae1b93d9fcb255ceba9",
       "version_major": 2,
       "version_minor": 0
      },
      "text/plain": [
       "Frame:   0%|          | 0/271 [00:00<?, ?frame/s]"
      ]
     },
     "metadata": {},
     "output_type": "display_data"
    },
    {
     "data": {
      "application/vnd.jupyter.widget-view+json": {
       "model_id": "f698aef64e1a4b0cbaf85d2a45a8e819",
       "version_major": 2,
       "version_minor": 0
      },
      "text/plain": [
       "Frame:   0%|          | 0/271 [00:00<?, ?frame/s]"
      ]
     },
     "metadata": {},
     "output_type": "display_data"
    },
    {
     "data": {
      "application/vnd.jupyter.widget-view+json": {
       "model_id": "cd80573de4564955bfb57d276e85b410",
       "version_major": 2,
       "version_minor": 0
      },
      "text/plain": [
       "Frame:   0%|          | 0/271 [00:00<?, ?frame/s]"
      ]
     },
     "metadata": {},
     "output_type": "display_data"
    },
    {
     "data": {
      "application/vnd.jupyter.widget-view+json": {
       "model_id": "cd676b0a4b9e48409c70c45efa427587",
       "version_major": 2,
       "version_minor": 0
      },
      "text/plain": [
       "Frame:   0%|          | 0/271 [00:00<?, ?frame/s]"
      ]
     },
     "metadata": {},
     "output_type": "display_data"
    },
    {
     "data": {
      "application/vnd.jupyter.widget-view+json": {
       "model_id": "82d5c5e0a77841edb9c2dc28239d3b7c",
       "version_major": 2,
       "version_minor": 0
      },
      "text/plain": [
       "Frame:   0%|          | 0/271 [00:00<?, ?frame/s]"
      ]
     },
     "metadata": {},
     "output_type": "display_data"
    },
    {
     "data": {
      "application/vnd.jupyter.widget-view+json": {
       "model_id": "221ecf0afe914004b5c408275d962842",
       "version_major": 2,
       "version_minor": 0
      },
      "text/plain": [
       "Frame:   0%|          | 0/271 [00:00<?, ?frame/s]"
      ]
     },
     "metadata": {},
     "output_type": "display_data"
    },
    {
     "data": {
      "application/vnd.jupyter.widget-view+json": {
       "model_id": "6af0ec2fbcdc435a967638abc86bdce6",
       "version_major": 2,
       "version_minor": 0
      },
      "text/plain": [
       "Frame:   0%|          | 0/271 [00:00<?, ?frame/s]"
      ]
     },
     "metadata": {},
     "output_type": "display_data"
    },
    {
     "data": {
      "application/vnd.jupyter.widget-view+json": {
       "model_id": "ab23e04345fd4c818690480ad4be3845",
       "version_major": 2,
       "version_minor": 0
      },
      "text/plain": [
       "Frame:   0%|          | 0/271 [00:00<?, ?frame/s]"
      ]
     },
     "metadata": {},
     "output_type": "display_data"
    },
    {
     "data": {
      "application/vnd.jupyter.widget-view+json": {
       "model_id": "0156a6ff9c7849fbbd6df05b4e5c7fcf",
       "version_major": 2,
       "version_minor": 0
      },
      "text/plain": [
       "Frame:   0%|          | 0/271 [00:00<?, ?frame/s]"
      ]
     },
     "metadata": {},
     "output_type": "display_data"
    },
    {
     "data": {
      "application/vnd.jupyter.widget-view+json": {
       "model_id": "5cf118b92e964c2b8be56d4ac6735d99",
       "version_major": 2,
       "version_minor": 0
      },
      "text/plain": [
       "Frame:   0%|          | 0/271 [00:00<?, ?frame/s]"
      ]
     },
     "metadata": {},
     "output_type": "display_data"
    },
    {
     "data": {
      "application/vnd.jupyter.widget-view+json": {
       "model_id": "381d03d1b9ed4b0b873b32d71908ed2c",
       "version_major": 2,
       "version_minor": 0
      },
      "text/plain": [
       "Frame:   0%|          | 0/271 [00:00<?, ?frame/s]"
      ]
     },
     "metadata": {},
     "output_type": "display_data"
    },
    {
     "data": {
      "application/vnd.jupyter.widget-view+json": {
       "model_id": "e591ccf21b344635be9cc7bfc1456ec3",
       "version_major": 2,
       "version_minor": 0
      },
      "text/plain": [
       "Frame:   0%|          | 0/271 [00:00<?, ?frame/s]"
      ]
     },
     "metadata": {},
     "output_type": "display_data"
    },
    {
     "data": {
      "application/vnd.jupyter.widget-view+json": {
       "model_id": "257f10070d1d47f4affc439433bfb1a9",
       "version_major": 2,
       "version_minor": 0
      },
      "text/plain": [
       "Frame:   0%|          | 0/271 [00:00<?, ?frame/s]"
      ]
     },
     "metadata": {},
     "output_type": "display_data"
    },
    {
     "data": {
      "application/vnd.jupyter.widget-view+json": {
       "model_id": "7231f7bc2a6d45e4a0a0f69ef54d7a50",
       "version_major": 2,
       "version_minor": 0
      },
      "text/plain": [
       "Frame:   0%|          | 0/271 [00:00<?, ?frame/s]"
      ]
     },
     "metadata": {},
     "output_type": "display_data"
    },
    {
     "data": {
      "application/vnd.jupyter.widget-view+json": {
       "model_id": "3a10f71542834cfc8056aaf1df0471b8",
       "version_major": 2,
       "version_minor": 0
      },
      "text/plain": [
       "Frame:   0%|          | 0/271 [00:00<?, ?frame/s]"
      ]
     },
     "metadata": {},
     "output_type": "display_data"
    },
    {
     "data": {
      "application/vnd.jupyter.widget-view+json": {
       "model_id": "3dd87b2229794c1aa516ada0f4e7dfd1",
       "version_major": 2,
       "version_minor": 0
      },
      "text/plain": [
       "Frame:   0%|          | 0/271 [00:00<?, ?frame/s]"
      ]
     },
     "metadata": {},
     "output_type": "display_data"
    },
    {
     "data": {
      "application/vnd.jupyter.widget-view+json": {
       "model_id": "2d25d03ce73442089eb83c49b729e55c",
       "version_major": 2,
       "version_minor": 0
      },
      "text/plain": [
       "Frame:   0%|          | 0/271 [00:00<?, ?frame/s]"
      ]
     },
     "metadata": {},
     "output_type": "display_data"
    },
    {
     "data": {
      "application/vnd.jupyter.widget-view+json": {
       "model_id": "e4a74ef25577458c99a900958037a08a",
       "version_major": 2,
       "version_minor": 0
      },
      "text/plain": [
       "Frame:   0%|          | 0/271 [00:00<?, ?frame/s]"
      ]
     },
     "metadata": {},
     "output_type": "display_data"
    },
    {
     "data": {
      "application/vnd.jupyter.widget-view+json": {
       "model_id": "6cefbd2085a44ecd942f81d5cdcdec65",
       "version_major": 2,
       "version_minor": 0
      },
      "text/plain": [
       "Frame:   0%|          | 0/271 [00:00<?, ?frame/s]"
      ]
     },
     "metadata": {},
     "output_type": "display_data"
    },
    {
     "data": {
      "application/vnd.jupyter.widget-view+json": {
       "model_id": "ec0fbe5dc72c4379a527c22fc2d79a27",
       "version_major": 2,
       "version_minor": 0
      },
      "text/plain": [
       "Frame:   0%|          | 0/271 [00:00<?, ?frame/s]"
      ]
     },
     "metadata": {},
     "output_type": "display_data"
    },
    {
     "data": {
      "application/vnd.jupyter.widget-view+json": {
       "model_id": "5fa4709df6d248519fcb3316c51cb3ba",
       "version_major": 2,
       "version_minor": 0
      },
      "text/plain": [
       "Frame:   0%|          | 0/271 [00:00<?, ?frame/s]"
      ]
     },
     "metadata": {},
     "output_type": "display_data"
    },
    {
     "data": {
      "application/vnd.jupyter.widget-view+json": {
       "model_id": "d692a6de047b40ebb402d42ea1ec78af",
       "version_major": 2,
       "version_minor": 0
      },
      "text/plain": [
       "Frame:   0%|          | 0/271 [00:00<?, ?frame/s]"
      ]
     },
     "metadata": {},
     "output_type": "display_data"
    },
    {
     "data": {
      "application/vnd.jupyter.widget-view+json": {
       "model_id": "f0c04e4d15074a639e3f541accad976f",
       "version_major": 2,
       "version_minor": 0
      },
      "text/plain": [
       "Frame:   0%|          | 0/271 [00:00<?, ?frame/s]"
      ]
     },
     "metadata": {},
     "output_type": "display_data"
    },
    {
     "data": {
      "application/vnd.jupyter.widget-view+json": {
       "model_id": "accd1d762923464285f63be172fef1e2",
       "version_major": 2,
       "version_minor": 0
      },
      "text/plain": [
       "Frame:   0%|          | 0/271 [00:00<?, ?frame/s]"
      ]
     },
     "metadata": {},
     "output_type": "display_data"
    },
    {
     "data": {
      "application/vnd.jupyter.widget-view+json": {
       "model_id": "60f717136d3d4f3d84df816358561871",
       "version_major": 2,
       "version_minor": 0
      },
      "text/plain": [
       "Frame:   0%|          | 0/271 [00:00<?, ?frame/s]"
      ]
     },
     "metadata": {},
     "output_type": "display_data"
    },
    {
     "data": {
      "application/vnd.jupyter.widget-view+json": {
       "model_id": "19749606ab5346ddbc8cfeec50c250a4",
       "version_major": 2,
       "version_minor": 0
      },
      "text/plain": [
       "Frame:   0%|          | 0/271 [00:00<?, ?frame/s]"
      ]
     },
     "metadata": {},
     "output_type": "display_data"
    },
    {
     "data": {
      "application/vnd.jupyter.widget-view+json": {
       "model_id": "d6fe1c27df914fd8a47670dc653e41cf",
       "version_major": 2,
       "version_minor": 0
      },
      "text/plain": [
       "Frame:   0%|          | 0/271 [00:00<?, ?frame/s]"
      ]
     },
     "metadata": {},
     "output_type": "display_data"
    },
    {
     "data": {
      "application/vnd.jupyter.widget-view+json": {
       "model_id": "88801cbd144849c088091395a0b34552",
       "version_major": 2,
       "version_minor": 0
      },
      "text/plain": [
       "Frame:   0%|          | 0/271 [00:00<?, ?frame/s]"
      ]
     },
     "metadata": {},
     "output_type": "display_data"
    },
    {
     "data": {
      "application/vnd.jupyter.widget-view+json": {
       "model_id": "3ff10f0f8b344ecc8f07e06b31b31976",
       "version_major": 2,
       "version_minor": 0
      },
      "text/plain": [
       "Frame:   0%|          | 0/271 [00:00<?, ?frame/s]"
      ]
     },
     "metadata": {},
     "output_type": "display_data"
    },
    {
     "data": {
      "application/vnd.jupyter.widget-view+json": {
       "model_id": "c6efcabf8b114d29b5f025dfeba040a2",
       "version_major": 2,
       "version_minor": 0
      },
      "text/plain": [
       "Frame:   0%|          | 0/271 [00:00<?, ?frame/s]"
      ]
     },
     "metadata": {},
     "output_type": "display_data"
    },
    {
     "data": {
      "application/vnd.jupyter.widget-view+json": {
       "model_id": "a1ebfb12395448c0b8d5aa7fab3c5cb6",
       "version_major": 2,
       "version_minor": 0
      },
      "text/plain": [
       "Frame:   0%|          | 0/271 [00:00<?, ?frame/s]"
      ]
     },
     "metadata": {},
     "output_type": "display_data"
    },
    {
     "data": {
      "application/vnd.jupyter.widget-view+json": {
       "model_id": "d79f8591e2c64767be145378022a887d",
       "version_major": 2,
       "version_minor": 0
      },
      "text/plain": [
       "Frame:   0%|          | 0/271 [00:00<?, ?frame/s]"
      ]
     },
     "metadata": {},
     "output_type": "display_data"
    },
    {
     "data": {
      "application/vnd.jupyter.widget-view+json": {
       "model_id": "13c711f640484d2b9ae963e3bd6b7ef8",
       "version_major": 2,
       "version_minor": 0
      },
      "text/plain": [
       "Frame:   0%|          | 0/271 [00:00<?, ?frame/s]"
      ]
     },
     "metadata": {},
     "output_type": "display_data"
    },
    {
     "data": {
      "application/vnd.jupyter.widget-view+json": {
       "model_id": "4b3a30786a024bab92e0c1408fde6325",
       "version_major": 2,
       "version_minor": 0
      },
      "text/plain": [
       "Frame:   0%|          | 0/271 [00:00<?, ?frame/s]"
      ]
     },
     "metadata": {},
     "output_type": "display_data"
    },
    {
     "data": {
      "application/vnd.jupyter.widget-view+json": {
       "model_id": "5674253988aa42f29659a0b84b83e8b3",
       "version_major": 2,
       "version_minor": 0
      },
      "text/plain": [
       "Frame:   0%|          | 0/271 [00:00<?, ?frame/s]"
      ]
     },
     "metadata": {},
     "output_type": "display_data"
    },
    {
     "data": {
      "application/vnd.jupyter.widget-view+json": {
       "model_id": "f5b2f03e45bd47e6b2562eab941323bc",
       "version_major": 2,
       "version_minor": 0
      },
      "text/plain": [
       "Frame:   0%|          | 0/271 [00:00<?, ?frame/s]"
      ]
     },
     "metadata": {},
     "output_type": "display_data"
    },
    {
     "data": {
      "application/vnd.jupyter.widget-view+json": {
       "model_id": "6b61d124c8c24accb5884d72e2eb1289",
       "version_major": 2,
       "version_minor": 0
      },
      "text/plain": [
       "Frame:   0%|          | 0/271 [00:00<?, ?frame/s]"
      ]
     },
     "metadata": {},
     "output_type": "display_data"
    },
    {
     "data": {
      "application/vnd.jupyter.widget-view+json": {
       "model_id": "6cfa5de63b544f39b45f4ff7703bc2c7",
       "version_major": 2,
       "version_minor": 0
      },
      "text/plain": [
       "Frame:   0%|          | 0/271 [00:00<?, ?frame/s]"
      ]
     },
     "metadata": {},
     "output_type": "display_data"
    },
    {
     "data": {
      "application/vnd.jupyter.widget-view+json": {
       "model_id": "4c731be0d5bf4417b8aaa1a69e73ca43",
       "version_major": 2,
       "version_minor": 0
      },
      "text/plain": [
       "Frame:   0%|          | 0/271 [00:00<?, ?frame/s]"
      ]
     },
     "metadata": {},
     "output_type": "display_data"
    },
    {
     "data": {
      "application/vnd.jupyter.widget-view+json": {
       "model_id": "8aefb163b8c0412ba3a0aad1a80d3545",
       "version_major": 2,
       "version_minor": 0
      },
      "text/plain": [
       "Frame:   0%|          | 0/271 [00:00<?, ?frame/s]"
      ]
     },
     "metadata": {},
     "output_type": "display_data"
    },
    {
     "data": {
      "application/vnd.jupyter.widget-view+json": {
       "model_id": "2094f96ebb4c446cbb661dec75db4d54",
       "version_major": 2,
       "version_minor": 0
      },
      "text/plain": [
       "Frame:   0%|          | 0/271 [00:00<?, ?frame/s]"
      ]
     },
     "metadata": {},
     "output_type": "display_data"
    },
    {
     "data": {
      "application/vnd.jupyter.widget-view+json": {
       "model_id": "3c28e8270abd44d0838dbdc353ecd71b",
       "version_major": 2,
       "version_minor": 0
      },
      "text/plain": [
       "Frame:   0%|          | 0/271 [00:00<?, ?frame/s]"
      ]
     },
     "metadata": {},
     "output_type": "display_data"
    },
    {
     "data": {
      "application/vnd.jupyter.widget-view+json": {
       "model_id": "b085b3d0b6994f20862ac2806bfcfd12",
       "version_major": 2,
       "version_minor": 0
      },
      "text/plain": [
       "Frame:   0%|          | 0/271 [00:00<?, ?frame/s]"
      ]
     },
     "metadata": {},
     "output_type": "display_data"
    },
    {
     "data": {
      "application/vnd.jupyter.widget-view+json": {
       "model_id": "35d1337f15724220b308b504268c5b5d",
       "version_major": 2,
       "version_minor": 0
      },
      "text/plain": [
       "Frame:   0%|          | 0/271 [00:00<?, ?frame/s]"
      ]
     },
     "metadata": {},
     "output_type": "display_data"
    },
    {
     "data": {
      "application/vnd.jupyter.widget-view+json": {
       "model_id": "e5b03673043843c99cee4e53d1ac913f",
       "version_major": 2,
       "version_minor": 0
      },
      "text/plain": [
       "Frame:   0%|          | 0/271 [00:00<?, ?frame/s]"
      ]
     },
     "metadata": {},
     "output_type": "display_data"
    },
    {
     "data": {
      "application/vnd.jupyter.widget-view+json": {
       "model_id": "23205dddda3c49909f514dac5279aa9d",
       "version_major": 2,
       "version_minor": 0
      },
      "text/plain": [
       "Frame:   0%|          | 0/271 [00:00<?, ?frame/s]"
      ]
     },
     "metadata": {},
     "output_type": "display_data"
    },
    {
     "data": {
      "application/vnd.jupyter.widget-view+json": {
       "model_id": "5fd160d5002144abb7c35367a91626b4",
       "version_major": 2,
       "version_minor": 0
      },
      "text/plain": [
       "Frame:   0%|          | 0/271 [00:00<?, ?frame/s]"
      ]
     },
     "metadata": {},
     "output_type": "display_data"
    },
    {
     "data": {
      "application/vnd.jupyter.widget-view+json": {
       "model_id": "52cfbd39910a45d7814c8c279a187dcb",
       "version_major": 2,
       "version_minor": 0
      },
      "text/plain": [
       "Frame:   0%|          | 0/271 [00:00<?, ?frame/s]"
      ]
     },
     "metadata": {},
     "output_type": "display_data"
    },
    {
     "data": {
      "application/vnd.jupyter.widget-view+json": {
       "model_id": "22cd3e94b93747b1b5865741011fcf78",
       "version_major": 2,
       "version_minor": 0
      },
      "text/plain": [
       "Frame:   0%|          | 0/271 [00:00<?, ?frame/s]"
      ]
     },
     "metadata": {},
     "output_type": "display_data"
    },
    {
     "data": {
      "application/vnd.jupyter.widget-view+json": {
       "model_id": "ac6512e5254e40f2b1ee7426b4c87a92",
       "version_major": 2,
       "version_minor": 0
      },
      "text/plain": [
       "Frame:   0%|          | 0/271 [00:00<?, ?frame/s]"
      ]
     },
     "metadata": {},
     "output_type": "display_data"
    },
    {
     "data": {
      "application/vnd.jupyter.widget-view+json": {
       "model_id": "ac25c905d35b4800981626e4e7479c25",
       "version_major": 2,
       "version_minor": 0
      },
      "text/plain": [
       "Frame:   0%|          | 0/271 [00:00<?, ?frame/s]"
      ]
     },
     "metadata": {},
     "output_type": "display_data"
    },
    {
     "data": {
      "application/vnd.jupyter.widget-view+json": {
       "model_id": "d2c8f61429cc4b6e9d50f25dd773c87b",
       "version_major": 2,
       "version_minor": 0
      },
      "text/plain": [
       "Frame:   0%|          | 0/271 [00:00<?, ?frame/s]"
      ]
     },
     "metadata": {},
     "output_type": "display_data"
    },
    {
     "data": {
      "application/vnd.jupyter.widget-view+json": {
       "model_id": "f1e4f8f0961b4a279388e7796329f18e",
       "version_major": 2,
       "version_minor": 0
      },
      "text/plain": [
       "Frame:   0%|          | 0/271 [00:00<?, ?frame/s]"
      ]
     },
     "metadata": {},
     "output_type": "display_data"
    },
    {
     "data": {
      "application/vnd.jupyter.widget-view+json": {
       "model_id": "11f2a2897f254a1587dd28576297b6dc",
       "version_major": 2,
       "version_minor": 0
      },
      "text/plain": [
       "Frame:   0%|          | 0/271 [00:00<?, ?frame/s]"
      ]
     },
     "metadata": {},
     "output_type": "display_data"
    },
    {
     "data": {
      "application/vnd.jupyter.widget-view+json": {
       "model_id": "f12428befbfc4e7588ccea4e6d1859a5",
       "version_major": 2,
       "version_minor": 0
      },
      "text/plain": [
       "Frame:   0%|          | 0/271 [00:00<?, ?frame/s]"
      ]
     },
     "metadata": {},
     "output_type": "display_data"
    },
    {
     "data": {
      "application/vnd.jupyter.widget-view+json": {
       "model_id": "676b6243a02f4ab7981e1d86f37bbbb8",
       "version_major": 2,
       "version_minor": 0
      },
      "text/plain": [
       "Frame:   0%|          | 0/271 [00:00<?, ?frame/s]"
      ]
     },
     "metadata": {},
     "output_type": "display_data"
    },
    {
     "data": {
      "application/vnd.jupyter.widget-view+json": {
       "model_id": "932ac5764c6d428e81e6692822634569",
       "version_major": 2,
       "version_minor": 0
      },
      "text/plain": [
       "Frame:   0%|          | 0/271 [00:00<?, ?frame/s]"
      ]
     },
     "metadata": {},
     "output_type": "display_data"
    },
    {
     "data": {
      "application/vnd.jupyter.widget-view+json": {
       "model_id": "49fc62d1fbeb45aca0079f82b59869c1",
       "version_major": 2,
       "version_minor": 0
      },
      "text/plain": [
       "Frame:   0%|          | 0/271 [00:00<?, ?frame/s]"
      ]
     },
     "metadata": {},
     "output_type": "display_data"
    },
    {
     "data": {
      "application/vnd.jupyter.widget-view+json": {
       "model_id": "5584fc773ddc471187f757bb6f9d0e60",
       "version_major": 2,
       "version_minor": 0
      },
      "text/plain": [
       "Frame:   0%|          | 0/271 [00:00<?, ?frame/s]"
      ]
     },
     "metadata": {},
     "output_type": "display_data"
    },
    {
     "data": {
      "application/vnd.jupyter.widget-view+json": {
       "model_id": "ab862924557642e39884f2b67013a742",
       "version_major": 2,
       "version_minor": 0
      },
      "text/plain": [
       "Frame:   0%|          | 0/271 [00:00<?, ?frame/s]"
      ]
     },
     "metadata": {},
     "output_type": "display_data"
    },
    {
     "data": {
      "application/vnd.jupyter.widget-view+json": {
       "model_id": "2bf6bcc38d904b8494305d492d9a348a",
       "version_major": 2,
       "version_minor": 0
      },
      "text/plain": [
       "Frame:   0%|          | 0/271 [00:00<?, ?frame/s]"
      ]
     },
     "metadata": {},
     "output_type": "display_data"
    },
    {
     "data": {
      "application/vnd.jupyter.widget-view+json": {
       "model_id": "e634eb36fab549ea9307f71c73ef1209",
       "version_major": 2,
       "version_minor": 0
      },
      "text/plain": [
       "Frame:   0%|          | 0/271 [00:00<?, ?frame/s]"
      ]
     },
     "metadata": {},
     "output_type": "display_data"
    },
    {
     "data": {
      "application/vnd.jupyter.widget-view+json": {
       "model_id": "b36f49851fe7499f9e6faddb6b383d6e",
       "version_major": 2,
       "version_minor": 0
      },
      "text/plain": [
       "Frame:   0%|          | 0/271 [00:00<?, ?frame/s]"
      ]
     },
     "metadata": {},
     "output_type": "display_data"
    },
    {
     "data": {
      "application/vnd.jupyter.widget-view+json": {
       "model_id": "823211e14cd94436b2d909a7132eccd3",
       "version_major": 2,
       "version_minor": 0
      },
      "text/plain": [
       "Frame:   0%|          | 0/271 [00:00<?, ?frame/s]"
      ]
     },
     "metadata": {},
     "output_type": "display_data"
    },
    {
     "data": {
      "application/vnd.jupyter.widget-view+json": {
       "model_id": "6b1b08cbf146446d9271431cdfef0c3f",
       "version_major": 2,
       "version_minor": 0
      },
      "text/plain": [
       "Frame:   0%|          | 0/271 [00:00<?, ?frame/s]"
      ]
     },
     "metadata": {},
     "output_type": "display_data"
    },
    {
     "data": {
      "application/vnd.jupyter.widget-view+json": {
       "model_id": "96fa99a81a2c46408862c4df380aaf5b",
       "version_major": 2,
       "version_minor": 0
      },
      "text/plain": [
       "Frame:   0%|          | 0/271 [00:00<?, ?frame/s]"
      ]
     },
     "metadata": {},
     "output_type": "display_data"
    },
    {
     "data": {
      "application/vnd.jupyter.widget-view+json": {
       "model_id": "acaef7ef13d045888c2aa46c3b3604e7",
       "version_major": 2,
       "version_minor": 0
      },
      "text/plain": [
       "Frame:   0%|          | 0/271 [00:00<?, ?frame/s]"
      ]
     },
     "metadata": {},
     "output_type": "display_data"
    },
    {
     "data": {
      "application/vnd.jupyter.widget-view+json": {
       "model_id": "34f83e48e04f4802b33b840646efbb65",
       "version_major": 2,
       "version_minor": 0
      },
      "text/plain": [
       "Frame:   0%|          | 0/271 [00:00<?, ?frame/s]"
      ]
     },
     "metadata": {},
     "output_type": "display_data"
    },
    {
     "data": {
      "application/vnd.jupyter.widget-view+json": {
       "model_id": "4933a33453f24b408824e827434fa402",
       "version_major": 2,
       "version_minor": 0
      },
      "text/plain": [
       "Frame:   0%|          | 0/271 [00:00<?, ?frame/s]"
      ]
     },
     "metadata": {},
     "output_type": "display_data"
    },
    {
     "data": {
      "application/vnd.jupyter.widget-view+json": {
       "model_id": "11cc044ba04343bc8f388ad9ab099a3d",
       "version_major": 2,
       "version_minor": 0
      },
      "text/plain": [
       "Frame:   0%|          | 0/271 [00:00<?, ?frame/s]"
      ]
     },
     "metadata": {},
     "output_type": "display_data"
    },
    {
     "data": {
      "application/vnd.jupyter.widget-view+json": {
       "model_id": "124c6b52bb004f268843c926f316c239",
       "version_major": 2,
       "version_minor": 0
      },
      "text/plain": [
       "Frame:   0%|          | 0/271 [00:00<?, ?frame/s]"
      ]
     },
     "metadata": {},
     "output_type": "display_data"
    },
    {
     "data": {
      "application/vnd.jupyter.widget-view+json": {
       "model_id": "bafd17188ec34ea7a6217e28fd3b04f0",
       "version_major": 2,
       "version_minor": 0
      },
      "text/plain": [
       "Frame:   0%|          | 0/271 [00:00<?, ?frame/s]"
      ]
     },
     "metadata": {},
     "output_type": "display_data"
    },
    {
     "data": {
      "application/vnd.jupyter.widget-view+json": {
       "model_id": "c2422c0d889845b39356a3b33f902528",
       "version_major": 2,
       "version_minor": 0
      },
      "text/plain": [
       "Frame:   0%|          | 0/271 [00:00<?, ?frame/s]"
      ]
     },
     "metadata": {},
     "output_type": "display_data"
    },
    {
     "data": {
      "application/vnd.jupyter.widget-view+json": {
       "model_id": "446f97aae3604b948faf3297f281c16c",
       "version_major": 2,
       "version_minor": 0
      },
      "text/plain": [
       "Frame:   0%|          | 0/271 [00:00<?, ?frame/s]"
      ]
     },
     "metadata": {},
     "output_type": "display_data"
    },
    {
     "data": {
      "application/vnd.jupyter.widget-view+json": {
       "model_id": "ad49c739ad9e4404a5ccc5675d7f0b88",
       "version_major": 2,
       "version_minor": 0
      },
      "text/plain": [
       "Frame:   0%|          | 0/271 [00:00<?, ?frame/s]"
      ]
     },
     "metadata": {},
     "output_type": "display_data"
    },
    {
     "data": {
      "application/vnd.jupyter.widget-view+json": {
       "model_id": "081bbeedfe96438292d0a8dc8d775012",
       "version_major": 2,
       "version_minor": 0
      },
      "text/plain": [
       "Frame:   0%|          | 0/271 [00:00<?, ?frame/s]"
      ]
     },
     "metadata": {},
     "output_type": "display_data"
    },
    {
     "data": {
      "application/vnd.jupyter.widget-view+json": {
       "model_id": "2b16ce1f17a649ffa3f1cf4f71497b52",
       "version_major": 2,
       "version_minor": 0
      },
      "text/plain": [
       "Frame:   0%|          | 0/271 [00:00<?, ?frame/s]"
      ]
     },
     "metadata": {},
     "output_type": "display_data"
    },
    {
     "data": {
      "application/vnd.jupyter.widget-view+json": {
       "model_id": "ac967cf85edb4df29c27cc142864b960",
       "version_major": 2,
       "version_minor": 0
      },
      "text/plain": [
       "Frame:   0%|          | 0/271 [00:00<?, ?frame/s]"
      ]
     },
     "metadata": {},
     "output_type": "display_data"
    },
    {
     "data": {
      "application/vnd.jupyter.widget-view+json": {
       "model_id": "bdc2dfe973394dc48eb85f9c31e31349",
       "version_major": 2,
       "version_minor": 0
      },
      "text/plain": [
       "Frame:   0%|          | 0/271 [00:00<?, ?frame/s]"
      ]
     },
     "metadata": {},
     "output_type": "display_data"
    },
    {
     "data": {
      "application/vnd.jupyter.widget-view+json": {
       "model_id": "4d5e48a3bbd34251b3229916fe786163",
       "version_major": 2,
       "version_minor": 0
      },
      "text/plain": [
       "Frame:   0%|          | 0/271 [00:00<?, ?frame/s]"
      ]
     },
     "metadata": {},
     "output_type": "display_data"
    },
    {
     "data": {
      "application/vnd.jupyter.widget-view+json": {
       "model_id": "934920537a9548e78c7c0e7df7af6435",
       "version_major": 2,
       "version_minor": 0
      },
      "text/plain": [
       "Frame:   0%|          | 0/271 [00:00<?, ?frame/s]"
      ]
     },
     "metadata": {},
     "output_type": "display_data"
    },
    {
     "data": {
      "application/vnd.jupyter.widget-view+json": {
       "model_id": "97346867e39d49f2aef41d140f0f90ba",
       "version_major": 2,
       "version_minor": 0
      },
      "text/plain": [
       "Frame:   0%|          | 0/271 [00:00<?, ?frame/s]"
      ]
     },
     "metadata": {},
     "output_type": "display_data"
    },
    {
     "data": {
      "application/vnd.jupyter.widget-view+json": {
       "model_id": "3b9bad0e39064cd4b44891cb23f5f773",
       "version_major": 2,
       "version_minor": 0
      },
      "text/plain": [
       "Frame:   0%|          | 0/271 [00:00<?, ?frame/s]"
      ]
     },
     "metadata": {},
     "output_type": "display_data"
    },
    {
     "data": {
      "application/vnd.jupyter.widget-view+json": {
       "model_id": "ea4bcc59838d46a8b17e2b147d78eb6f",
       "version_major": 2,
       "version_minor": 0
      },
      "text/plain": [
       "Frame:   0%|          | 0/271 [00:00<?, ?frame/s]"
      ]
     },
     "metadata": {},
     "output_type": "display_data"
    },
    {
     "data": {
      "application/vnd.jupyter.widget-view+json": {
       "model_id": "c8dcbc5d53244c14ba772389e7bc0534",
       "version_major": 2,
       "version_minor": 0
      },
      "text/plain": [
       "Frame:   0%|          | 0/271 [00:00<?, ?frame/s]"
      ]
     },
     "metadata": {},
     "output_type": "display_data"
    },
    {
     "data": {
      "application/vnd.jupyter.widget-view+json": {
       "model_id": "c5bce733ec0043fab7b2f2811d91f0d3",
       "version_major": 2,
       "version_minor": 0
      },
      "text/plain": [
       "Frame:   0%|          | 0/271 [00:00<?, ?frame/s]"
      ]
     },
     "metadata": {},
     "output_type": "display_data"
    },
    {
     "data": {
      "application/vnd.jupyter.widget-view+json": {
       "model_id": "92698f8369434646873cf0cc54a6a229",
       "version_major": 2,
       "version_minor": 0
      },
      "text/plain": [
       "Frame:   0%|          | 0/271 [00:00<?, ?frame/s]"
      ]
     },
     "metadata": {},
     "output_type": "display_data"
    },
    {
     "data": {
      "application/vnd.jupyter.widget-view+json": {
       "model_id": "a57d1a91c5f549fd8726c78ed03777d6",
       "version_major": 2,
       "version_minor": 0
      },
      "text/plain": [
       "Frame:   0%|          | 0/271 [00:00<?, ?frame/s]"
      ]
     },
     "metadata": {},
     "output_type": "display_data"
    },
    {
     "data": {
      "application/vnd.jupyter.widget-view+json": {
       "model_id": "cd45c12778fb4e9ea398bbf0fb214a27",
       "version_major": 2,
       "version_minor": 0
      },
      "text/plain": [
       "Frame:   0%|          | 0/271 [00:00<?, ?frame/s]"
      ]
     },
     "metadata": {},
     "output_type": "display_data"
    },
    {
     "data": {
      "application/vnd.jupyter.widget-view+json": {
       "model_id": "a8f5123bf0ed4821ba3ef1efda6db3d0",
       "version_major": 2,
       "version_minor": 0
      },
      "text/plain": [
       "Frame:   0%|          | 0/271 [00:00<?, ?frame/s]"
      ]
     },
     "metadata": {},
     "output_type": "display_data"
    },
    {
     "data": {
      "application/vnd.jupyter.widget-view+json": {
       "model_id": "0e2385b9e28346998049f87b6728179b",
       "version_major": 2,
       "version_minor": 0
      },
      "text/plain": [
       "Frame:   0%|          | 0/271 [00:00<?, ?frame/s]"
      ]
     },
     "metadata": {},
     "output_type": "display_data"
    },
    {
     "data": {
      "application/vnd.jupyter.widget-view+json": {
       "model_id": "92a4a3f96fe34a14b9a8c384c1e1a874",
       "version_major": 2,
       "version_minor": 0
      },
      "text/plain": [
       "Frame:   0%|          | 0/271 [00:00<?, ?frame/s]"
      ]
     },
     "metadata": {},
     "output_type": "display_data"
    },
    {
     "data": {
      "application/vnd.jupyter.widget-view+json": {
       "model_id": "c9207ca40b7b4b7c898ec5792bf9131b",
       "version_major": 2,
       "version_minor": 0
      },
      "text/plain": [
       "Frame:   0%|          | 0/271 [00:00<?, ?frame/s]"
      ]
     },
     "metadata": {},
     "output_type": "display_data"
    },
    {
     "data": {
      "application/vnd.jupyter.widget-view+json": {
       "model_id": "a32fddb6fc67416b964e55dbb214adf6",
       "version_major": 2,
       "version_minor": 0
      },
      "text/plain": [
       "Frame:   0%|          | 0/271 [00:00<?, ?frame/s]"
      ]
     },
     "metadata": {},
     "output_type": "display_data"
    },
    {
     "data": {
      "application/vnd.jupyter.widget-view+json": {
       "model_id": "7ac96d1fb04941a5a7f5dde3257167ea",
       "version_major": 2,
       "version_minor": 0
      },
      "text/plain": [
       "Frame:   0%|          | 0/271 [00:00<?, ?frame/s]"
      ]
     },
     "metadata": {},
     "output_type": "display_data"
    },
    {
     "data": {
      "application/vnd.jupyter.widget-view+json": {
       "model_id": "f8f4a54eb039405f8900767da9583ffd",
       "version_major": 2,
       "version_minor": 0
      },
      "text/plain": [
       "Frame:   0%|          | 0/271 [00:00<?, ?frame/s]"
      ]
     },
     "metadata": {},
     "output_type": "display_data"
    },
    {
     "data": {
      "application/vnd.jupyter.widget-view+json": {
       "model_id": "94fa93b441504b6c85acc3a65484c490",
       "version_major": 2,
       "version_minor": 0
      },
      "text/plain": [
       "Frame:   0%|          | 0/271 [00:00<?, ?frame/s]"
      ]
     },
     "metadata": {},
     "output_type": "display_data"
    },
    {
     "data": {
      "application/vnd.jupyter.widget-view+json": {
       "model_id": "0dd3e1af1eb94bd694fe0bd86c540e3c",
       "version_major": 2,
       "version_minor": 0
      },
      "text/plain": [
       "Frame:   0%|          | 0/271 [00:00<?, ?frame/s]"
      ]
     },
     "metadata": {},
     "output_type": "display_data"
    },
    {
     "data": {
      "application/vnd.jupyter.widget-view+json": {
       "model_id": "ee2dd965b98746c7a1c389ab4e3125d6",
       "version_major": 2,
       "version_minor": 0
      },
      "text/plain": [
       "Frame:   0%|          | 0/271 [00:00<?, ?frame/s]"
      ]
     },
     "metadata": {},
     "output_type": "display_data"
    },
    {
     "data": {
      "application/vnd.jupyter.widget-view+json": {
       "model_id": "11e17e74365443aa8d73ccc38c1999fb",
       "version_major": 2,
       "version_minor": 0
      },
      "text/plain": [
       "Frame:   0%|          | 0/271 [00:00<?, ?frame/s]"
      ]
     },
     "metadata": {},
     "output_type": "display_data"
    },
    {
     "data": {
      "application/vnd.jupyter.widget-view+json": {
       "model_id": "e93050b3782a4462b634e3947b94ea48",
       "version_major": 2,
       "version_minor": 0
      },
      "text/plain": [
       "Frame:   0%|          | 0/271 [00:00<?, ?frame/s]"
      ]
     },
     "metadata": {},
     "output_type": "display_data"
    },
    {
     "data": {
      "application/vnd.jupyter.widget-view+json": {
       "model_id": "7232f83cd38a4d18be0d8d66b2e3806c",
       "version_major": 2,
       "version_minor": 0
      },
      "text/plain": [
       "Frame:   0%|          | 0/271 [00:00<?, ?frame/s]"
      ]
     },
     "metadata": {},
     "output_type": "display_data"
    },
    {
     "data": {
      "application/vnd.jupyter.widget-view+json": {
       "model_id": "f590378b912f4487b3ade70f8ff8e7cc",
       "version_major": 2,
       "version_minor": 0
      },
      "text/plain": [
       "Frame:   0%|          | 0/271 [00:00<?, ?frame/s]"
      ]
     },
     "metadata": {},
     "output_type": "display_data"
    },
    {
     "data": {
      "application/vnd.jupyter.widget-view+json": {
       "model_id": "727dbf1478b04e9e9bccffa0635bd56b",
       "version_major": 2,
       "version_minor": 0
      },
      "text/plain": [
       "Frame:   0%|          | 0/271 [00:00<?, ?frame/s]"
      ]
     },
     "metadata": {},
     "output_type": "display_data"
    },
    {
     "data": {
      "application/vnd.jupyter.widget-view+json": {
       "model_id": "8c5a26e7556146c884a0dd43056bd13f",
       "version_major": 2,
       "version_minor": 0
      },
      "text/plain": [
       "Frame:   0%|          | 0/271 [00:00<?, ?frame/s]"
      ]
     },
     "metadata": {},
     "output_type": "display_data"
    },
    {
     "data": {
      "application/vnd.jupyter.widget-view+json": {
       "model_id": "822fe72d3c824fb480e25e7039f8dc35",
       "version_major": 2,
       "version_minor": 0
      },
      "text/plain": [
       "Frame:   0%|          | 0/271 [00:00<?, ?frame/s]"
      ]
     },
     "metadata": {},
     "output_type": "display_data"
    },
    {
     "data": {
      "application/vnd.jupyter.widget-view+json": {
       "model_id": "185c135ebc9a499b8561ced1bac14b6f",
       "version_major": 2,
       "version_minor": 0
      },
      "text/plain": [
       "Frame:   0%|          | 0/271 [00:00<?, ?frame/s]"
      ]
     },
     "metadata": {},
     "output_type": "display_data"
    },
    {
     "data": {
      "application/vnd.jupyter.widget-view+json": {
       "model_id": "c0600cd447bf4adb89da008fd28d7151",
       "version_major": 2,
       "version_minor": 0
      },
      "text/plain": [
       "Frame:   0%|          | 0/271 [00:00<?, ?frame/s]"
      ]
     },
     "metadata": {},
     "output_type": "display_data"
    },
    {
     "data": {
      "application/vnd.jupyter.widget-view+json": {
       "model_id": "71132da24ecf411783a9237aed029397",
       "version_major": 2,
       "version_minor": 0
      },
      "text/plain": [
       "Frame:   0%|          | 0/271 [00:00<?, ?frame/s]"
      ]
     },
     "metadata": {},
     "output_type": "display_data"
    },
    {
     "data": {
      "application/vnd.jupyter.widget-view+json": {
       "model_id": "74120c88eea649368ff9008378aec453",
       "version_major": 2,
       "version_minor": 0
      },
      "text/plain": [
       "Frame:   0%|          | 0/271 [00:00<?, ?frame/s]"
      ]
     },
     "metadata": {},
     "output_type": "display_data"
    },
    {
     "data": {
      "application/vnd.jupyter.widget-view+json": {
       "model_id": "6a38c0e17d524a659146f3f3c17f48c2",
       "version_major": 2,
       "version_minor": 0
      },
      "text/plain": [
       "Frame:   0%|          | 0/271 [00:00<?, ?frame/s]"
      ]
     },
     "metadata": {},
     "output_type": "display_data"
    },
    {
     "data": {
      "application/vnd.jupyter.widget-view+json": {
       "model_id": "873c33b46efb4c0eb65d1bdb7a9b4282",
       "version_major": 2,
       "version_minor": 0
      },
      "text/plain": [
       "Frame:   0%|          | 0/271 [00:00<?, ?frame/s]"
      ]
     },
     "metadata": {},
     "output_type": "display_data"
    },
    {
     "data": {
      "application/vnd.jupyter.widget-view+json": {
       "model_id": "1e3de0c7ef364a70ae93294fb9fbf080",
       "version_major": 2,
       "version_minor": 0
      },
      "text/plain": [
       "Frame:   0%|          | 0/271 [00:00<?, ?frame/s]"
      ]
     },
     "metadata": {},
     "output_type": "display_data"
    },
    {
     "data": {
      "application/vnd.jupyter.widget-view+json": {
       "model_id": "4f0e500a35e04c83917bc468f4ec72ff",
       "version_major": 2,
       "version_minor": 0
      },
      "text/plain": [
       "Frame:   0%|          | 0/271 [00:00<?, ?frame/s]"
      ]
     },
     "metadata": {},
     "output_type": "display_data"
    },
    {
     "data": {
      "application/vnd.jupyter.widget-view+json": {
       "model_id": "55522bfd5cff4d428db19abe260a853c",
       "version_major": 2,
       "version_minor": 0
      },
      "text/plain": [
       "Frame:   0%|          | 0/271 [00:00<?, ?frame/s]"
      ]
     },
     "metadata": {},
     "output_type": "display_data"
    },
    {
     "data": {
      "application/vnd.jupyter.widget-view+json": {
       "model_id": "c10490b6eb0d49189bd2e3f3390c00d3",
       "version_major": 2,
       "version_minor": 0
      },
      "text/plain": [
       "Frame:   0%|          | 0/271 [00:00<?, ?frame/s]"
      ]
     },
     "metadata": {},
     "output_type": "display_data"
    },
    {
     "data": {
      "application/vnd.jupyter.widget-view+json": {
       "model_id": "43a381e97749448c9975a5ab85476dfc",
       "version_major": 2,
       "version_minor": 0
      },
      "text/plain": [
       "Frame:   0%|          | 0/271 [00:00<?, ?frame/s]"
      ]
     },
     "metadata": {},
     "output_type": "display_data"
    },
    {
     "data": {
      "application/vnd.jupyter.widget-view+json": {
       "model_id": "331482894bae4b59986168d5a2e262cf",
       "version_major": 2,
       "version_minor": 0
      },
      "text/plain": [
       "Frame:   0%|          | 0/271 [00:00<?, ?frame/s]"
      ]
     },
     "metadata": {},
     "output_type": "display_data"
    },
    {
     "data": {
      "application/vnd.jupyter.widget-view+json": {
       "model_id": "ec079a9af0764ae8aa69338dfcdb6779",
       "version_major": 2,
       "version_minor": 0
      },
      "text/plain": [
       "Frame:   0%|          | 0/271 [00:00<?, ?frame/s]"
      ]
     },
     "metadata": {},
     "output_type": "display_data"
    },
    {
     "data": {
      "application/vnd.jupyter.widget-view+json": {
       "model_id": "a72e61a55c9c43d7a7fb439da35e373f",
       "version_major": 2,
       "version_minor": 0
      },
      "text/plain": [
       "Frame:   0%|          | 0/271 [00:00<?, ?frame/s]"
      ]
     },
     "metadata": {},
     "output_type": "display_data"
    },
    {
     "data": {
      "application/vnd.jupyter.widget-view+json": {
       "model_id": "fcc6032aa32148938d72ddb7919b2092",
       "version_major": 2,
       "version_minor": 0
      },
      "text/plain": [
       "Frame:   0%|          | 0/271 [00:00<?, ?frame/s]"
      ]
     },
     "metadata": {},
     "output_type": "display_data"
    },
    {
     "data": {
      "application/vnd.jupyter.widget-view+json": {
       "model_id": "e7fa773a51ff43c582a0922e4ea7aa04",
       "version_major": 2,
       "version_minor": 0
      },
      "text/plain": [
       "Frame:   0%|          | 0/271 [00:00<?, ?frame/s]"
      ]
     },
     "metadata": {},
     "output_type": "display_data"
    },
    {
     "data": {
      "application/vnd.jupyter.widget-view+json": {
       "model_id": "561188e0da8445daaa27a34720423497",
       "version_major": 2,
       "version_minor": 0
      },
      "text/plain": [
       "Frame:   0%|          | 0/271 [00:00<?, ?frame/s]"
      ]
     },
     "metadata": {},
     "output_type": "display_data"
    },
    {
     "data": {
      "application/vnd.jupyter.widget-view+json": {
       "model_id": "5950049f3d2e450fa4cbb87a3030343c",
       "version_major": 2,
       "version_minor": 0
      },
      "text/plain": [
       "Frame:   0%|          | 0/271 [00:00<?, ?frame/s]"
      ]
     },
     "metadata": {},
     "output_type": "display_data"
    },
    {
     "data": {
      "application/vnd.jupyter.widget-view+json": {
       "model_id": "b3c8c3d8425d46bb91f53db4b442ec64",
       "version_major": 2,
       "version_minor": 0
      },
      "text/plain": [
       "Frame:   0%|          | 0/271 [00:00<?, ?frame/s]"
      ]
     },
     "metadata": {},
     "output_type": "display_data"
    },
    {
     "data": {
      "application/vnd.jupyter.widget-view+json": {
       "model_id": "7b0b1a8facf344e59d50fabe4a31f513",
       "version_major": 2,
       "version_minor": 0
      },
      "text/plain": [
       "Frame:   0%|          | 0/271 [00:00<?, ?frame/s]"
      ]
     },
     "metadata": {},
     "output_type": "display_data"
    },
    {
     "data": {
      "application/vnd.jupyter.widget-view+json": {
       "model_id": "2a2b8658b72b4faeb1c0b2ebd1628df6",
       "version_major": 2,
       "version_minor": 0
      },
      "text/plain": [
       "Frame:   0%|          | 0/271 [00:00<?, ?frame/s]"
      ]
     },
     "metadata": {},
     "output_type": "display_data"
    },
    {
     "data": {
      "application/vnd.jupyter.widget-view+json": {
       "model_id": "2b0ea70bb3cb4fa28dd0d56e14609751",
       "version_major": 2,
       "version_minor": 0
      },
      "text/plain": [
       "Frame:   0%|          | 0/271 [00:00<?, ?frame/s]"
      ]
     },
     "metadata": {},
     "output_type": "display_data"
    },
    {
     "data": {
      "application/vnd.jupyter.widget-view+json": {
       "model_id": "4ead4ff996044e1bafb4d0fe677e7c94",
       "version_major": 2,
       "version_minor": 0
      },
      "text/plain": [
       "Frame:   0%|          | 0/271 [00:00<?, ?frame/s]"
      ]
     },
     "metadata": {},
     "output_type": "display_data"
    },
    {
     "data": {
      "application/vnd.jupyter.widget-view+json": {
       "model_id": "5f6265f8e1d94d248b958c34bd5768e4",
       "version_major": 2,
       "version_minor": 0
      },
      "text/plain": [
       "Frame:   0%|          | 0/271 [00:00<?, ?frame/s]"
      ]
     },
     "metadata": {},
     "output_type": "display_data"
    },
    {
     "data": {
      "application/vnd.jupyter.widget-view+json": {
       "model_id": "4570a0a6aea84936a68aa3c5c40c2f6b",
       "version_major": 2,
       "version_minor": 0
      },
      "text/plain": [
       "Frame:   0%|          | 0/271 [00:00<?, ?frame/s]"
      ]
     },
     "metadata": {},
     "output_type": "display_data"
    },
    {
     "data": {
      "application/vnd.jupyter.widget-view+json": {
       "model_id": "8851fc9962064c3ea6cd4808e9b2962c",
       "version_major": 2,
       "version_minor": 0
      },
      "text/plain": [
       "Frame:   0%|          | 0/271 [00:00<?, ?frame/s]"
      ]
     },
     "metadata": {},
     "output_type": "display_data"
    },
    {
     "data": {
      "application/vnd.jupyter.widget-view+json": {
       "model_id": "f061fda5067d447d96679432b2e91791",
       "version_major": 2,
       "version_minor": 0
      },
      "text/plain": [
       "Frame:   0%|          | 0/271 [00:00<?, ?frame/s]"
      ]
     },
     "metadata": {},
     "output_type": "display_data"
    },
    {
     "data": {
      "application/vnd.jupyter.widget-view+json": {
       "model_id": "82f1ec80667a4870be11a0d407584d83",
       "version_major": 2,
       "version_minor": 0
      },
      "text/plain": [
       "Frame:   0%|          | 0/271 [00:00<?, ?frame/s]"
      ]
     },
     "metadata": {},
     "output_type": "display_data"
    },
    {
     "data": {
      "application/vnd.jupyter.widget-view+json": {
       "model_id": "4a1e88d06718464685e966159a8b31b6",
       "version_major": 2,
       "version_minor": 0
      },
      "text/plain": [
       "Frame:   0%|          | 0/271 [00:00<?, ?frame/s]"
      ]
     },
     "metadata": {},
     "output_type": "display_data"
    },
    {
     "data": {
      "application/vnd.jupyter.widget-view+json": {
       "model_id": "c06a21546522498fa5693a070ed2cfb5",
       "version_major": 2,
       "version_minor": 0
      },
      "text/plain": [
       "Frame:   0%|          | 0/271 [00:00<?, ?frame/s]"
      ]
     },
     "metadata": {},
     "output_type": "display_data"
    },
    {
     "data": {
      "application/vnd.jupyter.widget-view+json": {
       "model_id": "6122da3f926b42569c2d02a1cca6e9f0",
       "version_major": 2,
       "version_minor": 0
      },
      "text/plain": [
       "Frame:   0%|          | 0/271 [00:00<?, ?frame/s]"
      ]
     },
     "metadata": {},
     "output_type": "display_data"
    },
    {
     "data": {
      "application/vnd.jupyter.widget-view+json": {
       "model_id": "956c6f45726041339040bc74550059da",
       "version_major": 2,
       "version_minor": 0
      },
      "text/plain": [
       "Frame:   0%|          | 0/271 [00:00<?, ?frame/s]"
      ]
     },
     "metadata": {},
     "output_type": "display_data"
    },
    {
     "data": {
      "application/vnd.jupyter.widget-view+json": {
       "model_id": "e133431b57c140018552d9859bf8f1cf",
       "version_major": 2,
       "version_minor": 0
      },
      "text/plain": [
       "Frame:   0%|          | 0/271 [00:00<?, ?frame/s]"
      ]
     },
     "metadata": {},
     "output_type": "display_data"
    },
    {
     "data": {
      "application/vnd.jupyter.widget-view+json": {
       "model_id": "1f1f1c8df4e04d30afbc27b45abf3c1d",
       "version_major": 2,
       "version_minor": 0
      },
      "text/plain": [
       "Frame:   0%|          | 0/271 [00:00<?, ?frame/s]"
      ]
     },
     "metadata": {},
     "output_type": "display_data"
    },
    {
     "data": {
      "application/vnd.jupyter.widget-view+json": {
       "model_id": "8d500ca01a33482db60aba9cb56434c3",
       "version_major": 2,
       "version_minor": 0
      },
      "text/plain": [
       "Frame:   0%|          | 0/271 [00:00<?, ?frame/s]"
      ]
     },
     "metadata": {},
     "output_type": "display_data"
    },
    {
     "data": {
      "application/vnd.jupyter.widget-view+json": {
       "model_id": "d4eeb24abd24472dbefd64662f1989fb",
       "version_major": 2,
       "version_minor": 0
      },
      "text/plain": [
       "Frame:   0%|          | 0/271 [00:00<?, ?frame/s]"
      ]
     },
     "metadata": {},
     "output_type": "display_data"
    },
    {
     "data": {
      "application/vnd.jupyter.widget-view+json": {
       "model_id": "a2dc2dbe4673482ebefcc6b36c1a236c",
       "version_major": 2,
       "version_minor": 0
      },
      "text/plain": [
       "Frame:   0%|          | 0/271 [00:00<?, ?frame/s]"
      ]
     },
     "metadata": {},
     "output_type": "display_data"
    },
    {
     "data": {
      "application/vnd.jupyter.widget-view+json": {
       "model_id": "0e8de2cc4b36434298e7d2a8aca894f0",
       "version_major": 2,
       "version_minor": 0
      },
      "text/plain": [
       "Frame:   0%|          | 0/271 [00:00<?, ?frame/s]"
      ]
     },
     "metadata": {},
     "output_type": "display_data"
    },
    {
     "data": {
      "application/vnd.jupyter.widget-view+json": {
       "model_id": "87cc1f6a11bd404eba7fc12a641d100a",
       "version_major": 2,
       "version_minor": 0
      },
      "text/plain": [
       "Frame:   0%|          | 0/271 [00:00<?, ?frame/s]"
      ]
     },
     "metadata": {},
     "output_type": "display_data"
    },
    {
     "data": {
      "application/vnd.jupyter.widget-view+json": {
       "model_id": "3931d1bb5d664cf1bfb271f16050af38",
       "version_major": 2,
       "version_minor": 0
      },
      "text/plain": [
       "Frame:   0%|          | 0/271 [00:00<?, ?frame/s]"
      ]
     },
     "metadata": {},
     "output_type": "display_data"
    },
    {
     "data": {
      "application/vnd.jupyter.widget-view+json": {
       "model_id": "2760446bd7774167bb91c32a9502ee99",
       "version_major": 2,
       "version_minor": 0
      },
      "text/plain": [
       "Frame:   0%|          | 0/271 [00:00<?, ?frame/s]"
      ]
     },
     "metadata": {},
     "output_type": "display_data"
    },
    {
     "data": {
      "application/vnd.jupyter.widget-view+json": {
       "model_id": "6f0dcf41afb841c3a2843a5693ad755e",
       "version_major": 2,
       "version_minor": 0
      },
      "text/plain": [
       "Frame:   0%|          | 0/271 [00:00<?, ?frame/s]"
      ]
     },
     "metadata": {},
     "output_type": "display_data"
    },
    {
     "data": {
      "application/vnd.jupyter.widget-view+json": {
       "model_id": "8732cf0f1c3a4c05965415f8d5034ffa",
       "version_major": 2,
       "version_minor": 0
      },
      "text/plain": [
       "Frame:   0%|          | 0/271 [00:00<?, ?frame/s]"
      ]
     },
     "metadata": {},
     "output_type": "display_data"
    },
    {
     "data": {
      "application/vnd.jupyter.widget-view+json": {
       "model_id": "1688a3b782b1440d8dcc50b73fe41952",
       "version_major": 2,
       "version_minor": 0
      },
      "text/plain": [
       "Frame:   0%|          | 0/271 [00:00<?, ?frame/s]"
      ]
     },
     "metadata": {},
     "output_type": "display_data"
    },
    {
     "data": {
      "application/vnd.jupyter.widget-view+json": {
       "model_id": "7740bfc703fa404592bea75b0e67574d",
       "version_major": 2,
       "version_minor": 0
      },
      "text/plain": [
       "Frame:   0%|          | 0/271 [00:00<?, ?frame/s]"
      ]
     },
     "metadata": {},
     "output_type": "display_data"
    },
    {
     "data": {
      "application/vnd.jupyter.widget-view+json": {
       "model_id": "c99b01736d9d4e0da8b1e47ad549d67d",
       "version_major": 2,
       "version_minor": 0
      },
      "text/plain": [
       "Frame:   0%|          | 0/271 [00:00<?, ?frame/s]"
      ]
     },
     "metadata": {},
     "output_type": "display_data"
    },
    {
     "data": {
      "application/vnd.jupyter.widget-view+json": {
       "model_id": "d09be57151154b38a51ef9af7c1b1a93",
       "version_major": 2,
       "version_minor": 0
      },
      "text/plain": [
       "Frame:   0%|          | 0/271 [00:00<?, ?frame/s]"
      ]
     },
     "metadata": {},
     "output_type": "display_data"
    },
    {
     "data": {
      "application/vnd.jupyter.widget-view+json": {
       "model_id": "d32ca6d3bb294c7f99ecb72e00347b92",
       "version_major": 2,
       "version_minor": 0
      },
      "text/plain": [
       "Frame:   0%|          | 0/271 [00:00<?, ?frame/s]"
      ]
     },
     "metadata": {},
     "output_type": "display_data"
    },
    {
     "data": {
      "application/vnd.jupyter.widget-view+json": {
       "model_id": "25d4a4592bd140d88d9e1548f809de7a",
       "version_major": 2,
       "version_minor": 0
      },
      "text/plain": [
       "Frame:   0%|          | 0/271 [00:00<?, ?frame/s]"
      ]
     },
     "metadata": {},
     "output_type": "display_data"
    },
    {
     "data": {
      "application/vnd.jupyter.widget-view+json": {
       "model_id": "468da55da7484e0b84f7cbdcdbb5fac8",
       "version_major": 2,
       "version_minor": 0
      },
      "text/plain": [
       "Frame:   0%|          | 0/271 [00:00<?, ?frame/s]"
      ]
     },
     "metadata": {},
     "output_type": "display_data"
    },
    {
     "data": {
      "application/vnd.jupyter.widget-view+json": {
       "model_id": "c795eeb0372848bf94d50965a4b387d8",
       "version_major": 2,
       "version_minor": 0
      },
      "text/plain": [
       "Frame:   0%|          | 0/271 [00:00<?, ?frame/s]"
      ]
     },
     "metadata": {},
     "output_type": "display_data"
    },
    {
     "data": {
      "application/vnd.jupyter.widget-view+json": {
       "model_id": "5c1f025e23d1443e8a223f99c0c271ba",
       "version_major": 2,
       "version_minor": 0
      },
      "text/plain": [
       "Frame:   0%|          | 0/271 [00:00<?, ?frame/s]"
      ]
     },
     "metadata": {},
     "output_type": "display_data"
    },
    {
     "data": {
      "application/vnd.jupyter.widget-view+json": {
       "model_id": "89fdd96f01524ad3a7997135eed83f9e",
       "version_major": 2,
       "version_minor": 0
      },
      "text/plain": [
       "Frame:   0%|          | 0/271 [00:00<?, ?frame/s]"
      ]
     },
     "metadata": {},
     "output_type": "display_data"
    },
    {
     "data": {
      "application/vnd.jupyter.widget-view+json": {
       "model_id": "723ea288ecb14d1b8985fcee8d355b1a",
       "version_major": 2,
       "version_minor": 0
      },
      "text/plain": [
       "Frame:   0%|          | 0/271 [00:00<?, ?frame/s]"
      ]
     },
     "metadata": {},
     "output_type": "display_data"
    },
    {
     "data": {
      "application/vnd.jupyter.widget-view+json": {
       "model_id": "8cbe5f7af3dd4e67a74a839f7b0f6841",
       "version_major": 2,
       "version_minor": 0
      },
      "text/plain": [
       "Frame:   0%|          | 0/271 [00:00<?, ?frame/s]"
      ]
     },
     "metadata": {},
     "output_type": "display_data"
    },
    {
     "data": {
      "application/vnd.jupyter.widget-view+json": {
       "model_id": "bf46f115d4394f0d97d56618334cc6a4",
       "version_major": 2,
       "version_minor": 0
      },
      "text/plain": [
       "Frame:   0%|          | 0/271 [00:00<?, ?frame/s]"
      ]
     },
     "metadata": {},
     "output_type": "display_data"
    },
    {
     "data": {
      "application/vnd.jupyter.widget-view+json": {
       "model_id": "93f616a1e79a45b0b26dbb9906f2f0df",
       "version_major": 2,
       "version_minor": 0
      },
      "text/plain": [
       "Frame:   0%|          | 0/271 [00:00<?, ?frame/s]"
      ]
     },
     "metadata": {},
     "output_type": "display_data"
    },
    {
     "data": {
      "application/vnd.jupyter.widget-view+json": {
       "model_id": "1fabae5b3b1b4986a43ca2085241571d",
       "version_major": 2,
       "version_minor": 0
      },
      "text/plain": [
       "Frame:   0%|          | 0/271 [00:00<?, ?frame/s]"
      ]
     },
     "metadata": {},
     "output_type": "display_data"
    },
    {
     "data": {
      "application/vnd.jupyter.widget-view+json": {
       "model_id": "c949b557430e48928b770eaca3379486",
       "version_major": 2,
       "version_minor": 0
      },
      "text/plain": [
       "Frame:   0%|          | 0/271 [00:00<?, ?frame/s]"
      ]
     },
     "metadata": {},
     "output_type": "display_data"
    },
    {
     "data": {
      "application/vnd.jupyter.widget-view+json": {
       "model_id": "bcada9ace8dc426bb93dca3dbb74d143",
       "version_major": 2,
       "version_minor": 0
      },
      "text/plain": [
       "Frame:   0%|          | 0/271 [00:00<?, ?frame/s]"
      ]
     },
     "metadata": {},
     "output_type": "display_data"
    },
    {
     "data": {
      "application/vnd.jupyter.widget-view+json": {
       "model_id": "e0a4ed5d655344f8a5215500d8d3018d",
       "version_major": 2,
       "version_minor": 0
      },
      "text/plain": [
       "Frame:   0%|          | 0/271 [00:00<?, ?frame/s]"
      ]
     },
     "metadata": {},
     "output_type": "display_data"
    },
    {
     "data": {
      "application/vnd.jupyter.widget-view+json": {
       "model_id": "9fc288f31c9f4dacb759d700fe356d04",
       "version_major": 2,
       "version_minor": 0
      },
      "text/plain": [
       "Frame:   0%|          | 0/271 [00:00<?, ?frame/s]"
      ]
     },
     "metadata": {},
     "output_type": "display_data"
    },
    {
     "data": {
      "application/vnd.jupyter.widget-view+json": {
       "model_id": "bd63e75a9db84ef3a4846bb618fdf579",
       "version_major": 2,
       "version_minor": 0
      },
      "text/plain": [
       "Frame:   0%|          | 0/271 [00:00<?, ?frame/s]"
      ]
     },
     "metadata": {},
     "output_type": "display_data"
    },
    {
     "data": {
      "application/vnd.jupyter.widget-view+json": {
       "model_id": "24b9e6b00c094f9c9de2fa145424a26d",
       "version_major": 2,
       "version_minor": 0
      },
      "text/plain": [
       "Frame:   0%|          | 0/271 [00:00<?, ?frame/s]"
      ]
     },
     "metadata": {},
     "output_type": "display_data"
    },
    {
     "data": {
      "application/vnd.jupyter.widget-view+json": {
       "model_id": "60cfc50b839c482fb891b96658d869ac",
       "version_major": 2,
       "version_minor": 0
      },
      "text/plain": [
       "Frame:   0%|          | 0/271 [00:00<?, ?frame/s]"
      ]
     },
     "metadata": {},
     "output_type": "display_data"
    },
    {
     "data": {
      "application/vnd.jupyter.widget-view+json": {
       "model_id": "501e605d313c45c9bb9dc665c6b6161f",
       "version_major": 2,
       "version_minor": 0
      },
      "text/plain": [
       "Frame:   0%|          | 0/271 [00:00<?, ?frame/s]"
      ]
     },
     "metadata": {},
     "output_type": "display_data"
    },
    {
     "data": {
      "application/vnd.jupyter.widget-view+json": {
       "model_id": "5838e3c67b764728a6dbc7abfc944c18",
       "version_major": 2,
       "version_minor": 0
      },
      "text/plain": [
       "Frame:   0%|          | 0/271 [00:00<?, ?frame/s]"
      ]
     },
     "metadata": {},
     "output_type": "display_data"
    },
    {
     "data": {
      "application/vnd.jupyter.widget-view+json": {
       "model_id": "7a887d4e62714be79926a3f9981b6d8c",
       "version_major": 2,
       "version_minor": 0
      },
      "text/plain": [
       "Frame:   0%|          | 0/271 [00:00<?, ?frame/s]"
      ]
     },
     "metadata": {},
     "output_type": "display_data"
    },
    {
     "data": {
      "application/vnd.jupyter.widget-view+json": {
       "model_id": "2d6c95e706f84ad29c33cf96b42c7523",
       "version_major": 2,
       "version_minor": 0
      },
      "text/plain": [
       "Frame:   0%|          | 0/271 [00:00<?, ?frame/s]"
      ]
     },
     "metadata": {},
     "output_type": "display_data"
    },
    {
     "data": {
      "application/vnd.jupyter.widget-view+json": {
       "model_id": "a28ca118392441c182a49b8670d87ea5",
       "version_major": 2,
       "version_minor": 0
      },
      "text/plain": [
       "Frame:   0%|          | 0/271 [00:00<?, ?frame/s]"
      ]
     },
     "metadata": {},
     "output_type": "display_data"
    },
    {
     "data": {
      "application/vnd.jupyter.widget-view+json": {
       "model_id": "e3775c8489fd4c4fa89954fcf3f17879",
       "version_major": 2,
       "version_minor": 0
      },
      "text/plain": [
       "Frame:   0%|          | 0/271 [00:00<?, ?frame/s]"
      ]
     },
     "metadata": {},
     "output_type": "display_data"
    },
    {
     "data": {
      "application/vnd.jupyter.widget-view+json": {
       "model_id": "d75b624f5230444e87e9612e95809e20",
       "version_major": 2,
       "version_minor": 0
      },
      "text/plain": [
       "Frame:   0%|          | 0/271 [00:00<?, ?frame/s]"
      ]
     },
     "metadata": {},
     "output_type": "display_data"
    },
    {
     "data": {
      "application/vnd.jupyter.widget-view+json": {
       "model_id": "60e4df6a94dc42d4b6113390f731f64d",
       "version_major": 2,
       "version_minor": 0
      },
      "text/plain": [
       "Frame:   0%|          | 0/271 [00:00<?, ?frame/s]"
      ]
     },
     "metadata": {},
     "output_type": "display_data"
    },
    {
     "data": {
      "application/vnd.jupyter.widget-view+json": {
       "model_id": "c873d4d60f0f4fdea48e67a826d7873a",
       "version_major": 2,
       "version_minor": 0
      },
      "text/plain": [
       "Frame:   0%|          | 0/271 [00:00<?, ?frame/s]"
      ]
     },
     "metadata": {},
     "output_type": "display_data"
    },
    {
     "data": {
      "application/vnd.jupyter.widget-view+json": {
       "model_id": "4194e282f37b43d18efa48294fe1e670",
       "version_major": 2,
       "version_minor": 0
      },
      "text/plain": [
       "Frame:   0%|          | 0/271 [00:00<?, ?frame/s]"
      ]
     },
     "metadata": {},
     "output_type": "display_data"
    },
    {
     "data": {
      "application/vnd.jupyter.widget-view+json": {
       "model_id": "c725d262ef3b43a3851c2443cebe0e7c",
       "version_major": 2,
       "version_minor": 0
      },
      "text/plain": [
       "Frame:   0%|          | 0/271 [00:00<?, ?frame/s]"
      ]
     },
     "metadata": {},
     "output_type": "display_data"
    },
    {
     "data": {
      "application/vnd.jupyter.widget-view+json": {
       "model_id": "b54fc37cdc6d4d3e9c2192b112d02973",
       "version_major": 2,
       "version_minor": 0
      },
      "text/plain": [
       "Frame:   0%|          | 0/271 [00:00<?, ?frame/s]"
      ]
     },
     "metadata": {},
     "output_type": "display_data"
    },
    {
     "data": {
      "application/vnd.jupyter.widget-view+json": {
       "model_id": "d80a98108f384eb283de7b60a266cdca",
       "version_major": 2,
       "version_minor": 0
      },
      "text/plain": [
       "Frame:   0%|          | 0/271 [00:00<?, ?frame/s]"
      ]
     },
     "metadata": {},
     "output_type": "display_data"
    },
    {
     "data": {
      "application/vnd.jupyter.widget-view+json": {
       "model_id": "c224a15d26da497692812e986e2f5a54",
       "version_major": 2,
       "version_minor": 0
      },
      "text/plain": [
       "Frame:   0%|          | 0/271 [00:00<?, ?frame/s]"
      ]
     },
     "metadata": {},
     "output_type": "display_data"
    },
    {
     "data": {
      "application/vnd.jupyter.widget-view+json": {
       "model_id": "4335ed314e7d4946912ddb36f6ee238f",
       "version_major": 2,
       "version_minor": 0
      },
      "text/plain": [
       "Frame:   0%|          | 0/271 [00:00<?, ?frame/s]"
      ]
     },
     "metadata": {},
     "output_type": "display_data"
    },
    {
     "data": {
      "application/vnd.jupyter.widget-view+json": {
       "model_id": "c2b561ac920d49f1be880514d15ff4cb",
       "version_major": 2,
       "version_minor": 0
      },
      "text/plain": [
       "Frame:   0%|          | 0/271 [00:00<?, ?frame/s]"
      ]
     },
     "metadata": {},
     "output_type": "display_data"
    },
    {
     "data": {
      "application/vnd.jupyter.widget-view+json": {
       "model_id": "ff6d14ef8c3d4054a9a35e79d36fe9f7",
       "version_major": 2,
       "version_minor": 0
      },
      "text/plain": [
       "Frame:   0%|          | 0/271 [00:00<?, ?frame/s]"
      ]
     },
     "metadata": {},
     "output_type": "display_data"
    },
    {
     "data": {
      "application/vnd.jupyter.widget-view+json": {
       "model_id": "a982e9009c0e48399716b74a7c6f900e",
       "version_major": 2,
       "version_minor": 0
      },
      "text/plain": [
       "Frame:   0%|          | 0/271 [00:00<?, ?frame/s]"
      ]
     },
     "metadata": {},
     "output_type": "display_data"
    },
    {
     "data": {
      "application/vnd.jupyter.widget-view+json": {
       "model_id": "8e66847b9b8a42b39dc509af81e3f20e",
       "version_major": 2,
       "version_minor": 0
      },
      "text/plain": [
       "Frame:   0%|          | 0/271 [00:00<?, ?frame/s]"
      ]
     },
     "metadata": {},
     "output_type": "display_data"
    },
    {
     "data": {
      "application/vnd.jupyter.widget-view+json": {
       "model_id": "df1f039d6adf4daf9635dc42ad91cf13",
       "version_major": 2,
       "version_minor": 0
      },
      "text/plain": [
       "Frame:   0%|          | 0/271 [00:00<?, ?frame/s]"
      ]
     },
     "metadata": {},
     "output_type": "display_data"
    },
    {
     "data": {
      "application/vnd.jupyter.widget-view+json": {
       "model_id": "604e196115a249ec871f8f28e3d62d06",
       "version_major": 2,
       "version_minor": 0
      },
      "text/plain": [
       "Frame:   0%|          | 0/271 [00:00<?, ?frame/s]"
      ]
     },
     "metadata": {},
     "output_type": "display_data"
    },
    {
     "data": {
      "application/vnd.jupyter.widget-view+json": {
       "model_id": "c9e30de9a0cc45659022f08defbcbdac",
       "version_major": 2,
       "version_minor": 0
      },
      "text/plain": [
       "Frame:   0%|          | 0/271 [00:00<?, ?frame/s]"
      ]
     },
     "metadata": {},
     "output_type": "display_data"
    },
    {
     "data": {
      "application/vnd.jupyter.widget-view+json": {
       "model_id": "c074410a635c4704aeb48d946feb0944",
       "version_major": 2,
       "version_minor": 0
      },
      "text/plain": [
       "Frame:   0%|          | 0/271 [00:00<?, ?frame/s]"
      ]
     },
     "metadata": {},
     "output_type": "display_data"
    },
    {
     "data": {
      "application/vnd.jupyter.widget-view+json": {
       "model_id": "4a9f56380ede4cb284c07349141495b9",
       "version_major": 2,
       "version_minor": 0
      },
      "text/plain": [
       "Frame:   0%|          | 0/271 [00:00<?, ?frame/s]"
      ]
     },
     "metadata": {},
     "output_type": "display_data"
    },
    {
     "data": {
      "application/vnd.jupyter.widget-view+json": {
       "model_id": "c23c35ce1122496f8d8623f923540dee",
       "version_major": 2,
       "version_minor": 0
      },
      "text/plain": [
       "Frame:   0%|          | 0/271 [00:00<?, ?frame/s]"
      ]
     },
     "metadata": {},
     "output_type": "display_data"
    },
    {
     "data": {
      "application/vnd.jupyter.widget-view+json": {
       "model_id": "74d4071a998e45e6954647b2d36e26a5",
       "version_major": 2,
       "version_minor": 0
      },
      "text/plain": [
       "Frame:   0%|          | 0/271 [00:00<?, ?frame/s]"
      ]
     },
     "metadata": {},
     "output_type": "display_data"
    },
    {
     "data": {
      "application/vnd.jupyter.widget-view+json": {
       "model_id": "0a31abcf84c741c4a0617e774a703f85",
       "version_major": 2,
       "version_minor": 0
      },
      "text/plain": [
       "Frame:   0%|          | 0/271 [00:00<?, ?frame/s]"
      ]
     },
     "metadata": {},
     "output_type": "display_data"
    },
    {
     "data": {
      "application/vnd.jupyter.widget-view+json": {
       "model_id": "9e109d428bad40fa8405ad47df3fd9f6",
       "version_major": 2,
       "version_minor": 0
      },
      "text/plain": [
       "Frame:   0%|          | 0/271 [00:00<?, ?frame/s]"
      ]
     },
     "metadata": {},
     "output_type": "display_data"
    },
    {
     "data": {
      "application/vnd.jupyter.widget-view+json": {
       "model_id": "4ee6f26e2f2f493597cc421028249fd1",
       "version_major": 2,
       "version_minor": 0
      },
      "text/plain": [
       "Frame:   0%|          | 0/271 [00:00<?, ?frame/s]"
      ]
     },
     "metadata": {},
     "output_type": "display_data"
    },
    {
     "data": {
      "application/vnd.jupyter.widget-view+json": {
       "model_id": "a063c6ed7ef048788a668953064395a8",
       "version_major": 2,
       "version_minor": 0
      },
      "text/plain": [
       "Frame:   0%|          | 0/271 [00:00<?, ?frame/s]"
      ]
     },
     "metadata": {},
     "output_type": "display_data"
    },
    {
     "data": {
      "application/vnd.jupyter.widget-view+json": {
       "model_id": "ac440bd38c5e45dd9002a79c5bb7908c",
       "version_major": 2,
       "version_minor": 0
      },
      "text/plain": [
       "Frame:   0%|          | 0/271 [00:00<?, ?frame/s]"
      ]
     },
     "metadata": {},
     "output_type": "display_data"
    },
    {
     "data": {
      "application/vnd.jupyter.widget-view+json": {
       "model_id": "a7939f0485c14dd3b8f49d7ff7ad6545",
       "version_major": 2,
       "version_minor": 0
      },
      "text/plain": [
       "Frame:   0%|          | 0/271 [00:00<?, ?frame/s]"
      ]
     },
     "metadata": {},
     "output_type": "display_data"
    },
    {
     "data": {
      "application/vnd.jupyter.widget-view+json": {
       "model_id": "91d026efc3494d0ebe75fc40781ca5eb",
       "version_major": 2,
       "version_minor": 0
      },
      "text/plain": [
       "Frame:   0%|          | 0/271 [00:00<?, ?frame/s]"
      ]
     },
     "metadata": {},
     "output_type": "display_data"
    },
    {
     "data": {
      "application/vnd.jupyter.widget-view+json": {
       "model_id": "e8e2721667704bccaa68712b2795f14d",
       "version_major": 2,
       "version_minor": 0
      },
      "text/plain": [
       "Frame:   0%|          | 0/271 [00:00<?, ?frame/s]"
      ]
     },
     "metadata": {},
     "output_type": "display_data"
    },
    {
     "data": {
      "application/vnd.jupyter.widget-view+json": {
       "model_id": "a72994fbcada4cc08ba537e15b46a76c",
       "version_major": 2,
       "version_minor": 0
      },
      "text/plain": [
       "Frame:   0%|          | 0/271 [00:00<?, ?frame/s]"
      ]
     },
     "metadata": {},
     "output_type": "display_data"
    },
    {
     "data": {
      "application/vnd.jupyter.widget-view+json": {
       "model_id": "9c9318ff80de47f5b0fdb97d211336f0",
       "version_major": 2,
       "version_minor": 0
      },
      "text/plain": [
       "Frame:   0%|          | 0/271 [00:00<?, ?frame/s]"
      ]
     },
     "metadata": {},
     "output_type": "display_data"
    },
    {
     "data": {
      "application/vnd.jupyter.widget-view+json": {
       "model_id": "95ffd79b77784d4d9a260b13b49b03a8",
       "version_major": 2,
       "version_minor": 0
      },
      "text/plain": [
       "Frame:   0%|          | 0/271 [00:00<?, ?frame/s]"
      ]
     },
     "metadata": {},
     "output_type": "display_data"
    },
    {
     "data": {
      "application/vnd.jupyter.widget-view+json": {
       "model_id": "f5cf2b3c3eb24de79d3fdd73cd5ce184",
       "version_major": 2,
       "version_minor": 0
      },
      "text/plain": [
       "Frame:   0%|          | 0/271 [00:00<?, ?frame/s]"
      ]
     },
     "metadata": {},
     "output_type": "display_data"
    },
    {
     "data": {
      "application/vnd.jupyter.widget-view+json": {
       "model_id": "eb1bb9616bf24b6fb2b42d188739797f",
       "version_major": 2,
       "version_minor": 0
      },
      "text/plain": [
       "Frame:   0%|          | 0/271 [00:00<?, ?frame/s]"
      ]
     },
     "metadata": {},
     "output_type": "display_data"
    },
    {
     "data": {
      "application/vnd.jupyter.widget-view+json": {
       "model_id": "d54fc8a56df34760b124c8f1f25bf912",
       "version_major": 2,
       "version_minor": 0
      },
      "text/plain": [
       "Frame:   0%|          | 0/271 [00:00<?, ?frame/s]"
      ]
     },
     "metadata": {},
     "output_type": "display_data"
    },
    {
     "data": {
      "application/vnd.jupyter.widget-view+json": {
       "model_id": "03b2d2d5fe0c4942a5474e03ab72d532",
       "version_major": 2,
       "version_minor": 0
      },
      "text/plain": [
       "Frame:   0%|          | 0/271 [00:00<?, ?frame/s]"
      ]
     },
     "metadata": {},
     "output_type": "display_data"
    },
    {
     "data": {
      "application/vnd.jupyter.widget-view+json": {
       "model_id": "e5010857d72c48acb23d8972266bbde4",
       "version_major": 2,
       "version_minor": 0
      },
      "text/plain": [
       "Frame:   0%|          | 0/271 [00:00<?, ?frame/s]"
      ]
     },
     "metadata": {},
     "output_type": "display_data"
    },
    {
     "data": {
      "application/vnd.jupyter.widget-view+json": {
       "model_id": "07786b655aee443ab12da9df0f82042a",
       "version_major": 2,
       "version_minor": 0
      },
      "text/plain": [
       "Frame:   0%|          | 0/271 [00:00<?, ?frame/s]"
      ]
     },
     "metadata": {},
     "output_type": "display_data"
    },
    {
     "data": {
      "application/vnd.jupyter.widget-view+json": {
       "model_id": "882c4bf83f2a4251b72873348c79cfe6",
       "version_major": 2,
       "version_minor": 0
      },
      "text/plain": [
       "Frame:   0%|          | 0/271 [00:00<?, ?frame/s]"
      ]
     },
     "metadata": {},
     "output_type": "display_data"
    },
    {
     "data": {
      "application/vnd.jupyter.widget-view+json": {
       "model_id": "349b1c001a61454ba146e595887e177e",
       "version_major": 2,
       "version_minor": 0
      },
      "text/plain": [
       "Frame:   0%|          | 0/271 [00:00<?, ?frame/s]"
      ]
     },
     "metadata": {},
     "output_type": "display_data"
    },
    {
     "data": {
      "application/vnd.jupyter.widget-view+json": {
       "model_id": "2809d7a6e2f94ed3bf05758fa40124a9",
       "version_major": 2,
       "version_minor": 0
      },
      "text/plain": [
       "Frame:   0%|          | 0/271 [00:00<?, ?frame/s]"
      ]
     },
     "metadata": {},
     "output_type": "display_data"
    },
    {
     "data": {
      "application/vnd.jupyter.widget-view+json": {
       "model_id": "c6b0a456aa7448dbb1edaf10a38d09de",
       "version_major": 2,
       "version_minor": 0
      },
      "text/plain": [
       "Frame:   0%|          | 0/271 [00:00<?, ?frame/s]"
      ]
     },
     "metadata": {},
     "output_type": "display_data"
    },
    {
     "data": {
      "application/vnd.jupyter.widget-view+json": {
       "model_id": "114c9c444c14485dbf3f8f71448c60b7",
       "version_major": 2,
       "version_minor": 0
      },
      "text/plain": [
       "Frame:   0%|          | 0/271 [00:00<?, ?frame/s]"
      ]
     },
     "metadata": {},
     "output_type": "display_data"
    },
    {
     "data": {
      "application/vnd.jupyter.widget-view+json": {
       "model_id": "43b997365c6b43d2b42ba8f43607c1ff",
       "version_major": 2,
       "version_minor": 0
      },
      "text/plain": [
       "Frame:   0%|          | 0/271 [00:00<?, ?frame/s]"
      ]
     },
     "metadata": {},
     "output_type": "display_data"
    },
    {
     "data": {
      "application/vnd.jupyter.widget-view+json": {
       "model_id": "839f5ef4dbca43bf9f33928d1d9e6535",
       "version_major": 2,
       "version_minor": 0
      },
      "text/plain": [
       "Frame:   0%|          | 0/271 [00:00<?, ?frame/s]"
      ]
     },
     "metadata": {},
     "output_type": "display_data"
    },
    {
     "data": {
      "application/vnd.jupyter.widget-view+json": {
       "model_id": "1e9312e4d9d74335a9114dbdfb72ca77",
       "version_major": 2,
       "version_minor": 0
      },
      "text/plain": [
       "Frame:   0%|          | 0/271 [00:00<?, ?frame/s]"
      ]
     },
     "metadata": {},
     "output_type": "display_data"
    },
    {
     "data": {
      "application/vnd.jupyter.widget-view+json": {
       "model_id": "7e8bdb7c6c084d65b7e27eab9f67ab20",
       "version_major": 2,
       "version_minor": 0
      },
      "text/plain": [
       "Frame:   0%|          | 0/271 [00:00<?, ?frame/s]"
      ]
     },
     "metadata": {},
     "output_type": "display_data"
    },
    {
     "data": {
      "application/vnd.jupyter.widget-view+json": {
       "model_id": "f65884297e7a4aa5a188fd1799f5fdc6",
       "version_major": 2,
       "version_minor": 0
      },
      "text/plain": [
       "Frame:   0%|          | 0/271 [00:00<?, ?frame/s]"
      ]
     },
     "metadata": {},
     "output_type": "display_data"
    },
    {
     "data": {
      "application/vnd.jupyter.widget-view+json": {
       "model_id": "c576fd12d4064cbba1d5d0f954097189",
       "version_major": 2,
       "version_minor": 0
      },
      "text/plain": [
       "Frame:   0%|          | 0/271 [00:00<?, ?frame/s]"
      ]
     },
     "metadata": {},
     "output_type": "display_data"
    },
    {
     "data": {
      "application/vnd.jupyter.widget-view+json": {
       "model_id": "b0188640db3447b8b75ac22d4946c5a6",
       "version_major": 2,
       "version_minor": 0
      },
      "text/plain": [
       "Frame:   0%|          | 0/271 [00:00<?, ?frame/s]"
      ]
     },
     "metadata": {},
     "output_type": "display_data"
    },
    {
     "data": {
      "application/vnd.jupyter.widget-view+json": {
       "model_id": "2b4d5519367f4a2797e6f3ca38a71554",
       "version_major": 2,
       "version_minor": 0
      },
      "text/plain": [
       "Frame:   0%|          | 0/271 [00:00<?, ?frame/s]"
      ]
     },
     "metadata": {},
     "output_type": "display_data"
    },
    {
     "data": {
      "application/vnd.jupyter.widget-view+json": {
       "model_id": "73cd0b7b5ba948ba8dba3ef76964166e",
       "version_major": 2,
       "version_minor": 0
      },
      "text/plain": [
       "Frame:   0%|          | 0/271 [00:00<?, ?frame/s]"
      ]
     },
     "metadata": {},
     "output_type": "display_data"
    },
    {
     "data": {
      "application/vnd.jupyter.widget-view+json": {
       "model_id": "6fda280d5f75473bbfcd8be5c55dfb60",
       "version_major": 2,
       "version_minor": 0
      },
      "text/plain": [
       "Frame:   0%|          | 0/271 [00:00<?, ?frame/s]"
      ]
     },
     "metadata": {},
     "output_type": "display_data"
    },
    {
     "data": {
      "application/vnd.jupyter.widget-view+json": {
       "model_id": "2bdce66bcdb8482795b3b8e2fa0ac6e8",
       "version_major": 2,
       "version_minor": 0
      },
      "text/plain": [
       "Frame:   0%|          | 0/271 [00:00<?, ?frame/s]"
      ]
     },
     "metadata": {},
     "output_type": "display_data"
    },
    {
     "data": {
      "application/vnd.jupyter.widget-view+json": {
       "model_id": "e6990c6ce5a84febb26486c84c6b4e4f",
       "version_major": 2,
       "version_minor": 0
      },
      "text/plain": [
       "Frame:   0%|          | 0/271 [00:00<?, ?frame/s]"
      ]
     },
     "metadata": {},
     "output_type": "display_data"
    },
    {
     "data": {
      "application/vnd.jupyter.widget-view+json": {
       "model_id": "871fb10519db4521975b2a9c9ea3bf38",
       "version_major": 2,
       "version_minor": 0
      },
      "text/plain": [
       "Frame:   0%|          | 0/271 [00:00<?, ?frame/s]"
      ]
     },
     "metadata": {},
     "output_type": "display_data"
    },
    {
     "data": {
      "application/vnd.jupyter.widget-view+json": {
       "model_id": "6f0749167fb14ce8a2e4ca5f7459fe36",
       "version_major": 2,
       "version_minor": 0
      },
      "text/plain": [
       "Frame:   0%|          | 0/271 [00:00<?, ?frame/s]"
      ]
     },
     "metadata": {},
     "output_type": "display_data"
    },
    {
     "data": {
      "application/vnd.jupyter.widget-view+json": {
       "model_id": "c826018d8f164a29a9a92984a0883d60",
       "version_major": 2,
       "version_minor": 0
      },
      "text/plain": [
       "Frame:   0%|          | 0/271 [00:00<?, ?frame/s]"
      ]
     },
     "metadata": {},
     "output_type": "display_data"
    },
    {
     "data": {
      "application/vnd.jupyter.widget-view+json": {
       "model_id": "36565eb1cfc9438ab61fe8a371e52be0",
       "version_major": 2,
       "version_minor": 0
      },
      "text/plain": [
       "Frame:   0%|          | 0/271 [00:00<?, ?frame/s]"
      ]
     },
     "metadata": {},
     "output_type": "display_data"
    },
    {
     "data": {
      "application/vnd.jupyter.widget-view+json": {
       "model_id": "7a8ad96db6f84739b7f170873901dee0",
       "version_major": 2,
       "version_minor": 0
      },
      "text/plain": [
       "Frame:   0%|          | 0/271 [00:00<?, ?frame/s]"
      ]
     },
     "metadata": {},
     "output_type": "display_data"
    },
    {
     "data": {
      "application/vnd.jupyter.widget-view+json": {
       "model_id": "ce50c4201e174447b9c4757f831f0314",
       "version_major": 2,
       "version_minor": 0
      },
      "text/plain": [
       "Frame:   0%|          | 0/271 [00:00<?, ?frame/s]"
      ]
     },
     "metadata": {},
     "output_type": "display_data"
    },
    {
     "data": {
      "application/vnd.jupyter.widget-view+json": {
       "model_id": "11b2be00725741a1a8e519924fe0d77c",
       "version_major": 2,
       "version_minor": 0
      },
      "text/plain": [
       "Frame:   0%|          | 0/271 [00:00<?, ?frame/s]"
      ]
     },
     "metadata": {},
     "output_type": "display_data"
    },
    {
     "data": {
      "application/vnd.jupyter.widget-view+json": {
       "model_id": "a3db4763bc604fbe865f21993534b2a1",
       "version_major": 2,
       "version_minor": 0
      },
      "text/plain": [
       "Frame:   0%|          | 0/271 [00:00<?, ?frame/s]"
      ]
     },
     "metadata": {},
     "output_type": "display_data"
    },
    {
     "data": {
      "application/vnd.jupyter.widget-view+json": {
       "model_id": "8bbaae41d0f34b4a8639ba4c6e25a499",
       "version_major": 2,
       "version_minor": 0
      },
      "text/plain": [
       "Frame:   0%|          | 0/271 [00:00<?, ?frame/s]"
      ]
     },
     "metadata": {},
     "output_type": "display_data"
    },
    {
     "data": {
      "application/vnd.jupyter.widget-view+json": {
       "model_id": "1076823c4de846b19aa15e483a3dcced",
       "version_major": 2,
       "version_minor": 0
      },
      "text/plain": [
       "Frame:   0%|          | 0/271 [00:00<?, ?frame/s]"
      ]
     },
     "metadata": {},
     "output_type": "display_data"
    },
    {
     "data": {
      "application/vnd.jupyter.widget-view+json": {
       "model_id": "16b967687ac947ef83a28e7b27271b7c",
       "version_major": 2,
       "version_minor": 0
      },
      "text/plain": [
       "Frame:   0%|          | 0/271 [00:00<?, ?frame/s]"
      ]
     },
     "metadata": {},
     "output_type": "display_data"
    },
    {
     "data": {
      "application/vnd.jupyter.widget-view+json": {
       "model_id": "ebfbb24396e746909f6825b79f68b154",
       "version_major": 2,
       "version_minor": 0
      },
      "text/plain": [
       "Frame:   0%|          | 0/271 [00:00<?, ?frame/s]"
      ]
     },
     "metadata": {},
     "output_type": "display_data"
    },
    {
     "data": {
      "application/vnd.jupyter.widget-view+json": {
       "model_id": "6ee923a90cdd4715ae1afaa39e7e5cd1",
       "version_major": 2,
       "version_minor": 0
      },
      "text/plain": [
       "Frame:   0%|          | 0/271 [00:00<?, ?frame/s]"
      ]
     },
     "metadata": {},
     "output_type": "display_data"
    },
    {
     "data": {
      "application/vnd.jupyter.widget-view+json": {
       "model_id": "40d0616708a0475e9c05155be0bfdba6",
       "version_major": 2,
       "version_minor": 0
      },
      "text/plain": [
       "Frame:   0%|          | 0/271 [00:00<?, ?frame/s]"
      ]
     },
     "metadata": {},
     "output_type": "display_data"
    },
    {
     "data": {
      "application/vnd.jupyter.widget-view+json": {
       "model_id": "04dfc7d5669344edb0010a47cb9f0050",
       "version_major": 2,
       "version_minor": 0
      },
      "text/plain": [
       "Frame:   0%|          | 0/271 [00:00<?, ?frame/s]"
      ]
     },
     "metadata": {},
     "output_type": "display_data"
    },
    {
     "data": {
      "application/vnd.jupyter.widget-view+json": {
       "model_id": "ed4e82f947084254b62ea2026f1068be",
       "version_major": 2,
       "version_minor": 0
      },
      "text/plain": [
       "Frame:   0%|          | 0/271 [00:00<?, ?frame/s]"
      ]
     },
     "metadata": {},
     "output_type": "display_data"
    },
    {
     "data": {
      "application/vnd.jupyter.widget-view+json": {
       "model_id": "fcfdbb59991641ae8e2181e46051875f",
       "version_major": 2,
       "version_minor": 0
      },
      "text/plain": [
       "Frame:   0%|          | 0/271 [00:00<?, ?frame/s]"
      ]
     },
     "metadata": {},
     "output_type": "display_data"
    },
    {
     "data": {
      "application/vnd.jupyter.widget-view+json": {
       "model_id": "672e0694e5894d83aa392682ca27c164",
       "version_major": 2,
       "version_minor": 0
      },
      "text/plain": [
       "Frame:   0%|          | 0/271 [00:00<?, ?frame/s]"
      ]
     },
     "metadata": {},
     "output_type": "display_data"
    },
    {
     "data": {
      "application/vnd.jupyter.widget-view+json": {
       "model_id": "5f0e070c25d146aa8cc10a478c027c40",
       "version_major": 2,
       "version_minor": 0
      },
      "text/plain": [
       "Frame:   0%|          | 0/271 [00:00<?, ?frame/s]"
      ]
     },
     "metadata": {},
     "output_type": "display_data"
    },
    {
     "data": {
      "application/vnd.jupyter.widget-view+json": {
       "model_id": "5601eab011cd4c219f7a9abf7e23d849",
       "version_major": 2,
       "version_minor": 0
      },
      "text/plain": [
       "Frame:   0%|          | 0/271 [00:00<?, ?frame/s]"
      ]
     },
     "metadata": {},
     "output_type": "display_data"
    },
    {
     "data": {
      "application/vnd.jupyter.widget-view+json": {
       "model_id": "587eb47a607148e687330dd979ee6210",
       "version_major": 2,
       "version_minor": 0
      },
      "text/plain": [
       "Frame:   0%|          | 0/271 [00:00<?, ?frame/s]"
      ]
     },
     "metadata": {},
     "output_type": "display_data"
    },
    {
     "data": {
      "application/vnd.jupyter.widget-view+json": {
       "model_id": "51088b07cd2846a2a8533d227941598e",
       "version_major": 2,
       "version_minor": 0
      },
      "text/plain": [
       "Frame:   0%|          | 0/271 [00:00<?, ?frame/s]"
      ]
     },
     "metadata": {},
     "output_type": "display_data"
    },
    {
     "data": {
      "application/vnd.jupyter.widget-view+json": {
       "model_id": "f9960c3978f74f0c94fc237d40a8c901",
       "version_major": 2,
       "version_minor": 0
      },
      "text/plain": [
       "Frame:   0%|          | 0/271 [00:00<?, ?frame/s]"
      ]
     },
     "metadata": {},
     "output_type": "display_data"
    },
    {
     "data": {
      "application/vnd.jupyter.widget-view+json": {
       "model_id": "8aa072429bae4601bb32c951d1d2bc62",
       "version_major": 2,
       "version_minor": 0
      },
      "text/plain": [
       "Frame:   0%|          | 0/271 [00:00<?, ?frame/s]"
      ]
     },
     "metadata": {},
     "output_type": "display_data"
    },
    {
     "data": {
      "application/vnd.jupyter.widget-view+json": {
       "model_id": "e001106a3fe848fdb5fb566d76d52962",
       "version_major": 2,
       "version_minor": 0
      },
      "text/plain": [
       "Frame:   0%|          | 0/271 [00:00<?, ?frame/s]"
      ]
     },
     "metadata": {},
     "output_type": "display_data"
    },
    {
     "data": {
      "application/vnd.jupyter.widget-view+json": {
       "model_id": "5013437e3b8f45f4b6f822128afdf745",
       "version_major": 2,
       "version_minor": 0
      },
      "text/plain": [
       "Frame:   0%|          | 0/271 [00:00<?, ?frame/s]"
      ]
     },
     "metadata": {},
     "output_type": "display_data"
    },
    {
     "data": {
      "application/vnd.jupyter.widget-view+json": {
       "model_id": "68062e0fc3c640ef950d073e73d874f5",
       "version_major": 2,
       "version_minor": 0
      },
      "text/plain": [
       "Frame:   0%|          | 0/271 [00:00<?, ?frame/s]"
      ]
     },
     "metadata": {},
     "output_type": "display_data"
    },
    {
     "data": {
      "application/vnd.jupyter.widget-view+json": {
       "model_id": "c5f5ea1fd4cc4a7faf931778411fbdce",
       "version_major": 2,
       "version_minor": 0
      },
      "text/plain": [
       "Frame:   0%|          | 0/271 [00:00<?, ?frame/s]"
      ]
     },
     "metadata": {},
     "output_type": "display_data"
    },
    {
     "data": {
      "application/vnd.jupyter.widget-view+json": {
       "model_id": "a0b6c2508f694b569e1371b8f184ee12",
       "version_major": 2,
       "version_minor": 0
      },
      "text/plain": [
       "Frame:   0%|          | 0/271 [00:00<?, ?frame/s]"
      ]
     },
     "metadata": {},
     "output_type": "display_data"
    },
    {
     "data": {
      "application/vnd.jupyter.widget-view+json": {
       "model_id": "e84b7bb5b8b4472f9d81c2bd9b8ff98e",
       "version_major": 2,
       "version_minor": 0
      },
      "text/plain": [
       "Frame:   0%|          | 0/271 [00:00<?, ?frame/s]"
      ]
     },
     "metadata": {},
     "output_type": "display_data"
    },
    {
     "data": {
      "application/vnd.jupyter.widget-view+json": {
       "model_id": "81da612a65d741c3a72d048adf5e978b",
       "version_major": 2,
       "version_minor": 0
      },
      "text/plain": [
       "Frame:   0%|          | 0/271 [00:00<?, ?frame/s]"
      ]
     },
     "metadata": {},
     "output_type": "display_data"
    },
    {
     "data": {
      "application/vnd.jupyter.widget-view+json": {
       "model_id": "3b98ea4fab4b484d91ef155cec61cc19",
       "version_major": 2,
       "version_minor": 0
      },
      "text/plain": [
       "Frame:   0%|          | 0/271 [00:00<?, ?frame/s]"
      ]
     },
     "metadata": {},
     "output_type": "display_data"
    },
    {
     "data": {
      "application/vnd.jupyter.widget-view+json": {
       "model_id": "5f26620a7cf04db2a94fc9922fc03fbe",
       "version_major": 2,
       "version_minor": 0
      },
      "text/plain": [
       "Frame:   0%|          | 0/271 [00:00<?, ?frame/s]"
      ]
     },
     "metadata": {},
     "output_type": "display_data"
    },
    {
     "data": {
      "application/vnd.jupyter.widget-view+json": {
       "model_id": "a58f6696bf6c40ba926414bb98f395df",
       "version_major": 2,
       "version_minor": 0
      },
      "text/plain": [
       "Frame:   0%|          | 0/271 [00:00<?, ?frame/s]"
      ]
     },
     "metadata": {},
     "output_type": "display_data"
    },
    {
     "data": {
      "application/vnd.jupyter.widget-view+json": {
       "model_id": "c228338c05ab4baba69b29b691765464",
       "version_major": 2,
       "version_minor": 0
      },
      "text/plain": [
       "Frame:   0%|          | 0/271 [00:00<?, ?frame/s]"
      ]
     },
     "metadata": {},
     "output_type": "display_data"
    },
    {
     "data": {
      "application/vnd.jupyter.widget-view+json": {
       "model_id": "39453c153e03470f9418f2944e2ae670",
       "version_major": 2,
       "version_minor": 0
      },
      "text/plain": [
       "Frame:   0%|          | 0/271 [00:00<?, ?frame/s]"
      ]
     },
     "metadata": {},
     "output_type": "display_data"
    },
    {
     "data": {
      "application/vnd.jupyter.widget-view+json": {
       "model_id": "809ce90e363f4844a23ab8154c3d7be7",
       "version_major": 2,
       "version_minor": 0
      },
      "text/plain": [
       "Frame:   0%|          | 0/271 [00:00<?, ?frame/s]"
      ]
     },
     "metadata": {},
     "output_type": "display_data"
    },
    {
     "data": {
      "application/vnd.jupyter.widget-view+json": {
       "model_id": "b3142617cd50426497523ff97a11c90e",
       "version_major": 2,
       "version_minor": 0
      },
      "text/plain": [
       "Frame:   0%|          | 0/271 [00:00<?, ?frame/s]"
      ]
     },
     "metadata": {},
     "output_type": "display_data"
    },
    {
     "data": {
      "application/vnd.jupyter.widget-view+json": {
       "model_id": "d893dd6438c24dec8dd210d27d14a02e",
       "version_major": 2,
       "version_minor": 0
      },
      "text/plain": [
       "Frame:   0%|          | 0/271 [00:00<?, ?frame/s]"
      ]
     },
     "metadata": {},
     "output_type": "display_data"
    },
    {
     "data": {
      "application/vnd.jupyter.widget-view+json": {
       "model_id": "b9a3aa4209214b498c94a705154ffd9e",
       "version_major": 2,
       "version_minor": 0
      },
      "text/plain": [
       "Frame:   0%|          | 0/271 [00:00<?, ?frame/s]"
      ]
     },
     "metadata": {},
     "output_type": "display_data"
    },
    {
     "data": {
      "application/vnd.jupyter.widget-view+json": {
       "model_id": "ceecbbc036af45e086f28e43c20a3de1",
       "version_major": 2,
       "version_minor": 0
      },
      "text/plain": [
       "Frame:   0%|          | 0/271 [00:00<?, ?frame/s]"
      ]
     },
     "metadata": {},
     "output_type": "display_data"
    },
    {
     "data": {
      "application/vnd.jupyter.widget-view+json": {
       "model_id": "4066af7a676a4ebe8f305b43a825821c",
       "version_major": 2,
       "version_minor": 0
      },
      "text/plain": [
       "Frame:   0%|          | 0/271 [00:00<?, ?frame/s]"
      ]
     },
     "metadata": {},
     "output_type": "display_data"
    },
    {
     "data": {
      "application/vnd.jupyter.widget-view+json": {
       "model_id": "04fbbe42593045fe979bc22511d0f2bc",
       "version_major": 2,
       "version_minor": 0
      },
      "text/plain": [
       "Frame:   0%|          | 0/271 [00:00<?, ?frame/s]"
      ]
     },
     "metadata": {},
     "output_type": "display_data"
    },
    {
     "data": {
      "application/vnd.jupyter.widget-view+json": {
       "model_id": "851b73360e0f4624bb586c867ffa9b75",
       "version_major": 2,
       "version_minor": 0
      },
      "text/plain": [
       "Frame:   0%|          | 0/271 [00:00<?, ?frame/s]"
      ]
     },
     "metadata": {},
     "output_type": "display_data"
    },
    {
     "data": {
      "application/vnd.jupyter.widget-view+json": {
       "model_id": "324ed599bb264a25a77cf8d1b52821bf",
       "version_major": 2,
       "version_minor": 0
      },
      "text/plain": [
       "Frame:   0%|          | 0/271 [00:00<?, ?frame/s]"
      ]
     },
     "metadata": {},
     "output_type": "display_data"
    },
    {
     "data": {
      "application/vnd.jupyter.widget-view+json": {
       "model_id": "df563aea773f41f9946bbbc5f8a331e7",
       "version_major": 2,
       "version_minor": 0
      },
      "text/plain": [
       "Frame:   0%|          | 0/271 [00:00<?, ?frame/s]"
      ]
     },
     "metadata": {},
     "output_type": "display_data"
    },
    {
     "data": {
      "application/vnd.jupyter.widget-view+json": {
       "model_id": "0ac79725f42c49fd9e2e84844a32cb71",
       "version_major": 2,
       "version_minor": 0
      },
      "text/plain": [
       "Frame:   0%|          | 0/271 [00:00<?, ?frame/s]"
      ]
     },
     "metadata": {},
     "output_type": "display_data"
    },
    {
     "data": {
      "application/vnd.jupyter.widget-view+json": {
       "model_id": "9c2ee9bbd8154493b00b6e350e7a7ecc",
       "version_major": 2,
       "version_minor": 0
      },
      "text/plain": [
       "Frame:   0%|          | 0/271 [00:00<?, ?frame/s]"
      ]
     },
     "metadata": {},
     "output_type": "display_data"
    },
    {
     "data": {
      "application/vnd.jupyter.widget-view+json": {
       "model_id": "f16e2e560ad242db8b0dc63d5463fea2",
       "version_major": 2,
       "version_minor": 0
      },
      "text/plain": [
       "Frame:   0%|          | 0/271 [00:00<?, ?frame/s]"
      ]
     },
     "metadata": {},
     "output_type": "display_data"
    },
    {
     "data": {
      "application/vnd.jupyter.widget-view+json": {
       "model_id": "c0de4d9b016d49c7bb61c3b798386c88",
       "version_major": 2,
       "version_minor": 0
      },
      "text/plain": [
       "Frame:   0%|          | 0/271 [00:00<?, ?frame/s]"
      ]
     },
     "metadata": {},
     "output_type": "display_data"
    },
    {
     "data": {
      "application/vnd.jupyter.widget-view+json": {
       "model_id": "6498388ce44040b3b0e4f9503f662033",
       "version_major": 2,
       "version_minor": 0
      },
      "text/plain": [
       "Frame:   0%|          | 0/271 [00:00<?, ?frame/s]"
      ]
     },
     "metadata": {},
     "output_type": "display_data"
    },
    {
     "data": {
      "application/vnd.jupyter.widget-view+json": {
       "model_id": "92a1826d7a8849a0953fd95d05c594a4",
       "version_major": 2,
       "version_minor": 0
      },
      "text/plain": [
       "Frame:   0%|          | 0/271 [00:00<?, ?frame/s]"
      ]
     },
     "metadata": {},
     "output_type": "display_data"
    },
    {
     "data": {
      "application/vnd.jupyter.widget-view+json": {
       "model_id": "50bde0a9c0044373b0a48e35ca498679",
       "version_major": 2,
       "version_minor": 0
      },
      "text/plain": [
       "Frame:   0%|          | 0/271 [00:00<?, ?frame/s]"
      ]
     },
     "metadata": {},
     "output_type": "display_data"
    },
    {
     "data": {
      "application/vnd.jupyter.widget-view+json": {
       "model_id": "9179d67015e842a4909bfbf829c48de3",
       "version_major": 2,
       "version_minor": 0
      },
      "text/plain": [
       "Frame:   0%|          | 0/271 [00:00<?, ?frame/s]"
      ]
     },
     "metadata": {},
     "output_type": "display_data"
    },
    {
     "data": {
      "application/vnd.jupyter.widget-view+json": {
       "model_id": "c6402f9f68964586b31b587f4e8680ce",
       "version_major": 2,
       "version_minor": 0
      },
      "text/plain": [
       "Frame:   0%|          | 0/271 [00:00<?, ?frame/s]"
      ]
     },
     "metadata": {},
     "output_type": "display_data"
    },
    {
     "data": {
      "application/vnd.jupyter.widget-view+json": {
       "model_id": "78e0a397e5af4050876e07154c43d94e",
       "version_major": 2,
       "version_minor": 0
      },
      "text/plain": [
       "Frame:   0%|          | 0/271 [00:00<?, ?frame/s]"
      ]
     },
     "metadata": {},
     "output_type": "display_data"
    },
    {
     "data": {
      "application/vnd.jupyter.widget-view+json": {
       "model_id": "efffab1cef9447af853520d3ce3f2735",
       "version_major": 2,
       "version_minor": 0
      },
      "text/plain": [
       "Frame:   0%|          | 0/271 [00:00<?, ?frame/s]"
      ]
     },
     "metadata": {},
     "output_type": "display_data"
    },
    {
     "data": {
      "application/vnd.jupyter.widget-view+json": {
       "model_id": "04034e536c664cec8efb11822bbc5153",
       "version_major": 2,
       "version_minor": 0
      },
      "text/plain": [
       "Frame:   0%|          | 0/271 [00:00<?, ?frame/s]"
      ]
     },
     "metadata": {},
     "output_type": "display_data"
    },
    {
     "data": {
      "application/vnd.jupyter.widget-view+json": {
       "model_id": "f63f771bc0bf4fa78faa300c085b2e26",
       "version_major": 2,
       "version_minor": 0
      },
      "text/plain": [
       "Frame:   0%|          | 0/271 [00:00<?, ?frame/s]"
      ]
     },
     "metadata": {},
     "output_type": "display_data"
    },
    {
     "data": {
      "application/vnd.jupyter.widget-view+json": {
       "model_id": "ea6a507630334a759e26506268bb6a39",
       "version_major": 2,
       "version_minor": 0
      },
      "text/plain": [
       "Frame:   0%|          | 0/271 [00:00<?, ?frame/s]"
      ]
     },
     "metadata": {},
     "output_type": "display_data"
    },
    {
     "data": {
      "application/vnd.jupyter.widget-view+json": {
       "model_id": "79e91509c7ac40618b5a0da24e00c6dd",
       "version_major": 2,
       "version_minor": 0
      },
      "text/plain": [
       "Frame:   0%|          | 0/271 [00:00<?, ?frame/s]"
      ]
     },
     "metadata": {},
     "output_type": "display_data"
    },
    {
     "data": {
      "application/vnd.jupyter.widget-view+json": {
       "model_id": "7dc5e94c9b8443169b6b6b7a4185f176",
       "version_major": 2,
       "version_minor": 0
      },
      "text/plain": [
       "Frame:   0%|          | 0/271 [00:00<?, ?frame/s]"
      ]
     },
     "metadata": {},
     "output_type": "display_data"
    },
    {
     "data": {
      "application/vnd.jupyter.widget-view+json": {
       "model_id": "8982b7339f9c4393ae9874ed924f1ae5",
       "version_major": 2,
       "version_minor": 0
      },
      "text/plain": [
       "Frame:   0%|          | 0/271 [00:00<?, ?frame/s]"
      ]
     },
     "metadata": {},
     "output_type": "display_data"
    },
    {
     "data": {
      "application/vnd.jupyter.widget-view+json": {
       "model_id": "444a41dddd8546b38c572eef75513071",
       "version_major": 2,
       "version_minor": 0
      },
      "text/plain": [
       "Frame:   0%|          | 0/271 [00:00<?, ?frame/s]"
      ]
     },
     "metadata": {},
     "output_type": "display_data"
    },
    {
     "data": {
      "application/vnd.jupyter.widget-view+json": {
       "model_id": "7e944ac33e064245ac15ace22e645e9b",
       "version_major": 2,
       "version_minor": 0
      },
      "text/plain": [
       "Frame:   0%|          | 0/271 [00:00<?, ?frame/s]"
      ]
     },
     "metadata": {},
     "output_type": "display_data"
    },
    {
     "data": {
      "application/vnd.jupyter.widget-view+json": {
       "model_id": "428dc9fcd85a49adaf6da6c0400f3eb4",
       "version_major": 2,
       "version_minor": 0
      },
      "text/plain": [
       "Frame:   0%|          | 0/271 [00:00<?, ?frame/s]"
      ]
     },
     "metadata": {},
     "output_type": "display_data"
    },
    {
     "data": {
      "application/vnd.jupyter.widget-view+json": {
       "model_id": "9d306b4bcfdc40c9aa2108b61de2755a",
       "version_major": 2,
       "version_minor": 0
      },
      "text/plain": [
       "Frame:   0%|          | 0/271 [00:00<?, ?frame/s]"
      ]
     },
     "metadata": {},
     "output_type": "display_data"
    },
    {
     "data": {
      "application/vnd.jupyter.widget-view+json": {
       "model_id": "7eee241aee6a417db90bff7acfc9e0c0",
       "version_major": 2,
       "version_minor": 0
      },
      "text/plain": [
       "Frame:   0%|          | 0/271 [00:00<?, ?frame/s]"
      ]
     },
     "metadata": {},
     "output_type": "display_data"
    },
    {
     "data": {
      "application/vnd.jupyter.widget-view+json": {
       "model_id": "615e85348530491b9be0165b66ead588",
       "version_major": 2,
       "version_minor": 0
      },
      "text/plain": [
       "Frame:   0%|          | 0/271 [00:00<?, ?frame/s]"
      ]
     },
     "metadata": {},
     "output_type": "display_data"
    },
    {
     "data": {
      "application/vnd.jupyter.widget-view+json": {
       "model_id": "34698f387171436cb69bb32fb5d9f209",
       "version_major": 2,
       "version_minor": 0
      },
      "text/plain": [
       "Frame:   0%|          | 0/271 [00:00<?, ?frame/s]"
      ]
     },
     "metadata": {},
     "output_type": "display_data"
    },
    {
     "data": {
      "application/vnd.jupyter.widget-view+json": {
       "model_id": "eb5f58ea4309437a9a7152de1a15a787",
       "version_major": 2,
       "version_minor": 0
      },
      "text/plain": [
       "Frame:   0%|          | 0/271 [00:00<?, ?frame/s]"
      ]
     },
     "metadata": {},
     "output_type": "display_data"
    },
    {
     "data": {
      "application/vnd.jupyter.widget-view+json": {
       "model_id": "61f5f502334547dd92428dea221de36e",
       "version_major": 2,
       "version_minor": 0
      },
      "text/plain": [
       "Frame:   0%|          | 0/271 [00:00<?, ?frame/s]"
      ]
     },
     "metadata": {},
     "output_type": "display_data"
    },
    {
     "data": {
      "application/vnd.jupyter.widget-view+json": {
       "model_id": "2adcc160092848d6ad2a91fbd365cad5",
       "version_major": 2,
       "version_minor": 0
      },
      "text/plain": [
       "Frame:   0%|          | 0/271 [00:00<?, ?frame/s]"
      ]
     },
     "metadata": {},
     "output_type": "display_data"
    },
    {
     "data": {
      "application/vnd.jupyter.widget-view+json": {
       "model_id": "5883ac9f3dfc4499b1fdfc4f9da06706",
       "version_major": 2,
       "version_minor": 0
      },
      "text/plain": [
       "Frame:   0%|          | 0/271 [00:00<?, ?frame/s]"
      ]
     },
     "metadata": {},
     "output_type": "display_data"
    },
    {
     "data": {
      "application/vnd.jupyter.widget-view+json": {
       "model_id": "a4805860cfce42bab82338ec86e33b4f",
       "version_major": 2,
       "version_minor": 0
      },
      "text/plain": [
       "Frame:   0%|          | 0/271 [00:00<?, ?frame/s]"
      ]
     },
     "metadata": {},
     "output_type": "display_data"
    },
    {
     "data": {
      "application/vnd.jupyter.widget-view+json": {
       "model_id": "f0db758f184048f7babe696a3f2d42c6",
       "version_major": 2,
       "version_minor": 0
      },
      "text/plain": [
       "Frame:   0%|          | 0/271 [00:00<?, ?frame/s]"
      ]
     },
     "metadata": {},
     "output_type": "display_data"
    },
    {
     "data": {
      "application/vnd.jupyter.widget-view+json": {
       "model_id": "02acfee2a2d541728645159515cb4245",
       "version_major": 2,
       "version_minor": 0
      },
      "text/plain": [
       "Frame:   0%|          | 0/271 [00:00<?, ?frame/s]"
      ]
     },
     "metadata": {},
     "output_type": "display_data"
    },
    {
     "data": {
      "application/vnd.jupyter.widget-view+json": {
       "model_id": "3369bd0006584f04ad720765e3a16933",
       "version_major": 2,
       "version_minor": 0
      },
      "text/plain": [
       "Frame:   0%|          | 0/271 [00:00<?, ?frame/s]"
      ]
     },
     "metadata": {},
     "output_type": "display_data"
    },
    {
     "data": {
      "application/vnd.jupyter.widget-view+json": {
       "model_id": "090816a6ab0245b5a417204ade48f9d5",
       "version_major": 2,
       "version_minor": 0
      },
      "text/plain": [
       "Frame:   0%|          | 0/271 [00:00<?, ?frame/s]"
      ]
     },
     "metadata": {},
     "output_type": "display_data"
    },
    {
     "data": {
      "application/vnd.jupyter.widget-view+json": {
       "model_id": "60cb23c176214e7cba9780ecceca4a52",
       "version_major": 2,
       "version_minor": 0
      },
      "text/plain": [
       "Frame:   0%|          | 0/271 [00:00<?, ?frame/s]"
      ]
     },
     "metadata": {},
     "output_type": "display_data"
    },
    {
     "data": {
      "application/vnd.jupyter.widget-view+json": {
       "model_id": "b2d3630e9b9846c1ac6db112083c4fdb",
       "version_major": 2,
       "version_minor": 0
      },
      "text/plain": [
       "Frame:   0%|          | 0/271 [00:00<?, ?frame/s]"
      ]
     },
     "metadata": {},
     "output_type": "display_data"
    },
    {
     "data": {
      "application/vnd.jupyter.widget-view+json": {
       "model_id": "f44f46af39c542cd9a8488c691ccfe05",
       "version_major": 2,
       "version_minor": 0
      },
      "text/plain": [
       "Frame:   0%|          | 0/271 [00:00<?, ?frame/s]"
      ]
     },
     "metadata": {},
     "output_type": "display_data"
    },
    {
     "data": {
      "application/vnd.jupyter.widget-view+json": {
       "model_id": "f69d221459cd4eb5acdfa63dfed3cc47",
       "version_major": 2,
       "version_minor": 0
      },
      "text/plain": [
       "Frame:   0%|          | 0/271 [00:00<?, ?frame/s]"
      ]
     },
     "metadata": {},
     "output_type": "display_data"
    },
    {
     "data": {
      "application/vnd.jupyter.widget-view+json": {
       "model_id": "69112dc640e34946a443aca6fd32af56",
       "version_major": 2,
       "version_minor": 0
      },
      "text/plain": [
       "Frame:   0%|          | 0/271 [00:00<?, ?frame/s]"
      ]
     },
     "metadata": {},
     "output_type": "display_data"
    },
    {
     "data": {
      "application/vnd.jupyter.widget-view+json": {
       "model_id": "86428941395a47c89a2aa25e9713b3dc",
       "version_major": 2,
       "version_minor": 0
      },
      "text/plain": [
       "Frame:   0%|          | 0/271 [00:00<?, ?frame/s]"
      ]
     },
     "metadata": {},
     "output_type": "display_data"
    },
    {
     "data": {
      "application/vnd.jupyter.widget-view+json": {
       "model_id": "ba78ec7300f0410783cf4c98c98ffc95",
       "version_major": 2,
       "version_minor": 0
      },
      "text/plain": [
       "Frame:   0%|          | 0/271 [00:00<?, ?frame/s]"
      ]
     },
     "metadata": {},
     "output_type": "display_data"
    },
    {
     "data": {
      "application/vnd.jupyter.widget-view+json": {
       "model_id": "c9456487dfaf4308a3c945a1f6fc528e",
       "version_major": 2,
       "version_minor": 0
      },
      "text/plain": [
       "Frame:   0%|          | 0/271 [00:00<?, ?frame/s]"
      ]
     },
     "metadata": {},
     "output_type": "display_data"
    },
    {
     "data": {
      "application/vnd.jupyter.widget-view+json": {
       "model_id": "ac51067dc9004197b1747acc529e7510",
       "version_major": 2,
       "version_minor": 0
      },
      "text/plain": [
       "Frame:   0%|          | 0/271 [00:00<?, ?frame/s]"
      ]
     },
     "metadata": {},
     "output_type": "display_data"
    },
    {
     "data": {
      "application/vnd.jupyter.widget-view+json": {
       "model_id": "d24e5928740f4387bae73599b34c27c1",
       "version_major": 2,
       "version_minor": 0
      },
      "text/plain": [
       "Frame:   0%|          | 0/271 [00:00<?, ?frame/s]"
      ]
     },
     "metadata": {},
     "output_type": "display_data"
    },
    {
     "data": {
      "application/vnd.jupyter.widget-view+json": {
       "model_id": "b64ddb38633d48f1baf865b50bee8d6f",
       "version_major": 2,
       "version_minor": 0
      },
      "text/plain": [
       "Frame:   0%|          | 0/271 [00:00<?, ?frame/s]"
      ]
     },
     "metadata": {},
     "output_type": "display_data"
    },
    {
     "data": {
      "application/vnd.jupyter.widget-view+json": {
       "model_id": "76e21af286ac4aafb3906b193cb35bbd",
       "version_major": 2,
       "version_minor": 0
      },
      "text/plain": [
       "Frame:   0%|          | 0/271 [00:00<?, ?frame/s]"
      ]
     },
     "metadata": {},
     "output_type": "display_data"
    },
    {
     "data": {
      "application/vnd.jupyter.widget-view+json": {
       "model_id": "8feca99382c24edcb084e575352d32ad",
       "version_major": 2,
       "version_minor": 0
      },
      "text/plain": [
       "Frame:   0%|          | 0/271 [00:00<?, ?frame/s]"
      ]
     },
     "metadata": {},
     "output_type": "display_data"
    },
    {
     "data": {
      "application/vnd.jupyter.widget-view+json": {
       "model_id": "0fa4d60ec86040ed9894ee0839ff1885",
       "version_major": 2,
       "version_minor": 0
      },
      "text/plain": [
       "Frame:   0%|          | 0/271 [00:00<?, ?frame/s]"
      ]
     },
     "metadata": {},
     "output_type": "display_data"
    },
    {
     "data": {
      "application/vnd.jupyter.widget-view+json": {
       "model_id": "92c628aca84a4757b7fba4341c59915c",
       "version_major": 2,
       "version_minor": 0
      },
      "text/plain": [
       "Frame:   0%|          | 0/271 [00:00<?, ?frame/s]"
      ]
     },
     "metadata": {},
     "output_type": "display_data"
    },
    {
     "data": {
      "application/vnd.jupyter.widget-view+json": {
       "model_id": "96f185cc5e99418297d407e27a6dd62c",
       "version_major": 2,
       "version_minor": 0
      },
      "text/plain": [
       "Frame:   0%|          | 0/271 [00:00<?, ?frame/s]"
      ]
     },
     "metadata": {},
     "output_type": "display_data"
    },
    {
     "data": {
      "application/vnd.jupyter.widget-view+json": {
       "model_id": "bf66625b8e9345f19e10f0bed4361de8",
       "version_major": 2,
       "version_minor": 0
      },
      "text/plain": [
       "Frame:   0%|          | 0/271 [00:00<?, ?frame/s]"
      ]
     },
     "metadata": {},
     "output_type": "display_data"
    },
    {
     "data": {
      "application/vnd.jupyter.widget-view+json": {
       "model_id": "f0057bde14fc46f29d00e557eeb2c662",
       "version_major": 2,
       "version_minor": 0
      },
      "text/plain": [
       "Frame:   0%|          | 0/271 [00:00<?, ?frame/s]"
      ]
     },
     "metadata": {},
     "output_type": "display_data"
    },
    {
     "data": {
      "application/vnd.jupyter.widget-view+json": {
       "model_id": "e09a2433afb848a1bacf551c73051782",
       "version_major": 2,
       "version_minor": 0
      },
      "text/plain": [
       "Frame:   0%|          | 0/271 [00:00<?, ?frame/s]"
      ]
     },
     "metadata": {},
     "output_type": "display_data"
    },
    {
     "data": {
      "application/vnd.jupyter.widget-view+json": {
       "model_id": "4e02a3fdc62b4fe6a36862ad1728fcff",
       "version_major": 2,
       "version_minor": 0
      },
      "text/plain": [
       "Frame:   0%|          | 0/271 [00:00<?, ?frame/s]"
      ]
     },
     "metadata": {},
     "output_type": "display_data"
    },
    {
     "data": {
      "application/vnd.jupyter.widget-view+json": {
       "model_id": "d2d10601794340d38c442a4ca84be7b5",
       "version_major": 2,
       "version_minor": 0
      },
      "text/plain": [
       "Frame:   0%|          | 0/271 [00:00<?, ?frame/s]"
      ]
     },
     "metadata": {},
     "output_type": "display_data"
    },
    {
     "data": {
      "application/vnd.jupyter.widget-view+json": {
       "model_id": "c9e3d523abe84eb09c21aa9673ea553d",
       "version_major": 2,
       "version_minor": 0
      },
      "text/plain": [
       "Frame:   0%|          | 0/271 [00:00<?, ?frame/s]"
      ]
     },
     "metadata": {},
     "output_type": "display_data"
    },
    {
     "data": {
      "application/vnd.jupyter.widget-view+json": {
       "model_id": "c1293cdf56804b5f80a845f8323f6734",
       "version_major": 2,
       "version_minor": 0
      },
      "text/plain": [
       "Frame:   0%|          | 0/271 [00:00<?, ?frame/s]"
      ]
     },
     "metadata": {},
     "output_type": "display_data"
    },
    {
     "data": {
      "application/vnd.jupyter.widget-view+json": {
       "model_id": "7ee63ea07fae4c23b3ceafe2b3f93b8f",
       "version_major": 2,
       "version_minor": 0
      },
      "text/plain": [
       "Frame:   0%|          | 0/271 [00:00<?, ?frame/s]"
      ]
     },
     "metadata": {},
     "output_type": "display_data"
    },
    {
     "data": {
      "application/vnd.jupyter.widget-view+json": {
       "model_id": "f3ef3d7b0e9c46c1b08e1a30b693f0f8",
       "version_major": 2,
       "version_minor": 0
      },
      "text/plain": [
       "Frame:   0%|          | 0/271 [00:00<?, ?frame/s]"
      ]
     },
     "metadata": {},
     "output_type": "display_data"
    },
    {
     "data": {
      "application/vnd.jupyter.widget-view+json": {
       "model_id": "e61e987a50894ae5a3ff2f33e068eb55",
       "version_major": 2,
       "version_minor": 0
      },
      "text/plain": [
       "Frame:   0%|          | 0/271 [00:00<?, ?frame/s]"
      ]
     },
     "metadata": {},
     "output_type": "display_data"
    },
    {
     "data": {
      "application/vnd.jupyter.widget-view+json": {
       "model_id": "d4303a00035f4ba698a3daf59745b196",
       "version_major": 2,
       "version_minor": 0
      },
      "text/plain": [
       "Frame:   0%|          | 0/271 [00:00<?, ?frame/s]"
      ]
     },
     "metadata": {},
     "output_type": "display_data"
    },
    {
     "data": {
      "application/vnd.jupyter.widget-view+json": {
       "model_id": "0670ea0c07914b3da4f0434e6ad5128a",
       "version_major": 2,
       "version_minor": 0
      },
      "text/plain": [
       "Frame:   0%|          | 0/271 [00:00<?, ?frame/s]"
      ]
     },
     "metadata": {},
     "output_type": "display_data"
    },
    {
     "data": {
      "application/vnd.jupyter.widget-view+json": {
       "model_id": "9b00eea123934ed0a60ff8651099b064",
       "version_major": 2,
       "version_minor": 0
      },
      "text/plain": [
       "Frame:   0%|          | 0/271 [00:00<?, ?frame/s]"
      ]
     },
     "metadata": {},
     "output_type": "display_data"
    },
    {
     "data": {
      "application/vnd.jupyter.widget-view+json": {
       "model_id": "0e501e8072f4498fa8242beaf407d6d8",
       "version_major": 2,
       "version_minor": 0
      },
      "text/plain": [
       "Frame:   0%|          | 0/271 [00:00<?, ?frame/s]"
      ]
     },
     "metadata": {},
     "output_type": "display_data"
    },
    {
     "data": {
      "application/vnd.jupyter.widget-view+json": {
       "model_id": "adf7bcc1659c49a7b07d8d4426ea7b9a",
       "version_major": 2,
       "version_minor": 0
      },
      "text/plain": [
       "Frame:   0%|          | 0/271 [00:00<?, ?frame/s]"
      ]
     },
     "metadata": {},
     "output_type": "display_data"
    },
    {
     "data": {
      "application/vnd.jupyter.widget-view+json": {
       "model_id": "2941747b053948b6a322e62e7455c948",
       "version_major": 2,
       "version_minor": 0
      },
      "text/plain": [
       "Frame:   0%|          | 0/271 [00:00<?, ?frame/s]"
      ]
     },
     "metadata": {},
     "output_type": "display_data"
    },
    {
     "data": {
      "application/vnd.jupyter.widget-view+json": {
       "model_id": "c73939dda9b44300ba37ae8671edfa4b",
       "version_major": 2,
       "version_minor": 0
      },
      "text/plain": [
       "Frame:   0%|          | 0/271 [00:00<?, ?frame/s]"
      ]
     },
     "metadata": {},
     "output_type": "display_data"
    },
    {
     "data": {
      "application/vnd.jupyter.widget-view+json": {
       "model_id": "47b16d25a94a46fc8a8594f7ff41bfb6",
       "version_major": 2,
       "version_minor": 0
      },
      "text/plain": [
       "Frame:   0%|          | 0/271 [00:00<?, ?frame/s]"
      ]
     },
     "metadata": {},
     "output_type": "display_data"
    },
    {
     "data": {
      "application/vnd.jupyter.widget-view+json": {
       "model_id": "b13f6ef1ee704082817c16f10197cdad",
       "version_major": 2,
       "version_minor": 0
      },
      "text/plain": [
       "Frame:   0%|          | 0/271 [00:00<?, ?frame/s]"
      ]
     },
     "metadata": {},
     "output_type": "display_data"
    },
    {
     "data": {
      "application/vnd.jupyter.widget-view+json": {
       "model_id": "51b610f1bc0d435bb6d35b61d46e285d",
       "version_major": 2,
       "version_minor": 0
      },
      "text/plain": [
       "Frame:   0%|          | 0/271 [00:00<?, ?frame/s]"
      ]
     },
     "metadata": {},
     "output_type": "display_data"
    },
    {
     "data": {
      "application/vnd.jupyter.widget-view+json": {
       "model_id": "ece4ccba6e4043c59b2c5b06760c6548",
       "version_major": 2,
       "version_minor": 0
      },
      "text/plain": [
       "Frame:   0%|          | 0/271 [00:00<?, ?frame/s]"
      ]
     },
     "metadata": {},
     "output_type": "display_data"
    },
    {
     "data": {
      "application/vnd.jupyter.widget-view+json": {
       "model_id": "7478f7c813774d2cb2bb1deb2cdbbac6",
       "version_major": 2,
       "version_minor": 0
      },
      "text/plain": [
       "Frame:   0%|          | 0/271 [00:00<?, ?frame/s]"
      ]
     },
     "metadata": {},
     "output_type": "display_data"
    },
    {
     "data": {
      "application/vnd.jupyter.widget-view+json": {
       "model_id": "2486146f52934d879cb11ab062b133e5",
       "version_major": 2,
       "version_minor": 0
      },
      "text/plain": [
       "Frame:   0%|          | 0/271 [00:00<?, ?frame/s]"
      ]
     },
     "metadata": {},
     "output_type": "display_data"
    },
    {
     "data": {
      "application/vnd.jupyter.widget-view+json": {
       "model_id": "2cf64d247d1546739bbe9d699e356079",
       "version_major": 2,
       "version_minor": 0
      },
      "text/plain": [
       "Frame:   0%|          | 0/271 [00:00<?, ?frame/s]"
      ]
     },
     "metadata": {},
     "output_type": "display_data"
    },
    {
     "data": {
      "application/vnd.jupyter.widget-view+json": {
       "model_id": "fa5c6e6ae9424d6cacaf562f61708edb",
       "version_major": 2,
       "version_minor": 0
      },
      "text/plain": [
       "Frame:   0%|          | 0/271 [00:00<?, ?frame/s]"
      ]
     },
     "metadata": {},
     "output_type": "display_data"
    },
    {
     "data": {
      "application/vnd.jupyter.widget-view+json": {
       "model_id": "ce5c3f56c3dc4e93ae92be5cbd84ded0",
       "version_major": 2,
       "version_minor": 0
      },
      "text/plain": [
       "Frame:   0%|          | 0/271 [00:00<?, ?frame/s]"
      ]
     },
     "metadata": {},
     "output_type": "display_data"
    },
    {
     "data": {
      "application/vnd.jupyter.widget-view+json": {
       "model_id": "8c3074cbb0734ef4b32057bd34cdb280",
       "version_major": 2,
       "version_minor": 0
      },
      "text/plain": [
       "Frame:   0%|          | 0/271 [00:00<?, ?frame/s]"
      ]
     },
     "metadata": {},
     "output_type": "display_data"
    },
    {
     "data": {
      "application/vnd.jupyter.widget-view+json": {
       "model_id": "a5225247aea94b6a80629e7a8e2dab45",
       "version_major": 2,
       "version_minor": 0
      },
      "text/plain": [
       "Frame:   0%|          | 0/271 [00:00<?, ?frame/s]"
      ]
     },
     "metadata": {},
     "output_type": "display_data"
    },
    {
     "data": {
      "application/vnd.jupyter.widget-view+json": {
       "model_id": "acaaff9ab8704262aedc77a1f384d545",
       "version_major": 2,
       "version_minor": 0
      },
      "text/plain": [
       "Frame:   0%|          | 0/271 [00:00<?, ?frame/s]"
      ]
     },
     "metadata": {},
     "output_type": "display_data"
    },
    {
     "data": {
      "application/vnd.jupyter.widget-view+json": {
       "model_id": "82c833737e544cb7a143387d5e653ee9",
       "version_major": 2,
       "version_minor": 0
      },
      "text/plain": [
       "Frame:   0%|          | 0/271 [00:00<?, ?frame/s]"
      ]
     },
     "metadata": {},
     "output_type": "display_data"
    },
    {
     "data": {
      "application/vnd.jupyter.widget-view+json": {
       "model_id": "275a0f52e8c74172bf3ffba101036ecf",
       "version_major": 2,
       "version_minor": 0
      },
      "text/plain": [
       "Frame:   0%|          | 0/271 [00:00<?, ?frame/s]"
      ]
     },
     "metadata": {},
     "output_type": "display_data"
    },
    {
     "data": {
      "application/vnd.jupyter.widget-view+json": {
       "model_id": "520ef426e9884852a36941302f3ae444",
       "version_major": 2,
       "version_minor": 0
      },
      "text/plain": [
       "Frame:   0%|          | 0/271 [00:00<?, ?frame/s]"
      ]
     },
     "metadata": {},
     "output_type": "display_data"
    },
    {
     "data": {
      "application/vnd.jupyter.widget-view+json": {
       "model_id": "180c0dd124cd4f61876605cdce87c44c",
       "version_major": 2,
       "version_minor": 0
      },
      "text/plain": [
       "Frame:   0%|          | 0/271 [00:00<?, ?frame/s]"
      ]
     },
     "metadata": {},
     "output_type": "display_data"
    },
    {
     "data": {
      "application/vnd.jupyter.widget-view+json": {
       "model_id": "59536a020b20483b91047add28e4910f",
       "version_major": 2,
       "version_minor": 0
      },
      "text/plain": [
       "Frame:   0%|          | 0/271 [00:00<?, ?frame/s]"
      ]
     },
     "metadata": {},
     "output_type": "display_data"
    },
    {
     "data": {
      "application/vnd.jupyter.widget-view+json": {
       "model_id": "489fe4f9ae8f4a6abdba3437ecfd5f7b",
       "version_major": 2,
       "version_minor": 0
      },
      "text/plain": [
       "Frame:   0%|          | 0/271 [00:00<?, ?frame/s]"
      ]
     },
     "metadata": {},
     "output_type": "display_data"
    },
    {
     "data": {
      "application/vnd.jupyter.widget-view+json": {
       "model_id": "f7f07f5cfb1441efb19b8ba819852136",
       "version_major": 2,
       "version_minor": 0
      },
      "text/plain": [
       "Frame:   0%|          | 0/271 [00:00<?, ?frame/s]"
      ]
     },
     "metadata": {},
     "output_type": "display_data"
    },
    {
     "data": {
      "application/vnd.jupyter.widget-view+json": {
       "model_id": "cec62056eaa84cbea9bd30853e414b9e",
       "version_major": 2,
       "version_minor": 0
      },
      "text/plain": [
       "Frame:   0%|          | 0/271 [00:00<?, ?frame/s]"
      ]
     },
     "metadata": {},
     "output_type": "display_data"
    },
    {
     "data": {
      "application/vnd.jupyter.widget-view+json": {
       "model_id": "06806b4686fd44c0b9931c7d22d275f2",
       "version_major": 2,
       "version_minor": 0
      },
      "text/plain": [
       "Frame:   0%|          | 0/271 [00:00<?, ?frame/s]"
      ]
     },
     "metadata": {},
     "output_type": "display_data"
    },
    {
     "data": {
      "application/vnd.jupyter.widget-view+json": {
       "model_id": "ab9960b08c2b4643a2deab9fc0a95854",
       "version_major": 2,
       "version_minor": 0
      },
      "text/plain": [
       "Frame:   0%|          | 0/271 [00:00<?, ?frame/s]"
      ]
     },
     "metadata": {},
     "output_type": "display_data"
    },
    {
     "data": {
      "application/vnd.jupyter.widget-view+json": {
       "model_id": "d32eeecdb3e84ba8856f842299bdf8ad",
       "version_major": 2,
       "version_minor": 0
      },
      "text/plain": [
       "Frame:   0%|          | 0/271 [00:00<?, ?frame/s]"
      ]
     },
     "metadata": {},
     "output_type": "display_data"
    },
    {
     "data": {
      "application/vnd.jupyter.widget-view+json": {
       "model_id": "c3659ee6b4e341d29b381fc79a51227e",
       "version_major": 2,
       "version_minor": 0
      },
      "text/plain": [
       "Frame:   0%|          | 0/271 [00:00<?, ?frame/s]"
      ]
     },
     "metadata": {},
     "output_type": "display_data"
    },
    {
     "data": {
      "application/vnd.jupyter.widget-view+json": {
       "model_id": "5dee88f23b3045f5afc6734d4146eacc",
       "version_major": 2,
       "version_minor": 0
      },
      "text/plain": [
       "Frame:   0%|          | 0/271 [00:00<?, ?frame/s]"
      ]
     },
     "metadata": {},
     "output_type": "display_data"
    },
    {
     "data": {
      "application/vnd.jupyter.widget-view+json": {
       "model_id": "2fb9d87bd2d143c8b9fd550542c7d5c5",
       "version_major": 2,
       "version_minor": 0
      },
      "text/plain": [
       "Frame:   0%|          | 0/271 [00:00<?, ?frame/s]"
      ]
     },
     "metadata": {},
     "output_type": "display_data"
    },
    {
     "data": {
      "application/vnd.jupyter.widget-view+json": {
       "model_id": "c2e4d45775ba4632a6400bb0ba15a0e1",
       "version_major": 2,
       "version_minor": 0
      },
      "text/plain": [
       "Frame:   0%|          | 0/271 [00:00<?, ?frame/s]"
      ]
     },
     "metadata": {},
     "output_type": "display_data"
    },
    {
     "data": {
      "application/vnd.jupyter.widget-view+json": {
       "model_id": "5d9274fc396e468fb08b9e521c9880e6",
       "version_major": 2,
       "version_minor": 0
      },
      "text/plain": [
       "Frame:   0%|          | 0/271 [00:00<?, ?frame/s]"
      ]
     },
     "metadata": {},
     "output_type": "display_data"
    },
    {
     "data": {
      "application/vnd.jupyter.widget-view+json": {
       "model_id": "94a2006447544045a43297b193a0fb2c",
       "version_major": 2,
       "version_minor": 0
      },
      "text/plain": [
       "Frame:   0%|          | 0/271 [00:00<?, ?frame/s]"
      ]
     },
     "metadata": {},
     "output_type": "display_data"
    },
    {
     "data": {
      "application/vnd.jupyter.widget-view+json": {
       "model_id": "185f4bf255f8414194ad944fdf456afb",
       "version_major": 2,
       "version_minor": 0
      },
      "text/plain": [
       "Frame:   0%|          | 0/271 [00:00<?, ?frame/s]"
      ]
     },
     "metadata": {},
     "output_type": "display_data"
    },
    {
     "data": {
      "application/vnd.jupyter.widget-view+json": {
       "model_id": "c780fff416a543a78d7149d98bf4d285",
       "version_major": 2,
       "version_minor": 0
      },
      "text/plain": [
       "Frame:   0%|          | 0/271 [00:00<?, ?frame/s]"
      ]
     },
     "metadata": {},
     "output_type": "display_data"
    },
    {
     "data": {
      "application/vnd.jupyter.widget-view+json": {
       "model_id": "f59d027a95b24fe88389ea7ce0574cbb",
       "version_major": 2,
       "version_minor": 0
      },
      "text/plain": [
       "Frame:   0%|          | 0/271 [00:00<?, ?frame/s]"
      ]
     },
     "metadata": {},
     "output_type": "display_data"
    },
    {
     "data": {
      "application/vnd.jupyter.widget-view+json": {
       "model_id": "acad290cfe354f0ea5060e6daf10aa42",
       "version_major": 2,
       "version_minor": 0
      },
      "text/plain": [
       "Frame:   0%|          | 0/271 [00:00<?, ?frame/s]"
      ]
     },
     "metadata": {},
     "output_type": "display_data"
    },
    {
     "data": {
      "application/vnd.jupyter.widget-view+json": {
       "model_id": "8cd6de8b090246e89f72ae754cb775dc",
       "version_major": 2,
       "version_minor": 0
      },
      "text/plain": [
       "Frame:   0%|          | 0/271 [00:00<?, ?frame/s]"
      ]
     },
     "metadata": {},
     "output_type": "display_data"
    },
    {
     "data": {
      "application/vnd.jupyter.widget-view+json": {
       "model_id": "923353b2aa0e4f748d02814713a0bde6",
       "version_major": 2,
       "version_minor": 0
      },
      "text/plain": [
       "Frame:   0%|          | 0/271 [00:00<?, ?frame/s]"
      ]
     },
     "metadata": {},
     "output_type": "display_data"
    },
    {
     "data": {
      "application/vnd.jupyter.widget-view+json": {
       "model_id": "7a8964d48b5644468a9cf46e398424ad",
       "version_major": 2,
       "version_minor": 0
      },
      "text/plain": [
       "Frame:   0%|          | 0/271 [00:00<?, ?frame/s]"
      ]
     },
     "metadata": {},
     "output_type": "display_data"
    },
    {
     "data": {
      "application/vnd.jupyter.widget-view+json": {
       "model_id": "f53d3150a17b4bbeae773d603ab259c0",
       "version_major": 2,
       "version_minor": 0
      },
      "text/plain": [
       "Frame:   0%|          | 0/271 [00:00<?, ?frame/s]"
      ]
     },
     "metadata": {},
     "output_type": "display_data"
    },
    {
     "data": {
      "application/vnd.jupyter.widget-view+json": {
       "model_id": "de87476491f84a0499cdbd65d76290a4",
       "version_major": 2,
       "version_minor": 0
      },
      "text/plain": [
       "Frame:   0%|          | 0/271 [00:00<?, ?frame/s]"
      ]
     },
     "metadata": {},
     "output_type": "display_data"
    },
    {
     "data": {
      "application/vnd.jupyter.widget-view+json": {
       "model_id": "b19dcb5762514476bce55c96a0f13427",
       "version_major": 2,
       "version_minor": 0
      },
      "text/plain": [
       "Frame:   0%|          | 0/271 [00:00<?, ?frame/s]"
      ]
     },
     "metadata": {},
     "output_type": "display_data"
    },
    {
     "data": {
      "application/vnd.jupyter.widget-view+json": {
       "model_id": "78a99a30f9874a1196e1f15dfbe9bfc5",
       "version_major": 2,
       "version_minor": 0
      },
      "text/plain": [
       "Frame:   0%|          | 0/271 [00:00<?, ?frame/s]"
      ]
     },
     "metadata": {},
     "output_type": "display_data"
    },
    {
     "data": {
      "application/vnd.jupyter.widget-view+json": {
       "model_id": "469d6cbffdf44709960bd54ff15226a1",
       "version_major": 2,
       "version_minor": 0
      },
      "text/plain": [
       "Frame:   0%|          | 0/271 [00:00<?, ?frame/s]"
      ]
     },
     "metadata": {},
     "output_type": "display_data"
    },
    {
     "data": {
      "application/vnd.jupyter.widget-view+json": {
       "model_id": "6e80ff74b7b4448e87748adb471c5446",
       "version_major": 2,
       "version_minor": 0
      },
      "text/plain": [
       "Frame:   0%|          | 0/271 [00:00<?, ?frame/s]"
      ]
     },
     "metadata": {},
     "output_type": "display_data"
    },
    {
     "data": {
      "application/vnd.jupyter.widget-view+json": {
       "model_id": "fe096b8cf2f2456d89a99e7203359a3c",
       "version_major": 2,
       "version_minor": 0
      },
      "text/plain": [
       "Frame:   0%|          | 0/271 [00:00<?, ?frame/s]"
      ]
     },
     "metadata": {},
     "output_type": "display_data"
    },
    {
     "data": {
      "application/vnd.jupyter.widget-view+json": {
       "model_id": "3258c069584f4371aedd5baadba95360",
       "version_major": 2,
       "version_minor": 0
      },
      "text/plain": [
       "Frame:   0%|          | 0/271 [00:00<?, ?frame/s]"
      ]
     },
     "metadata": {},
     "output_type": "display_data"
    },
    {
     "data": {
      "application/vnd.jupyter.widget-view+json": {
       "model_id": "f6cee6d406384844af8102feebd3c022",
       "version_major": 2,
       "version_minor": 0
      },
      "text/plain": [
       "Frame:   0%|          | 0/271 [00:00<?, ?frame/s]"
      ]
     },
     "metadata": {},
     "output_type": "display_data"
    },
    {
     "data": {
      "application/vnd.jupyter.widget-view+json": {
       "model_id": "99f2d6160f0148d5be3cd0ce002c30ee",
       "version_major": 2,
       "version_minor": 0
      },
      "text/plain": [
       "Frame:   0%|          | 0/271 [00:00<?, ?frame/s]"
      ]
     },
     "metadata": {},
     "output_type": "display_data"
    },
    {
     "data": {
      "application/vnd.jupyter.widget-view+json": {
       "model_id": "e18ed8899af0421fbfb568d5f6e78bc4",
       "version_major": 2,
       "version_minor": 0
      },
      "text/plain": [
       "Frame:   0%|          | 0/271 [00:00<?, ?frame/s]"
      ]
     },
     "metadata": {},
     "output_type": "display_data"
    },
    {
     "data": {
      "application/vnd.jupyter.widget-view+json": {
       "model_id": "6a3fb7028e174791afb33285ca00eab6",
       "version_major": 2,
       "version_minor": 0
      },
      "text/plain": [
       "Frame:   0%|          | 0/271 [00:00<?, ?frame/s]"
      ]
     },
     "metadata": {},
     "output_type": "display_data"
    },
    {
     "data": {
      "application/vnd.jupyter.widget-view+json": {
       "model_id": "35858f44b34d4b92a2ce9ae306d526f5",
       "version_major": 2,
       "version_minor": 0
      },
      "text/plain": [
       "Frame:   0%|          | 0/271 [00:00<?, ?frame/s]"
      ]
     },
     "metadata": {},
     "output_type": "display_data"
    },
    {
     "data": {
      "application/vnd.jupyter.widget-view+json": {
       "model_id": "3e149ea08ac9443ca0647b5b3c9cee09",
       "version_major": 2,
       "version_minor": 0
      },
      "text/plain": [
       "Frame:   0%|          | 0/271 [00:00<?, ?frame/s]"
      ]
     },
     "metadata": {},
     "output_type": "display_data"
    },
    {
     "data": {
      "application/vnd.jupyter.widget-view+json": {
       "model_id": "7b8fdc8f0876415eaf90528bb4f42789",
       "version_major": 2,
       "version_minor": 0
      },
      "text/plain": [
       "Frame:   0%|          | 0/271 [00:00<?, ?frame/s]"
      ]
     },
     "metadata": {},
     "output_type": "display_data"
    },
    {
     "data": {
      "application/vnd.jupyter.widget-view+json": {
       "model_id": "45d36dc32d614349a90cd5d5472512cc",
       "version_major": 2,
       "version_minor": 0
      },
      "text/plain": [
       "Frame:   0%|          | 0/271 [00:00<?, ?frame/s]"
      ]
     },
     "metadata": {},
     "output_type": "display_data"
    },
    {
     "data": {
      "application/vnd.jupyter.widget-view+json": {
       "model_id": "e6abe705d2fb43cfbb03a9fb572d980c",
       "version_major": 2,
       "version_minor": 0
      },
      "text/plain": [
       "Frame:   0%|          | 0/271 [00:00<?, ?frame/s]"
      ]
     },
     "metadata": {},
     "output_type": "display_data"
    },
    {
     "data": {
      "application/vnd.jupyter.widget-view+json": {
       "model_id": "6dd8836553b7443aa205ee4ad2ff9b63",
       "version_major": 2,
       "version_minor": 0
      },
      "text/plain": [
       "Frame:   0%|          | 0/271 [00:00<?, ?frame/s]"
      ]
     },
     "metadata": {},
     "output_type": "display_data"
    },
    {
     "data": {
      "application/vnd.jupyter.widget-view+json": {
       "model_id": "660197b19a7040afbb0fc9b6df58f82e",
       "version_major": 2,
       "version_minor": 0
      },
      "text/plain": [
       "Frame:   0%|          | 0/271 [00:00<?, ?frame/s]"
      ]
     },
     "metadata": {},
     "output_type": "display_data"
    },
    {
     "data": {
      "application/vnd.jupyter.widget-view+json": {
       "model_id": "044efeb08b3541469fb081dc6a576264",
       "version_major": 2,
       "version_minor": 0
      },
      "text/plain": [
       "Frame:   0%|          | 0/271 [00:00<?, ?frame/s]"
      ]
     },
     "metadata": {},
     "output_type": "display_data"
    },
    {
     "data": {
      "application/vnd.jupyter.widget-view+json": {
       "model_id": "1bd293c6df7c4dd68ea1b1edfa1fbdd8",
       "version_major": 2,
       "version_minor": 0
      },
      "text/plain": [
       "Frame:   0%|          | 0/271 [00:00<?, ?frame/s]"
      ]
     },
     "metadata": {},
     "output_type": "display_data"
    },
    {
     "data": {
      "application/vnd.jupyter.widget-view+json": {
       "model_id": "7e0ba64666234abda78915574901ab8a",
       "version_major": 2,
       "version_minor": 0
      },
      "text/plain": [
       "Frame:   0%|          | 0/271 [00:00<?, ?frame/s]"
      ]
     },
     "metadata": {},
     "output_type": "display_data"
    },
    {
     "data": {
      "application/vnd.jupyter.widget-view+json": {
       "model_id": "46929d64a85e47e7bf7bcff22bf5a5a6",
       "version_major": 2,
       "version_minor": 0
      },
      "text/plain": [
       "Frame:   0%|          | 0/271 [00:00<?, ?frame/s]"
      ]
     },
     "metadata": {},
     "output_type": "display_data"
    },
    {
     "data": {
      "application/vnd.jupyter.widget-view+json": {
       "model_id": "ad35f6fa0e514b1488461eadb573b5bf",
       "version_major": 2,
       "version_minor": 0
      },
      "text/plain": [
       "Frame:   0%|          | 0/271 [00:00<?, ?frame/s]"
      ]
     },
     "metadata": {},
     "output_type": "display_data"
    },
    {
     "data": {
      "application/vnd.jupyter.widget-view+json": {
       "model_id": "9f24562874c04736802eef46d496d9cc",
       "version_major": 2,
       "version_minor": 0
      },
      "text/plain": [
       "Frame:   0%|          | 0/271 [00:00<?, ?frame/s]"
      ]
     },
     "metadata": {},
     "output_type": "display_data"
    },
    {
     "data": {
      "application/vnd.jupyter.widget-view+json": {
       "model_id": "734d93c61c5a4b9ca991ec413f2447b7",
       "version_major": 2,
       "version_minor": 0
      },
      "text/plain": [
       "Frame:   0%|          | 0/271 [00:00<?, ?frame/s]"
      ]
     },
     "metadata": {},
     "output_type": "display_data"
    },
    {
     "data": {
      "application/vnd.jupyter.widget-view+json": {
       "model_id": "f921353e38eb492e909d3e06bd13289b",
       "version_major": 2,
       "version_minor": 0
      },
      "text/plain": [
       "Frame:   0%|          | 0/271 [00:00<?, ?frame/s]"
      ]
     },
     "metadata": {},
     "output_type": "display_data"
    },
    {
     "data": {
      "application/vnd.jupyter.widget-view+json": {
       "model_id": "9e9cdef40f5b4c92b9db29951519618c",
       "version_major": 2,
       "version_minor": 0
      },
      "text/plain": [
       "Frame:   0%|          | 0/271 [00:00<?, ?frame/s]"
      ]
     },
     "metadata": {},
     "output_type": "display_data"
    },
    {
     "data": {
      "application/vnd.jupyter.widget-view+json": {
       "model_id": "8f597023865e40c39abbba155b8d9617",
       "version_major": 2,
       "version_minor": 0
      },
      "text/plain": [
       "Frame:   0%|          | 0/271 [00:00<?, ?frame/s]"
      ]
     },
     "metadata": {},
     "output_type": "display_data"
    },
    {
     "data": {
      "application/vnd.jupyter.widget-view+json": {
       "model_id": "caf40197ae6047de85de01add0cef4f8",
       "version_major": 2,
       "version_minor": 0
      },
      "text/plain": [
       "Frame:   0%|          | 0/271 [00:00<?, ?frame/s]"
      ]
     },
     "metadata": {},
     "output_type": "display_data"
    },
    {
     "data": {
      "application/vnd.jupyter.widget-view+json": {
       "model_id": "eced680a7194454cafbea66fefc0ee98",
       "version_major": 2,
       "version_minor": 0
      },
      "text/plain": [
       "Frame:   0%|          | 0/271 [00:00<?, ?frame/s]"
      ]
     },
     "metadata": {},
     "output_type": "display_data"
    },
    {
     "data": {
      "application/vnd.jupyter.widget-view+json": {
       "model_id": "825b2ad0d8804c69b27c19b3842abfd1",
       "version_major": 2,
       "version_minor": 0
      },
      "text/plain": [
       "Frame:   0%|          | 0/271 [00:00<?, ?frame/s]"
      ]
     },
     "metadata": {},
     "output_type": "display_data"
    },
    {
     "data": {
      "application/vnd.jupyter.widget-view+json": {
       "model_id": "774b8faebcfd43de92901cbba2443d20",
       "version_major": 2,
       "version_minor": 0
      },
      "text/plain": [
       "Frame:   0%|          | 0/271 [00:00<?, ?frame/s]"
      ]
     },
     "metadata": {},
     "output_type": "display_data"
    },
    {
     "data": {
      "application/vnd.jupyter.widget-view+json": {
       "model_id": "dd6adecb857c43358ed155989afff43b",
       "version_major": 2,
       "version_minor": 0
      },
      "text/plain": [
       "Frame:   0%|          | 0/271 [00:00<?, ?frame/s]"
      ]
     },
     "metadata": {},
     "output_type": "display_data"
    },
    {
     "data": {
      "application/vnd.jupyter.widget-view+json": {
       "model_id": "085348e5a615472c9c30f172eaf61792",
       "version_major": 2,
       "version_minor": 0
      },
      "text/plain": [
       "Frame:   0%|          | 0/271 [00:00<?, ?frame/s]"
      ]
     },
     "metadata": {},
     "output_type": "display_data"
    },
    {
     "data": {
      "application/vnd.jupyter.widget-view+json": {
       "model_id": "2d570765e5e14c56b4b63c8dad04ed9a",
       "version_major": 2,
       "version_minor": 0
      },
      "text/plain": [
       "Frame:   0%|          | 0/271 [00:00<?, ?frame/s]"
      ]
     },
     "metadata": {},
     "output_type": "display_data"
    },
    {
     "data": {
      "application/vnd.jupyter.widget-view+json": {
       "model_id": "a1662d1f33634e9d920b092d9605295d",
       "version_major": 2,
       "version_minor": 0
      },
      "text/plain": [
       "Frame:   0%|          | 0/271 [00:00<?, ?frame/s]"
      ]
     },
     "metadata": {},
     "output_type": "display_data"
    },
    {
     "data": {
      "application/vnd.jupyter.widget-view+json": {
       "model_id": "a311ebf8856e429095fc138542e23d5e",
       "version_major": 2,
       "version_minor": 0
      },
      "text/plain": [
       "Frame:   0%|          | 0/271 [00:00<?, ?frame/s]"
      ]
     },
     "metadata": {},
     "output_type": "display_data"
    },
    {
     "data": {
      "application/vnd.jupyter.widget-view+json": {
       "model_id": "206784e84a664b7a83310d90b4091e45",
       "version_major": 2,
       "version_minor": 0
      },
      "text/plain": [
       "Frame:   0%|          | 0/271 [00:00<?, ?frame/s]"
      ]
     },
     "metadata": {},
     "output_type": "display_data"
    },
    {
     "data": {
      "application/vnd.jupyter.widget-view+json": {
       "model_id": "a329c915440144ae9761b0d5148830f3",
       "version_major": 2,
       "version_minor": 0
      },
      "text/plain": [
       "Frame:   0%|          | 0/271 [00:00<?, ?frame/s]"
      ]
     },
     "metadata": {},
     "output_type": "display_data"
    },
    {
     "data": {
      "application/vnd.jupyter.widget-view+json": {
       "model_id": "bc0c7d81afe8408d86a56da76df2f14c",
       "version_major": 2,
       "version_minor": 0
      },
      "text/plain": [
       "Frame:   0%|          | 0/271 [00:00<?, ?frame/s]"
      ]
     },
     "metadata": {},
     "output_type": "display_data"
    },
    {
     "data": {
      "application/vnd.jupyter.widget-view+json": {
       "model_id": "5cd29b10c8a3452d833ff037fb96478b",
       "version_major": 2,
       "version_minor": 0
      },
      "text/plain": [
       "Frame:   0%|          | 0/271 [00:00<?, ?frame/s]"
      ]
     },
     "metadata": {},
     "output_type": "display_data"
    },
    {
     "data": {
      "application/vnd.jupyter.widget-view+json": {
       "model_id": "0549583f7e284683a2881288631e9e50",
       "version_major": 2,
       "version_minor": 0
      },
      "text/plain": [
       "Frame:   0%|          | 0/271 [00:00<?, ?frame/s]"
      ]
     },
     "metadata": {},
     "output_type": "display_data"
    },
    {
     "data": {
      "application/vnd.jupyter.widget-view+json": {
       "model_id": "c754dc5dfbd844cb935bfbf99380df28",
       "version_major": 2,
       "version_minor": 0
      },
      "text/plain": [
       "Frame:   0%|          | 0/271 [00:00<?, ?frame/s]"
      ]
     },
     "metadata": {},
     "output_type": "display_data"
    },
    {
     "data": {
      "application/vnd.jupyter.widget-view+json": {
       "model_id": "775ac30cf82b4ecca1befb55c963738b",
       "version_major": 2,
       "version_minor": 0
      },
      "text/plain": [
       "Frame:   0%|          | 0/271 [00:00<?, ?frame/s]"
      ]
     },
     "metadata": {},
     "output_type": "display_data"
    },
    {
     "data": {
      "application/vnd.jupyter.widget-view+json": {
       "model_id": "883656dbd41a442389666f625b70bdb6",
       "version_major": 2,
       "version_minor": 0
      },
      "text/plain": [
       "Frame:   0%|          | 0/271 [00:00<?, ?frame/s]"
      ]
     },
     "metadata": {},
     "output_type": "display_data"
    },
    {
     "data": {
      "application/vnd.jupyter.widget-view+json": {
       "model_id": "f67847a0ba084d68b8778ae126461640",
       "version_major": 2,
       "version_minor": 0
      },
      "text/plain": [
       "Frame:   0%|          | 0/271 [00:00<?, ?frame/s]"
      ]
     },
     "metadata": {},
     "output_type": "display_data"
    },
    {
     "data": {
      "application/vnd.jupyter.widget-view+json": {
       "model_id": "54098f85bf9c4d75a418930f6820c44e",
       "version_major": 2,
       "version_minor": 0
      },
      "text/plain": [
       "Frame:   0%|          | 0/271 [00:00<?, ?frame/s]"
      ]
     },
     "metadata": {},
     "output_type": "display_data"
    },
    {
     "data": {
      "application/vnd.jupyter.widget-view+json": {
       "model_id": "55614d814b7d409db02718b987b45866",
       "version_major": 2,
       "version_minor": 0
      },
      "text/plain": [
       "Frame:   0%|          | 0/271 [00:00<?, ?frame/s]"
      ]
     },
     "metadata": {},
     "output_type": "display_data"
    },
    {
     "data": {
      "application/vnd.jupyter.widget-view+json": {
       "model_id": "e09397e01bb94fc9a47b438e06c60a61",
       "version_major": 2,
       "version_minor": 0
      },
      "text/plain": [
       "Frame:   0%|          | 0/271 [00:00<?, ?frame/s]"
      ]
     },
     "metadata": {},
     "output_type": "display_data"
    },
    {
     "data": {
      "application/vnd.jupyter.widget-view+json": {
       "model_id": "ae259fc4b1e748fc8adfabacdcd0825c",
       "version_major": 2,
       "version_minor": 0
      },
      "text/plain": [
       "Frame:   0%|          | 0/271 [00:00<?, ?frame/s]"
      ]
     },
     "metadata": {},
     "output_type": "display_data"
    },
    {
     "data": {
      "application/vnd.jupyter.widget-view+json": {
       "model_id": "cd0f947f31144f97a50c99745407a45e",
       "version_major": 2,
       "version_minor": 0
      },
      "text/plain": [
       "Frame:   0%|          | 0/271 [00:00<?, ?frame/s]"
      ]
     },
     "metadata": {},
     "output_type": "display_data"
    },
    {
     "data": {
      "application/vnd.jupyter.widget-view+json": {
       "model_id": "1cdea261c60c43c48d93e5bd3b1a721c",
       "version_major": 2,
       "version_minor": 0
      },
      "text/plain": [
       "Frame:   0%|          | 0/271 [00:00<?, ?frame/s]"
      ]
     },
     "metadata": {},
     "output_type": "display_data"
    },
    {
     "data": {
      "application/vnd.jupyter.widget-view+json": {
       "model_id": "32b915f8afde4aa8b214d37eb65d9b41",
       "version_major": 2,
       "version_minor": 0
      },
      "text/plain": [
       "Frame:   0%|          | 0/271 [00:00<?, ?frame/s]"
      ]
     },
     "metadata": {},
     "output_type": "display_data"
    },
    {
     "data": {
      "application/vnd.jupyter.widget-view+json": {
       "model_id": "c235636159434a59bfff247cd011f477",
       "version_major": 2,
       "version_minor": 0
      },
      "text/plain": [
       "Frame:   0%|          | 0/271 [00:00<?, ?frame/s]"
      ]
     },
     "metadata": {},
     "output_type": "display_data"
    },
    {
     "data": {
      "application/vnd.jupyter.widget-view+json": {
       "model_id": "a99e7a57a72a4f718f1ab6591f45c631",
       "version_major": 2,
       "version_minor": 0
      },
      "text/plain": [
       "Frame:   0%|          | 0/271 [00:00<?, ?frame/s]"
      ]
     },
     "metadata": {},
     "output_type": "display_data"
    },
    {
     "data": {
      "application/vnd.jupyter.widget-view+json": {
       "model_id": "34b398eb229149a0a1e34c1b22fb9aa2",
       "version_major": 2,
       "version_minor": 0
      },
      "text/plain": [
       "Frame:   0%|          | 0/271 [00:00<?, ?frame/s]"
      ]
     },
     "metadata": {},
     "output_type": "display_data"
    },
    {
     "data": {
      "application/vnd.jupyter.widget-view+json": {
       "model_id": "82cf4d7775fa43eaab26c2cf1aef8659",
       "version_major": 2,
       "version_minor": 0
      },
      "text/plain": [
       "Frame:   0%|          | 0/271 [00:00<?, ?frame/s]"
      ]
     },
     "metadata": {},
     "output_type": "display_data"
    },
    {
     "data": {
      "application/vnd.jupyter.widget-view+json": {
       "model_id": "15fdd0dd16f64a9092405f8650aadbc2",
       "version_major": 2,
       "version_minor": 0
      },
      "text/plain": [
       "Frame:   0%|          | 0/271 [00:00<?, ?frame/s]"
      ]
     },
     "metadata": {},
     "output_type": "display_data"
    },
    {
     "data": {
      "application/vnd.jupyter.widget-view+json": {
       "model_id": "a25ffa98fcbf4404b5d5d5d0ddf5d91a",
       "version_major": 2,
       "version_minor": 0
      },
      "text/plain": [
       "Frame:   0%|          | 0/271 [00:00<?, ?frame/s]"
      ]
     },
     "metadata": {},
     "output_type": "display_data"
    },
    {
     "data": {
      "application/vnd.jupyter.widget-view+json": {
       "model_id": "ba41e4be79d14193bf14180f40ef4f78",
       "version_major": 2,
       "version_minor": 0
      },
      "text/plain": [
       "Frame:   0%|          | 0/271 [00:00<?, ?frame/s]"
      ]
     },
     "metadata": {},
     "output_type": "display_data"
    },
    {
     "data": {
      "application/vnd.jupyter.widget-view+json": {
       "model_id": "8f84dcaa55e34c9abc5a83eb8ad34b72",
       "version_major": 2,
       "version_minor": 0
      },
      "text/plain": [
       "Frame:   0%|          | 0/271 [00:00<?, ?frame/s]"
      ]
     },
     "metadata": {},
     "output_type": "display_data"
    },
    {
     "data": {
      "application/vnd.jupyter.widget-view+json": {
       "model_id": "74f4c3772d0b41b5b96a47e64ca57e4b",
       "version_major": 2,
       "version_minor": 0
      },
      "text/plain": [
       "Frame:   0%|          | 0/271 [00:00<?, ?frame/s]"
      ]
     },
     "metadata": {},
     "output_type": "display_data"
    },
    {
     "data": {
      "application/vnd.jupyter.widget-view+json": {
       "model_id": "7eba997924d04d478e0d90592ba40d43",
       "version_major": 2,
       "version_minor": 0
      },
      "text/plain": [
       "Frame:   0%|          | 0/271 [00:00<?, ?frame/s]"
      ]
     },
     "metadata": {},
     "output_type": "display_data"
    },
    {
     "data": {
      "application/vnd.jupyter.widget-view+json": {
       "model_id": "93744323851243a4ad605649b952e349",
       "version_major": 2,
       "version_minor": 0
      },
      "text/plain": [
       "Frame:   0%|          | 0/271 [00:00<?, ?frame/s]"
      ]
     },
     "metadata": {},
     "output_type": "display_data"
    },
    {
     "data": {
      "application/vnd.jupyter.widget-view+json": {
       "model_id": "7439a976a4004972a46583c53769c440",
       "version_major": 2,
       "version_minor": 0
      },
      "text/plain": [
       "Frame:   0%|          | 0/271 [00:00<?, ?frame/s]"
      ]
     },
     "metadata": {},
     "output_type": "display_data"
    },
    {
     "data": {
      "application/vnd.jupyter.widget-view+json": {
       "model_id": "fb192e8e673e440488a9a8bccca629c4",
       "version_major": 2,
       "version_minor": 0
      },
      "text/plain": [
       "Frame:   0%|          | 0/271 [00:00<?, ?frame/s]"
      ]
     },
     "metadata": {},
     "output_type": "display_data"
    },
    {
     "data": {
      "application/vnd.jupyter.widget-view+json": {
       "model_id": "bfa8c2aca5b34f53860155cca8431693",
       "version_major": 2,
       "version_minor": 0
      },
      "text/plain": [
       "Frame:   0%|          | 0/271 [00:00<?, ?frame/s]"
      ]
     },
     "metadata": {},
     "output_type": "display_data"
    },
    {
     "data": {
      "application/vnd.jupyter.widget-view+json": {
       "model_id": "dbee826605474b579e73d02c5bae90cf",
       "version_major": 2,
       "version_minor": 0
      },
      "text/plain": [
       "Frame:   0%|          | 0/271 [00:00<?, ?frame/s]"
      ]
     },
     "metadata": {},
     "output_type": "display_data"
    },
    {
     "data": {
      "application/vnd.jupyter.widget-view+json": {
       "model_id": "7ae8ce0ee3b641478a9a1aa6217535b3",
       "version_major": 2,
       "version_minor": 0
      },
      "text/plain": [
       "Frame:   0%|          | 0/271 [00:00<?, ?frame/s]"
      ]
     },
     "metadata": {},
     "output_type": "display_data"
    },
    {
     "data": {
      "application/vnd.jupyter.widget-view+json": {
       "model_id": "2d79513c7a3f439391b92b73729f81d5",
       "version_major": 2,
       "version_minor": 0
      },
      "text/plain": [
       "Frame:   0%|          | 0/271 [00:00<?, ?frame/s]"
      ]
     },
     "metadata": {},
     "output_type": "display_data"
    },
    {
     "data": {
      "application/vnd.jupyter.widget-view+json": {
       "model_id": "e28db957a4d8408f86f562dd23be55b2",
       "version_major": 2,
       "version_minor": 0
      },
      "text/plain": [
       "Frame:   0%|          | 0/271 [00:00<?, ?frame/s]"
      ]
     },
     "metadata": {},
     "output_type": "display_data"
    },
    {
     "data": {
      "application/vnd.jupyter.widget-view+json": {
       "model_id": "1e3f7971a2534c6ba1178ea793704671",
       "version_major": 2,
       "version_minor": 0
      },
      "text/plain": [
       "Frame:   0%|          | 0/271 [00:00<?, ?frame/s]"
      ]
     },
     "metadata": {},
     "output_type": "display_data"
    },
    {
     "data": {
      "application/vnd.jupyter.widget-view+json": {
       "model_id": "51b29550da364b058f45bf63239495c0",
       "version_major": 2,
       "version_minor": 0
      },
      "text/plain": [
       "Frame:   0%|          | 0/271 [00:00<?, ?frame/s]"
      ]
     },
     "metadata": {},
     "output_type": "display_data"
    },
    {
     "data": {
      "application/vnd.jupyter.widget-view+json": {
       "model_id": "adb37588ca5049699b6e50167279e79a",
       "version_major": 2,
       "version_minor": 0
      },
      "text/plain": [
       "Frame:   0%|          | 0/271 [00:00<?, ?frame/s]"
      ]
     },
     "metadata": {},
     "output_type": "display_data"
    },
    {
     "data": {
      "application/vnd.jupyter.widget-view+json": {
       "model_id": "f9410b08286d4d8b8935c7f97fd46efb",
       "version_major": 2,
       "version_minor": 0
      },
      "text/plain": [
       "Frame:   0%|          | 0/271 [00:00<?, ?frame/s]"
      ]
     },
     "metadata": {},
     "output_type": "display_data"
    },
    {
     "data": {
      "application/vnd.jupyter.widget-view+json": {
       "model_id": "4ce49d46a9f949a98276911194de14b1",
       "version_major": 2,
       "version_minor": 0
      },
      "text/plain": [
       "Frame:   0%|          | 0/271 [00:00<?, ?frame/s]"
      ]
     },
     "metadata": {},
     "output_type": "display_data"
    },
    {
     "data": {
      "application/vnd.jupyter.widget-view+json": {
       "model_id": "67cab39b0a7243d0b399e777ea3aca9b",
       "version_major": 2,
       "version_minor": 0
      },
      "text/plain": [
       "Frame:   0%|          | 0/271 [00:00<?, ?frame/s]"
      ]
     },
     "metadata": {},
     "output_type": "display_data"
    },
    {
     "data": {
      "application/vnd.jupyter.widget-view+json": {
       "model_id": "c502011679d04dccb92cb5b7a47ec875",
       "version_major": 2,
       "version_minor": 0
      },
      "text/plain": [
       "Frame:   0%|          | 0/271 [00:00<?, ?frame/s]"
      ]
     },
     "metadata": {},
     "output_type": "display_data"
    },
    {
     "data": {
      "application/vnd.jupyter.widget-view+json": {
       "model_id": "5212730210fa45aabe9acf40f3956d4e",
       "version_major": 2,
       "version_minor": 0
      },
      "text/plain": [
       "Frame:   0%|          | 0/271 [00:00<?, ?frame/s]"
      ]
     },
     "metadata": {},
     "output_type": "display_data"
    },
    {
     "data": {
      "application/vnd.jupyter.widget-view+json": {
       "model_id": "3dabff40fb0341fa96f49bf1b9a95afa",
       "version_major": 2,
       "version_minor": 0
      },
      "text/plain": [
       "Frame:   0%|          | 0/271 [00:00<?, ?frame/s]"
      ]
     },
     "metadata": {},
     "output_type": "display_data"
    },
    {
     "data": {
      "application/vnd.jupyter.widget-view+json": {
       "model_id": "ccbb3bd11b9d4dd49122ce425e15c023",
       "version_major": 2,
       "version_minor": 0
      },
      "text/plain": [
       "Frame:   0%|          | 0/271 [00:00<?, ?frame/s]"
      ]
     },
     "metadata": {},
     "output_type": "display_data"
    },
    {
     "data": {
      "application/vnd.jupyter.widget-view+json": {
       "model_id": "b29a4291e8c84f018b0886338df1f95f",
       "version_major": 2,
       "version_minor": 0
      },
      "text/plain": [
       "Frame:   0%|          | 0/271 [00:00<?, ?frame/s]"
      ]
     },
     "metadata": {},
     "output_type": "display_data"
    },
    {
     "data": {
      "application/vnd.jupyter.widget-view+json": {
       "model_id": "ba32ac8b967443a28d008954add49fbe",
       "version_major": 2,
       "version_minor": 0
      },
      "text/plain": [
       "Frame:   0%|          | 0/271 [00:00<?, ?frame/s]"
      ]
     },
     "metadata": {},
     "output_type": "display_data"
    },
    {
     "data": {
      "application/vnd.jupyter.widget-view+json": {
       "model_id": "ed8dbd81670143eabcfc3ee28f15f489",
       "version_major": 2,
       "version_minor": 0
      },
      "text/plain": [
       "Frame:   0%|          | 0/271 [00:00<?, ?frame/s]"
      ]
     },
     "metadata": {},
     "output_type": "display_data"
    },
    {
     "data": {
      "application/vnd.jupyter.widget-view+json": {
       "model_id": "368fd960837f4071846d5f45615e1c18",
       "version_major": 2,
       "version_minor": 0
      },
      "text/plain": [
       "Frame:   0%|          | 0/271 [00:00<?, ?frame/s]"
      ]
     },
     "metadata": {},
     "output_type": "display_data"
    },
    {
     "data": {
      "application/vnd.jupyter.widget-view+json": {
       "model_id": "0894013d64a445cd8cee22ed18322019",
       "version_major": 2,
       "version_minor": 0
      },
      "text/plain": [
       "Frame:   0%|          | 0/271 [00:00<?, ?frame/s]"
      ]
     },
     "metadata": {},
     "output_type": "display_data"
    },
    {
     "data": {
      "application/vnd.jupyter.widget-view+json": {
       "model_id": "8994c0fb65084fc897fec639f8186806",
       "version_major": 2,
       "version_minor": 0
      },
      "text/plain": [
       "Frame:   0%|          | 0/271 [00:00<?, ?frame/s]"
      ]
     },
     "metadata": {},
     "output_type": "display_data"
    },
    {
     "data": {
      "application/vnd.jupyter.widget-view+json": {
       "model_id": "c98a4831b4bf452687290a71d7921eb3",
       "version_major": 2,
       "version_minor": 0
      },
      "text/plain": [
       "Frame:   0%|          | 0/271 [00:00<?, ?frame/s]"
      ]
     },
     "metadata": {},
     "output_type": "display_data"
    },
    {
     "data": {
      "application/vnd.jupyter.widget-view+json": {
       "model_id": "75cf3f635c4046ecabc573be5aac2cd2",
       "version_major": 2,
       "version_minor": 0
      },
      "text/plain": [
       "Frame:   0%|          | 0/271 [00:00<?, ?frame/s]"
      ]
     },
     "metadata": {},
     "output_type": "display_data"
    },
    {
     "data": {
      "application/vnd.jupyter.widget-view+json": {
       "model_id": "ccd97c812a384b698f4a18bbca08eddb",
       "version_major": 2,
       "version_minor": 0
      },
      "text/plain": [
       "Frame:   0%|          | 0/271 [00:00<?, ?frame/s]"
      ]
     },
     "metadata": {},
     "output_type": "display_data"
    },
    {
     "data": {
      "application/vnd.jupyter.widget-view+json": {
       "model_id": "db6185c075724b589be73126c6c0451e",
       "version_major": 2,
       "version_minor": 0
      },
      "text/plain": [
       "Frame:   0%|          | 0/271 [00:00<?, ?frame/s]"
      ]
     },
     "metadata": {},
     "output_type": "display_data"
    },
    {
     "data": {
      "application/vnd.jupyter.widget-view+json": {
       "model_id": "61b9aa95d6414862b7208cd2dea2f859",
       "version_major": 2,
       "version_minor": 0
      },
      "text/plain": [
       "Frame:   0%|          | 0/271 [00:00<?, ?frame/s]"
      ]
     },
     "metadata": {},
     "output_type": "display_data"
    },
    {
     "data": {
      "application/vnd.jupyter.widget-view+json": {
       "model_id": "3f42b09970304b7b9bdfe7ee39d78c11",
       "version_major": 2,
       "version_minor": 0
      },
      "text/plain": [
       "Frame:   0%|          | 0/271 [00:00<?, ?frame/s]"
      ]
     },
     "metadata": {},
     "output_type": "display_data"
    },
    {
     "data": {
      "application/vnd.jupyter.widget-view+json": {
       "model_id": "5e70fdfdb782410ea5ad9f34f323f33e",
       "version_major": 2,
       "version_minor": 0
      },
      "text/plain": [
       "Frame:   0%|          | 0/271 [00:00<?, ?frame/s]"
      ]
     },
     "metadata": {},
     "output_type": "display_data"
    },
    {
     "data": {
      "application/vnd.jupyter.widget-view+json": {
       "model_id": "1c7a989a673b43d48acc312436f35b96",
       "version_major": 2,
       "version_minor": 0
      },
      "text/plain": [
       "Frame:   0%|          | 0/271 [00:00<?, ?frame/s]"
      ]
     },
     "metadata": {},
     "output_type": "display_data"
    },
    {
     "data": {
      "application/vnd.jupyter.widget-view+json": {
       "model_id": "a98fa5e260d34bf29c14f06cd80dae71",
       "version_major": 2,
       "version_minor": 0
      },
      "text/plain": [
       "Frame:   0%|          | 0/271 [00:00<?, ?frame/s]"
      ]
     },
     "metadata": {},
     "output_type": "display_data"
    },
    {
     "data": {
      "application/vnd.jupyter.widget-view+json": {
       "model_id": "caed0b9c620f40cd9928683cb6ac72ab",
       "version_major": 2,
       "version_minor": 0
      },
      "text/plain": [
       "Frame:   0%|          | 0/271 [00:00<?, ?frame/s]"
      ]
     },
     "metadata": {},
     "output_type": "display_data"
    },
    {
     "data": {
      "application/vnd.jupyter.widget-view+json": {
       "model_id": "ae7846c6cd584cdb95dd75fcff16df32",
       "version_major": 2,
       "version_minor": 0
      },
      "text/plain": [
       "Frame:   0%|          | 0/271 [00:00<?, ?frame/s]"
      ]
     },
     "metadata": {},
     "output_type": "display_data"
    },
    {
     "data": {
      "application/vnd.jupyter.widget-view+json": {
       "model_id": "eb6dc46d527b4e289e01a101d6f99e92",
       "version_major": 2,
       "version_minor": 0
      },
      "text/plain": [
       "Frame:   0%|          | 0/271 [00:00<?, ?frame/s]"
      ]
     },
     "metadata": {},
     "output_type": "display_data"
    },
    {
     "data": {
      "application/vnd.jupyter.widget-view+json": {
       "model_id": "24eb3064e5554a058c619ff5ea15cd39",
       "version_major": 2,
       "version_minor": 0
      },
      "text/plain": [
       "Frame:   0%|          | 0/271 [00:00<?, ?frame/s]"
      ]
     },
     "metadata": {},
     "output_type": "display_data"
    },
    {
     "data": {
      "application/vnd.jupyter.widget-view+json": {
       "model_id": "c2181f6d7c2e4fccafefa02987ed2bdd",
       "version_major": 2,
       "version_minor": 0
      },
      "text/plain": [
       "Frame:   0%|          | 0/271 [00:00<?, ?frame/s]"
      ]
     },
     "metadata": {},
     "output_type": "display_data"
    },
    {
     "data": {
      "application/vnd.jupyter.widget-view+json": {
       "model_id": "b7979aeb8b8c4452a036df71ba49f1b6",
       "version_major": 2,
       "version_minor": 0
      },
      "text/plain": [
       "Frame:   0%|          | 0/271 [00:00<?, ?frame/s]"
      ]
     },
     "metadata": {},
     "output_type": "display_data"
    },
    {
     "data": {
      "application/vnd.jupyter.widget-view+json": {
       "model_id": "77f6aee6798a4250b43e9eedbcb9a1f9",
       "version_major": 2,
       "version_minor": 0
      },
      "text/plain": [
       "Frame:   0%|          | 0/271 [00:00<?, ?frame/s]"
      ]
     },
     "metadata": {},
     "output_type": "display_data"
    },
    {
     "data": {
      "application/vnd.jupyter.widget-view+json": {
       "model_id": "4a682468012d4b739f2b468ddad8e812",
       "version_major": 2,
       "version_minor": 0
      },
      "text/plain": [
       "Frame:   0%|          | 0/271 [00:00<?, ?frame/s]"
      ]
     },
     "metadata": {},
     "output_type": "display_data"
    },
    {
     "data": {
      "application/vnd.jupyter.widget-view+json": {
       "model_id": "bea78e2fe4dd40fc98d1742b5fa403b5",
       "version_major": 2,
       "version_minor": 0
      },
      "text/plain": [
       "Frame:   0%|          | 0/271 [00:00<?, ?frame/s]"
      ]
     },
     "metadata": {},
     "output_type": "display_data"
    },
    {
     "data": {
      "application/vnd.jupyter.widget-view+json": {
       "model_id": "6e7e9fdea28145afabe3167ad4370f0e",
       "version_major": 2,
       "version_minor": 0
      },
      "text/plain": [
       "Frame:   0%|          | 0/271 [00:00<?, ?frame/s]"
      ]
     },
     "metadata": {},
     "output_type": "display_data"
    },
    {
     "data": {
      "application/vnd.jupyter.widget-view+json": {
       "model_id": "87761cac5d4444f2af7780b2d92c624c",
       "version_major": 2,
       "version_minor": 0
      },
      "text/plain": [
       "Frame:   0%|          | 0/271 [00:00<?, ?frame/s]"
      ]
     },
     "metadata": {},
     "output_type": "display_data"
    },
    {
     "data": {
      "application/vnd.jupyter.widget-view+json": {
       "model_id": "7fed1328696f458fb663d54d63353146",
       "version_major": 2,
       "version_minor": 0
      },
      "text/plain": [
       "Frame:   0%|          | 0/271 [00:00<?, ?frame/s]"
      ]
     },
     "metadata": {},
     "output_type": "display_data"
    },
    {
     "data": {
      "application/vnd.jupyter.widget-view+json": {
       "model_id": "a7e0e92f53f1461f8f1c175d57b2e18a",
       "version_major": 2,
       "version_minor": 0
      },
      "text/plain": [
       "Frame:   0%|          | 0/271 [00:00<?, ?frame/s]"
      ]
     },
     "metadata": {},
     "output_type": "display_data"
    },
    {
     "data": {
      "application/vnd.jupyter.widget-view+json": {
       "model_id": "86db4de5b6d8405cb669e8db9ee1173a",
       "version_major": 2,
       "version_minor": 0
      },
      "text/plain": [
       "Frame:   0%|          | 0/271 [00:00<?, ?frame/s]"
      ]
     },
     "metadata": {},
     "output_type": "display_data"
    },
    {
     "data": {
      "application/vnd.jupyter.widget-view+json": {
       "model_id": "ed495bb3643b4e04a218708beb0ba46c",
       "version_major": 2,
       "version_minor": 0
      },
      "text/plain": [
       "Frame:   0%|          | 0/271 [00:00<?, ?frame/s]"
      ]
     },
     "metadata": {},
     "output_type": "display_data"
    },
    {
     "data": {
      "application/vnd.jupyter.widget-view+json": {
       "model_id": "441ec1fbb12b42d8ac5c944969babdf0",
       "version_major": 2,
       "version_minor": 0
      },
      "text/plain": [
       "Frame:   0%|          | 0/271 [00:00<?, ?frame/s]"
      ]
     },
     "metadata": {},
     "output_type": "display_data"
    },
    {
     "data": {
      "application/vnd.jupyter.widget-view+json": {
       "model_id": "d3d6e4a7fcde45e98b387f503242488d",
       "version_major": 2,
       "version_minor": 0
      },
      "text/plain": [
       "Frame:   0%|          | 0/271 [00:00<?, ?frame/s]"
      ]
     },
     "metadata": {},
     "output_type": "display_data"
    },
    {
     "data": {
      "application/vnd.jupyter.widget-view+json": {
       "model_id": "74565eb48d414320aea0d2db5dbb2333",
       "version_major": 2,
       "version_minor": 0
      },
      "text/plain": [
       "Frame:   0%|          | 0/271 [00:00<?, ?frame/s]"
      ]
     },
     "metadata": {},
     "output_type": "display_data"
    },
    {
     "data": {
      "application/vnd.jupyter.widget-view+json": {
       "model_id": "377ad87e7aae4abf88a25bb8ab000856",
       "version_major": 2,
       "version_minor": 0
      },
      "text/plain": [
       "Frame:   0%|          | 0/271 [00:00<?, ?frame/s]"
      ]
     },
     "metadata": {},
     "output_type": "display_data"
    },
    {
     "data": {
      "application/vnd.jupyter.widget-view+json": {
       "model_id": "e1dd1d8bab2e4fb3ba6898a1299ad3f7",
       "version_major": 2,
       "version_minor": 0
      },
      "text/plain": [
       "Frame:   0%|          | 0/271 [00:00<?, ?frame/s]"
      ]
     },
     "metadata": {},
     "output_type": "display_data"
    },
    {
     "data": {
      "application/vnd.jupyter.widget-view+json": {
       "model_id": "02e167d8f03e40b695c868425167b9dc",
       "version_major": 2,
       "version_minor": 0
      },
      "text/plain": [
       "Frame:   0%|          | 0/271 [00:00<?, ?frame/s]"
      ]
     },
     "metadata": {},
     "output_type": "display_data"
    },
    {
     "data": {
      "application/vnd.jupyter.widget-view+json": {
       "model_id": "015f9b9f334346e3bfe340236e20c4b7",
       "version_major": 2,
       "version_minor": 0
      },
      "text/plain": [
       "Frame:   0%|          | 0/271 [00:00<?, ?frame/s]"
      ]
     },
     "metadata": {},
     "output_type": "display_data"
    },
    {
     "data": {
      "application/vnd.jupyter.widget-view+json": {
       "model_id": "d8ee126e4fde4dd09b0ba1d49be1e790",
       "version_major": 2,
       "version_minor": 0
      },
      "text/plain": [
       "Frame:   0%|          | 0/271 [00:00<?, ?frame/s]"
      ]
     },
     "metadata": {},
     "output_type": "display_data"
    },
    {
     "data": {
      "application/vnd.jupyter.widget-view+json": {
       "model_id": "752ebc9698f941faa66fb6f4ee9f7de5",
       "version_major": 2,
       "version_minor": 0
      },
      "text/plain": [
       "Frame:   0%|          | 0/271 [00:00<?, ?frame/s]"
      ]
     },
     "metadata": {},
     "output_type": "display_data"
    },
    {
     "data": {
      "application/vnd.jupyter.widget-view+json": {
       "model_id": "4d30337259a14772b31241f3c0ed23f6",
       "version_major": 2,
       "version_minor": 0
      },
      "text/plain": [
       "Frame:   0%|          | 0/271 [00:00<?, ?frame/s]"
      ]
     },
     "metadata": {},
     "output_type": "display_data"
    },
    {
     "data": {
      "application/vnd.jupyter.widget-view+json": {
       "model_id": "bb19cc5ce5e14de2a5122a2384a56746",
       "version_major": 2,
       "version_minor": 0
      },
      "text/plain": [
       "Frame:   0%|          | 0/271 [00:00<?, ?frame/s]"
      ]
     },
     "metadata": {},
     "output_type": "display_data"
    },
    {
     "data": {
      "application/vnd.jupyter.widget-view+json": {
       "model_id": "a9d4e705a26c41d39e7d800aacbaf8f8",
       "version_major": 2,
       "version_minor": 0
      },
      "text/plain": [
       "Frame:   0%|          | 0/271 [00:00<?, ?frame/s]"
      ]
     },
     "metadata": {},
     "output_type": "display_data"
    },
    {
     "data": {
      "application/vnd.jupyter.widget-view+json": {
       "model_id": "2fed05072e2344ff908b14ac875365f2",
       "version_major": 2,
       "version_minor": 0
      },
      "text/plain": [
       "Frame:   0%|          | 0/271 [00:00<?, ?frame/s]"
      ]
     },
     "metadata": {},
     "output_type": "display_data"
    },
    {
     "data": {
      "application/vnd.jupyter.widget-view+json": {
       "model_id": "34427fc9419b4c4c9d02ac87a751040d",
       "version_major": 2,
       "version_minor": 0
      },
      "text/plain": [
       "Frame:   0%|          | 0/271 [00:00<?, ?frame/s]"
      ]
     },
     "metadata": {},
     "output_type": "display_data"
    },
    {
     "data": {
      "application/vnd.jupyter.widget-view+json": {
       "model_id": "4648685359b74fd4b4e7d2ec8596fc39",
       "version_major": 2,
       "version_minor": 0
      },
      "text/plain": [
       "Frame:   0%|          | 0/271 [00:00<?, ?frame/s]"
      ]
     },
     "metadata": {},
     "output_type": "display_data"
    },
    {
     "data": {
      "application/vnd.jupyter.widget-view+json": {
       "model_id": "b6db453b4ed34569895373df7d2b05f5",
       "version_major": 2,
       "version_minor": 0
      },
      "text/plain": [
       "Frame:   0%|          | 0/271 [00:00<?, ?frame/s]"
      ]
     },
     "metadata": {},
     "output_type": "display_data"
    },
    {
     "data": {
      "application/vnd.jupyter.widget-view+json": {
       "model_id": "850750f08d674ab5b39810e103edfee8",
       "version_major": 2,
       "version_minor": 0
      },
      "text/plain": [
       "Frame:   0%|          | 0/271 [00:00<?, ?frame/s]"
      ]
     },
     "metadata": {},
     "output_type": "display_data"
    },
    {
     "data": {
      "application/vnd.jupyter.widget-view+json": {
       "model_id": "38cb146af4dc4946a666fe5cee8a72b5",
       "version_major": 2,
       "version_minor": 0
      },
      "text/plain": [
       "Frame:   0%|          | 0/271 [00:00<?, ?frame/s]"
      ]
     },
     "metadata": {},
     "output_type": "display_data"
    },
    {
     "data": {
      "application/vnd.jupyter.widget-view+json": {
       "model_id": "218bba43187444208eb530d53173ad0b",
       "version_major": 2,
       "version_minor": 0
      },
      "text/plain": [
       "Frame:   0%|          | 0/271 [00:00<?, ?frame/s]"
      ]
     },
     "metadata": {},
     "output_type": "display_data"
    },
    {
     "data": {
      "application/vnd.jupyter.widget-view+json": {
       "model_id": "b7b3b14a94694ed28f2f3fbfb693c28e",
       "version_major": 2,
       "version_minor": 0
      },
      "text/plain": [
       "Frame:   0%|          | 0/271 [00:00<?, ?frame/s]"
      ]
     },
     "metadata": {},
     "output_type": "display_data"
    },
    {
     "data": {
      "application/vnd.jupyter.widget-view+json": {
       "model_id": "695d4ab7449b4a8a9e97d26515607bcf",
       "version_major": 2,
       "version_minor": 0
      },
      "text/plain": [
       "Frame:   0%|          | 0/271 [00:00<?, ?frame/s]"
      ]
     },
     "metadata": {},
     "output_type": "display_data"
    },
    {
     "data": {
      "application/vnd.jupyter.widget-view+json": {
       "model_id": "23294259e6fa4467a26c12c632a751e2",
       "version_major": 2,
       "version_minor": 0
      },
      "text/plain": [
       "Frame:   0%|          | 0/271 [00:00<?, ?frame/s]"
      ]
     },
     "metadata": {},
     "output_type": "display_data"
    },
    {
     "data": {
      "application/vnd.jupyter.widget-view+json": {
       "model_id": "d69b05296cc4412d8fa0a4bc32bee9fb",
       "version_major": 2,
       "version_minor": 0
      },
      "text/plain": [
       "Frame:   0%|          | 0/271 [00:00<?, ?frame/s]"
      ]
     },
     "metadata": {},
     "output_type": "display_data"
    },
    {
     "data": {
      "application/vnd.jupyter.widget-view+json": {
       "model_id": "fb715a691dbf4efaaff0f42979925a15",
       "version_major": 2,
       "version_minor": 0
      },
      "text/plain": [
       "Frame:   0%|          | 0/271 [00:00<?, ?frame/s]"
      ]
     },
     "metadata": {},
     "output_type": "display_data"
    },
    {
     "data": {
      "application/vnd.jupyter.widget-view+json": {
       "model_id": "68f54b6ecd3b44d7851e53c062b731cb",
       "version_major": 2,
       "version_minor": 0
      },
      "text/plain": [
       "Frame:   0%|          | 0/271 [00:00<?, ?frame/s]"
      ]
     },
     "metadata": {},
     "output_type": "display_data"
    },
    {
     "data": {
      "application/vnd.jupyter.widget-view+json": {
       "model_id": "3ad30ea28f5f450b912ef2d57c27a397",
       "version_major": 2,
       "version_minor": 0
      },
      "text/plain": [
       "Frame:   0%|          | 0/271 [00:00<?, ?frame/s]"
      ]
     },
     "metadata": {},
     "output_type": "display_data"
    },
    {
     "data": {
      "application/vnd.jupyter.widget-view+json": {
       "model_id": "7c6d9fe10ba14e219b80d7096b390060",
       "version_major": 2,
       "version_minor": 0
      },
      "text/plain": [
       "Frame:   0%|          | 0/271 [00:00<?, ?frame/s]"
      ]
     },
     "metadata": {},
     "output_type": "display_data"
    },
    {
     "data": {
      "application/vnd.jupyter.widget-view+json": {
       "model_id": "4ea5858598194035a383bae81bf770ea",
       "version_major": 2,
       "version_minor": 0
      },
      "text/plain": [
       "Frame:   0%|          | 0/271 [00:00<?, ?frame/s]"
      ]
     },
     "metadata": {},
     "output_type": "display_data"
    },
    {
     "data": {
      "application/vnd.jupyter.widget-view+json": {
       "model_id": "c8d6897b14934529a57fc5d788c06bbc",
       "version_major": 2,
       "version_minor": 0
      },
      "text/plain": [
       "Frame:   0%|          | 0/271 [00:00<?, ?frame/s]"
      ]
     },
     "metadata": {},
     "output_type": "display_data"
    },
    {
     "data": {
      "application/vnd.jupyter.widget-view+json": {
       "model_id": "328ba56a07af4bd996a54f2d6a65f441",
       "version_major": 2,
       "version_minor": 0
      },
      "text/plain": [
       "Frame:   0%|          | 0/271 [00:00<?, ?frame/s]"
      ]
     },
     "metadata": {},
     "output_type": "display_data"
    },
    {
     "data": {
      "application/vnd.jupyter.widget-view+json": {
       "model_id": "aa292c27b7f3489dbfa35bbf41bddaf1",
       "version_major": 2,
       "version_minor": 0
      },
      "text/plain": [
       "Frame:   0%|          | 0/271 [00:00<?, ?frame/s]"
      ]
     },
     "metadata": {},
     "output_type": "display_data"
    },
    {
     "data": {
      "application/vnd.jupyter.widget-view+json": {
       "model_id": "d2d10c12780e49c2b5824b31a9c30ab6",
       "version_major": 2,
       "version_minor": 0
      },
      "text/plain": [
       "Frame:   0%|          | 0/271 [00:00<?, ?frame/s]"
      ]
     },
     "metadata": {},
     "output_type": "display_data"
    },
    {
     "data": {
      "application/vnd.jupyter.widget-view+json": {
       "model_id": "74316776c8fb42e18b6f972472f993d0",
       "version_major": 2,
       "version_minor": 0
      },
      "text/plain": [
       "Frame:   0%|          | 0/271 [00:00<?, ?frame/s]"
      ]
     },
     "metadata": {},
     "output_type": "display_data"
    },
    {
     "data": {
      "application/vnd.jupyter.widget-view+json": {
       "model_id": "e90e28e8b66b4017872af985175d95fb",
       "version_major": 2,
       "version_minor": 0
      },
      "text/plain": [
       "Frame:   0%|          | 0/271 [00:00<?, ?frame/s]"
      ]
     },
     "metadata": {},
     "output_type": "display_data"
    },
    {
     "data": {
      "application/vnd.jupyter.widget-view+json": {
       "model_id": "d039dd4ecb514ae2923ed9107cb59a4e",
       "version_major": 2,
       "version_minor": 0
      },
      "text/plain": [
       "Frame:   0%|          | 0/271 [00:00<?, ?frame/s]"
      ]
     },
     "metadata": {},
     "output_type": "display_data"
    },
    {
     "data": {
      "application/vnd.jupyter.widget-view+json": {
       "model_id": "eac63bb7b8ab447f9f50585238ced4b3",
       "version_major": 2,
       "version_minor": 0
      },
      "text/plain": [
       "Frame:   0%|          | 0/271 [00:00<?, ?frame/s]"
      ]
     },
     "metadata": {},
     "output_type": "display_data"
    },
    {
     "data": {
      "application/vnd.jupyter.widget-view+json": {
       "model_id": "8d598072de1f4d128fbfd52a00796fc5",
       "version_major": 2,
       "version_minor": 0
      },
      "text/plain": [
       "Frame:   0%|          | 0/271 [00:00<?, ?frame/s]"
      ]
     },
     "metadata": {},
     "output_type": "display_data"
    },
    {
     "data": {
      "application/vnd.jupyter.widget-view+json": {
       "model_id": "78f5f5dc26144c299c91bc16cff63b78",
       "version_major": 2,
       "version_minor": 0
      },
      "text/plain": [
       "Frame:   0%|          | 0/271 [00:00<?, ?frame/s]"
      ]
     },
     "metadata": {},
     "output_type": "display_data"
    },
    {
     "data": {
      "application/vnd.jupyter.widget-view+json": {
       "model_id": "6bb78fb836914415a92012fe2cabc7b4",
       "version_major": 2,
       "version_minor": 0
      },
      "text/plain": [
       "Frame:   0%|          | 0/271 [00:00<?, ?frame/s]"
      ]
     },
     "metadata": {},
     "output_type": "display_data"
    },
    {
     "data": {
      "application/vnd.jupyter.widget-view+json": {
       "model_id": "bbcce9b5e4f34a74b5e73253522fbaf4",
       "version_major": 2,
       "version_minor": 0
      },
      "text/plain": [
       "Frame:   0%|          | 0/271 [00:00<?, ?frame/s]"
      ]
     },
     "metadata": {},
     "output_type": "display_data"
    },
    {
     "data": {
      "application/vnd.jupyter.widget-view+json": {
       "model_id": "8f612206cb3745a2afc782fd21ddc4f4",
       "version_major": 2,
       "version_minor": 0
      },
      "text/plain": [
       "Frame:   0%|          | 0/271 [00:00<?, ?frame/s]"
      ]
     },
     "metadata": {},
     "output_type": "display_data"
    },
    {
     "data": {
      "application/vnd.jupyter.widget-view+json": {
       "model_id": "07a7342251654abbad7ff2073f43f344",
       "version_major": 2,
       "version_minor": 0
      },
      "text/plain": [
       "Frame:   0%|          | 0/271 [00:00<?, ?frame/s]"
      ]
     },
     "metadata": {},
     "output_type": "display_data"
    },
    {
     "data": {
      "application/vnd.jupyter.widget-view+json": {
       "model_id": "297f0a5c152b460facef3bcdae17c8ca",
       "version_major": 2,
       "version_minor": 0
      },
      "text/plain": [
       "Frame:   0%|          | 0/271 [00:00<?, ?frame/s]"
      ]
     },
     "metadata": {},
     "output_type": "display_data"
    },
    {
     "data": {
      "application/vnd.jupyter.widget-view+json": {
       "model_id": "0afa36657abd4be39c99cdf23b1d489d",
       "version_major": 2,
       "version_minor": 0
      },
      "text/plain": [
       "Frame:   0%|          | 0/271 [00:00<?, ?frame/s]"
      ]
     },
     "metadata": {},
     "output_type": "display_data"
    },
    {
     "data": {
      "application/vnd.jupyter.widget-view+json": {
       "model_id": "a7ef86d809c14bf0956b51cdc29c6ec7",
       "version_major": 2,
       "version_minor": 0
      },
      "text/plain": [
       "Frame:   0%|          | 0/271 [00:00<?, ?frame/s]"
      ]
     },
     "metadata": {},
     "output_type": "display_data"
    },
    {
     "data": {
      "application/vnd.jupyter.widget-view+json": {
       "model_id": "a39b2aeb52eb42fdbf6b62b9756eeb67",
       "version_major": 2,
       "version_minor": 0
      },
      "text/plain": [
       "Frame:   0%|          | 0/271 [00:00<?, ?frame/s]"
      ]
     },
     "metadata": {},
     "output_type": "display_data"
    },
    {
     "data": {
      "application/vnd.jupyter.widget-view+json": {
       "model_id": "78963aad4c6742caa7a0cf5d45a24472",
       "version_major": 2,
       "version_minor": 0
      },
      "text/plain": [
       "Frame:   0%|          | 0/271 [00:00<?, ?frame/s]"
      ]
     },
     "metadata": {},
     "output_type": "display_data"
    },
    {
     "data": {
      "application/vnd.jupyter.widget-view+json": {
       "model_id": "9c582ed84fdf4aec84be874fec22c693",
       "version_major": 2,
       "version_minor": 0
      },
      "text/plain": [
       "Frame:   0%|          | 0/271 [00:00<?, ?frame/s]"
      ]
     },
     "metadata": {},
     "output_type": "display_data"
    },
    {
     "data": {
      "application/vnd.jupyter.widget-view+json": {
       "model_id": "e90b346e032a4299a65c03d311ed8c75",
       "version_major": 2,
       "version_minor": 0
      },
      "text/plain": [
       "Frame:   0%|          | 0/271 [00:00<?, ?frame/s]"
      ]
     },
     "metadata": {},
     "output_type": "display_data"
    },
    {
     "data": {
      "application/vnd.jupyter.widget-view+json": {
       "model_id": "c7b004e5d2694ebdbe3ac7222f9c194e",
       "version_major": 2,
       "version_minor": 0
      },
      "text/plain": [
       "Frame:   0%|          | 0/271 [00:00<?, ?frame/s]"
      ]
     },
     "metadata": {},
     "output_type": "display_data"
    },
    {
     "data": {
      "application/vnd.jupyter.widget-view+json": {
       "model_id": "906bd406dea24d159df7487048395d14",
       "version_major": 2,
       "version_minor": 0
      },
      "text/plain": [
       "Frame:   0%|          | 0/271 [00:00<?, ?frame/s]"
      ]
     },
     "metadata": {},
     "output_type": "display_data"
    },
    {
     "data": {
      "application/vnd.jupyter.widget-view+json": {
       "model_id": "14bc4b0d0e5042c9b11e28d72af38844",
       "version_major": 2,
       "version_minor": 0
      },
      "text/plain": [
       "Frame:   0%|          | 0/271 [00:00<?, ?frame/s]"
      ]
     },
     "metadata": {},
     "output_type": "display_data"
    },
    {
     "data": {
      "application/vnd.jupyter.widget-view+json": {
       "model_id": "afc7eba68df34cd7b5ce639dc5af60a0",
       "version_major": 2,
       "version_minor": 0
      },
      "text/plain": [
       "Frame:   0%|          | 0/271 [00:00<?, ?frame/s]"
      ]
     },
     "metadata": {},
     "output_type": "display_data"
    },
    {
     "data": {
      "application/vnd.jupyter.widget-view+json": {
       "model_id": "ad3df5d459674f24811544c15f60df5a",
       "version_major": 2,
       "version_minor": 0
      },
      "text/plain": [
       "Frame:   0%|          | 0/271 [00:00<?, ?frame/s]"
      ]
     },
     "metadata": {},
     "output_type": "display_data"
    },
    {
     "data": {
      "application/vnd.jupyter.widget-view+json": {
       "model_id": "630989359ead4115a6130ffff2747ec7",
       "version_major": 2,
       "version_minor": 0
      },
      "text/plain": [
       "Frame:   0%|          | 0/271 [00:00<?, ?frame/s]"
      ]
     },
     "metadata": {},
     "output_type": "display_data"
    },
    {
     "data": {
      "application/vnd.jupyter.widget-view+json": {
       "model_id": "a2d13da27760464f912ba2445c2eec69",
       "version_major": 2,
       "version_minor": 0
      },
      "text/plain": [
       "Frame:   0%|          | 0/271 [00:00<?, ?frame/s]"
      ]
     },
     "metadata": {},
     "output_type": "display_data"
    },
    {
     "data": {
      "application/vnd.jupyter.widget-view+json": {
       "model_id": "85ecd77eeb04465b8aeacbea41e74070",
       "version_major": 2,
       "version_minor": 0
      },
      "text/plain": [
       "Frame:   0%|          | 0/271 [00:00<?, ?frame/s]"
      ]
     },
     "metadata": {},
     "output_type": "display_data"
    },
    {
     "data": {
      "application/vnd.jupyter.widget-view+json": {
       "model_id": "402d4e16624a44038ce3a8e4118db446",
       "version_major": 2,
       "version_minor": 0
      },
      "text/plain": [
       "Frame:   0%|          | 0/271 [00:00<?, ?frame/s]"
      ]
     },
     "metadata": {},
     "output_type": "display_data"
    },
    {
     "data": {
      "application/vnd.jupyter.widget-view+json": {
       "model_id": "9e288c2b202c438dbef49708b4210b7b",
       "version_major": 2,
       "version_minor": 0
      },
      "text/plain": [
       "Frame:   0%|          | 0/271 [00:00<?, ?frame/s]"
      ]
     },
     "metadata": {},
     "output_type": "display_data"
    },
    {
     "data": {
      "application/vnd.jupyter.widget-view+json": {
       "model_id": "51eac80938b54b1994a3a039c57829ed",
       "version_major": 2,
       "version_minor": 0
      },
      "text/plain": [
       "Frame:   0%|          | 0/271 [00:00<?, ?frame/s]"
      ]
     },
     "metadata": {},
     "output_type": "display_data"
    },
    {
     "data": {
      "application/vnd.jupyter.widget-view+json": {
       "model_id": "0e1d65c0714e430194a8712c8111dec1",
       "version_major": 2,
       "version_minor": 0
      },
      "text/plain": [
       "Frame:   0%|          | 0/271 [00:00<?, ?frame/s]"
      ]
     },
     "metadata": {},
     "output_type": "display_data"
    },
    {
     "data": {
      "application/vnd.jupyter.widget-view+json": {
       "model_id": "43696ae382c247dc8154b6bd60d45229",
       "version_major": 2,
       "version_minor": 0
      },
      "text/plain": [
       "Frame:   0%|          | 0/271 [00:00<?, ?frame/s]"
      ]
     },
     "metadata": {},
     "output_type": "display_data"
    },
    {
     "data": {
      "application/vnd.jupyter.widget-view+json": {
       "model_id": "1b77aa91f24e450596e4abbba9484612",
       "version_major": 2,
       "version_minor": 0
      },
      "text/plain": [
       "Frame:   0%|          | 0/271 [00:00<?, ?frame/s]"
      ]
     },
     "metadata": {},
     "output_type": "display_data"
    },
    {
     "data": {
      "application/vnd.jupyter.widget-view+json": {
       "model_id": "d295116b40aa4bba8d05b6f2b123482e",
       "version_major": 2,
       "version_minor": 0
      },
      "text/plain": [
       "Frame:   0%|          | 0/271 [00:00<?, ?frame/s]"
      ]
     },
     "metadata": {},
     "output_type": "display_data"
    },
    {
     "data": {
      "application/vnd.jupyter.widget-view+json": {
       "model_id": "4abbaf3f28e345719593d1241e47bbb7",
       "version_major": 2,
       "version_minor": 0
      },
      "text/plain": [
       "Frame:   0%|          | 0/271 [00:00<?, ?frame/s]"
      ]
     },
     "metadata": {},
     "output_type": "display_data"
    },
    {
     "data": {
      "application/vnd.jupyter.widget-view+json": {
       "model_id": "e99069cdd14844f4955bdf2abf6d9cd6",
       "version_major": 2,
       "version_minor": 0
      },
      "text/plain": [
       "Frame:   0%|          | 0/271 [00:00<?, ?frame/s]"
      ]
     },
     "metadata": {},
     "output_type": "display_data"
    },
    {
     "data": {
      "application/vnd.jupyter.widget-view+json": {
       "model_id": "e985be413ea94d75806f8671b2b39c79",
       "version_major": 2,
       "version_minor": 0
      },
      "text/plain": [
       "Frame:   0%|          | 0/271 [00:00<?, ?frame/s]"
      ]
     },
     "metadata": {},
     "output_type": "display_data"
    },
    {
     "data": {
      "application/vnd.jupyter.widget-view+json": {
       "model_id": "94538251143640778aafb705e720df16",
       "version_major": 2,
       "version_minor": 0
      },
      "text/plain": [
       "Frame:   0%|          | 0/271 [00:00<?, ?frame/s]"
      ]
     },
     "metadata": {},
     "output_type": "display_data"
    },
    {
     "data": {
      "application/vnd.jupyter.widget-view+json": {
       "model_id": "ac29b3cc0c814275b1e5d339777c17fc",
       "version_major": 2,
       "version_minor": 0
      },
      "text/plain": [
       "Frame:   0%|          | 0/271 [00:00<?, ?frame/s]"
      ]
     },
     "metadata": {},
     "output_type": "display_data"
    },
    {
     "data": {
      "application/vnd.jupyter.widget-view+json": {
       "model_id": "b3122fa9da0c43069ecc5ab4d609db6c",
       "version_major": 2,
       "version_minor": 0
      },
      "text/plain": [
       "Frame:   0%|          | 0/271 [00:00<?, ?frame/s]"
      ]
     },
     "metadata": {},
     "output_type": "display_data"
    },
    {
     "data": {
      "application/vnd.jupyter.widget-view+json": {
       "model_id": "e1ebf2cc74724decbb17004d34d7f5e4",
       "version_major": 2,
       "version_minor": 0
      },
      "text/plain": [
       "Frame:   0%|          | 0/271 [00:00<?, ?frame/s]"
      ]
     },
     "metadata": {},
     "output_type": "display_data"
    },
    {
     "data": {
      "application/vnd.jupyter.widget-view+json": {
       "model_id": "fb9203c6268b4bf4a9053d32b6341914",
       "version_major": 2,
       "version_minor": 0
      },
      "text/plain": [
       "Frame:   0%|          | 0/271 [00:00<?, ?frame/s]"
      ]
     },
     "metadata": {},
     "output_type": "display_data"
    },
    {
     "data": {
      "application/vnd.jupyter.widget-view+json": {
       "model_id": "768dcba61ea9464c8783ff2b06710fee",
       "version_major": 2,
       "version_minor": 0
      },
      "text/plain": [
       "Frame:   0%|          | 0/271 [00:00<?, ?frame/s]"
      ]
     },
     "metadata": {},
     "output_type": "display_data"
    },
    {
     "data": {
      "application/vnd.jupyter.widget-view+json": {
       "model_id": "68c58be8c1b14b7b87d0d545f55970e1",
       "version_major": 2,
       "version_minor": 0
      },
      "text/plain": [
       "Frame:   0%|          | 0/271 [00:00<?, ?frame/s]"
      ]
     },
     "metadata": {},
     "output_type": "display_data"
    },
    {
     "data": {
      "application/vnd.jupyter.widget-view+json": {
       "model_id": "fd29f0bedfcd4eeba2fd8d786918400e",
       "version_major": 2,
       "version_minor": 0
      },
      "text/plain": [
       "Frame:   0%|          | 0/271 [00:00<?, ?frame/s]"
      ]
     },
     "metadata": {},
     "output_type": "display_data"
    },
    {
     "data": {
      "application/vnd.jupyter.widget-view+json": {
       "model_id": "924576599c24482581849fafa23a28fd",
       "version_major": 2,
       "version_minor": 0
      },
      "text/plain": [
       "Frame:   0%|          | 0/271 [00:00<?, ?frame/s]"
      ]
     },
     "metadata": {},
     "output_type": "display_data"
    },
    {
     "data": {
      "application/vnd.jupyter.widget-view+json": {
       "model_id": "124141a91f5b4146b70af46b41129067",
       "version_major": 2,
       "version_minor": 0
      },
      "text/plain": [
       "Frame:   0%|          | 0/271 [00:00<?, ?frame/s]"
      ]
     },
     "metadata": {},
     "output_type": "display_data"
    },
    {
     "data": {
      "application/vnd.jupyter.widget-view+json": {
       "model_id": "c8eb01b637b144a3bc4a31fd30bf3883",
       "version_major": 2,
       "version_minor": 0
      },
      "text/plain": [
       "Frame:   0%|          | 0/271 [00:00<?, ?frame/s]"
      ]
     },
     "metadata": {},
     "output_type": "display_data"
    },
    {
     "data": {
      "application/vnd.jupyter.widget-view+json": {
       "model_id": "7f52314ea771440485fed56a546bdef4",
       "version_major": 2,
       "version_minor": 0
      },
      "text/plain": [
       "Frame:   0%|          | 0/271 [00:00<?, ?frame/s]"
      ]
     },
     "metadata": {},
     "output_type": "display_data"
    },
    {
     "data": {
      "application/vnd.jupyter.widget-view+json": {
       "model_id": "58ebd6358179438d9be3148d101460c9",
       "version_major": 2,
       "version_minor": 0
      },
      "text/plain": [
       "Frame:   0%|          | 0/271 [00:00<?, ?frame/s]"
      ]
     },
     "metadata": {},
     "output_type": "display_data"
    },
    {
     "data": {
      "application/vnd.jupyter.widget-view+json": {
       "model_id": "694e3a807ad34814b34930e6b878ee47",
       "version_major": 2,
       "version_minor": 0
      },
      "text/plain": [
       "Frame:   0%|          | 0/271 [00:00<?, ?frame/s]"
      ]
     },
     "metadata": {},
     "output_type": "display_data"
    },
    {
     "data": {
      "application/vnd.jupyter.widget-view+json": {
       "model_id": "96c1a0e28617455098ee6665ae67b794",
       "version_major": 2,
       "version_minor": 0
      },
      "text/plain": [
       "Frame:   0%|          | 0/271 [00:00<?, ?frame/s]"
      ]
     },
     "metadata": {},
     "output_type": "display_data"
    },
    {
     "data": {
      "application/vnd.jupyter.widget-view+json": {
       "model_id": "23909d0c11c24e00a5a40dd0a82d3936",
       "version_major": 2,
       "version_minor": 0
      },
      "text/plain": [
       "Frame:   0%|          | 0/271 [00:00<?, ?frame/s]"
      ]
     },
     "metadata": {},
     "output_type": "display_data"
    },
    {
     "data": {
      "application/vnd.jupyter.widget-view+json": {
       "model_id": "e3b36a7a275044e09ac60e7a86f251c4",
       "version_major": 2,
       "version_minor": 0
      },
      "text/plain": [
       "Frame:   0%|          | 0/271 [00:00<?, ?frame/s]"
      ]
     },
     "metadata": {},
     "output_type": "display_data"
    },
    {
     "data": {
      "application/vnd.jupyter.widget-view+json": {
       "model_id": "1bb4ded476c44a7c9d08aa87136a68a2",
       "version_major": 2,
       "version_minor": 0
      },
      "text/plain": [
       "Frame:   0%|          | 0/271 [00:00<?, ?frame/s]"
      ]
     },
     "metadata": {},
     "output_type": "display_data"
    },
    {
     "data": {
      "application/vnd.jupyter.widget-view+json": {
       "model_id": "155877f004a94ffbaadac0a32c853a37",
       "version_major": 2,
       "version_minor": 0
      },
      "text/plain": [
       "Frame:   0%|          | 0/271 [00:00<?, ?frame/s]"
      ]
     },
     "metadata": {},
     "output_type": "display_data"
    },
    {
     "data": {
      "application/vnd.jupyter.widget-view+json": {
       "model_id": "7a25353e5b724dc393affb1fa16cb538",
       "version_major": 2,
       "version_minor": 0
      },
      "text/plain": [
       "Frame:   0%|          | 0/271 [00:00<?, ?frame/s]"
      ]
     },
     "metadata": {},
     "output_type": "display_data"
    },
    {
     "data": {
      "application/vnd.jupyter.widget-view+json": {
       "model_id": "c79429544cc946438fe4d1d826ed9d10",
       "version_major": 2,
       "version_minor": 0
      },
      "text/plain": [
       "Frame:   0%|          | 0/271 [00:00<?, ?frame/s]"
      ]
     },
     "metadata": {},
     "output_type": "display_data"
    },
    {
     "data": {
      "application/vnd.jupyter.widget-view+json": {
       "model_id": "b56f7f0a22c7410b8f402e511043bffc",
       "version_major": 2,
       "version_minor": 0
      },
      "text/plain": [
       "Frame:   0%|          | 0/271 [00:00<?, ?frame/s]"
      ]
     },
     "metadata": {},
     "output_type": "display_data"
    },
    {
     "data": {
      "application/vnd.jupyter.widget-view+json": {
       "model_id": "eb9a6ee51fbc49ffa749a95643d31b22",
       "version_major": 2,
       "version_minor": 0
      },
      "text/plain": [
       "Frame:   0%|          | 0/271 [00:00<?, ?frame/s]"
      ]
     },
     "metadata": {},
     "output_type": "display_data"
    },
    {
     "data": {
      "application/vnd.jupyter.widget-view+json": {
       "model_id": "d2a2090260a44c009dbaca38d4d71031",
       "version_major": 2,
       "version_minor": 0
      },
      "text/plain": [
       "Frame:   0%|          | 0/271 [00:00<?, ?frame/s]"
      ]
     },
     "metadata": {},
     "output_type": "display_data"
    },
    {
     "data": {
      "application/vnd.jupyter.widget-view+json": {
       "model_id": "0363a3b75c2d4cacb04015531e986033",
       "version_major": 2,
       "version_minor": 0
      },
      "text/plain": [
       "Frame:   0%|          | 0/271 [00:00<?, ?frame/s]"
      ]
     },
     "metadata": {},
     "output_type": "display_data"
    },
    {
     "data": {
      "application/vnd.jupyter.widget-view+json": {
       "model_id": "7613115dce9046adbdd37aceb3b2ba76",
       "version_major": 2,
       "version_minor": 0
      },
      "text/plain": [
       "Frame:   0%|          | 0/271 [00:00<?, ?frame/s]"
      ]
     },
     "metadata": {},
     "output_type": "display_data"
    },
    {
     "data": {
      "application/vnd.jupyter.widget-view+json": {
       "model_id": "bf1324733c6944b3b799b433863a033a",
       "version_major": 2,
       "version_minor": 0
      },
      "text/plain": [
       "Frame:   0%|          | 0/271 [00:00<?, ?frame/s]"
      ]
     },
     "metadata": {},
     "output_type": "display_data"
    },
    {
     "data": {
      "application/vnd.jupyter.widget-view+json": {
       "model_id": "37ff639a2a05489598db56e811d359f1",
       "version_major": 2,
       "version_minor": 0
      },
      "text/plain": [
       "Frame:   0%|          | 0/271 [00:00<?, ?frame/s]"
      ]
     },
     "metadata": {},
     "output_type": "display_data"
    },
    {
     "data": {
      "application/vnd.jupyter.widget-view+json": {
       "model_id": "1ce54bd5448740c6b3de1f92bb93fbfa",
       "version_major": 2,
       "version_minor": 0
      },
      "text/plain": [
       "Frame:   0%|          | 0/271 [00:00<?, ?frame/s]"
      ]
     },
     "metadata": {},
     "output_type": "display_data"
    },
    {
     "data": {
      "application/vnd.jupyter.widget-view+json": {
       "model_id": "e355aee0955f42c9afc61338dcd2d472",
       "version_major": 2,
       "version_minor": 0
      },
      "text/plain": [
       "Frame:   0%|          | 0/271 [00:00<?, ?frame/s]"
      ]
     },
     "metadata": {},
     "output_type": "display_data"
    },
    {
     "data": {
      "application/vnd.jupyter.widget-view+json": {
       "model_id": "c8a54f9c5be94762be5566c7c49971d3",
       "version_major": 2,
       "version_minor": 0
      },
      "text/plain": [
       "Frame:   0%|          | 0/271 [00:00<?, ?frame/s]"
      ]
     },
     "metadata": {},
     "output_type": "display_data"
    },
    {
     "data": {
      "application/vnd.jupyter.widget-view+json": {
       "model_id": "5e6b014e475c4cb6b3981e4eab15459a",
       "version_major": 2,
       "version_minor": 0
      },
      "text/plain": [
       "Frame:   0%|          | 0/271 [00:00<?, ?frame/s]"
      ]
     },
     "metadata": {},
     "output_type": "display_data"
    },
    {
     "data": {
      "application/vnd.jupyter.widget-view+json": {
       "model_id": "70019941af2d489f8e156cb359c54f7a",
       "version_major": 2,
       "version_minor": 0
      },
      "text/plain": [
       "Frame:   0%|          | 0/271 [00:00<?, ?frame/s]"
      ]
     },
     "metadata": {},
     "output_type": "display_data"
    },
    {
     "data": {
      "application/vnd.jupyter.widget-view+json": {
       "model_id": "4fd500116a88472aaaf4553474aac240",
       "version_major": 2,
       "version_minor": 0
      },
      "text/plain": [
       "Frame:   0%|          | 0/271 [00:00<?, ?frame/s]"
      ]
     },
     "metadata": {},
     "output_type": "display_data"
    },
    {
     "data": {
      "application/vnd.jupyter.widget-view+json": {
       "model_id": "831e115b487542269d5a767a4513e1ab",
       "version_major": 2,
       "version_minor": 0
      },
      "text/plain": [
       "Frame:   0%|          | 0/271 [00:00<?, ?frame/s]"
      ]
     },
     "metadata": {},
     "output_type": "display_data"
    },
    {
     "data": {
      "application/vnd.jupyter.widget-view+json": {
       "model_id": "9455a6f2401943d692f37c7dee439ce1",
       "version_major": 2,
       "version_minor": 0
      },
      "text/plain": [
       "Frame:   0%|          | 0/271 [00:00<?, ?frame/s]"
      ]
     },
     "metadata": {},
     "output_type": "display_data"
    },
    {
     "data": {
      "application/vnd.jupyter.widget-view+json": {
       "model_id": "ea5c9ac4b7a746e69ccfd4bb3bff6db9",
       "version_major": 2,
       "version_minor": 0
      },
      "text/plain": [
       "Frame:   0%|          | 0/271 [00:00<?, ?frame/s]"
      ]
     },
     "metadata": {},
     "output_type": "display_data"
    },
    {
     "data": {
      "application/vnd.jupyter.widget-view+json": {
       "model_id": "996e20cacdd24f28bd1c0c671fefb87f",
       "version_major": 2,
       "version_minor": 0
      },
      "text/plain": [
       "Frame:   0%|          | 0/271 [00:00<?, ?frame/s]"
      ]
     },
     "metadata": {},
     "output_type": "display_data"
    },
    {
     "data": {
      "application/vnd.jupyter.widget-view+json": {
       "model_id": "8bb987f7a19748a6addab2e240a9d747",
       "version_major": 2,
       "version_minor": 0
      },
      "text/plain": [
       "Frame:   0%|          | 0/271 [00:00<?, ?frame/s]"
      ]
     },
     "metadata": {},
     "output_type": "display_data"
    },
    {
     "data": {
      "application/vnd.jupyter.widget-view+json": {
       "model_id": "3a8ad9cdb64645018e9c4879757a181c",
       "version_major": 2,
       "version_minor": 0
      },
      "text/plain": [
       "Frame:   0%|          | 0/271 [00:00<?, ?frame/s]"
      ]
     },
     "metadata": {},
     "output_type": "display_data"
    },
    {
     "data": {
      "application/vnd.jupyter.widget-view+json": {
       "model_id": "3674a78b70ae41dd9661f69b397565c0",
       "version_major": 2,
       "version_minor": 0
      },
      "text/plain": [
       "Frame:   0%|          | 0/271 [00:00<?, ?frame/s]"
      ]
     },
     "metadata": {},
     "output_type": "display_data"
    },
    {
     "data": {
      "application/vnd.jupyter.widget-view+json": {
       "model_id": "fc35ae430ece43aa89d1fb0e457821ff",
       "version_major": 2,
       "version_minor": 0
      },
      "text/plain": [
       "Frame:   0%|          | 0/271 [00:00<?, ?frame/s]"
      ]
     },
     "metadata": {},
     "output_type": "display_data"
    },
    {
     "data": {
      "application/vnd.jupyter.widget-view+json": {
       "model_id": "91bd2f445a254eb996479fddf1d33c4c",
       "version_major": 2,
       "version_minor": 0
      },
      "text/plain": [
       "Frame:   0%|          | 0/271 [00:00<?, ?frame/s]"
      ]
     },
     "metadata": {},
     "output_type": "display_data"
    },
    {
     "data": {
      "application/vnd.jupyter.widget-view+json": {
       "model_id": "c317da470e954fbdaf91450637307f2f",
       "version_major": 2,
       "version_minor": 0
      },
      "text/plain": [
       "Frame:   0%|          | 0/271 [00:00<?, ?frame/s]"
      ]
     },
     "metadata": {},
     "output_type": "display_data"
    },
    {
     "data": {
      "application/vnd.jupyter.widget-view+json": {
       "model_id": "0f527f14727a49c49c6d68797e7b3a58",
       "version_major": 2,
       "version_minor": 0
      },
      "text/plain": [
       "Frame:   0%|          | 0/271 [00:00<?, ?frame/s]"
      ]
     },
     "metadata": {},
     "output_type": "display_data"
    },
    {
     "data": {
      "application/vnd.jupyter.widget-view+json": {
       "model_id": "63a1f667d9ec413eac4f178f04965e28",
       "version_major": 2,
       "version_minor": 0
      },
      "text/plain": [
       "Frame:   0%|          | 0/271 [00:00<?, ?frame/s]"
      ]
     },
     "metadata": {},
     "output_type": "display_data"
    },
    {
     "data": {
      "application/vnd.jupyter.widget-view+json": {
       "model_id": "4d3f07d92ecf4171a5c1a3a7e0aa021a",
       "version_major": 2,
       "version_minor": 0
      },
      "text/plain": [
       "Frame:   0%|          | 0/271 [00:00<?, ?frame/s]"
      ]
     },
     "metadata": {},
     "output_type": "display_data"
    },
    {
     "data": {
      "application/vnd.jupyter.widget-view+json": {
       "model_id": "3191ceabac9a46729c668d0aaa2c4d79",
       "version_major": 2,
       "version_minor": 0
      },
      "text/plain": [
       "Frame:   0%|          | 0/271 [00:00<?, ?frame/s]"
      ]
     },
     "metadata": {},
     "output_type": "display_data"
    },
    {
     "data": {
      "application/vnd.jupyter.widget-view+json": {
       "model_id": "dfbfaa90a96146799520356d44c7cfad",
       "version_major": 2,
       "version_minor": 0
      },
      "text/plain": [
       "Frame:   0%|          | 0/271 [00:00<?, ?frame/s]"
      ]
     },
     "metadata": {},
     "output_type": "display_data"
    },
    {
     "data": {
      "application/vnd.jupyter.widget-view+json": {
       "model_id": "ab9ae0ed2ca24ebd9bb343e45178f859",
       "version_major": 2,
       "version_minor": 0
      },
      "text/plain": [
       "Frame:   0%|          | 0/271 [00:00<?, ?frame/s]"
      ]
     },
     "metadata": {},
     "output_type": "display_data"
    },
    {
     "data": {
      "application/vnd.jupyter.widget-view+json": {
       "model_id": "b21480485c61430f8327c548950f513a",
       "version_major": 2,
       "version_minor": 0
      },
      "text/plain": [
       "Frame:   0%|          | 0/271 [00:00<?, ?frame/s]"
      ]
     },
     "metadata": {},
     "output_type": "display_data"
    },
    {
     "data": {
      "application/vnd.jupyter.widget-view+json": {
       "model_id": "9a784fee9e7149fcbdfa6db18e069f53",
       "version_major": 2,
       "version_minor": 0
      },
      "text/plain": [
       "Frame:   0%|          | 0/271 [00:00<?, ?frame/s]"
      ]
     },
     "metadata": {},
     "output_type": "display_data"
    },
    {
     "data": {
      "application/vnd.jupyter.widget-view+json": {
       "model_id": "ee35b24be3da4e2ba10bececbe7198e9",
       "version_major": 2,
       "version_minor": 0
      },
      "text/plain": [
       "Frame:   0%|          | 0/271 [00:00<?, ?frame/s]"
      ]
     },
     "metadata": {},
     "output_type": "display_data"
    },
    {
     "data": {
      "application/vnd.jupyter.widget-view+json": {
       "model_id": "e2ceab4dc4c94a2c85d883e1a46afb1c",
       "version_major": 2,
       "version_minor": 0
      },
      "text/plain": [
       "Frame:   0%|          | 0/271 [00:00<?, ?frame/s]"
      ]
     },
     "metadata": {},
     "output_type": "display_data"
    },
    {
     "data": {
      "application/vnd.jupyter.widget-view+json": {
       "model_id": "8df1a757d27f4a538d9e7afa76c77301",
       "version_major": 2,
       "version_minor": 0
      },
      "text/plain": [
       "Frame:   0%|          | 0/271 [00:00<?, ?frame/s]"
      ]
     },
     "metadata": {},
     "output_type": "display_data"
    },
    {
     "data": {
      "application/vnd.jupyter.widget-view+json": {
       "model_id": "fbc3faaae75d449b8aef0c03f4a968cf",
       "version_major": 2,
       "version_minor": 0
      },
      "text/plain": [
       "Frame:   0%|          | 0/271 [00:00<?, ?frame/s]"
      ]
     },
     "metadata": {},
     "output_type": "display_data"
    },
    {
     "data": {
      "application/vnd.jupyter.widget-view+json": {
       "model_id": "e9b8498b056a4fb29f06ff448c84006b",
       "version_major": 2,
       "version_minor": 0
      },
      "text/plain": [
       "Frame:   0%|          | 0/271 [00:00<?, ?frame/s]"
      ]
     },
     "metadata": {},
     "output_type": "display_data"
    },
    {
     "data": {
      "application/vnd.jupyter.widget-view+json": {
       "model_id": "572474df22cc4517adf548cbf6975141",
       "version_major": 2,
       "version_minor": 0
      },
      "text/plain": [
       "Frame:   0%|          | 0/271 [00:00<?, ?frame/s]"
      ]
     },
     "metadata": {},
     "output_type": "display_data"
    },
    {
     "data": {
      "application/vnd.jupyter.widget-view+json": {
       "model_id": "e873ef04ffa7420c81afba16e6e4bcbd",
       "version_major": 2,
       "version_minor": 0
      },
      "text/plain": [
       "Frame:   0%|          | 0/271 [00:00<?, ?frame/s]"
      ]
     },
     "metadata": {},
     "output_type": "display_data"
    },
    {
     "data": {
      "application/vnd.jupyter.widget-view+json": {
       "model_id": "a044f3669a734b479ebcedb0db00b148",
       "version_major": 2,
       "version_minor": 0
      },
      "text/plain": [
       "Frame:   0%|          | 0/271 [00:00<?, ?frame/s]"
      ]
     },
     "metadata": {},
     "output_type": "display_data"
    },
    {
     "data": {
      "application/vnd.jupyter.widget-view+json": {
       "model_id": "4cb2fb7171c04455a4832378aa8b8a50",
       "version_major": 2,
       "version_minor": 0
      },
      "text/plain": [
       "Frame:   0%|          | 0/271 [00:00<?, ?frame/s]"
      ]
     },
     "metadata": {},
     "output_type": "display_data"
    },
    {
     "data": {
      "application/vnd.jupyter.widget-view+json": {
       "model_id": "d0399de4899948a6b0026deed6068cf4",
       "version_major": 2,
       "version_minor": 0
      },
      "text/plain": [
       "Frame:   0%|          | 0/271 [00:00<?, ?frame/s]"
      ]
     },
     "metadata": {},
     "output_type": "display_data"
    },
    {
     "data": {
      "application/vnd.jupyter.widget-view+json": {
       "model_id": "e8ff69d3f7df4ff59004269906492c31",
       "version_major": 2,
       "version_minor": 0
      },
      "text/plain": [
       "Frame:   0%|          | 0/271 [00:00<?, ?frame/s]"
      ]
     },
     "metadata": {},
     "output_type": "display_data"
    },
    {
     "data": {
      "application/vnd.jupyter.widget-view+json": {
       "model_id": "8d0c322fadc24a7bb891558bf438780d",
       "version_major": 2,
       "version_minor": 0
      },
      "text/plain": [
       "Frame:   0%|          | 0/271 [00:00<?, ?frame/s]"
      ]
     },
     "metadata": {},
     "output_type": "display_data"
    },
    {
     "data": {
      "application/vnd.jupyter.widget-view+json": {
       "model_id": "461165d402d94fdfa8a7f948e1f37796",
       "version_major": 2,
       "version_minor": 0
      },
      "text/plain": [
       "Frame:   0%|          | 0/271 [00:00<?, ?frame/s]"
      ]
     },
     "metadata": {},
     "output_type": "display_data"
    },
    {
     "data": {
      "application/vnd.jupyter.widget-view+json": {
       "model_id": "b0d6eedd1ed544e9ad23d32fe1429c68",
       "version_major": 2,
       "version_minor": 0
      },
      "text/plain": [
       "Frame:   0%|          | 0/271 [00:00<?, ?frame/s]"
      ]
     },
     "metadata": {},
     "output_type": "display_data"
    },
    {
     "data": {
      "application/vnd.jupyter.widget-view+json": {
       "model_id": "3f5efcb0eb3844878fec12a0fda12be0",
       "version_major": 2,
       "version_minor": 0
      },
      "text/plain": [
       "Frame:   0%|          | 0/271 [00:00<?, ?frame/s]"
      ]
     },
     "metadata": {},
     "output_type": "display_data"
    },
    {
     "data": {
      "application/vnd.jupyter.widget-view+json": {
       "model_id": "2da68ab7239a4fa680e73fa79d314331",
       "version_major": 2,
       "version_minor": 0
      },
      "text/plain": [
       "Frame:   0%|          | 0/271 [00:00<?, ?frame/s]"
      ]
     },
     "metadata": {},
     "output_type": "display_data"
    },
    {
     "data": {
      "application/vnd.jupyter.widget-view+json": {
       "model_id": "ab561f9b4c8b4d9a92364e8fdde19afe",
       "version_major": 2,
       "version_minor": 0
      },
      "text/plain": [
       "Frame:   0%|          | 0/271 [00:00<?, ?frame/s]"
      ]
     },
     "metadata": {},
     "output_type": "display_data"
    },
    {
     "data": {
      "application/vnd.jupyter.widget-view+json": {
       "model_id": "696bedb10a9a4363aeda39908f5d7fc5",
       "version_major": 2,
       "version_minor": 0
      },
      "text/plain": [
       "Frame:   0%|          | 0/271 [00:00<?, ?frame/s]"
      ]
     },
     "metadata": {},
     "output_type": "display_data"
    },
    {
     "data": {
      "application/vnd.jupyter.widget-view+json": {
       "model_id": "c479fdcabeb04b269bc20b7ce1a8a57e",
       "version_major": 2,
       "version_minor": 0
      },
      "text/plain": [
       "Frame:   0%|          | 0/271 [00:00<?, ?frame/s]"
      ]
     },
     "metadata": {},
     "output_type": "display_data"
    },
    {
     "data": {
      "application/vnd.jupyter.widget-view+json": {
       "model_id": "16ae4d910c6844fdac1b7bfb47b75754",
       "version_major": 2,
       "version_minor": 0
      },
      "text/plain": [
       "Frame:   0%|          | 0/271 [00:00<?, ?frame/s]"
      ]
     },
     "metadata": {},
     "output_type": "display_data"
    },
    {
     "data": {
      "application/vnd.jupyter.widget-view+json": {
       "model_id": "8c22d084719f4221ba2daf2ba5d0d623",
       "version_major": 2,
       "version_minor": 0
      },
      "text/plain": [
       "Frame:   0%|          | 0/271 [00:00<?, ?frame/s]"
      ]
     },
     "metadata": {},
     "output_type": "display_data"
    },
    {
     "data": {
      "application/vnd.jupyter.widget-view+json": {
       "model_id": "3fa2c69062404216998ca5e37138823f",
       "version_major": 2,
       "version_minor": 0
      },
      "text/plain": [
       "Frame:   0%|          | 0/271 [00:00<?, ?frame/s]"
      ]
     },
     "metadata": {},
     "output_type": "display_data"
    },
    {
     "data": {
      "application/vnd.jupyter.widget-view+json": {
       "model_id": "6aebe01e9d4f43dea2f80c6e3e0f62f0",
       "version_major": 2,
       "version_minor": 0
      },
      "text/plain": [
       "Frame:   0%|          | 0/271 [00:00<?, ?frame/s]"
      ]
     },
     "metadata": {},
     "output_type": "display_data"
    },
    {
     "data": {
      "application/vnd.jupyter.widget-view+json": {
       "model_id": "bb0a160c5e8b49e68f813d93636dec3c",
       "version_major": 2,
       "version_minor": 0
      },
      "text/plain": [
       "Frame:   0%|          | 0/271 [00:00<?, ?frame/s]"
      ]
     },
     "metadata": {},
     "output_type": "display_data"
    },
    {
     "data": {
      "application/vnd.jupyter.widget-view+json": {
       "model_id": "955576bcc67c41af9ff640c387ad3e2c",
       "version_major": 2,
       "version_minor": 0
      },
      "text/plain": [
       "Frame:   0%|          | 0/271 [00:00<?, ?frame/s]"
      ]
     },
     "metadata": {},
     "output_type": "display_data"
    },
    {
     "data": {
      "application/vnd.jupyter.widget-view+json": {
       "model_id": "a72b319ebc9741a4beff5074c36c8c16",
       "version_major": 2,
       "version_minor": 0
      },
      "text/plain": [
       "Frame:   0%|          | 0/271 [00:00<?, ?frame/s]"
      ]
     },
     "metadata": {},
     "output_type": "display_data"
    },
    {
     "data": {
      "application/vnd.jupyter.widget-view+json": {
       "model_id": "0b40e21d115a47209be6e13ab84b4238",
       "version_major": 2,
       "version_minor": 0
      },
      "text/plain": [
       "Frame:   0%|          | 0/271 [00:00<?, ?frame/s]"
      ]
     },
     "metadata": {},
     "output_type": "display_data"
    },
    {
     "data": {
      "application/vnd.jupyter.widget-view+json": {
       "model_id": "4a354964b40746e5828154de0aa94a03",
       "version_major": 2,
       "version_minor": 0
      },
      "text/plain": [
       "Frame:   0%|          | 0/271 [00:00<?, ?frame/s]"
      ]
     },
     "metadata": {},
     "output_type": "display_data"
    },
    {
     "data": {
      "application/vnd.jupyter.widget-view+json": {
       "model_id": "ce6a793d9fb045ad95bceb4d1087129d",
       "version_major": 2,
       "version_minor": 0
      },
      "text/plain": [
       "Frame:   0%|          | 0/271 [00:00<?, ?frame/s]"
      ]
     },
     "metadata": {},
     "output_type": "display_data"
    },
    {
     "data": {
      "application/vnd.jupyter.widget-view+json": {
       "model_id": "8754ed265f774ec28d0f26d1369ec397",
       "version_major": 2,
       "version_minor": 0
      },
      "text/plain": [
       "Frame:   0%|          | 0/271 [00:00<?, ?frame/s]"
      ]
     },
     "metadata": {},
     "output_type": "display_data"
    },
    {
     "data": {
      "application/vnd.jupyter.widget-view+json": {
       "model_id": "05bb0d2bd3e24cc49bf1538a3c7f0826",
       "version_major": 2,
       "version_minor": 0
      },
      "text/plain": [
       "Frame:   0%|          | 0/271 [00:00<?, ?frame/s]"
      ]
     },
     "metadata": {},
     "output_type": "display_data"
    },
    {
     "data": {
      "application/vnd.jupyter.widget-view+json": {
       "model_id": "2a54a09eeecc40c09898dc1f8ed14a52",
       "version_major": 2,
       "version_minor": 0
      },
      "text/plain": [
       "Frame:   0%|          | 0/271 [00:00<?, ?frame/s]"
      ]
     },
     "metadata": {},
     "output_type": "display_data"
    },
    {
     "data": {
      "application/vnd.jupyter.widget-view+json": {
       "model_id": "598d7b0ce01c4f6791bb0c20833805c7",
       "version_major": 2,
       "version_minor": 0
      },
      "text/plain": [
       "Frame:   0%|          | 0/271 [00:00<?, ?frame/s]"
      ]
     },
     "metadata": {},
     "output_type": "display_data"
    },
    {
     "data": {
      "application/vnd.jupyter.widget-view+json": {
       "model_id": "84abc2b3b83640e0881803d79263587d",
       "version_major": 2,
       "version_minor": 0
      },
      "text/plain": [
       "Frame:   0%|          | 0/271 [00:00<?, ?frame/s]"
      ]
     },
     "metadata": {},
     "output_type": "display_data"
    },
    {
     "data": {
      "application/vnd.jupyter.widget-view+json": {
       "model_id": "f767d2892afe4d06a9afb4172c72a8a4",
       "version_major": 2,
       "version_minor": 0
      },
      "text/plain": [
       "Frame:   0%|          | 0/271 [00:00<?, ?frame/s]"
      ]
     },
     "metadata": {},
     "output_type": "display_data"
    },
    {
     "data": {
      "application/vnd.jupyter.widget-view+json": {
       "model_id": "f0bca19b4650423eb5fd89b1389ec60f",
       "version_major": 2,
       "version_minor": 0
      },
      "text/plain": [
       "Frame:   0%|          | 0/271 [00:00<?, ?frame/s]"
      ]
     },
     "metadata": {},
     "output_type": "display_data"
    },
    {
     "data": {
      "application/vnd.jupyter.widget-view+json": {
       "model_id": "517e6c596f8746638abbfc0705aba9f0",
       "version_major": 2,
       "version_minor": 0
      },
      "text/plain": [
       "Frame:   0%|          | 0/271 [00:00<?, ?frame/s]"
      ]
     },
     "metadata": {},
     "output_type": "display_data"
    },
    {
     "data": {
      "application/vnd.jupyter.widget-view+json": {
       "model_id": "ce07b96ff8c845bea90b60d5d2ee91e3",
       "version_major": 2,
       "version_minor": 0
      },
      "text/plain": [
       "Frame:   0%|          | 0/271 [00:00<?, ?frame/s]"
      ]
     },
     "metadata": {},
     "output_type": "display_data"
    },
    {
     "data": {
      "application/vnd.jupyter.widget-view+json": {
       "model_id": "f0d71f5ef31649b6a6b3be2e2c090391",
       "version_major": 2,
       "version_minor": 0
      },
      "text/plain": [
       "Frame:   0%|          | 0/271 [00:00<?, ?frame/s]"
      ]
     },
     "metadata": {},
     "output_type": "display_data"
    },
    {
     "data": {
      "application/vnd.jupyter.widget-view+json": {
       "model_id": "c76e6577684a4e2eafc6f4d3093b0d08",
       "version_major": 2,
       "version_minor": 0
      },
      "text/plain": [
       "Frame:   0%|          | 0/271 [00:00<?, ?frame/s]"
      ]
     },
     "metadata": {},
     "output_type": "display_data"
    },
    {
     "data": {
      "application/vnd.jupyter.widget-view+json": {
       "model_id": "63c2110ba229459aa3494b195135546c",
       "version_major": 2,
       "version_minor": 0
      },
      "text/plain": [
       "Frame:   0%|          | 0/271 [00:00<?, ?frame/s]"
      ]
     },
     "metadata": {},
     "output_type": "display_data"
    },
    {
     "data": {
      "application/vnd.jupyter.widget-view+json": {
       "model_id": "5e013b3a248f4043b166fd49aa270593",
       "version_major": 2,
       "version_minor": 0
      },
      "text/plain": [
       "Frame:   0%|          | 0/271 [00:00<?, ?frame/s]"
      ]
     },
     "metadata": {},
     "output_type": "display_data"
    },
    {
     "data": {
      "application/vnd.jupyter.widget-view+json": {
       "model_id": "442b1d04eb1d4bfeb4a9bae56d91ddac",
       "version_major": 2,
       "version_minor": 0
      },
      "text/plain": [
       "Frame:   0%|          | 0/271 [00:00<?, ?frame/s]"
      ]
     },
     "metadata": {},
     "output_type": "display_data"
    },
    {
     "data": {
      "application/vnd.jupyter.widget-view+json": {
       "model_id": "54db1060a136412ea625fa2c0ad7efa5",
       "version_major": 2,
       "version_minor": 0
      },
      "text/plain": [
       "Frame:   0%|          | 0/271 [00:00<?, ?frame/s]"
      ]
     },
     "metadata": {},
     "output_type": "display_data"
    },
    {
     "data": {
      "application/vnd.jupyter.widget-view+json": {
       "model_id": "b961db1976d44b179ab5eb4efaf74b5e",
       "version_major": 2,
       "version_minor": 0
      },
      "text/plain": [
       "Frame:   0%|          | 0/271 [00:00<?, ?frame/s]"
      ]
     },
     "metadata": {},
     "output_type": "display_data"
    },
    {
     "data": {
      "application/vnd.jupyter.widget-view+json": {
       "model_id": "d435ddab2bb64134bc0c393861a3a1f3",
       "version_major": 2,
       "version_minor": 0
      },
      "text/plain": [
       "Frame:   0%|          | 0/271 [00:00<?, ?frame/s]"
      ]
     },
     "metadata": {},
     "output_type": "display_data"
    },
    {
     "data": {
      "application/vnd.jupyter.widget-view+json": {
       "model_id": "baac7e6529b34f0ba7e6f9364a3975da",
       "version_major": 2,
       "version_minor": 0
      },
      "text/plain": [
       "Frame:   0%|          | 0/271 [00:00<?, ?frame/s]"
      ]
     },
     "metadata": {},
     "output_type": "display_data"
    },
    {
     "data": {
      "application/vnd.jupyter.widget-view+json": {
       "model_id": "35e2c241a59c4bd680f099e54213239c",
       "version_major": 2,
       "version_minor": 0
      },
      "text/plain": [
       "Frame:   0%|          | 0/271 [00:00<?, ?frame/s]"
      ]
     },
     "metadata": {},
     "output_type": "display_data"
    },
    {
     "data": {
      "application/vnd.jupyter.widget-view+json": {
       "model_id": "e384c8a30393465d861162fc1f7610af",
       "version_major": 2,
       "version_minor": 0
      },
      "text/plain": [
       "Frame:   0%|          | 0/271 [00:00<?, ?frame/s]"
      ]
     },
     "metadata": {},
     "output_type": "display_data"
    },
    {
     "data": {
      "application/vnd.jupyter.widget-view+json": {
       "model_id": "f69ed7b50e974fd3899b44f0875d729b",
       "version_major": 2,
       "version_minor": 0
      },
      "text/plain": [
       "Frame:   0%|          | 0/271 [00:00<?, ?frame/s]"
      ]
     },
     "metadata": {},
     "output_type": "display_data"
    },
    {
     "data": {
      "application/vnd.jupyter.widget-view+json": {
       "model_id": "fe08bd68329948f3b3209b238919f45a",
       "version_major": 2,
       "version_minor": 0
      },
      "text/plain": [
       "Frame:   0%|          | 0/271 [00:00<?, ?frame/s]"
      ]
     },
     "metadata": {},
     "output_type": "display_data"
    },
    {
     "data": {
      "application/vnd.jupyter.widget-view+json": {
       "model_id": "a354c051e87e4521a4f33a0f59c98ada",
       "version_major": 2,
       "version_minor": 0
      },
      "text/plain": [
       "Frame:   0%|          | 0/271 [00:00<?, ?frame/s]"
      ]
     },
     "metadata": {},
     "output_type": "display_data"
    },
    {
     "data": {
      "application/vnd.jupyter.widget-view+json": {
       "model_id": "b8387035c6744d04b539ccc0c5443a25",
       "version_major": 2,
       "version_minor": 0
      },
      "text/plain": [
       "Frame:   0%|          | 0/271 [00:00<?, ?frame/s]"
      ]
     },
     "metadata": {},
     "output_type": "display_data"
    },
    {
     "data": {
      "application/vnd.jupyter.widget-view+json": {
       "model_id": "5c8070568ff14cf6833af94647112242",
       "version_major": 2,
       "version_minor": 0
      },
      "text/plain": [
       "Frame:   0%|          | 0/271 [00:00<?, ?frame/s]"
      ]
     },
     "metadata": {},
     "output_type": "display_data"
    },
    {
     "data": {
      "application/vnd.jupyter.widget-view+json": {
       "model_id": "3b0883f1298741adae6485bb8a122f73",
       "version_major": 2,
       "version_minor": 0
      },
      "text/plain": [
       "Frame:   0%|          | 0/271 [00:00<?, ?frame/s]"
      ]
     },
     "metadata": {},
     "output_type": "display_data"
    },
    {
     "data": {
      "application/vnd.jupyter.widget-view+json": {
       "model_id": "ac21d05f41ae4db9a70826a4f394d75a",
       "version_major": 2,
       "version_minor": 0
      },
      "text/plain": [
       "Frame:   0%|          | 0/271 [00:00<?, ?frame/s]"
      ]
     },
     "metadata": {},
     "output_type": "display_data"
    },
    {
     "data": {
      "application/vnd.jupyter.widget-view+json": {
       "model_id": "92941d06a1f04e1e965a2d7b20dfbc62",
       "version_major": 2,
       "version_minor": 0
      },
      "text/plain": [
       "Frame:   0%|          | 0/271 [00:00<?, ?frame/s]"
      ]
     },
     "metadata": {},
     "output_type": "display_data"
    },
    {
     "data": {
      "application/vnd.jupyter.widget-view+json": {
       "model_id": "cb0f84e5b52a4512aa9a3a1a3487eaaf",
       "version_major": 2,
       "version_minor": 0
      },
      "text/plain": [
       "Frame:   0%|          | 0/271 [00:00<?, ?frame/s]"
      ]
     },
     "metadata": {},
     "output_type": "display_data"
    },
    {
     "data": {
      "application/vnd.jupyter.widget-view+json": {
       "model_id": "d660802662524dc28c5f4082335ff3df",
       "version_major": 2,
       "version_minor": 0
      },
      "text/plain": [
       "Frame:   0%|          | 0/271 [00:00<?, ?frame/s]"
      ]
     },
     "metadata": {},
     "output_type": "display_data"
    },
    {
     "data": {
      "application/vnd.jupyter.widget-view+json": {
       "model_id": "ec51329471c34718b6c63d825f2bb7cd",
       "version_major": 2,
       "version_minor": 0
      },
      "text/plain": [
       "Frame:   0%|          | 0/271 [00:00<?, ?frame/s]"
      ]
     },
     "metadata": {},
     "output_type": "display_data"
    },
    {
     "data": {
      "application/vnd.jupyter.widget-view+json": {
       "model_id": "09e37b32e83c4350ac0eb3d7eeb720dc",
       "version_major": 2,
       "version_minor": 0
      },
      "text/plain": [
       "Frame:   0%|          | 0/271 [00:00<?, ?frame/s]"
      ]
     },
     "metadata": {},
     "output_type": "display_data"
    },
    {
     "data": {
      "application/vnd.jupyter.widget-view+json": {
       "model_id": "027dd93559544faeb0389f25c5fb594a",
       "version_major": 2,
       "version_minor": 0
      },
      "text/plain": [
       "Frame:   0%|          | 0/271 [00:00<?, ?frame/s]"
      ]
     },
     "metadata": {},
     "output_type": "display_data"
    },
    {
     "data": {
      "application/vnd.jupyter.widget-view+json": {
       "model_id": "4acc91a73d794a65a28367b79c41e5d0",
       "version_major": 2,
       "version_minor": 0
      },
      "text/plain": [
       "Frame:   0%|          | 0/271 [00:00<?, ?frame/s]"
      ]
     },
     "metadata": {},
     "output_type": "display_data"
    },
    {
     "data": {
      "application/vnd.jupyter.widget-view+json": {
       "model_id": "87fc4fef267b4763af110dc8bae9d83f",
       "version_major": 2,
       "version_minor": 0
      },
      "text/plain": [
       "Frame:   0%|          | 0/271 [00:00<?, ?frame/s]"
      ]
     },
     "metadata": {},
     "output_type": "display_data"
    },
    {
     "data": {
      "application/vnd.jupyter.widget-view+json": {
       "model_id": "1556af47079d48a3aff1517c5f84d9e0",
       "version_major": 2,
       "version_minor": 0
      },
      "text/plain": [
       "Frame:   0%|          | 0/271 [00:00<?, ?frame/s]"
      ]
     },
     "metadata": {},
     "output_type": "display_data"
    },
    {
     "data": {
      "application/vnd.jupyter.widget-view+json": {
       "model_id": "dcdb78271125442794c79d23747520f0",
       "version_major": 2,
       "version_minor": 0
      },
      "text/plain": [
       "Frame:   0%|          | 0/271 [00:00<?, ?frame/s]"
      ]
     },
     "metadata": {},
     "output_type": "display_data"
    },
    {
     "data": {
      "application/vnd.jupyter.widget-view+json": {
       "model_id": "44dc4792f2fe405d96d4cc468f0411d7",
       "version_major": 2,
       "version_minor": 0
      },
      "text/plain": [
       "Frame:   0%|          | 0/271 [00:00<?, ?frame/s]"
      ]
     },
     "metadata": {},
     "output_type": "display_data"
    },
    {
     "data": {
      "application/vnd.jupyter.widget-view+json": {
       "model_id": "69df6e145dd74075ae5b4f26dcd2e8be",
       "version_major": 2,
       "version_minor": 0
      },
      "text/plain": [
       "Frame:   0%|          | 0/271 [00:00<?, ?frame/s]"
      ]
     },
     "metadata": {},
     "output_type": "display_data"
    },
    {
     "data": {
      "application/vnd.jupyter.widget-view+json": {
       "model_id": "0b1ebcda64a44024aa3ca9851aba71ab",
       "version_major": 2,
       "version_minor": 0
      },
      "text/plain": [
       "Frame:   0%|          | 0/271 [00:00<?, ?frame/s]"
      ]
     },
     "metadata": {},
     "output_type": "display_data"
    },
    {
     "data": {
      "application/vnd.jupyter.widget-view+json": {
       "model_id": "4905df5ab40746aea5d3db9e68fc4b3f",
       "version_major": 2,
       "version_minor": 0
      },
      "text/plain": [
       "Frame:   0%|          | 0/271 [00:00<?, ?frame/s]"
      ]
     },
     "metadata": {},
     "output_type": "display_data"
    },
    {
     "data": {
      "application/vnd.jupyter.widget-view+json": {
       "model_id": "1a61da70173e4b129d2914540fbe5f7e",
       "version_major": 2,
       "version_minor": 0
      },
      "text/plain": [
       "Frame:   0%|          | 0/271 [00:00<?, ?frame/s]"
      ]
     },
     "metadata": {},
     "output_type": "display_data"
    },
    {
     "data": {
      "application/vnd.jupyter.widget-view+json": {
       "model_id": "4166393f7df249b5bc7c7e0fc14e917e",
       "version_major": 2,
       "version_minor": 0
      },
      "text/plain": [
       "Frame:   0%|          | 0/271 [00:00<?, ?frame/s]"
      ]
     },
     "metadata": {},
     "output_type": "display_data"
    },
    {
     "data": {
      "application/vnd.jupyter.widget-view+json": {
       "model_id": "6c5e3c01ae794eb9bd9461fe9b6a6f6f",
       "version_major": 2,
       "version_minor": 0
      },
      "text/plain": [
       "Frame:   0%|          | 0/271 [00:00<?, ?frame/s]"
      ]
     },
     "metadata": {},
     "output_type": "display_data"
    },
    {
     "data": {
      "application/vnd.jupyter.widget-view+json": {
       "model_id": "5d96e96f3eaa4952935646f91fd50ef1",
       "version_major": 2,
       "version_minor": 0
      },
      "text/plain": [
       "Frame:   0%|          | 0/271 [00:00<?, ?frame/s]"
      ]
     },
     "metadata": {},
     "output_type": "display_data"
    },
    {
     "data": {
      "application/vnd.jupyter.widget-view+json": {
       "model_id": "fb4d478c0e9a4364a891abacd7ddf404",
       "version_major": 2,
       "version_minor": 0
      },
      "text/plain": [
       "Frame:   0%|          | 0/271 [00:00<?, ?frame/s]"
      ]
     },
     "metadata": {},
     "output_type": "display_data"
    },
    {
     "data": {
      "application/vnd.jupyter.widget-view+json": {
       "model_id": "69eacf15c1854130896575e92118488e",
       "version_major": 2,
       "version_minor": 0
      },
      "text/plain": [
       "Frame:   0%|          | 0/271 [00:00<?, ?frame/s]"
      ]
     },
     "metadata": {},
     "output_type": "display_data"
    },
    {
     "data": {
      "application/vnd.jupyter.widget-view+json": {
       "model_id": "3f5f0cac2b0c4212888103d4dbb9057e",
       "version_major": 2,
       "version_minor": 0
      },
      "text/plain": [
       "Frame:   0%|          | 0/271 [00:00<?, ?frame/s]"
      ]
     },
     "metadata": {},
     "output_type": "display_data"
    },
    {
     "data": {
      "application/vnd.jupyter.widget-view+json": {
       "model_id": "59e75417d0b14a45abdd7a30b3788355",
       "version_major": 2,
       "version_minor": 0
      },
      "text/plain": [
       "Frame:   0%|          | 0/271 [00:00<?, ?frame/s]"
      ]
     },
     "metadata": {},
     "output_type": "display_data"
    },
    {
     "data": {
      "application/vnd.jupyter.widget-view+json": {
       "model_id": "4aec118579674759af0b35e04ee115a9",
       "version_major": 2,
       "version_minor": 0
      },
      "text/plain": [
       "Frame:   0%|          | 0/271 [00:00<?, ?frame/s]"
      ]
     },
     "metadata": {},
     "output_type": "display_data"
    },
    {
     "data": {
      "application/vnd.jupyter.widget-view+json": {
       "model_id": "38dd4d7310cd4f809be768f51260fad8",
       "version_major": 2,
       "version_minor": 0
      },
      "text/plain": [
       "Frame:   0%|          | 0/271 [00:00<?, ?frame/s]"
      ]
     },
     "metadata": {},
     "output_type": "display_data"
    },
    {
     "data": {
      "application/vnd.jupyter.widget-view+json": {
       "model_id": "39a0ceaa6a564910bbf799d7b7369246",
       "version_major": 2,
       "version_minor": 0
      },
      "text/plain": [
       "Frame:   0%|          | 0/271 [00:00<?, ?frame/s]"
      ]
     },
     "metadata": {},
     "output_type": "display_data"
    },
    {
     "data": {
      "application/vnd.jupyter.widget-view+json": {
       "model_id": "e5ace877d8e543cc86421df5c10479ad",
       "version_major": 2,
       "version_minor": 0
      },
      "text/plain": [
       "Frame:   0%|          | 0/271 [00:00<?, ?frame/s]"
      ]
     },
     "metadata": {},
     "output_type": "display_data"
    },
    {
     "data": {
      "application/vnd.jupyter.widget-view+json": {
       "model_id": "01bab430eee944869fa3e82a56e8ed7d",
       "version_major": 2,
       "version_minor": 0
      },
      "text/plain": [
       "Frame:   0%|          | 0/271 [00:00<?, ?frame/s]"
      ]
     },
     "metadata": {},
     "output_type": "display_data"
    },
    {
     "data": {
      "application/vnd.jupyter.widget-view+json": {
       "model_id": "2c29f4d217bf406ca5cefe7f168ec4f7",
       "version_major": 2,
       "version_minor": 0
      },
      "text/plain": [
       "Frame:   0%|          | 0/271 [00:00<?, ?frame/s]"
      ]
     },
     "metadata": {},
     "output_type": "display_data"
    },
    {
     "data": {
      "application/vnd.jupyter.widget-view+json": {
       "model_id": "cca6b8617d884bb99e044c145f716fec",
       "version_major": 2,
       "version_minor": 0
      },
      "text/plain": [
       "Frame:   0%|          | 0/271 [00:00<?, ?frame/s]"
      ]
     },
     "metadata": {},
     "output_type": "display_data"
    },
    {
     "data": {
      "application/vnd.jupyter.widget-view+json": {
       "model_id": "3fffd4021a754896aa96612d918fb561",
       "version_major": 2,
       "version_minor": 0
      },
      "text/plain": [
       "Frame:   0%|          | 0/271 [00:00<?, ?frame/s]"
      ]
     },
     "metadata": {},
     "output_type": "display_data"
    },
    {
     "data": {
      "application/vnd.jupyter.widget-view+json": {
       "model_id": "359e3e10f38940a7bb4c77aa6e3fbf95",
       "version_major": 2,
       "version_minor": 0
      },
      "text/plain": [
       "Frame:   0%|          | 0/271 [00:00<?, ?frame/s]"
      ]
     },
     "metadata": {},
     "output_type": "display_data"
    },
    {
     "data": {
      "application/vnd.jupyter.widget-view+json": {
       "model_id": "db259579c9e54c8d94f83d9112326462",
       "version_major": 2,
       "version_minor": 0
      },
      "text/plain": [
       "Frame:   0%|          | 0/271 [00:00<?, ?frame/s]"
      ]
     },
     "metadata": {},
     "output_type": "display_data"
    },
    {
     "data": {
      "application/vnd.jupyter.widget-view+json": {
       "model_id": "bb22bf2d164340ff9c74291056191300",
       "version_major": 2,
       "version_minor": 0
      },
      "text/plain": [
       "Frame:   0%|          | 0/271 [00:00<?, ?frame/s]"
      ]
     },
     "metadata": {},
     "output_type": "display_data"
    },
    {
     "data": {
      "application/vnd.jupyter.widget-view+json": {
       "model_id": "a276c7221d6d4da79de9f65d7d5391e7",
       "version_major": 2,
       "version_minor": 0
      },
      "text/plain": [
       "Frame:   0%|          | 0/271 [00:00<?, ?frame/s]"
      ]
     },
     "metadata": {},
     "output_type": "display_data"
    },
    {
     "data": {
      "application/vnd.jupyter.widget-view+json": {
       "model_id": "228024f224fd410b86d6ab44bedeb37c",
       "version_major": 2,
       "version_minor": 0
      },
      "text/plain": [
       "Frame:   0%|          | 0/271 [00:00<?, ?frame/s]"
      ]
     },
     "metadata": {},
     "output_type": "display_data"
    },
    {
     "data": {
      "application/vnd.jupyter.widget-view+json": {
       "model_id": "181671a80c47405e9fceb68ef26b6842",
       "version_major": 2,
       "version_minor": 0
      },
      "text/plain": [
       "Frame:   0%|          | 0/271 [00:00<?, ?frame/s]"
      ]
     },
     "metadata": {},
     "output_type": "display_data"
    },
    {
     "data": {
      "application/vnd.jupyter.widget-view+json": {
       "model_id": "8992e12decca4f9daf8291170a49a4c9",
       "version_major": 2,
       "version_minor": 0
      },
      "text/plain": [
       "Frame:   0%|          | 0/271 [00:00<?, ?frame/s]"
      ]
     },
     "metadata": {},
     "output_type": "display_data"
    },
    {
     "data": {
      "application/vnd.jupyter.widget-view+json": {
       "model_id": "d8b12eae705f4a759ddec0a5ac6bd27c",
       "version_major": 2,
       "version_minor": 0
      },
      "text/plain": [
       "Frame:   0%|          | 0/271 [00:00<?, ?frame/s]"
      ]
     },
     "metadata": {},
     "output_type": "display_data"
    },
    {
     "data": {
      "application/vnd.jupyter.widget-view+json": {
       "model_id": "f9e7e234989f40be8f19be55d2b27018",
       "version_major": 2,
       "version_minor": 0
      },
      "text/plain": [
       "Frame:   0%|          | 0/271 [00:00<?, ?frame/s]"
      ]
     },
     "metadata": {},
     "output_type": "display_data"
    },
    {
     "data": {
      "application/vnd.jupyter.widget-view+json": {
       "model_id": "6c7a42db076a41f299eb27f43a07e3a2",
       "version_major": 2,
       "version_minor": 0
      },
      "text/plain": [
       "Frame:   0%|          | 0/271 [00:00<?, ?frame/s]"
      ]
     },
     "metadata": {},
     "output_type": "display_data"
    },
    {
     "data": {
      "application/vnd.jupyter.widget-view+json": {
       "model_id": "120a995efebb4233ad135f7508ac32ef",
       "version_major": 2,
       "version_minor": 0
      },
      "text/plain": [
       "Frame:   0%|          | 0/271 [00:00<?, ?frame/s]"
      ]
     },
     "metadata": {},
     "output_type": "display_data"
    },
    {
     "data": {
      "application/vnd.jupyter.widget-view+json": {
       "model_id": "531f1792439b41c5b85267998acf8624",
       "version_major": 2,
       "version_minor": 0
      },
      "text/plain": [
       "Frame:   0%|          | 0/271 [00:00<?, ?frame/s]"
      ]
     },
     "metadata": {},
     "output_type": "display_data"
    },
    {
     "data": {
      "application/vnd.jupyter.widget-view+json": {
       "model_id": "6a3d64ccfe0e4704843b02b3c959e966",
       "version_major": 2,
       "version_minor": 0
      },
      "text/plain": [
       "Frame:   0%|          | 0/271 [00:00<?, ?frame/s]"
      ]
     },
     "metadata": {},
     "output_type": "display_data"
    },
    {
     "data": {
      "application/vnd.jupyter.widget-view+json": {
       "model_id": "30ecff465edd464c9d76cb988ee78072",
       "version_major": 2,
       "version_minor": 0
      },
      "text/plain": [
       "Frame:   0%|          | 0/271 [00:00<?, ?frame/s]"
      ]
     },
     "metadata": {},
     "output_type": "display_data"
    },
    {
     "data": {
      "application/vnd.jupyter.widget-view+json": {
       "model_id": "bf67fec388074f4ab16ae3d15bca5fd1",
       "version_major": 2,
       "version_minor": 0
      },
      "text/plain": [
       "Frame:   0%|          | 0/271 [00:00<?, ?frame/s]"
      ]
     },
     "metadata": {},
     "output_type": "display_data"
    },
    {
     "data": {
      "application/vnd.jupyter.widget-view+json": {
       "model_id": "41b16301d59f486e86f57ab8bf4afe1e",
       "version_major": 2,
       "version_minor": 0
      },
      "text/plain": [
       "Frame:   0%|          | 0/271 [00:00<?, ?frame/s]"
      ]
     },
     "metadata": {},
     "output_type": "display_data"
    },
    {
     "data": {
      "application/vnd.jupyter.widget-view+json": {
       "model_id": "fd43f13ee4734316b455c6841d3b3ba4",
       "version_major": 2,
       "version_minor": 0
      },
      "text/plain": [
       "Frame:   0%|          | 0/271 [00:00<?, ?frame/s]"
      ]
     },
     "metadata": {},
     "output_type": "display_data"
    },
    {
     "data": {
      "application/vnd.jupyter.widget-view+json": {
       "model_id": "e8d3b530b0d14c52ab2d54d26ab20896",
       "version_major": 2,
       "version_minor": 0
      },
      "text/plain": [
       "Frame:   0%|          | 0/271 [00:00<?, ?frame/s]"
      ]
     },
     "metadata": {},
     "output_type": "display_data"
    },
    {
     "data": {
      "application/vnd.jupyter.widget-view+json": {
       "model_id": "2f7afaa072e144c296d0c6632efd8cfe",
       "version_major": 2,
       "version_minor": 0
      },
      "text/plain": [
       "Frame:   0%|          | 0/271 [00:00<?, ?frame/s]"
      ]
     },
     "metadata": {},
     "output_type": "display_data"
    },
    {
     "data": {
      "application/vnd.jupyter.widget-view+json": {
       "model_id": "487a247d73764352937d21b99015b27e",
       "version_major": 2,
       "version_minor": 0
      },
      "text/plain": [
       "Frame:   0%|          | 0/271 [00:00<?, ?frame/s]"
      ]
     },
     "metadata": {},
     "output_type": "display_data"
    },
    {
     "data": {
      "application/vnd.jupyter.widget-view+json": {
       "model_id": "37626d61cb654a3a965944f97799481f",
       "version_major": 2,
       "version_minor": 0
      },
      "text/plain": [
       "Frame:   0%|          | 0/271 [00:00<?, ?frame/s]"
      ]
     },
     "metadata": {},
     "output_type": "display_data"
    },
    {
     "data": {
      "application/vnd.jupyter.widget-view+json": {
       "model_id": "3ead4178c3dd481da2397d26eb0e1c2a",
       "version_major": 2,
       "version_minor": 0
      },
      "text/plain": [
       "Frame:   0%|          | 0/271 [00:00<?, ?frame/s]"
      ]
     },
     "metadata": {},
     "output_type": "display_data"
    },
    {
     "data": {
      "application/vnd.jupyter.widget-view+json": {
       "model_id": "c32eebb1bc5f4117a9076587926d66e1",
       "version_major": 2,
       "version_minor": 0
      },
      "text/plain": [
       "Frame:   0%|          | 0/271 [00:00<?, ?frame/s]"
      ]
     },
     "metadata": {},
     "output_type": "display_data"
    },
    {
     "data": {
      "application/vnd.jupyter.widget-view+json": {
       "model_id": "06e35eb5f8434856a61382584893cfa7",
       "version_major": 2,
       "version_minor": 0
      },
      "text/plain": [
       "Frame:   0%|          | 0/271 [00:00<?, ?frame/s]"
      ]
     },
     "metadata": {},
     "output_type": "display_data"
    },
    {
     "data": {
      "application/vnd.jupyter.widget-view+json": {
       "model_id": "b07af4a5e359437caa8214b27cfd6f56",
       "version_major": 2,
       "version_minor": 0
      },
      "text/plain": [
       "Frame:   0%|          | 0/271 [00:00<?, ?frame/s]"
      ]
     },
     "metadata": {},
     "output_type": "display_data"
    },
    {
     "data": {
      "application/vnd.jupyter.widget-view+json": {
       "model_id": "71cc343867954d31893f371aec61d50c",
       "version_major": 2,
       "version_minor": 0
      },
      "text/plain": [
       "Frame:   0%|          | 0/271 [00:00<?, ?frame/s]"
      ]
     },
     "metadata": {},
     "output_type": "display_data"
    },
    {
     "data": {
      "application/vnd.jupyter.widget-view+json": {
       "model_id": "19a2fac4584a47fa9159098666ebd336",
       "version_major": 2,
       "version_minor": 0
      },
      "text/plain": [
       "Frame:   0%|          | 0/271 [00:00<?, ?frame/s]"
      ]
     },
     "metadata": {},
     "output_type": "display_data"
    },
    {
     "data": {
      "application/vnd.jupyter.widget-view+json": {
       "model_id": "b412f6aff1e04f779404951d20827d59",
       "version_major": 2,
       "version_minor": 0
      },
      "text/plain": [
       "Frame:   0%|          | 0/271 [00:00<?, ?frame/s]"
      ]
     },
     "metadata": {},
     "output_type": "display_data"
    },
    {
     "data": {
      "application/vnd.jupyter.widget-view+json": {
       "model_id": "dd3a516307a34cfb8ce69b3862a985c4",
       "version_major": 2,
       "version_minor": 0
      },
      "text/plain": [
       "Frame:   0%|          | 0/271 [00:00<?, ?frame/s]"
      ]
     },
     "metadata": {},
     "output_type": "display_data"
    },
    {
     "data": {
      "application/vnd.jupyter.widget-view+json": {
       "model_id": "df79aae3fbc547f496a9dafdb985d5db",
       "version_major": 2,
       "version_minor": 0
      },
      "text/plain": [
       "Frame:   0%|          | 0/271 [00:00<?, ?frame/s]"
      ]
     },
     "metadata": {},
     "output_type": "display_data"
    },
    {
     "data": {
      "application/vnd.jupyter.widget-view+json": {
       "model_id": "2951a98811ef4df18f8b87d98b241a19",
       "version_major": 2,
       "version_minor": 0
      },
      "text/plain": [
       "Frame:   0%|          | 0/271 [00:00<?, ?frame/s]"
      ]
     },
     "metadata": {},
     "output_type": "display_data"
    },
    {
     "data": {
      "application/vnd.jupyter.widget-view+json": {
       "model_id": "41f935d620a94197810e0eb8e087b3e7",
       "version_major": 2,
       "version_minor": 0
      },
      "text/plain": [
       "Frame:   0%|          | 0/271 [00:00<?, ?frame/s]"
      ]
     },
     "metadata": {},
     "output_type": "display_data"
    },
    {
     "data": {
      "application/vnd.jupyter.widget-view+json": {
       "model_id": "61e5986767b14b099cc0b01ad4353f89",
       "version_major": 2,
       "version_minor": 0
      },
      "text/plain": [
       "Frame:   0%|          | 0/271 [00:00<?, ?frame/s]"
      ]
     },
     "metadata": {},
     "output_type": "display_data"
    },
    {
     "data": {
      "application/vnd.jupyter.widget-view+json": {
       "model_id": "8868578c5b824e2e94b74f9347b29e49",
       "version_major": 2,
       "version_minor": 0
      },
      "text/plain": [
       "Frame:   0%|          | 0/271 [00:00<?, ?frame/s]"
      ]
     },
     "metadata": {},
     "output_type": "display_data"
    },
    {
     "data": {
      "application/vnd.jupyter.widget-view+json": {
       "model_id": "8f7003cbc961467ea936c78160840f7a",
       "version_major": 2,
       "version_minor": 0
      },
      "text/plain": [
       "Frame:   0%|          | 0/271 [00:00<?, ?frame/s]"
      ]
     },
     "metadata": {},
     "output_type": "display_data"
    },
    {
     "data": {
      "application/vnd.jupyter.widget-view+json": {
       "model_id": "70dea56be5e84317b873493fd203c330",
       "version_major": 2,
       "version_minor": 0
      },
      "text/plain": [
       "Frame:   0%|          | 0/271 [00:00<?, ?frame/s]"
      ]
     },
     "metadata": {},
     "output_type": "display_data"
    },
    {
     "data": {
      "application/vnd.jupyter.widget-view+json": {
       "model_id": "c5b1cc0f8e134be0b5caf6d8a11dbee9",
       "version_major": 2,
       "version_minor": 0
      },
      "text/plain": [
       "Frame:   0%|          | 0/271 [00:00<?, ?frame/s]"
      ]
     },
     "metadata": {},
     "output_type": "display_data"
    },
    {
     "data": {
      "application/vnd.jupyter.widget-view+json": {
       "model_id": "cb740acc9fe54b3895a99a1d490d9d03",
       "version_major": 2,
       "version_minor": 0
      },
      "text/plain": [
       "Frame:   0%|          | 0/271 [00:00<?, ?frame/s]"
      ]
     },
     "metadata": {},
     "output_type": "display_data"
    },
    {
     "data": {
      "application/vnd.jupyter.widget-view+json": {
       "model_id": "0047dafc6a6243d09ddffe63b260f112",
       "version_major": 2,
       "version_minor": 0
      },
      "text/plain": [
       "Frame:   0%|          | 0/271 [00:00<?, ?frame/s]"
      ]
     },
     "metadata": {},
     "output_type": "display_data"
    },
    {
     "data": {
      "application/vnd.jupyter.widget-view+json": {
       "model_id": "84a48476f0ef43409c305726c3083cab",
       "version_major": 2,
       "version_minor": 0
      },
      "text/plain": [
       "Frame:   0%|          | 0/271 [00:00<?, ?frame/s]"
      ]
     },
     "metadata": {},
     "output_type": "display_data"
    },
    {
     "data": {
      "application/vnd.jupyter.widget-view+json": {
       "model_id": "11ca3104fad34f85977590d12f2ed651",
       "version_major": 2,
       "version_minor": 0
      },
      "text/plain": [
       "Frame:   0%|          | 0/271 [00:00<?, ?frame/s]"
      ]
     },
     "metadata": {},
     "output_type": "display_data"
    },
    {
     "data": {
      "application/vnd.jupyter.widget-view+json": {
       "model_id": "2e904ff37d034f588ebd11293c718edd",
       "version_major": 2,
       "version_minor": 0
      },
      "text/plain": [
       "Frame:   0%|          | 0/271 [00:00<?, ?frame/s]"
      ]
     },
     "metadata": {},
     "output_type": "display_data"
    },
    {
     "data": {
      "application/vnd.jupyter.widget-view+json": {
       "model_id": "19931bbb5a2c4e9d9df25e0799514ac6",
       "version_major": 2,
       "version_minor": 0
      },
      "text/plain": [
       "Frame:   0%|          | 0/271 [00:00<?, ?frame/s]"
      ]
     },
     "metadata": {},
     "output_type": "display_data"
    },
    {
     "data": {
      "application/vnd.jupyter.widget-view+json": {
       "model_id": "771366ecb0114e818f0f277e77b7a983",
       "version_major": 2,
       "version_minor": 0
      },
      "text/plain": [
       "Frame:   0%|          | 0/271 [00:00<?, ?frame/s]"
      ]
     },
     "metadata": {},
     "output_type": "display_data"
    },
    {
     "data": {
      "application/vnd.jupyter.widget-view+json": {
       "model_id": "b7b979cd08094ab7ac4cbba53104d8a2",
       "version_major": 2,
       "version_minor": 0
      },
      "text/plain": [
       "Frame:   0%|          | 0/271 [00:00<?, ?frame/s]"
      ]
     },
     "metadata": {},
     "output_type": "display_data"
    },
    {
     "data": {
      "application/vnd.jupyter.widget-view+json": {
       "model_id": "eefdd62856fa4b7ea94240529296b291",
       "version_major": 2,
       "version_minor": 0
      },
      "text/plain": [
       "Frame:   0%|          | 0/271 [00:00<?, ?frame/s]"
      ]
     },
     "metadata": {},
     "output_type": "display_data"
    },
    {
     "data": {
      "application/vnd.jupyter.widget-view+json": {
       "model_id": "20a7df0beeb1432abecf9d75af1130f8",
       "version_major": 2,
       "version_minor": 0
      },
      "text/plain": [
       "Frame:   0%|          | 0/271 [00:00<?, ?frame/s]"
      ]
     },
     "metadata": {},
     "output_type": "display_data"
    },
    {
     "data": {
      "application/vnd.jupyter.widget-view+json": {
       "model_id": "866129fed63c49b2ac1387b4c9e1700a",
       "version_major": 2,
       "version_minor": 0
      },
      "text/plain": [
       "Frame:   0%|          | 0/271 [00:00<?, ?frame/s]"
      ]
     },
     "metadata": {},
     "output_type": "display_data"
    },
    {
     "data": {
      "application/vnd.jupyter.widget-view+json": {
       "model_id": "a6e42ed75622462eabfc8b238611298f",
       "version_major": 2,
       "version_minor": 0
      },
      "text/plain": [
       "Frame:   0%|          | 0/271 [00:00<?, ?frame/s]"
      ]
     },
     "metadata": {},
     "output_type": "display_data"
    },
    {
     "data": {
      "application/vnd.jupyter.widget-view+json": {
       "model_id": "6ecad7937c45456aac33b8a45459e280",
       "version_major": 2,
       "version_minor": 0
      },
      "text/plain": [
       "Frame:   0%|          | 0/271 [00:00<?, ?frame/s]"
      ]
     },
     "metadata": {},
     "output_type": "display_data"
    },
    {
     "name": "stdout",
     "output_type": "stream",
     "text": [
      "[Epoch 00999] Loss: 0.0429 | Acc: 98.46%\n"
     ]
    }
   ],
   "source": [
    "loss_history = []\n",
    "acc_history = []\n",
    "\n",
    "for epoch in tqdm(range(EPOCHS), desc=\"Epochs\", unit=\"epoch\", position=0):\n",
    "    model.train()\n",
    "    total_loss = 0.0\n",
    "    total_correct = 0\n",
    "    total_points = 0\n",
    "\n",
    "    random.shuffle(processed_train_dataset)\n",
    "    for item in tqdm(\n",
    "        processed_train_dataset,\n",
    "        desc=f\"Frame\",\n",
    "        unit=\"frame\",\n",
    "        leave=False,\n",
    "        position=1,\n",
    "    ):\n",
    "        # for item in tqdm(processed_train_dataset, desc=f\"Frame (Epoch {epoch+1}/{EPOCHS})\", unit=\"frame\"):\n",
    "        data = (\n",
    "            torch.tensor(item[:, :INPUT_CHANNELS], dtype=torch.float32)\n",
    "            .unsqueeze(0)\n",
    "            .to(DEVICE)\n",
    "        )\n",
    "        label = torch.tensor(item[:, -2], dtype=torch.long).unsqueeze(0).to(DEVICE)\n",
    "\n",
    "        optimizer.zero_grad()\n",
    "        pred, trans = model(data)\n",
    "        pred = pred.view(-1, NUM_CLASSES)\n",
    "        label = label.view(-1)\n",
    "\n",
    "        loss = criterion(pred, label)\n",
    "        loss.backward()\n",
    "        optimizer.step()\n",
    "\n",
    "        total_loss += loss.item()\n",
    "        total_correct += (pred.argmax(dim=1) == label).sum().item()\n",
    "        total_points += label.numel()\n",
    "\n",
    "    avg_loss = total_loss / len(processed_train_dataset)\n",
    "    avg_acc = total_correct / total_points\n",
    "    loss_history.append(avg_loss)\n",
    "    acc_history.append(avg_acc)\n",
    "\n",
    "print(f\"[Epoch {epoch:05d}] Loss: {avg_loss:.4f} | Acc: {avg_acc*100:.2f}%\")\n",
    "# Opcional: salvar checkpoints\n",
    "torch.save(model.state_dict(), f\"checkpoints_to_ignore/pointnet_epoch_{EPOCHS+1:03d}_9chan.pth\")"
   ]
  },
  {
   "cell_type": "code",
   "execution_count": 7,
   "id": "4025aef6",
   "metadata": {},
   "outputs": [],
   "source": [
    "# from torch.utils.data import DataLoader, TensorDataset\n",
    "\n",
    "# # Supondo que processed_train_dataset seja uma lista de arrays (N, C)\n",
    "# # Concatene todos os frames em um único array\n",
    "# all_data = np.concatenate([item[:, :INPUT_CHANNELS] for item in processed_train_dataset], axis=0)\n",
    "# all_labels = np.concatenate([item[:, -2] for item in processed_train_dataset], axis=0)\n",
    "\n",
    "# dataset = TensorDataset(\n",
    "#     torch.tensor(all_data, dtype=torch.float32),\n",
    "#     torch.tensor(all_labels, dtype=torch.long)\n",
    "# )\n",
    "# loader = DataLoader(dataset, batch_size=32, shuffle=True)\n",
    "\n",
    "# for epoch in range(EPOCHS):\n",
    "#     for data, label in loader:\n",
    "#         # data: (B, INPUT_CHANNELS)\n",
    "#         # label: (B,)\n",
    "#         # ... seu código ..."
   ]
  },
  {
   "cell_type": "code",
   "execution_count": 8,
   "id": "89f8eda2",
   "metadata": {},
   "outputs": [
    {
     "data": {
      "image/png": "[encoded data removed]",
      "text/plain": [
       "<Figure size 1000x400 with 2 Axes>"
      ]
     },
     "metadata": {},
     "output_type": "display_data"
    }
   ],
   "source": [
    "import matplotlib.pyplot as plt\n",
    "\n",
    "plt.figure(figsize=(10, 4))\n",
    "plt.subplot(1, 2, 1)\n",
    "plt.plot(loss_history, label=\"Loss\")\n",
    "plt.xlabel(\"Época\")\n",
    "plt.ylabel(\"Loss\")\n",
    "plt.title(\"Loss por época\")\n",
    "plt.grid(True)\n",
    "plt.legend()\n",
    "\n",
    "plt.subplot(1, 2, 2)\n",
    "plt.plot(acc_history, label=\"Acurácia\")\n",
    "plt.xlabel(\"Época\")\n",
    "plt.ylabel(\"Acurácia\")\n",
    "plt.title(\"Acurácia por época\")\n",
    "plt.grid(True)\n",
    "plt.legend()\n",
    "\n",
    "plt.tight_layout()\n",
    "plt.show()"
   ]
  },
  {
   "cell_type": "markdown",
   "id": "2c46ec9d",
   "metadata": {},
   "source": [
    "# Inference"
   ]
  },
  {
   "cell_type": "code",
   "execution_count": 45,
   "id": "7ee0ce32",
   "metadata": {},
   "outputs": [],
   "source": [
    "point_cloud = processed_train_dataset[20]\n",
    "\n",
    "data = (\n",
    "    torch.tensor(point_cloud[:, :INPUT_CHANNELS], dtype=torch.float32)\n",
    "    .unsqueeze(0)\n",
    "    .to(DEVICE)\n",
    ")\n",
    "label = point_cloud[:, -2]\n",
    "\n",
    "# # Carregar o modelo treinado\n",
    "# model = PointNetSeg(num_classes=NUM_CLASSES).to(DEVICE)\n",
    "# model.load_state_dict(torch.load(\"checkpoints/pointnet_epoch_001.pth\"))\n",
    "\n",
    "model.eval()\n",
    "with torch.no_grad():\n",
    "    pred, trans = model(data)\n",
    "    pred = pred.view(-1, NUM_CLASSES)\n",
    "\n",
    "    # pred_labels = torch.argmax(pred, dim=1).cpu().numpy()\n",
    "    pred = pred.argmax(dim=1)\n",
    "\n",
    "# Agora, substituindo os rótulos originais pelos rótulos preditos\n",
    "# Mantendo as coordenadas xyz no formato original e substituindo o label\n",
    "result = np.hstack(\n",
    "    (\n",
    "        data.squeeze(0).cpu().numpy(),\n",
    "        label.reshape(-1, 1),\n",
    "        pred.cpu().numpy().reshape(-1, 1),\n",
    "    )\n",
    ")"
   ]
  },
  {
   "cell_type": "code",
   "execution_count": 46,
   "id": "4994a455",
   "metadata": {},
   "outputs": [
    {
     "name": "stdout",
     "output_type": "stream",
     "text": [
      "Acurácia (amostra): 58.63%\n"
     ]
    }
   ],
   "source": [
    "# Calcula a acurácia usando o array result\n",
    "true_labels = result[:, -2]\n",
    "pred_labels = result[:, -1]\n",
    "accuracy = (true_labels == pred_labels).sum() / len(result)\n",
    "print(f\"Acurácia (amostra): {accuracy*100:.2f}%\")\n",
    "# print(f\"[Epoch {epoch:05d}] Loss: {avg_loss:.4f} | Acc: {avg_acc*100:.2f}%\")\n",
    "run_viz(\n",
    "    result,\n",
    "    cluster_viz=True,\n",
    "    show_pred_label=True,\n",
    "    point_size=3,\n",
    "    # show_min_max=True,\n",
    ")\n",
    "run_viz(\n",
    "    result,\n",
    "    cluster_viz=True,\n",
    "    show_true_label=True,\n",
    "    point_size=3,\n",
    "    # show_min_max=True,\n",
    ")"
   ]
  },
  {
   "cell_type": "code",
   "execution_count": null,
   "id": "84bad797",
   "metadata": {},
   "outputs": [],
   "source": []
  }
 ],
 "metadata": {
  "kernelspec": {
   "display_name": ".venv",
   "language": "python",
   "name": "python3"
  },
  "language_info": {
   "codemirror_mode": {
    "name": "ipython",
    "version": 3
   },
   "file_extension": ".py",
   "mimetype": "text/x-python",
   "name": "python",
   "nbconvert_exporter": "python",
   "pygments_lexer": "ipython3",
   "version": "3.12.3"
  }
 },
 "nbformat": 4,
 "nbformat_minor": 5
}
