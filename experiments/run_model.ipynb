{
 "cells": [
  {
   "cell_type": "markdown",
   "id": "4d897203",
   "metadata": {},
   "source": [
    "# Imports"
   ]
  },
  {
   "cell_type": "code",
   "execution_count": 1,
   "id": "43d45654",
   "metadata": {},
   "outputs": [
    {
     "name": "stdout",
     "output_type": "stream",
     "text": [
      "Jupyter environment detected. Enabling Open3D WebVisualizer.\n",
      "[Open3D INFO] WebRTC GUI backend enabled.\n",
      "[Open3D INFO] WebRTCWindowSystem: HTTP handshake server disabled.\n"
     ]
    }
   ],
   "source": [
    "from tqdm import tqdm\n",
    "import torch\n",
    "import torch.nn as nn\n",
    "import torch.optim as optim\n",
    "import os\n",
    "import numpy as np\n",
    "\n",
    "from pfc_packages.pointNet import *\n",
    "from pfc_packages.utils import *"
   ]
  },
  {
   "cell_type": "markdown",
   "id": "47cc6345",
   "metadata": {},
   "source": [
    "# Hyperparameters"
   ]
  },
  {
   "cell_type": "code",
   "execution_count": 2,
   "id": "c1142037",
   "metadata": {},
   "outputs": [],
   "source": [
    "NUM_CLASSES = 20\n",
    "EPOCHS = 1000\n",
    "LR = 0.001\n",
    "DEVICE = torch.device(\"cuda\" if torch.cuda.is_available() else \"cpu\")"
   ]
  },
  {
   "cell_type": "markdown",
   "id": "af5147ba",
   "metadata": {},
   "source": [
    "# Model configs"
   ]
  },
  {
   "cell_type": "code",
   "execution_count": 3,
   "id": "189295e6",
   "metadata": {},
   "outputs": [],
   "source": [
    "# ==== LOAD DATA ====\n",
    "unprocessed_train_dataset = Dataset(\"../../datasets/semantic-kitti\", load_cluster=True)\n",
    "\n",
    "# ==== MODEL ====\n",
    "model = PointNetSeg(num_classes=NUM_CLASSES).to(DEVICE)\n",
    "criterion = nn.CrossEntropyLoss(ignore_index=0)\n",
    "optimizer = optim.Adam(model.parameters(), lr=LR)"
   ]
  },
  {
   "cell_type": "markdown",
   "id": "82d1e475",
   "metadata": {},
   "source": [
    "# Pre-process clusters"
   ]
  },
  {
   "cell_type": "code",
   "execution_count": 12,
   "id": "bfd82ddf",
   "metadata": {},
   "outputs": [
    {
     "name": "stderr",
     "output_type": "stream",
     "text": [
      "Processando frames:   1%|▏         | 4/271 [00:05<05:53,  1.32s/it]\n"
     ]
    }
   ],
   "source": [
    "processed_train_dataset = []\n",
    "count = 0\n",
    "for frame in tqdm(unprocessed_train_dataset, desc=\"Processando frames\"):\n",
    "    processed_train_dataset.append(\n",
    "        extract_features_from_clusters(frame, min_cluster_size=3)\n",
    "    )\n",
    "    count += 1\n",
    "    if count == 5:\n",
    "        break"
   ]
  },
  {
   "cell_type": "markdown",
   "id": "5a567791",
   "metadata": {},
   "source": [
    "# Train model"
   ]
  },
  {
   "cell_type": "code",
   "execution_count": 13,
   "id": "63de9a0f",
   "metadata": {},
   "outputs": [],
   "source": [
    "model.train()  # ainda assim necessário\n",
    "for m in model.modules():\n",
    "    if isinstance(m, torch.nn.Dropout):\n",
    "        m.p = 0.0  # ou apenas comente o dropout na definição do modelo"
   ]
  },
  {
   "cell_type": "code",
   "execution_count": 14,
   "id": "36f06adb",
   "metadata": {},
   "outputs": [
    {
     "name": "stderr",
     "output_type": "stream",
     "text": [
      "Epochs:   0%|          | 1/1000 [00:00<01:53,  8.77epoch/s]"
     ]
    },
    {
     "name": "stdout",
     "output_type": "stream",
     "text": [
      "[Epoch 00001] Loss: 0.0021 | Acc: 100.00%\n",
      "[Epoch 00001] Loss: 0.2288 | Acc: 97.44%\n",
      "[Epoch 00001] Loss: 0.9275 | Acc: 91.27%\n",
      "[Epoch 00001] Loss: 1.5928 | Acc: 86.05%\n",
      "[Epoch 00001] Loss: 0.9895 | Acc: 84.13%\n"
     ]
    },
    {
     "name": "stderr",
     "output_type": "stream",
     "text": [
      "Epochs:  10%|█         | 101/1000 [00:02<00:22, 39.27epoch/s]"
     ]
    },
    {
     "name": "stdout",
     "output_type": "stream",
     "text": [
      "[Epoch 00101] Loss: 0.0684 | Acc: 98.06%\n",
      "[Epoch 00101] Loss: 0.0870 | Acc: 97.36%\n",
      "[Epoch 00101] Loss: 0.0724 | Acc: 97.69%\n",
      "[Epoch 00101] Loss: 0.0769 | Acc: 97.64%\n",
      "[Epoch 00101] Loss: 0.1164 | Acc: 97.28%\n"
     ]
    },
    {
     "name": "stderr",
     "output_type": "stream",
     "text": [
      "Epochs:  20%|██        | 201/1000 [00:05<00:20, 38.96epoch/s]"
     ]
    },
    {
     "name": "stdout",
     "output_type": "stream",
     "text": [
      "[Epoch 00201] Loss: 0.0516 | Acc: 98.22%\n",
      "[Epoch 00201] Loss: 0.0630 | Acc: 98.40%\n",
      "[Epoch 00201] Loss: 0.0528 | Acc: 98.42%\n",
      "[Epoch 00201] Loss: 0.0445 | Acc: 98.47%\n",
      "[Epoch 00201] Loss: 0.0762 | Acc: 98.31%\n"
     ]
    },
    {
     "name": "stderr",
     "output_type": "stream",
     "text": [
      "Epochs:  30%|██▉       | 299/1000 [00:08<00:18, 38.04epoch/s]"
     ]
    },
    {
     "name": "stdout",
     "output_type": "stream",
     "text": [
      "[Epoch 00301] Loss: 0.0332 | Acc: 99.03%\n",
      "[Epoch 00301] Loss: 0.0342 | Acc: 99.12%\n",
      "[Epoch 00301] Loss: 0.0353 | Acc: 99.11%\n",
      "[Epoch 00301] Loss: 0.0381 | Acc: 99.14%\n",
      "[Epoch 00301] Loss: 0.0474 | Acc: 99.09%\n"
     ]
    },
    {
     "name": "stderr",
     "output_type": "stream",
     "text": [
      "Epochs:  40%|███▉      | 398/1000 [00:10<00:15, 37.82epoch/s]"
     ]
    },
    {
     "name": "stdout",
     "output_type": "stream",
     "text": [
      "[Epoch 00401] Loss: 0.0239 | Acc: 99.35%\n",
      "[Epoch 00401] Loss: 0.0260 | Acc: 99.28%\n",
      "[Epoch 00401] Loss: 0.0231 | Acc: 99.26%\n",
      "[Epoch 00401] Loss: 0.0260 | Acc: 99.33%\n",
      "[Epoch 00401] Loss: 0.0341 | Acc: 99.28%\n"
     ]
    },
    {
     "name": "stderr",
     "output_type": "stream",
     "text": [
      "Epochs:  50%|█████     | 500/1000 [00:13<00:13, 37.42epoch/s]"
     ]
    },
    {
     "name": "stdout",
     "output_type": "stream",
     "text": [
      "[Epoch 00501] Loss: 0.0310 | Acc: 99.03%\n",
      "[Epoch 00501] Loss: 0.0292 | Acc: 99.12%\n",
      "[Epoch 00501] Loss: 0.0403 | Acc: 98.90%\n",
      "[Epoch 00501] Loss: 0.0360 | Acc: 98.86%\n",
      "[Epoch 00501] Loss: 0.0417 | Acc: 98.81%\n"
     ]
    },
    {
     "name": "stderr",
     "output_type": "stream",
     "text": [
      "Epochs:  60%|██████    | 600/1000 [00:16<00:11, 35.24epoch/s]"
     ]
    },
    {
     "name": "stdout",
     "output_type": "stream",
     "text": [
      "[Epoch 00601] Loss: 0.0247 | Acc: 99.03%\n",
      "[Epoch 00601] Loss: 0.0245 | Acc: 99.20%\n",
      "[Epoch 00601] Loss: 0.0311 | Acc: 99.11%\n",
      "[Epoch 00601] Loss: 0.0347 | Acc: 99.10%\n",
      "[Epoch 00601] Loss: 0.0800 | Acc: 98.72%\n"
     ]
    },
    {
     "name": "stderr",
     "output_type": "stream",
     "text": [
      "Epochs:  70%|██████▉   | 698/1000 [00:19<00:08, 37.31epoch/s]"
     ]
    },
    {
     "name": "stdout",
     "output_type": "stream",
     "text": [
      "[Epoch 00701] Loss: 0.0128 | Acc: 99.68%\n",
      "[Epoch 00701] Loss: 0.0135 | Acc: 99.52%\n",
      "[Epoch 00701] Loss: 0.0132 | Acc: 99.58%\n",
      "[Epoch 00701] Loss: 0.0219 | Acc: 99.49%\n",
      "[Epoch 00701] Loss: 0.0203 | Acc: 99.47%\n"
     ]
    },
    {
     "name": "stderr",
     "output_type": "stream",
     "text": [
      "Epochs:  80%|███████▉  | 799/1000 [00:21<00:05, 37.26epoch/s]"
     ]
    },
    {
     "name": "stdout",
     "output_type": "stream",
     "text": [
      "[Epoch 00801] Loss: 0.0307 | Acc: 98.87%\n",
      "[Epoch 00801] Loss: 0.0175 | Acc: 99.28%\n",
      "[Epoch 00801] Loss: 0.0177 | Acc: 99.42%\n",
      "[Epoch 00801] Loss: 0.0279 | Acc: 99.29%\n",
      "[Epoch 00801] Loss: 0.0280 | Acc: 99.28%\n"
     ]
    },
    {
     "name": "stderr",
     "output_type": "stream",
     "text": [
      "Epochs:  90%|█████████ | 900/1000 [00:24<00:02, 36.67epoch/s]"
     ]
    },
    {
     "name": "stdout",
     "output_type": "stream",
     "text": [
      "[Epoch 00901] Loss: 0.0113 | Acc: 99.84%\n",
      "[Epoch 00901] Loss: 0.0102 | Acc: 99.76%\n",
      "[Epoch 00901] Loss: 0.0087 | Acc: 99.84%\n",
      "[Epoch 00901] Loss: 0.0161 | Acc: 99.69%\n",
      "[Epoch 00901] Loss: 0.0138 | Acc: 99.63%\n"
     ]
    },
    {
     "name": "stderr",
     "output_type": "stream",
     "text": [
      "Epochs: 100%|██████████| 1000/1000 [00:27<00:00, 36.79epoch/s]"
     ]
    },
    {
     "name": "stdout",
     "output_type": "stream",
     "text": [
      "[Epoch 01000] Loss: 0.0455 | Acc: 98.88%\n"
     ]
    },
    {
     "name": "stderr",
     "output_type": "stream",
     "text": [
      "\n"
     ]
    }
   ],
   "source": [
    "for epoch in tqdm(range(EPOCHS), desc=\"Epochs\", unit=\"epoch\"):\n",
    "    model.train()\n",
    "    total_loss = 0.0\n",
    "    total_correct = 0\n",
    "    total_points = 0\n",
    "\n",
    "    for item in tqdm(processed_train_dataset, desc=f\"Frame (Epoch {epoch+1}/{EPOCHS})\", unit=\"frame\", leave=False):\n",
    "    # for item in tqdm(processed_train_dataset, desc=f\"Epoch {epoch+1}/{EPOCHS}\", unit=\"item\"):\n",
    "        data = torch.tensor(item[:, :3], dtype=torch.float32).unsqueeze(0).to(DEVICE)\n",
    "        label = torch.tensor(item[:, 3], dtype=torch.long).unsqueeze(0).to(DEVICE)\n",
    "\n",
    "        optimizer.zero_grad()\n",
    "        pred = model(data)\n",
    "        pred = pred.view(-1, NUM_CLASSES)\n",
    "        label = label.view(-1)\n",
    "\n",
    "        loss = criterion(pred, label)\n",
    "        loss.backward()\n",
    "        optimizer.step()\n",
    "\n",
    "        total_loss += loss.item()\n",
    "        total_correct += (pred.argmax(dim=1) == label).sum().item()\n",
    "        total_points += label.numel()\n",
    "\n",
    "        acc = total_correct / total_points\n",
    "\n",
    "        if epoch % 100 == 0:\n",
    "            print(f\"[Epoch {epoch+1:05d}] Loss: {loss.item():.4f} | Acc: {acc*100:.2f}%\")\n",
    "\n",
    "print(f\"[Epoch {epoch+1:05d}] Loss: {loss.item():.4f} | Acc: {acc*100:.2f}%\")\n",
    "# Opcional: salvar checkpoints\n",
    "# torch.save(model.state_dict(), f\"checkpoints/pointnet_epoch_{epoch+1:03d}.pth\")"
   ]
  },
  {
   "cell_type": "markdown",
   "id": "2c46ec9d",
   "metadata": {},
   "source": [
    "# Inference"
   ]
  },
  {
   "cell_type": "code",
   "execution_count": 15,
   "id": "7ee0ce32",
   "metadata": {},
   "outputs": [],
   "source": [
    "point_cloud = unprocessed_train_dataset[0]\n",
    "cluster_pc = extract_features_from_clusters(point_cloud, drop_incosistentes=True)\n",
    "\n",
    "data = torch.tensor(cluster_pc[:, :3], dtype=torch.float32).unsqueeze(0).to(DEVICE)\n",
    "label = torch.tensor(cluster_pc[:, 3], dtype=torch.long).unsqueeze(0).to(DEVICE)\n",
    "\n",
    "# # Carregar o modelo treinado\n",
    "# model = PointNetSeg(num_classes=NUM_CLASSES).to(DEVICE)\n",
    "# model.load_state_dict(torch.load(\"checkpoints/pointnet_epoch_001.pth\"))\n",
    "\n",
    "model.eval()\n",
    "with torch.no_grad():\n",
    "    pred = model(data)\n",
    "    pred = pred.view(-1, NUM_CLASSES)\n",
    "\n",
    "    # pred_labels = torch.argmax(pred, dim=1).cpu().numpy()\n",
    "    pred = pred.argmax(dim=1)\n",
    "\n",
    "# Agora, substituindo os rótulos originais pelos rótulos preditos\n",
    "# Mantendo as coordenadas xyz no formato original e substituindo o label\n",
    "result = np.hstack((data.squeeze(0).cpu().numpy(), pred.cpu().numpy().reshape(-1, 1)))"
   ]
  },
  {
   "cell_type": "code",
   "execution_count": 16,
   "id": "7e970678",
   "metadata": {},
   "outputs": [
    {
     "data": {
      "text/plain": [
       "array([[42.63254929, 12.12786674,  1.71147394, 15.        ],\n",
       "       [60.38326645, 17.59372711,  2.34032941,  9.        ],\n",
       "       [45.88910675, 18.42118454,  1.88575268, 15.        ],\n",
       "       ...,\n",
       "       [ 2.55438852, 12.3309288 , -1.74443364, 17.        ],\n",
       "       [ 2.43118119, 12.56003189, -1.77464926, 17.        ],\n",
       "       [ 2.27099586, 12.35544777, -1.73908126, 17.        ]],\n",
       "      shape=(1687, 4))"
      ]
     },
     "execution_count": 16,
     "metadata": {},
     "output_type": "execute_result"
    }
   ],
   "source": [
    "result"
   ]
  },
  {
   "cell_type": "code",
   "execution_count": 17,
   "id": "4994a455",
   "metadata": {},
   "outputs": [],
   "source": [
    "run_viz(\n",
    "    result,\n",
    "    cluster_viz=True,\n",
    "    show_true_label=True,\n",
    "    point_size=3,\n",
    "    # show_min_max=True,\n",
    ")"
   ]
  },
  {
   "cell_type": "code",
   "execution_count": 10,
   "id": "7aeb6fad",
   "metadata": {},
   "outputs": [],
   "source": [
    "run_viz(\n",
    "    cluster_pc,\n",
    "    cluster_viz=True,\n",
    "    show_true_label=True,\n",
    "    point_size=3,\n",
    "    # show_min_max=True,\n",
    ")"
   ]
  }
 ],
 "metadata": {
  "kernelspec": {
   "display_name": ".venv",
   "language": "python",
   "name": "python3"
  },
  "language_info": {
   "codemirror_mode": {
    "name": "ipython",
    "version": 3
   },
   "file_extension": ".py",
   "mimetype": "text/x-python",
   "name": "python",
   "nbconvert_exporter": "python",
   "pygments_lexer": "ipython3",
   "version": "3.12.3"
  }
 },
 "nbformat": 4,
 "nbformat_minor": 5
}
