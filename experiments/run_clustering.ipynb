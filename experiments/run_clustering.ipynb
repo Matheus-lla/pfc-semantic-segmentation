{
 "cells": [
  {
   "cell_type": "markdown",
   "id": "b35ad58b",
   "metadata": {},
   "source": [
    "# Imports"
   ]
  },
  {
   "cell_type": "code",
   "execution_count": 1,
   "id": "f7b7e81f",
   "metadata": {},
   "outputs": [
    {
     "name": "stdout",
     "output_type": "stream",
     "text": [
      "Jupyter environment detected. Enabling Open3D WebVisualizer.\n",
      "[Open3D INFO] WebRTC GUI backend enabled.\n",
      "[Open3D INFO] WebRTCWindowSystem: HTTP handshake server disabled.\n"
     ]
    }
   ],
   "source": [
    "from collections import Counter\n",
    "\n",
    "from tqdm import tqdm\n",
    "\n",
    "from pfc_packages.gpf_slr import *\n",
    "from pfc_packages.utils import *"
   ]
  },
  {
   "cell_type": "markdown",
   "id": "616ff1e9",
   "metadata": {},
   "source": [
    "# Hyperparameters"
   ]
  },
  {
   "cell_type": "code",
   "execution_count": 2,
   "id": "45b45736",
   "metadata": {},
   "outputs": [],
   "source": [
    "# --- Hyperparameters for Ground Plane Fitting (GPF) ---\n",
    "NUM_LOWEST_POINTS = 10000  # Number of lowest elevation points used to estimate initial ground seed (LPR)\n",
    "NUM_ITERATIONS = 5  # Number of iterations for plane refinement in GPF\n",
    "SEED_HEIGHT_THRESHOLD = 0.4  # Max height above LPR to consider a point as a ground seed\n",
    "PLANE_DISTANCE_THRESHOLD = 0.2  # Max distance from plane to classify a point as ground\n",
    "\n",
    "# --- Parameters for Scan Line Run (SLR) clustering ---\n",
    "SLR_RUN_DISTANCE_THRESHOLD = (\n",
    "    0.2  # Max distance between consecutive points in a scanline to form a run\n",
    ")\n",
    "SLR_MERGE_THRESHOLD = 1.0  # Max distance between runs in adjacent scanlines to be considered the same cluster"
   ]
  },
  {
   "cell_type": "markdown",
   "id": "a538beeb",
   "metadata": {},
   "source": [
    "# Run Example"
   ]
  },
  {
   "cell_type": "code",
   "execution_count": 3,
   "id": "de8e2aa6",
   "metadata": {},
   "outputs": [
    {
     "name": "stderr",
     "output_type": "stream",
     "text": [
      "Processando frames: 100%|██████████| 5/5 [00:02<00:00,  1.76it/s]\n"
     ]
    },
    {
     "data": {
      "text/plain": [
       "(514, 10)"
      ]
     },
     "execution_count": 3,
     "metadata": {},
     "output_type": "execute_result"
    }
   ],
   "source": [
    "dataset = Dataset(\"../../datasets/semantic-kitti\", load_cluster=True)\n",
    "\n",
    "clusters_features = []\n",
    "\n",
    "for frame in tqdm(dataset, desc=\"Processando frames\"):\n",
    "    clusters_features.append(extract_features_from_clusters(frame, min_cluster_size=3))\n",
    "    # break\n",
    "\n",
    "clusters_features[0].shape"
   ]
  },
  {
   "cell_type": "code",
   "execution_count": 4,
   "id": "9f709925",
   "metadata": {},
   "outputs": [],
   "source": [
    "run_viz(\n",
    "    clusters_features[0],\n",
    "    cluster_viz=True,\n",
    "    show_true_label=True,\n",
    "    point_size=3,\n",
    "    # show_min_max=True,\n",
    ")"
   ]
  },
  {
   "cell_type": "code",
   "execution_count": null,
   "id": "c17e4ba6",
   "metadata": {},
   "outputs": [],
   "source": []
  }
 ],
 "metadata": {
  "kernelspec": {
   "display_name": ".venv",
   "language": "python",
   "name": "python3"
  },
  "language_info": {
   "codemirror_mode": {
    "name": "ipython",
    "version": 3
   },
   "file_extension": ".py",
   "mimetype": "text/x-python",
   "name": "python",
   "nbconvert_exporter": "python",
   "pygments_lexer": "ipython3",
   "version": "3.12.3"
  }
 },
 "nbformat": 4,
 "nbformat_minor": 5
}
