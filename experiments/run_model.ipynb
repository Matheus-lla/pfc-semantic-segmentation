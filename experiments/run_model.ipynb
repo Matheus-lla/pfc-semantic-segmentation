{
 "cells": [
  {
   "cell_type": "markdown",
   "id": "4d897203",
   "metadata": {},
   "source": [
    "# Imports"
   ]
  },
  {
   "cell_type": "code",
   "execution_count": 1,
   "id": "43d45654",
   "metadata": {},
   "outputs": [
    {
     "name": "stdout",
     "output_type": "stream",
     "text": [
      "Jupyter environment detected. Enabling Open3D WebVisualizer.\n",
      "[Open3D INFO] WebRTC GUI backend enabled.\n",
      "[Open3D INFO] WebRTCWindowSystem: HTTP handshake server disabled.\n"
     ]
    }
   ],
   "source": [
    "import os\n",
    "import pickle\n",
    "import random\n",
    "import time\n",
    "\n",
    "import numpy as np\n",
    "import torch\n",
    "import torch.nn as nn\n",
    "import torch.optim as optim\n",
    "from tqdm import tqdm\n",
    "from pathlib import Path\n",
    "\n",
    "from pfc_packages.pointNet import *\n",
    "from pfc_packages.utils import *"
   ]
  },
  {
   "cell_type": "markdown",
   "id": "47cc6345",
   "metadata": {},
   "source": [
    "# Hyperparameters"
   ]
  },
  {
   "cell_type": "code",
   "execution_count": 20,
   "id": "c1142037",
   "metadata": {},
   "outputs": [],
   "source": [
    "NUM_CLASSES = 20\n",
    "INPUT_CHANNELS = 9\n",
    "EPOCHS = 150\n",
    "LR = 0.001\n",
    "DECAY_RATE = 0 # 0.0001\n",
    "MOMENTUM_DECCAY_STEP = 10\n",
    "DEVICE = torch.device(\"cuda\" if torch.cuda.is_available() else \"cpu\")\n",
    "MODEL_SAVE_PATH = \"checkpoints_to_ignore/models/model\"\n",
    "SEQ_LIST = [5]\n",
    "SEQ_LIST_NAME = \"\".join(str(s) for s in SEQ_LIST)"
   ]
  },
  {
   "cell_type": "markdown",
   "id": "af5147ba",
   "metadata": {},
   "source": [
    "# Model configs"
   ]
  },
  {
   "cell_type": "code",
   "execution_count": 3,
   "id": "189295e6",
   "metadata": {},
   "outputs": [],
   "source": [
    "# ==== MODEL ====\n",
    "model = PointNetSeg(num_classes=NUM_CLASSES, input_channels=INPUT_CHANNELS).to(DEVICE)\n",
    "criterion = nn.CrossEntropyLoss(ignore_index=0)\n",
    "optimizer = torch.optim.Adam(\n",
    "    model.parameters(), lr=LR, betas=(0.9, 0.999), eps=1e-08, weight_decay=DECAY_RATE\n",
    ")"
   ]
  },
  {
   "cell_type": "code",
   "execution_count": 4,
   "id": "c881c714",
   "metadata": {},
   "outputs": [
    {
     "data": {
      "text/plain": [
       "'\\ndesativar todas as regularizações\\ntentar aumentar o maximo possivel o tamanho do dataset\\naumentar o modelo se nescessario\\nideia do padding se nescessaria la pra frente\\naumentar os features, desvio padrado de cada coordenada, bean numpy histograma\\ntentar manter o valor da acuracia em 90%\\n'"
      ]
     },
     "execution_count": 4,
     "metadata": {},
     "output_type": "execute_result"
    }
   ],
   "source": [
    "\"\"\"\n",
    "desativar todas as regularizações\n",
    "tentar aumentar o maximo possivel o tamanho do dataset\n",
    "aumentar o modelo se nescessario\n",
    "ideia do padding se nescessaria la pra frente\n",
    "aumentar os features, desvio padrado de cada coordenada, bean numpy histograma\n",
    "tentar manter o valor da acuracia em 90%\n",
    "\"\"\""
   ]
  },
  {
   "cell_type": "markdown",
   "id": "82d1e475",
   "metadata": {},
   "source": [
    "# Pre-process clusters"
   ]
  },
  {
   "cell_type": "code",
   "execution_count": 38,
   "id": "bfd82ddf",
   "metadata": {},
   "outputs": [
    {
     "name": "stdout",
     "output_type": "stream",
     "text": [
      "23201\n"
     ]
    }
   ],
   "source": [
    "## ==== LOAD DATA ====\n",
    "# unprocessed_train_dataset = SemanticKittiDataset(\n",
    "#     \"../../datasets/semantic-kitti\", load_cluster=True, sequence_list=SEQ_LIST\n",
    "# )\n",
    "\n",
    "# processed_train_dataset = []\n",
    "\n",
    "# for frame in tqdm(unprocessed_train_dataset, desc=\"Processando frames\"):\n",
    "#     processed_train_dataset.append(\n",
    "#         extract_features_from_clusters(frame, min_cluster_size=3)\n",
    "#     )\n",
    "\n",
    "# with open(f\"./checkpoints_to_ignore/processed_train_dataset/seq{SEQ_LIST_NAME}.pkl\", \"wb\") as f:\n",
    "#     pickle.dump(processed_train_dataset, f)\n",
    "\n",
    "SEQ_LIST = [5]\n",
    "SEQ_LIST_NAME = \"\".join(str(s) for s in SEQ_LIST)\n",
    "\n",
    "with open(\n",
    "    f\"./checkpoints_to_ignore/processed_train_dataset/seq{SEQ_LIST_NAME}.pkl\", \"rb\"\n",
    ") as f:\n",
    "    p = pickle.load(f)\n",
    "\n",
    "processed_train_dataset.extend(p)\n",
    "print(len(processed_train_dataset))"
   ]
  },
  {
   "cell_type": "code",
   "execution_count": 40,
   "id": "edb857bb",
   "metadata": {},
   "outputs": [
    {
     "name": "stdout",
     "output_type": "stream",
     "text": [
      "2112 23201\n",
      "[72.97862244  2.4499929   2.67745876 72.97862244  2.4499929   2.67745876\n",
      " 72.97862244  2.4499929   2.67745876  9.          0.        ]\n"
     ]
    }
   ],
   "source": [
    "max_clusters = max(f.shape[0] for f in processed_train_dataset)\n",
    "print(max_clusters, len(processed_train_dataset))\n",
    "print(processed_train_dataset[0][0])"
   ]
  },
  {
   "cell_type": "markdown",
   "id": "5a567791",
   "metadata": {},
   "source": [
    "# Train model"
   ]
  },
  {
   "cell_type": "code",
   "execution_count": 7,
   "id": "36f06adb",
   "metadata": {},
   "outputs": [
    {
     "name": "stderr",
     "output_type": "stream",
     "text": [
      "                                                                      \r"
     ]
    },
    {
     "name": "stdout",
     "output_type": "stream",
     "text": [
      "[Epoch 00000] Loss: 1.1967 | Acc: 60.87%\n"
     ]
    },
    {
     "name": "stderr",
     "output_type": "stream",
     "text": [
      "                                                                             \r"
     ]
    },
    {
     "name": "stdout",
     "output_type": "stream",
     "text": [
      "[Eval @ Epoch 00000] Acurácia global: 65.37%\n"
     ]
    },
    {
     "name": "stderr",
     "output_type": "stream",
     "text": [
      "                                                                       \r"
     ]
    },
    {
     "name": "stdout",
     "output_type": "stream",
     "text": [
      "[Epoch 00010] Loss: 0.5985 | Acc: 81.31%\n"
     ]
    },
    {
     "name": "stderr",
     "output_type": "stream",
     "text": [
      "                                                                              \r"
     ]
    },
    {
     "name": "stdout",
     "output_type": "stream",
     "text": [
      "[Eval @ Epoch 00010] Acurácia global: 81.39%\n"
     ]
    },
    {
     "name": "stderr",
     "output_type": "stream",
     "text": [
      "                                                                       \r"
     ]
    },
    {
     "name": "stdout",
     "output_type": "stream",
     "text": [
      "[Epoch 00020] Loss: 0.4751 | Acc: 85.36%\n"
     ]
    },
    {
     "name": "stderr",
     "output_type": "stream",
     "text": [
      "                                                                              \r"
     ]
    },
    {
     "name": "stdout",
     "output_type": "stream",
     "text": [
      "[Eval @ Epoch 00020] Acurácia global: 85.84%\n"
     ]
    },
    {
     "name": "stderr",
     "output_type": "stream",
     "text": [
      "                                                                       \r"
     ]
    },
    {
     "name": "stdout",
     "output_type": "stream",
     "text": [
      "[Epoch 00030] Loss: 0.4030 | Acc: 87.58%\n"
     ]
    },
    {
     "name": "stderr",
     "output_type": "stream",
     "text": [
      "                                                                              \r"
     ]
    },
    {
     "name": "stdout",
     "output_type": "stream",
     "text": [
      "[Eval @ Epoch 00030] Acurácia global: 87.27%\n"
     ]
    },
    {
     "name": "stderr",
     "output_type": "stream",
     "text": [
      "                                                                       \r"
     ]
    },
    {
     "name": "stdout",
     "output_type": "stream",
     "text": [
      "[Epoch 00040] Loss: 0.3531 | Acc: 89.07%\n"
     ]
    },
    {
     "name": "stderr",
     "output_type": "stream",
     "text": [
      "                                                                              \r"
     ]
    },
    {
     "name": "stdout",
     "output_type": "stream",
     "text": [
      "[Eval @ Epoch 00040] Acurácia global: 89.35%\n"
     ]
    },
    {
     "name": "stderr",
     "output_type": "stream",
     "text": [
      "                                                                       \r"
     ]
    },
    {
     "name": "stdout",
     "output_type": "stream",
     "text": [
      "[Epoch 00050] Loss: 0.3158 | Acc: 90.18%\n"
     ]
    },
    {
     "name": "stderr",
     "output_type": "stream",
     "text": [
      "                                                                              \r"
     ]
    },
    {
     "name": "stdout",
     "output_type": "stream",
     "text": [
      "[Eval @ Epoch 00050] Acurácia global: 90.36%\n"
     ]
    },
    {
     "name": "stderr",
     "output_type": "stream",
     "text": [
      "                                                                       \r"
     ]
    },
    {
     "name": "stdout",
     "output_type": "stream",
     "text": [
      "[Epoch 00060] Loss: 0.2873 | Acc: 91.04%\n"
     ]
    },
    {
     "name": "stderr",
     "output_type": "stream",
     "text": [
      "                                                                              \r"
     ]
    },
    {
     "name": "stdout",
     "output_type": "stream",
     "text": [
      "[Eval @ Epoch 00060] Acurácia global: 91.36%\n"
     ]
    },
    {
     "name": "stderr",
     "output_type": "stream",
     "text": [
      "                                                                       \r"
     ]
    },
    {
     "name": "stdout",
     "output_type": "stream",
     "text": [
      "[Epoch 00070] Loss: 0.2650 | Acc: 91.67%\n"
     ]
    },
    {
     "name": "stderr",
     "output_type": "stream",
     "text": [
      "                                                                              \r"
     ]
    },
    {
     "name": "stdout",
     "output_type": "stream",
     "text": [
      "[Eval @ Epoch 00070] Acurácia global: 92.09%\n"
     ]
    },
    {
     "name": "stderr",
     "output_type": "stream",
     "text": [
      "                                                                       \r"
     ]
    },
    {
     "name": "stdout",
     "output_type": "stream",
     "text": [
      "[Epoch 00080] Loss: 0.2461 | Acc: 92.25%\n"
     ]
    },
    {
     "name": "stderr",
     "output_type": "stream",
     "text": [
      "                                                                              \r"
     ]
    },
    {
     "name": "stdout",
     "output_type": "stream",
     "text": [
      "[Eval @ Epoch 00080] Acurácia global: 92.46%\n"
     ]
    },
    {
     "name": "stderr",
     "output_type": "stream",
     "text": [
      "                                                                       \r"
     ]
    },
    {
     "name": "stdout",
     "output_type": "stream",
     "text": [
      "[Epoch 00090] Loss: 0.2306 | Acc: 92.70%\n"
     ]
    },
    {
     "name": "stderr",
     "output_type": "stream",
     "text": [
      "                                                                              \r"
     ]
    },
    {
     "name": "stdout",
     "output_type": "stream",
     "text": [
      "[Eval @ Epoch 00090] Acurácia global: 92.94%\n"
     ]
    },
    {
     "name": "stderr",
     "output_type": "stream",
     "text": [
      "                                                                        \r"
     ]
    },
    {
     "name": "stdout",
     "output_type": "stream",
     "text": [
      "[Epoch 00100] Loss: 0.2176 | Acc: 93.07%\n"
     ]
    },
    {
     "name": "stderr",
     "output_type": "stream",
     "text": [
      "                                                                               \r"
     ]
    },
    {
     "name": "stdout",
     "output_type": "stream",
     "text": [
      "[Eval @ Epoch 00100] Acurácia global: 92.97%\n"
     ]
    },
    {
     "name": "stderr",
     "output_type": "stream",
     "text": [
      "                                                                        \r"
     ]
    },
    {
     "name": "stdout",
     "output_type": "stream",
     "text": [
      "[Epoch 00110] Loss: 0.2064 | Acc: 93.41%\n"
     ]
    },
    {
     "name": "stderr",
     "output_type": "stream",
     "text": [
      "                                                                               \r"
     ]
    },
    {
     "name": "stdout",
     "output_type": "stream",
     "text": [
      "[Eval @ Epoch 00110] Acurácia global: 93.31%\n"
     ]
    },
    {
     "name": "stderr",
     "output_type": "stream",
     "text": [
      "                                                                        \r"
     ]
    },
    {
     "name": "stdout",
     "output_type": "stream",
     "text": [
      "[Epoch 00120] Loss: 0.1963 | Acc: 93.71%\n"
     ]
    },
    {
     "name": "stderr",
     "output_type": "stream",
     "text": [
      "                                                                               \r"
     ]
    },
    {
     "name": "stdout",
     "output_type": "stream",
     "text": [
      "[Eval @ Epoch 00120] Acurácia global: 93.97%\n"
     ]
    },
    {
     "name": "stderr",
     "output_type": "stream",
     "text": [
      "                                                                        \r"
     ]
    },
    {
     "name": "stdout",
     "output_type": "stream",
     "text": [
      "[Epoch 00130] Loss: 0.1875 | Acc: 93.97%\n"
     ]
    },
    {
     "name": "stderr",
     "output_type": "stream",
     "text": [
      "                                                                               \r"
     ]
    },
    {
     "name": "stdout",
     "output_type": "stream",
     "text": [
      "[Eval @ Epoch 00130] Acurácia global: 94.20%\n"
     ]
    },
    {
     "name": "stderr",
     "output_type": "stream",
     "text": [
      "                                                                        \r"
     ]
    },
    {
     "name": "stdout",
     "output_type": "stream",
     "text": [
      "[Epoch 00140] Loss: 0.1795 | Acc: 94.21%\n"
     ]
    },
    {
     "name": "stderr",
     "output_type": "stream",
     "text": [
      "                                                                               \r"
     ]
    },
    {
     "name": "stdout",
     "output_type": "stream",
     "text": [
      "[Eval @ Epoch 00140] Acurácia global: 94.34%\n"
     ]
    },
    {
     "name": "stderr",
     "output_type": "stream",
     "text": [
      "                                                                        \r"
     ]
    }
   ],
   "source": [
    "loss_history = []\n",
    "acc_history = []\n",
    "\n",
    "for epoch in range(EPOCHS):\n",
    "    model.train()\n",
    "    total_loss = 0.0\n",
    "    total_correct = 0\n",
    "    total_points = 0\n",
    "    frame_acc = 0.0\n",
    "\n",
    "    random.shuffle(processed_train_dataset)\n",
    "    for item in tqdm(\n",
    "        processed_train_dataset,\n",
    "        desc=f\"Epoch {epoch}/{EPOCHS}\",\n",
    "        unit=\"frame\",\n",
    "        leave=False,\n",
    "    ):\n",
    "        data = (\n",
    "            torch.tensor(item[:, :INPUT_CHANNELS], dtype=torch.float32)\n",
    "            .unsqueeze(0)\n",
    "            .to(DEVICE)\n",
    "        )\n",
    "        label = torch.tensor(item[:, -2], dtype=torch.long).unsqueeze(0).to(DEVICE)\n",
    "\n",
    "        optimizer.zero_grad()\n",
    "        pred, trans_feat = model(data)\n",
    "        pred = pred.view(-1, NUM_CLASSES)\n",
    "        label = label.view(-1)\n",
    "\n",
    "        loss = criterion(pred, label)\n",
    "        # Exemplo de como seria se estivesse ativa (NÃO FAÇA ISSO PARA OVERFIT):\n",
    "        # if trans_feat is not None and model.feat.feature_transform: # trans_feat é a segunda saída do modelo\n",
    "        #    reg_loss = feature_transform_regulaizer(trans_feat)\n",
    "        #    loss = loss + 0.001 * reg_loss # 0.001 é um exemplo de peso da regularização\n",
    "        pred = pred.argmax(dim=1)\n",
    "        loss.backward()\n",
    "        optimizer.step()\n",
    "\n",
    "        total_loss += loss.item()\n",
    "        total_correct += (pred.cpu().numpy() == label.cpu().numpy()).sum()\n",
    "        total_points += len(label)\n",
    "\n",
    "    avg_loss = total_loss / len(processed_train_dataset)\n",
    "    frame_acc = total_correct / total_points\n",
    "    avg_acc = frame_acc / len(processed_train_dataset)\n",
    "    loss_history.append(avg_loss)\n",
    "    acc_history.append(avg_acc)\n",
    "\n",
    "    if epoch % 10 == 0:\n",
    "        print(f\"[Epoch {epoch:05d}] Loss: {avg_loss:.4f} | Acc: {frame_acc*100:.2f}%\")\n",
    "\n",
    "        # --- Bloco de avaliação ---\n",
    "        model.eval()\n",
    "        total_correct = 0\n",
    "        total_points = 0\n",
    "        with torch.no_grad():\n",
    "            for item in tqdm(\n",
    "                processed_train_dataset,\n",
    "                desc=f\"Eval @ Epoch {epoch}/{EPOCHS}\",\n",
    "                unit=\"frame\",\n",
    "                leave=False,\n",
    "            ):\n",
    "                # for item in processed_train_dataset:\n",
    "                data = (\n",
    "                    torch.tensor(item[:, :INPUT_CHANNELS], dtype=torch.float32)\n",
    "                    .unsqueeze(0)\n",
    "                    .to(DEVICE)\n",
    "                )\n",
    "                label = item[:, -2]\n",
    "\n",
    "                pred, trans_feat = model(data)\n",
    "\n",
    "                pred = pred.view(-1, NUM_CLASSES)\n",
    "                pred = pred.argmax(dim=1)\n",
    "\n",
    "                total_correct += (pred.cpu().numpy() == label).sum()\n",
    "                total_points += len(label)\n",
    "        eval_acc = total_correct / total_points\n",
    "        print(f\"[Eval @ Epoch {epoch:05d}] Acurácia global: {eval_acc*100:.2f}%\")\n",
    "\n",
    "# Opcional: salvar checkpoints\n",
    "model_name_saved = f\"{MODEL_SAVE_PATH}_e{EPOCHS:03d}_s{SEQ_LIST_NAME}_ic{INPUT_CHANNELS}\"\n",
    "torch.save(model.state_dict(), f\"{model_name_saved}.pth\")"
   ]
  },
  {
   "cell_type": "code",
   "execution_count": 8,
   "id": "4025aef6",
   "metadata": {},
   "outputs": [],
   "source": [
    "# from torch.utils.data import DataLoader, TensorDataset\n",
    "\n",
    "# # Supondo que processed_train_dataset seja uma lista de arrays (N, C)\n",
    "# # Concatene todos os frames em um único array\n",
    "# all_data = np.concatenate([item[:, :INPUT_CHANNELS] for item in processed_train_dataset], axis=0)\n",
    "# all_labels = np.concatenate([item[:, -2] for item in processed_train_dataset], axis=0)\n",
    "\n",
    "# dataset = TensorDataset(\n",
    "#     torch.tensor(all_data, dtype=torch.float32),\n",
    "#     torch.tensor(all_labels, dtype=torch.long)\n",
    "# )\n",
    "# loader = DataLoader(dataset, batch_size=32, shuffle=True)\n",
    "\n",
    "# for epoch in range(EPOCHS):\n",
    "#     for data, label in loader:\n",
    "#         # data: (B, INPUT_CHANNELS)\n",
    "#         # label: (B,)\n",
    "#         # ... seu código ..."
   ]
  },
  {
   "cell_type": "code",
   "execution_count": 10,
   "id": "358b6b85",
   "metadata": {},
   "outputs": [
    {
     "data": {
      "image/png": "[encoded data removed]",
      "text/plain": [
       "<Figure size 1000x400 with 2 Axes>"
      ]
     },
     "metadata": {},
     "output_type": "display_data"
    }
   ],
   "source": [
    "import matplotlib.pyplot as plt\n",
    "\n",
    "plt.figure(figsize=(10, 4))\n",
    "plt.subplot(1, 2, 1)\n",
    "plt.plot(loss_history, label=\"Loss\")\n",
    "plt.xlabel(\"Época\")\n",
    "plt.ylabel(\"Loss\")\n",
    "plt.title(\"Loss por época\")\n",
    "plt.grid(True)\n",
    "plt.legend()\n",
    "\n",
    "plt.subplot(1, 2, 2)\n",
    "plt.plot(acc_history, label=\"Acurácia\")\n",
    "plt.xlabel(\"Época\")\n",
    "plt.ylabel(\"Acurácia\")\n",
    "plt.title(\"Acurácia por época\")\n",
    "plt.grid(True)\n",
    "plt.legend()\n",
    "\n",
    "plt.tight_layout()\n",
    "\n",
    "# Salve ANTES do plt.show()\n",
    "plot_dir = Path(\"plots/loss_acc\")\n",
    "plot_dir.mkdir(parents=True, exist_ok=True)\n",
    "plot_filename_base = Path(model_name_saved).name\n",
    "plt.savefig(plot_dir/f\"{plot_filename_base}.png\", dpi=300, bbox_inches=\"tight\")\n",
    "\n",
    "plt.show()"
   ]
  },
  {
   "cell_type": "markdown",
   "id": "2c46ec9d",
   "metadata": {},
   "source": [
    "# Inference"
   ]
  },
  {
   "cell_type": "code",
   "execution_count": 11,
   "id": "05d67cc5",
   "metadata": {},
   "outputs": [
    {
     "name": "stderr",
     "output_type": "stream",
     "text": [
      "Inferência: 100%|██████████| 11238/11238 [00:22<00:00, 503.60it/s]"
     ]
    },
    {
     "name": "stdout",
     "output_type": "stream",
     "text": [
      "Acurácia global em todos os pontos: 94.61%\n"
     ]
    },
    {
     "name": "stderr",
     "output_type": "stream",
     "text": [
      "\n"
     ]
    }
   ],
   "source": [
    "total_correct = 0\n",
    "total_points = 0\n",
    "\n",
    "model.eval()\n",
    "with torch.no_grad():\n",
    "    for point_cloud in tqdm(processed_train_dataset, desc=\"Inferência\"):\n",
    "        data = (\n",
    "            torch.tensor(point_cloud[:, :INPUT_CHANNELS], dtype=torch.float32)\n",
    "            .unsqueeze(0)\n",
    "            .to(DEVICE)\n",
    "        )\n",
    "        label = point_cloud[:, -2]\n",
    "        pred, trans = model(data)\n",
    "        pred = pred.view(-1, NUM_CLASSES)\n",
    "        pred = pred.argmax(dim=1).cpu().numpy()\n",
    "\n",
    "        total_correct += (label == pred).sum()\n",
    "        total_points += len(label)\n",
    "\n",
    "mean_accuracy = total_correct / total_points\n",
    "print(f\"Acurácia global em todos os pontos: {mean_accuracy*100:.2f}%\")"
   ]
  },
  {
   "cell_type": "code",
   "execution_count": 12,
   "id": "7ee0ce32",
   "metadata": {},
   "outputs": [],
   "source": [
    "point_cloud = processed_train_dataset[4000]\n",
    "\n",
    "data = (\n",
    "    torch.tensor(point_cloud[:, :INPUT_CHANNELS], dtype=torch.float32)\n",
    "    .unsqueeze(0)\n",
    "    .to(DEVICE)\n",
    ")\n",
    "label = point_cloud[:, -2]\n",
    "\n",
    "# # Carregar o modelo treinado\n",
    "# model = PointNetSeg(num_classes=NUM_CLASSES).to(DEVICE)\n",
    "# model.load_state_dict(torch.load(\"checkpoints/pointnet_epoch_001.pth\"))\n",
    "\n",
    "model.eval()\n",
    "with torch.no_grad():\n",
    "    pred, trans = model(data)\n",
    "    pred = pred.view(-1, NUM_CLASSES)\n",
    "\n",
    "    # pred_labels = torch.argmax(pred, dim=1).cpu().numpy()\n",
    "    pred = pred.argmax(dim=1)\n",
    "\n",
    "# Agora, substituindo os rótulos originais pelos rótulos preditos\n",
    "# Mantendo as coordenadas xyz no formato original e substituindo o label\n",
    "result = np.hstack(\n",
    "    (\n",
    "        data.squeeze(0).cpu().numpy(),\n",
    "        label.reshape(-1, 1),\n",
    "        pred.cpu().numpy().reshape(-1, 1),\n",
    "    )\n",
    ")"
   ]
  },
  {
   "cell_type": "code",
   "execution_count": 13,
   "id": "4994a455",
   "metadata": {},
   "outputs": [
    {
     "name": "stdout",
     "output_type": "stream",
     "text": [
      "Acurácia (amostra): 90.78%\n"
     ]
    }
   ],
   "source": [
    "# Calcula a acurácia usando o array result\n",
    "true_labels = result[:, -2]\n",
    "pred_labels = result[:, -1]\n",
    "accuracy = (true_labels == pred_labels).sum() / len(result)\n",
    "print(f\"Acurácia (amostra): {accuracy*100:.2f}%\")\n",
    "# print(f\"[Epoch {epoch:05d}] Loss: {avg_loss:.4f} | Acc: {avg_acc*100:.2f}%\")\n",
    "run_viz(\n",
    "    result,\n",
    "    cluster_viz=True,\n",
    "    show_pred_label=True,\n",
    "    point_size=3,\n",
    "    # show_min_max=True,\n",
    ")\n",
    "run_viz(\n",
    "    result,\n",
    "    cluster_viz=True,\n",
    "    show_true_label=True,\n",
    "    point_size=3,\n",
    "    # show_min_max=True,\n",
    ")"
   ]
  },
  {
   "cell_type": "code",
   "execution_count": null,
   "id": "e3604d43",
   "metadata": {},
   "outputs": [],
   "source": []
  }
 ],
 "metadata": {
  "kernelspec": {
   "display_name": ".venv",
   "language": "python",
   "name": "python3"
  },
  "language_info": {
   "codemirror_mode": {
    "name": "ipython",
    "version": 3
   },
   "file_extension": ".py",
   "mimetype": "text/x-python",
   "name": "python",
   "nbconvert_exporter": "python",
   "pygments_lexer": "ipython3",
   "version": "3.12.3"
  }
 },
 "nbformat": 4,
 "nbformat_minor": 5
}
